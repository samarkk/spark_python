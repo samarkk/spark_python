{
 "cells": [
  {
   "cell_type": "code",
   "execution_count": 1,
   "metadata": {},
   "outputs": [],
   "source": [
    "import os\n",
    "import sys\n",
    "spark_home = '/usr/lib/spark'\n",
    "os.environ['SPARK_HOME']= spark_home\n",
    "os.environ['PYLIB']=os.environ['SPARK_HOME']+'/python/lib'\n",
    "sys.path.insert(0,os.environ['PYLIB']+'/py4j-0.10.7-src.zip')\n",
    "sys.path.insert(1,os.environ['PYLIB']+'/pyspark.zip')"
   ]
  },
  {
   "cell_type": "code",
   "execution_count": 2,
   "metadata": {},
   "outputs": [],
   "source": [
    "from pyspark.sql import SparkSession\n",
    "import pandas as pd\n",
    "import numpy as np"
   ]
  },
  {
   "cell_type": "code",
   "execution_count": 3,
   "metadata": {},
   "outputs": [],
   "source": [
    "spark = SparkSession.builder.appName('BikeShareLinearRegression') \\\n",
    ".config('spark.warehouse.dir','/apps/hive/warehouse') \\\n",
    ".config('spark.driver.memory', '4G') \\\n",
    ".config('spark.sql.shuffle.partitions', 4) \\\n",
    ".enableHiveSupport().getOrCreate()"
   ]
  },
  {
   "cell_type": "code",
   "execution_count": 4,
   "metadata": {},
   "outputs": [
    {
     "data": {
      "text/plain": [
       "'2.3.1'"
      ]
     },
     "execution_count": 4,
     "metadata": {},
     "output_type": "execute_result"
    }
   ],
   "source": [
    "# Having set the driver and driver options we should have spark representing spark session \n",
    "# available straight away\n",
    "spark.version"
   ]
  },
  {
   "cell_type": "code",
   "execution_count": 5,
   "metadata": {},
   "outputs": [],
   "source": [
    "sc = spark.sparkContext"
   ]
  },
  {
   "cell_type": "code",
   "execution_count": 6,
   "metadata": {},
   "outputs": [],
   "source": [
    "sc.setLogLevel('ERROR')"
   ]
  },
  {
   "cell_type": "code",
   "execution_count": 7,
   "metadata": {},
   "outputs": [],
   "source": [
    "from pyspark.ml.feature  import VectorAssembler, VectorIndexer, OneHotEncoderEstimator\n",
    "from pyspark.sql.types import DataType\n",
    "from pyspark.sql import DataFrame\n",
    "from pyspark.mllib.evaluation import RegressionMetrics\n",
    "from pyspark.ml.evaluation import RegressionEvaluator\n",
    "from pyspark.ml.tuning import TrainValidationSplit\n",
    "from pyspark.ml.tuning import ParamGridBuilder\n",
    "from pyspark.ml.tuning import CrossValidator\n",
    "from pyspark.ml.regression import LinearRegression, LinearRegressionModel, GeneralizedLinearRegression\n",
    "from pyspark.ml import Pipeline, PipelineModel\n",
    "from pyspark.ml.feature import StandardScaler\n",
    "from pyspark.ml.feature import PolynomialExpansion"
   ]
  },
  {
   "cell_type": "code",
   "execution_count": 8,
   "metadata": {},
   "outputs": [],
   "source": [
    "#  load the bike sharing dataset\n",
    "#  the independent variables are dteday, season , year, month, hour, holiday, weekday, \n",
    "#  workingday, normalized temperature, apparent normalized temperature, normalized humidity, windspeed\n",
    "#  the value we are intersted in predicting is cnt - the number of bike rentals for that hour\n",
    "fileloc = \"D:/ufdata/bikesharing/hour.csv\"\n",
    "df = spark.read.format(\"csv\").option(\"header\", \"true\").load( fileloc)"
   ]
  },
  {
   "cell_type": "code",
   "execution_count": 9,
   "metadata": {},
   "outputs": [
    {
     "name": "stdout",
     "output_type": "stream",
     "text": [
      "17379\n",
      "+-------+----------+------+---+----+---+-------+-------+----------+----------+----+------+----+---------+------+----------+---+\n",
      "|instant|    dteday|season| yr|mnth| hr|holiday|weekday|workingday|weathersit|temp| atemp| hum|windspeed|casual|registered|cnt|\n",
      "+-------+----------+------+---+----+---+-------+-------+----------+----------+----+------+----+---------+------+----------+---+\n",
      "|      1|2011-01-01|     1|  0|   1|  0|      0|      6|         0|         1|0.24|0.2879|0.81|        0|     3|        13| 16|\n",
      "|      2|2011-01-01|     1|  0|   1|  1|      0|      6|         0|         1|0.22|0.2727| 0.8|        0|     8|        32| 40|\n",
      "|      3|2011-01-01|     1|  0|   1|  2|      0|      6|         0|         1|0.22|0.2727| 0.8|        0|     5|        27| 32|\n",
      "|      4|2011-01-01|     1|  0|   1|  3|      0|      6|         0|         1|0.24|0.2879|0.75|        0|     3|        10| 13|\n",
      "|      5|2011-01-01|     1|  0|   1|  4|      0|      6|         0|         1|0.24|0.2879|0.75|        0|     0|         1|  1|\n",
      "|      6|2011-01-01|     1|  0|   1|  5|      0|      6|         0|         2|0.24|0.2576|0.75|   0.0896|     0|         1|  1|\n",
      "|      7|2011-01-01|     1|  0|   1|  6|      0|      6|         0|         1|0.22|0.2727| 0.8|        0|     2|         0|  2|\n",
      "|      8|2011-01-01|     1|  0|   1|  7|      0|      6|         0|         1| 0.2|0.2576|0.86|        0|     1|         2|  3|\n",
      "|      9|2011-01-01|     1|  0|   1|  8|      0|      6|         0|         1|0.24|0.2879|0.75|        0|     1|         7|  8|\n",
      "|     10|2011-01-01|     1|  0|   1|  9|      0|      6|         0|         1|0.32|0.3485|0.76|        0|     8|         6| 14|\n",
      "|     11|2011-01-01|     1|  0|   1| 10|      0|      6|         0|         1|0.38|0.3939|0.76|   0.2537|    12|        24| 36|\n",
      "|     12|2011-01-01|     1|  0|   1| 11|      0|      6|         0|         1|0.36|0.3333|0.81|   0.2836|    26|        30| 56|\n",
      "|     13|2011-01-01|     1|  0|   1| 12|      0|      6|         0|         1|0.42|0.4242|0.77|   0.2836|    29|        55| 84|\n",
      "|     14|2011-01-01|     1|  0|   1| 13|      0|      6|         0|         2|0.46|0.4545|0.72|   0.2985|    47|        47| 94|\n",
      "|     15|2011-01-01|     1|  0|   1| 14|      0|      6|         0|         2|0.46|0.4545|0.72|   0.2836|    35|        71|106|\n",
      "|     16|2011-01-01|     1|  0|   1| 15|      0|      6|         0|         2|0.44|0.4394|0.77|   0.2985|    40|        70|110|\n",
      "|     17|2011-01-01|     1|  0|   1| 16|      0|      6|         0|         2|0.42|0.4242|0.82|   0.2985|    41|        52| 93|\n",
      "|     18|2011-01-01|     1|  0|   1| 17|      0|      6|         0|         2|0.44|0.4394|0.82|   0.2836|    15|        52| 67|\n",
      "|     19|2011-01-01|     1|  0|   1| 18|      0|      6|         0|         3|0.42|0.4242|0.88|   0.2537|     9|        26| 35|\n",
      "|     20|2011-01-01|     1|  0|   1| 19|      0|      6|         0|         3|0.42|0.4242|0.88|   0.2537|     6|        31| 37|\n",
      "+-------+----------+------+---+----+---+-------+-------+----------+----------+----+------+----+---------+------+----------+---+\n",
      "only showing top 20 rows\n",
      "\n"
     ]
    }
   ],
   "source": [
    "df.registerTempTable(\"BikeSharing\")\n",
    "print(df.count())\n",
    "spark.sql(\"SELECT * FROM BikeSharing\").show()"
   ]
  },
  {
   "cell_type": "code",
   "execution_count": 10,
   "metadata": {},
   "outputs": [],
   "source": [
    "# drop record id, date, casual and registered columns\n",
    "df1 = df.drop(\"instant\").drop(\"dteday\").drop(\"casual\").drop(\"registered\")"
   ]
  },
  {
   "cell_type": "code",
   "execution_count": 11,
   "metadata": {},
   "outputs": [],
   "source": [
    "#  convert to double: season,yr,mnth,hr,holiday,weekday,workingday,weathersit,\n",
    "#  temp,atemp,hum,windspeed,casual,registered,cnt\n",
    "df2 = df1.withColumn(\"season\", df1[\"season\"].cast(\"double\")) \\\n",
    ".withColumn(\"yr\", df1[\"yr\"].cast(\"double\")) \\\n",
    ".withColumn(\"mnth\", df1[\"mnth\"].cast(\"double\")) \\\n",
    ".withColumn(\"hr\", df1[\"hr\"].cast(\"double\")) \\\n",
    ".withColumn(\"holiday\", df1[\"holiday\"].cast(\"double\")) \\\n",
    ".withColumn(\"weekday\", df1[\"weekday\"].cast(\"double\")) \\\n",
    ".withColumn(\"workingday\", df1[\"workingday\"].cast(\"double\")) \\\n",
    ".withColumn(\"weathersit\", df1[\"weathersit\"].cast(\"double\")) \\\n",
    ".withColumn(\"temp\", df1[\"temp\"].cast(\"double\")) \\\n",
    ".withColumn(\"atemp\", df1[\"atemp\"].cast(\"double\")) \\\n",
    ".withColumn(\"hum\", df1[\"hum\"].cast(\"double\")) \\\n",
    ".withColumn(\"windspeed\", df1[\"windspeed\"].cast(\"double\")) \\\n",
    ".withColumn(\"label\", df1[\"cnt\"].cast(\"double\")) \\\n",
    ".drop(\"cnt\")"
   ]
  },
  {
   "cell_type": "code",
   "execution_count": 12,
   "metadata": {},
   "outputs": [],
   "source": [
    "windHist = df2.select(\"windspeed\").toPandas()"
   ]
  },
  {
   "cell_type": "code",
   "execution_count": 13,
   "metadata": {},
   "outputs": [
    {
     "data": {
      "text/html": [
       "<div>\n",
       "<style scoped>\n",
       "    .dataframe tbody tr th:only-of-type {\n",
       "        vertical-align: middle;\n",
       "    }\n",
       "\n",
       "    .dataframe tbody tr th {\n",
       "        vertical-align: top;\n",
       "    }\n",
       "\n",
       "    .dataframe thead th {\n",
       "        text-align: right;\n",
       "    }\n",
       "</style>\n",
       "<table border=\"1\" class=\"dataframe\">\n",
       "  <thead>\n",
       "    <tr style=\"text-align: right;\">\n",
       "      <th></th>\n",
       "      <th>windspeed</th>\n",
       "    </tr>\n",
       "  </thead>\n",
       "  <tbody>\n",
       "    <tr>\n",
       "      <th>0</th>\n",
       "      <td>0.0000</td>\n",
       "    </tr>\n",
       "    <tr>\n",
       "      <th>1</th>\n",
       "      <td>0.0000</td>\n",
       "    </tr>\n",
       "    <tr>\n",
       "      <th>2</th>\n",
       "      <td>0.0000</td>\n",
       "    </tr>\n",
       "    <tr>\n",
       "      <th>3</th>\n",
       "      <td>0.0000</td>\n",
       "    </tr>\n",
       "    <tr>\n",
       "      <th>4</th>\n",
       "      <td>0.0000</td>\n",
       "    </tr>\n",
       "    <tr>\n",
       "      <th>5</th>\n",
       "      <td>0.0896</td>\n",
       "    </tr>\n",
       "    <tr>\n",
       "      <th>6</th>\n",
       "      <td>0.0000</td>\n",
       "    </tr>\n",
       "    <tr>\n",
       "      <th>7</th>\n",
       "      <td>0.0000</td>\n",
       "    </tr>\n",
       "    <tr>\n",
       "      <th>8</th>\n",
       "      <td>0.0000</td>\n",
       "    </tr>\n",
       "    <tr>\n",
       "      <th>9</th>\n",
       "      <td>0.0000</td>\n",
       "    </tr>\n",
       "  </tbody>\n",
       "</table>\n",
       "</div>"
      ],
      "text/plain": [
       "   windspeed\n",
       "0     0.0000\n",
       "1     0.0000\n",
       "2     0.0000\n",
       "3     0.0000\n",
       "4     0.0000\n",
       "5     0.0896\n",
       "6     0.0000\n",
       "7     0.0000\n",
       "8     0.0000\n",
       "9     0.0000"
      ]
     },
     "execution_count": 13,
     "metadata": {},
     "output_type": "execute_result"
    }
   ],
   "source": [
    "windHist[:10]"
   ]
  },
  {
   "cell_type": "code",
   "execution_count": 14,
   "metadata": {},
   "outputs": [
    {
     "name": "stdout",
     "output_type": "stream",
     "text": [
      "Populating the interactive namespace from numpy and matplotlib\n"
     ]
    }
   ],
   "source": [
    "%pylab inline"
   ]
  },
  {
   "cell_type": "code",
   "execution_count": 15,
   "metadata": {},
   "outputs": [
    {
     "name": "stderr",
     "output_type": "stream",
     "text": [
      "D:\\Anaconda3\\lib\\site-packages\\ipykernel_launcher.py:5: DeprecationWarning: \n",
      ".ix is deprecated. Please use\n",
      ".loc for label based indexing or\n",
      ".iloc for positional indexing\n",
      "\n",
      "See the documentation here:\n",
      "http://pandas.pydata.org/pandas-docs/stable/indexing.html#ix-indexer-is-deprecated\n",
      "  \"\"\"\n"
     ]
    },
    {
     "data": {
      "text/plain": [
       "(array([2.180e+03, 6.475e+03, 4.465e+03, 2.458e+03, 1.137e+03, 4.340e+02,\n",
       "        1.670e+02, 4.800e+01, 9.000e+00, 6.000e+00]),\n",
       " array([0.     , 0.08507, 0.17014, 0.25521, 0.34028, 0.42535, 0.51042,\n",
       "        0.59549, 0.68056, 0.76563, 0.8507 ]),\n",
       " <a list of 10 Patch objects>)"
      ]
     },
     "execution_count": 15,
     "metadata": {},
     "output_type": "execute_result"
    },
    {
     "data": {
      "image/png": "[encoded data removed]",
      "text/plain": [
       "<Figure size 864x720 with 1 Axes>"
      ]
     },
     "metadata": {},
     "output_type": "display_data"
    }
   ],
   "source": [
    "import matplotlib as mpl\n",
    "from matplotlib import pyplot as plt\n",
    "fig = plt.figure()\n",
    "fig.set_size_inches(12, 10)\n",
    "plt.hist(windHist.ix[:, 0], bins=10, color='r')"
   ]
  },
  {
   "cell_type": "code",
   "execution_count": 16,
   "metadata": {},
   "outputs": [],
   "source": [
    "encoder = OneHotEncoderEstimator().setInputCols(\n",
    "    [\"season\", \"yr\", \"mnth\", \"hr\", \"holiday\",\"weekday\", \"workingday\", \"weathersit\"]).setOutputCols(\n",
    "    [\"seasonVec\", \"yrVec\", \"mnthVec\", \"hrVec\", \"holidayVec\",\"weekdayVec\", \"workingdayVec\", \"weathersitVec\"])"
   ]
  },
  {
   "cell_type": "code",
   "execution_count": 17,
   "metadata": {},
   "outputs": [
    {
     "name": "stdout",
     "output_type": "stream",
     "text": [
      "['temp', 'atemp', 'hum', 'windspeed', 'holidayVec', 'workingdayVec', 'mnthVec', 'weekdayVec', 'weathersitVec', 'yrVec', 'seasonVec', 'hrVec']\n"
     ]
    }
   ],
   "source": [
    "ohemodel = encoder.fit(df2)\n",
    "oheEncoded = ohemodel.transform(df2)\n",
    "df3 = oheEncoded.drop(\"season\", \"yr\", \"mnth\", \"hr\", \"holiday\", \"weekday\", \"workingday\", \"weathersit\")\n",
    "featureCols = df3.drop(\"label\").columns\n",
    "print(featureCols)"
   ]
  },
  {
   "cell_type": "code",
   "execution_count": 18,
   "metadata": {},
   "outputs": [],
   "source": [
    "vectorAssembler = VectorAssembler().setInputCols(featureCols).setOutputCol(\"features\")"
   ]
  },
  {
   "cell_type": "code",
   "execution_count": 19,
   "metadata": {},
   "outputs": [],
   "source": [
    "lr = LinearRegression() \\\n",
    ".setFeaturesCol(\"features\") \\\n",
    ".setLabelCol(\"label\") \\\n",
    ".setRegParam(0.1) \\\n",
    ".setElasticNetParam(1.0) \\\n",
    ".setMaxIter(20)"
   ]
  },
  {
   "cell_type": "code",
   "execution_count": 20,
   "metadata": {},
   "outputs": [],
   "source": [
    "pipeline = Pipeline().setStages([vectorAssembler, lr])"
   ]
  },
  {
   "cell_type": "code",
   "execution_count": 21,
   "metadata": {},
   "outputs": [],
   "source": [
    "training, test = df3.randomSplit([0.8, 0.2], seed = 12345)"
   ]
  },
  {
   "cell_type": "code",
   "execution_count": 22,
   "metadata": {},
   "outputs": [],
   "source": [
    "model = pipeline.fit(training)"
   ]
  },
  {
   "cell_type": "code",
   "execution_count": 23,
   "metadata": {},
   "outputs": [
    {
     "name": "stdout",
     "output_type": "stream",
     "text": [
      "Root Mean Squared Error:  99.53294637804589\n",
      "Cofficient of determiniation:  0.6863790488651046\n"
     ]
    }
   ],
   "source": [
    "fullPredictions = model.transform(test).cache()\n",
    "predictions = fullPredictions.select(\"prediction\").rdd.map(lambda x: x[0])\n",
    "labels = fullPredictions.select(\"label\").rdd.map(lambda x: x[0])\n",
    "regMetrics = RegressionMetrics(predictions.zip(labels))\n",
    "RMSE = regMetrics.rootMeanSquaredError\n",
    "print('Root Mean Squared Error: ', RMSE)\n",
    "r2_cod = regMetrics.r2\n",
    "print('Cofficient of determiniation: ', r2_cod)"
   ]
  },
  {
   "cell_type": "code",
   "execution_count": 24,
   "metadata": {},
   "outputs": [],
   "source": [
    "lr_grid = LinearRegression()\n",
    "paramGrid = ParamGridBuilder().addGrid(lr_grid.regParam, [0.1, 0.01, 0.00]) \\\n",
    ".addGrid(lr_grid.fitIntercept, [True, False]) \\\n",
    ".addGrid(lr_grid.elasticNetParam, [0.0, 0.25, 0.5, 0.75, 1.0])\\\n",
    ".addGrid(lr_grid.tol, [0.01, 0.001, 0.0001]) \\\n",
    ".build()\n",
    "lr_grid.setMaxIter(1000)\n",
    "pipelineGrid = Pipeline().setStages([vectorAssembler, lr_grid])"
   ]
  },
  {
   "cell_type": "code",
   "execution_count": 25,
   "metadata": {},
   "outputs": [],
   "source": [
    "trainValidationSplit = TrainValidationSplit() \\\n",
    ".setEstimator(pipelineGrid) \\\n",
    ".setEvaluator(RegressionEvaluator()) \\\n",
    ".setEstimatorParamMaps(paramGrid) \\\n",
    ".setTrainRatio(0.8)"
   ]
  },
  {
   "cell_type": "code",
   "execution_count": 26,
   "metadata": {},
   "outputs": [
    {
     "name": "stdout",
     "output_type": "stream",
     "text": [
      "99.64330173587297\n",
      "0.6856832201970349\n"
     ]
    }
   ],
   "source": [
    "linModelPipeline = trainValidationSplit.fit(training)\n",
    "gridPredictions = linModelPipeline.transform(test).select(\"label\", \"prediction\")\n",
    "r2lmp = RegressionMetrics(gridPredictions.rdd.map(lambda x: (x[1], x[0])))\n",
    "print(r2lmp.rootMeanSquaredError)\n",
    "print(r2lmp.r2)"
   ]
  },
  {
   "cell_type": "code",
   "execution_count": 27,
   "metadata": {},
   "outputs": [
    {
     "name": "stdout",
     "output_type": "stream",
     "text": [
      "aggregationDepth: suggested depth for treeAggregate (>= 2) (default: 2)\n",
      "elasticNetParam: the ElasticNet mixing parameter, in range [0, 1]. For alpha = 0, the penalty is an L2 penalty. For alpha = 1, it is an L1 penalty (default: 0.0, current: 0.25)\n",
      "epsilon: The shape parameter to control the amount of robustness. Must be > 1.0. (default: 1.35)\n",
      "featuresCol: features column name (default: features)\n",
      "fitIntercept: whether to fit an intercept term (default: True, current: False)\n",
      "labelCol: label column name (default: label)\n",
      "loss: The loss function to be optimized. Supported options: squaredError, huber. (Default squaredError) (default: squaredError)\n",
      "maxIter: maximum number of iterations (>= 0) (default: 100, current: 1000)\n",
      "predictionCol: prediction column name (default: prediction)\n",
      "regParam: regularization parameter (>= 0) (default: 0.0, current: 0.01)\n",
      "solver: The solver algorithm for optimization. Supported options: auto, normal, l-bfgs. (Default auto) (default: auto)\n",
      "standardization: whether to standardize the training features before fitting the model (default: True)\n",
      "tol: the convergence tolerance for iterative algorithms (>= 0) (default: 1e-06, current: 0.001)\n",
      "weightCol: weight column name. If this is not set or empty, we treat all instance weights as 1.0 (undefined)\n"
     ]
    }
   ],
   "source": [
    "bestPipelineModel = linModelPipeline.bestModel\n",
    "blinModel = bestPipelineModel.stages[1]\n",
    "blinModel.extractParamMap()\n",
    "print(blinModel.explainParams())"
   ]
  },
  {
   "cell_type": "code",
   "execution_count": 30,
   "metadata": {},
   "outputs": [],
   "source": [
    "crossval = CrossValidator(estimator=pipeline, estimatorParamMaps=paramGrid, numFolds=3, \n",
    "                          evaluator=RegressionEvaluator())"
   ]
  },
  {
   "cell_type": "code",
   "execution_count": 31,
   "metadata": {},
   "outputs": [],
   "source": [
    "cvModel = crossval.fit(training)"
   ]
  },
  {
   "cell_type": "code",
   "execution_count": 32,
   "metadata": {},
   "outputs": [],
   "source": [
    "cv_predictions = cvModel.transform(test)"
   ]
  },
  {
   "cell_type": "code",
   "execution_count": 35,
   "metadata": {},
   "outputs": [
    {
     "name": "stdout",
     "output_type": "stream",
     "text": [
      "99.53294637804589\n",
      "0.6863790488651046\n"
     ]
    }
   ],
   "source": [
    "cvPredictions = cvModel.transform(test).select(\"label\", \"prediction\")\n",
    "r2cvm = RegressionMetrics(cvPredictions.rdd.map(lambda x: (x[1], x[0])))\n",
    "print(r2cvm.rootMeanSquaredError)\n",
    "print(r2cvm.r2)"
   ]
  },
  {
   "cell_type": "code",
   "execution_count": 38,
   "metadata": {},
   "outputs": [
    {
     "data": {
      "text/plain": [
       "{Param(parent='CrossValidatorModel_4bd9b92ba7cdb9137783', name='seed', doc='random seed.'): 1421955268366911044,\n",
       " Param(parent='CrossValidatorModel_4bd9b92ba7cdb9137783', name='estimator', doc='estimator to be cross-validated'): Pipeline_4f6a8e4f5a27838fb8f0,\n",
       " Param(parent='CrossValidatorModel_4bd9b92ba7cdb9137783', name='estimatorParamMaps', doc='estimator param maps'): [{Param(parent='LinearRegression_41f48c4c0ff297f2d893', name='regParam', doc='regularization parameter (>= 0).'): 0.1,\n",
       "   Param(parent='LinearRegression_41f48c4c0ff297f2d893', name='fitIntercept', doc='whether to fit an intercept term.'): True,\n",
       "   Param(parent='LinearRegression_41f48c4c0ff297f2d893', name='elasticNetParam', doc='the ElasticNet mixing parameter, in range [0, 1]. For alpha = 0, the penalty is an L2 penalty. For alpha = 1, it is an L1 penalty.'): 0.0,\n",
       "   Param(parent='LinearRegression_41f48c4c0ff297f2d893', name='tol', doc='the convergence tolerance for iterative algorithms (>= 0).'): 0.01},\n",
       "  {Param(parent='LinearRegression_41f48c4c0ff297f2d893', name='regParam', doc='regularization parameter (>= 0).'): 0.1,\n",
       "   Param(parent='LinearRegression_41f48c4c0ff297f2d893', name='fitIntercept', doc='whether to fit an intercept term.'): True,\n",
       "   Param(parent='LinearRegression_41f48c4c0ff297f2d893', name='elasticNetParam', doc='the ElasticNet mixing parameter, in range [0, 1]. For alpha = 0, the penalty is an L2 penalty. For alpha = 1, it is an L1 penalty.'): 0.0,\n",
       "   Param(parent='LinearRegression_41f48c4c0ff297f2d893', name='tol', doc='the convergence tolerance for iterative algorithms (>= 0).'): 0.001},\n",
       "  {Param(parent='LinearRegression_41f48c4c0ff297f2d893', name='regParam', doc='regularization parameter (>= 0).'): 0.1,\n",
       "   Param(parent='LinearRegression_41f48c4c0ff297f2d893', name='fitIntercept', doc='whether to fit an intercept term.'): True,\n",
       "   Param(parent='LinearRegression_41f48c4c0ff297f2d893', name='elasticNetParam', doc='the ElasticNet mixing parameter, in range [0, 1]. For alpha = 0, the penalty is an L2 penalty. For alpha = 1, it is an L1 penalty.'): 0.0,\n",
       "   Param(parent='LinearRegression_41f48c4c0ff297f2d893', name='tol', doc='the convergence tolerance for iterative algorithms (>= 0).'): 0.0001},\n",
       "  {Param(parent='LinearRegression_41f48c4c0ff297f2d893', name='regParam', doc='regularization parameter (>= 0).'): 0.1,\n",
       "   Param(parent='LinearRegression_41f48c4c0ff297f2d893', name='fitIntercept', doc='whether to fit an intercept term.'): True,\n",
       "   Param(parent='LinearRegression_41f48c4c0ff297f2d893', name='elasticNetParam', doc='the ElasticNet mixing parameter, in range [0, 1]. For alpha = 0, the penalty is an L2 penalty. For alpha = 1, it is an L1 penalty.'): 0.25,\n",
       "   Param(parent='LinearRegression_41f48c4c0ff297f2d893', name='tol', doc='the convergence tolerance for iterative algorithms (>= 0).'): 0.01},\n",
       "  {Param(parent='LinearRegression_41f48c4c0ff297f2d893', name='regParam', doc='regularization parameter (>= 0).'): 0.1,\n",
       "   Param(parent='LinearRegression_41f48c4c0ff297f2d893', name='fitIntercept', doc='whether to fit an intercept term.'): True,\n",
       "   Param(parent='LinearRegression_41f48c4c0ff297f2d893', name='elasticNetParam', doc='the ElasticNet mixing parameter, in range [0, 1]. For alpha = 0, the penalty is an L2 penalty. For alpha = 1, it is an L1 penalty.'): 0.25,\n",
       "   Param(parent='LinearRegression_41f48c4c0ff297f2d893', name='tol', doc='the convergence tolerance for iterative algorithms (>= 0).'): 0.001},\n",
       "  {Param(parent='LinearRegression_41f48c4c0ff297f2d893', name='regParam', doc='regularization parameter (>= 0).'): 0.1,\n",
       "   Param(parent='LinearRegression_41f48c4c0ff297f2d893', name='fitIntercept', doc='whether to fit an intercept term.'): True,\n",
       "   Param(parent='LinearRegression_41f48c4c0ff297f2d893', name='elasticNetParam', doc='the ElasticNet mixing parameter, in range [0, 1]. For alpha = 0, the penalty is an L2 penalty. For alpha = 1, it is an L1 penalty.'): 0.25,\n",
       "   Param(parent='LinearRegression_41f48c4c0ff297f2d893', name='tol', doc='the convergence tolerance for iterative algorithms (>= 0).'): 0.0001},\n",
       "  {Param(parent='LinearRegression_41f48c4c0ff297f2d893', name='regParam', doc='regularization parameter (>= 0).'): 0.1,\n",
       "   Param(parent='LinearRegression_41f48c4c0ff297f2d893', name='fitIntercept', doc='whether to fit an intercept term.'): True,\n",
       "   Param(parent='LinearRegression_41f48c4c0ff297f2d893', name='elasticNetParam', doc='the ElasticNet mixing parameter, in range [0, 1]. For alpha = 0, the penalty is an L2 penalty. For alpha = 1, it is an L1 penalty.'): 0.5,\n",
       "   Param(parent='LinearRegression_41f48c4c0ff297f2d893', name='tol', doc='the convergence tolerance for iterative algorithms (>= 0).'): 0.01},\n",
       "  {Param(parent='LinearRegression_41f48c4c0ff297f2d893', name='regParam', doc='regularization parameter (>= 0).'): 0.1,\n",
       "   Param(parent='LinearRegression_41f48c4c0ff297f2d893', name='fitIntercept', doc='whether to fit an intercept term.'): True,\n",
       "   Param(parent='LinearRegression_41f48c4c0ff297f2d893', name='elasticNetParam', doc='the ElasticNet mixing parameter, in range [0, 1]. For alpha = 0, the penalty is an L2 penalty. For alpha = 1, it is an L1 penalty.'): 0.5,\n",
       "   Param(parent='LinearRegression_41f48c4c0ff297f2d893', name='tol', doc='the convergence tolerance for iterative algorithms (>= 0).'): 0.001},\n",
       "  {Param(parent='LinearRegression_41f48c4c0ff297f2d893', name='regParam', doc='regularization parameter (>= 0).'): 0.1,\n",
       "   Param(parent='LinearRegression_41f48c4c0ff297f2d893', name='fitIntercept', doc='whether to fit an intercept term.'): True,\n",
       "   Param(parent='LinearRegression_41f48c4c0ff297f2d893', name='elasticNetParam', doc='the ElasticNet mixing parameter, in range [0, 1]. For alpha = 0, the penalty is an L2 penalty. For alpha = 1, it is an L1 penalty.'): 0.5,\n",
       "   Param(parent='LinearRegression_41f48c4c0ff297f2d893', name='tol', doc='the convergence tolerance for iterative algorithms (>= 0).'): 0.0001},\n",
       "  {Param(parent='LinearRegression_41f48c4c0ff297f2d893', name='regParam', doc='regularization parameter (>= 0).'): 0.1,\n",
       "   Param(parent='LinearRegression_41f48c4c0ff297f2d893', name='fitIntercept', doc='whether to fit an intercept term.'): True,\n",
       "   Param(parent='LinearRegression_41f48c4c0ff297f2d893', name='elasticNetParam', doc='the ElasticNet mixing parameter, in range [0, 1]. For alpha = 0, the penalty is an L2 penalty. For alpha = 1, it is an L1 penalty.'): 0.75,\n",
       "   Param(parent='LinearRegression_41f48c4c0ff297f2d893', name='tol', doc='the convergence tolerance for iterative algorithms (>= 0).'): 0.01},\n",
       "  {Param(parent='LinearRegression_41f48c4c0ff297f2d893', name='regParam', doc='regularization parameter (>= 0).'): 0.1,\n",
       "   Param(parent='LinearRegression_41f48c4c0ff297f2d893', name='fitIntercept', doc='whether to fit an intercept term.'): True,\n",
       "   Param(parent='LinearRegression_41f48c4c0ff297f2d893', name='elasticNetParam', doc='the ElasticNet mixing parameter, in range [0, 1]. For alpha = 0, the penalty is an L2 penalty. For alpha = 1, it is an L1 penalty.'): 0.75,\n",
       "   Param(parent='LinearRegression_41f48c4c0ff297f2d893', name='tol', doc='the convergence tolerance for iterative algorithms (>= 0).'): 0.001},\n",
       "  {Param(parent='LinearRegression_41f48c4c0ff297f2d893', name='regParam', doc='regularization parameter (>= 0).'): 0.1,\n",
       "   Param(parent='LinearRegression_41f48c4c0ff297f2d893', name='fitIntercept', doc='whether to fit an intercept term.'): True,\n",
       "   Param(parent='LinearRegression_41f48c4c0ff297f2d893', name='elasticNetParam', doc='the ElasticNet mixing parameter, in range [0, 1]. For alpha = 0, the penalty is an L2 penalty. For alpha = 1, it is an L1 penalty.'): 0.75,\n",
       "   Param(parent='LinearRegression_41f48c4c0ff297f2d893', name='tol', doc='the convergence tolerance for iterative algorithms (>= 0).'): 0.0001},\n",
       "  {Param(parent='LinearRegression_41f48c4c0ff297f2d893', name='regParam', doc='regularization parameter (>= 0).'): 0.1,\n",
       "   Param(parent='LinearRegression_41f48c4c0ff297f2d893', name='fitIntercept', doc='whether to fit an intercept term.'): True,\n",
       "   Param(parent='LinearRegression_41f48c4c0ff297f2d893', name='elasticNetParam', doc='the ElasticNet mixing parameter, in range [0, 1]. For alpha = 0, the penalty is an L2 penalty. For alpha = 1, it is an L1 penalty.'): 1.0,\n",
       "   Param(parent='LinearRegression_41f48c4c0ff297f2d893', name='tol', doc='the convergence tolerance for iterative algorithms (>= 0).'): 0.01},\n",
       "  {Param(parent='LinearRegression_41f48c4c0ff297f2d893', name='regParam', doc='regularization parameter (>= 0).'): 0.1,\n",
       "   Param(parent='LinearRegression_41f48c4c0ff297f2d893', name='fitIntercept', doc='whether to fit an intercept term.'): True,\n",
       "   Param(parent='LinearRegression_41f48c4c0ff297f2d893', name='elasticNetParam', doc='the ElasticNet mixing parameter, in range [0, 1]. For alpha = 0, the penalty is an L2 penalty. For alpha = 1, it is an L1 penalty.'): 1.0,\n",
       "   Param(parent='LinearRegression_41f48c4c0ff297f2d893', name='tol', doc='the convergence tolerance for iterative algorithms (>= 0).'): 0.001},\n",
       "  {Param(parent='LinearRegression_41f48c4c0ff297f2d893', name='regParam', doc='regularization parameter (>= 0).'): 0.1,\n",
       "   Param(parent='LinearRegression_41f48c4c0ff297f2d893', name='fitIntercept', doc='whether to fit an intercept term.'): True,\n",
       "   Param(parent='LinearRegression_41f48c4c0ff297f2d893', name='elasticNetParam', doc='the ElasticNet mixing parameter, in range [0, 1]. For alpha = 0, the penalty is an L2 penalty. For alpha = 1, it is an L1 penalty.'): 1.0,\n",
       "   Param(parent='LinearRegression_41f48c4c0ff297f2d893', name='tol', doc='the convergence tolerance for iterative algorithms (>= 0).'): 0.0001},\n",
       "  {Param(parent='LinearRegression_41f48c4c0ff297f2d893', name='regParam', doc='regularization parameter (>= 0).'): 0.1,\n",
       "   Param(parent='LinearRegression_41f48c4c0ff297f2d893', name='fitIntercept', doc='whether to fit an intercept term.'): False,\n",
       "   Param(parent='LinearRegression_41f48c4c0ff297f2d893', name='elasticNetParam', doc='the ElasticNet mixing parameter, in range [0, 1]. For alpha = 0, the penalty is an L2 penalty. For alpha = 1, it is an L1 penalty.'): 0.0,\n",
       "   Param(parent='LinearRegression_41f48c4c0ff297f2d893', name='tol', doc='the convergence tolerance for iterative algorithms (>= 0).'): 0.01},\n",
       "  {Param(parent='LinearRegression_41f48c4c0ff297f2d893', name='regParam', doc='regularization parameter (>= 0).'): 0.1,\n",
       "   Param(parent='LinearRegression_41f48c4c0ff297f2d893', name='fitIntercept', doc='whether to fit an intercept term.'): False,\n",
       "   Param(parent='LinearRegression_41f48c4c0ff297f2d893', name='elasticNetParam', doc='the ElasticNet mixing parameter, in range [0, 1]. For alpha = 0, the penalty is an L2 penalty. For alpha = 1, it is an L1 penalty.'): 0.0,\n",
       "   Param(parent='LinearRegression_41f48c4c0ff297f2d893', name='tol', doc='the convergence tolerance for iterative algorithms (>= 0).'): 0.001},\n",
       "  {Param(parent='LinearRegression_41f48c4c0ff297f2d893', name='regParam', doc='regularization parameter (>= 0).'): 0.1,\n",
       "   Param(parent='LinearRegression_41f48c4c0ff297f2d893', name='fitIntercept', doc='whether to fit an intercept term.'): False,\n",
       "   Param(parent='LinearRegression_41f48c4c0ff297f2d893', name='elasticNetParam', doc='the ElasticNet mixing parameter, in range [0, 1]. For alpha = 0, the penalty is an L2 penalty. For alpha = 1, it is an L1 penalty.'): 0.0,\n",
       "   Param(parent='LinearRegression_41f48c4c0ff297f2d893', name='tol', doc='the convergence tolerance for iterative algorithms (>= 0).'): 0.0001},\n",
       "  {Param(parent='LinearRegression_41f48c4c0ff297f2d893', name='regParam', doc='regularization parameter (>= 0).'): 0.1,\n",
       "   Param(parent='LinearRegression_41f48c4c0ff297f2d893', name='fitIntercept', doc='whether to fit an intercept term.'): False,\n",
       "   Param(parent='LinearRegression_41f48c4c0ff297f2d893', name='elasticNetParam', doc='the ElasticNet mixing parameter, in range [0, 1]. For alpha = 0, the penalty is an L2 penalty. For alpha = 1, it is an L1 penalty.'): 0.25,\n",
       "   Param(parent='LinearRegression_41f48c4c0ff297f2d893', name='tol', doc='the convergence tolerance for iterative algorithms (>= 0).'): 0.01},\n",
       "  {Param(parent='LinearRegression_41f48c4c0ff297f2d893', name='regParam', doc='regularization parameter (>= 0).'): 0.1,\n",
       "   Param(parent='LinearRegression_41f48c4c0ff297f2d893', name='fitIntercept', doc='whether to fit an intercept term.'): False,\n",
       "   Param(parent='LinearRegression_41f48c4c0ff297f2d893', name='elasticNetParam', doc='the ElasticNet mixing parameter, in range [0, 1]. For alpha = 0, the penalty is an L2 penalty. For alpha = 1, it is an L1 penalty.'): 0.25,\n",
       "   Param(parent='LinearRegression_41f48c4c0ff297f2d893', name='tol', doc='the convergence tolerance for iterative algorithms (>= 0).'): 0.001},\n",
       "  {Param(parent='LinearRegression_41f48c4c0ff297f2d893', name='regParam', doc='regularization parameter (>= 0).'): 0.1,\n",
       "   Param(parent='LinearRegression_41f48c4c0ff297f2d893', name='fitIntercept', doc='whether to fit an intercept term.'): False,\n",
       "   Param(parent='LinearRegression_41f48c4c0ff297f2d893', name='elasticNetParam', doc='the ElasticNet mixing parameter, in range [0, 1]. For alpha = 0, the penalty is an L2 penalty. For alpha = 1, it is an L1 penalty.'): 0.25,\n",
       "   Param(parent='LinearRegression_41f48c4c0ff297f2d893', name='tol', doc='the convergence tolerance for iterative algorithms (>= 0).'): 0.0001},\n",
       "  {Param(parent='LinearRegression_41f48c4c0ff297f2d893', name='regParam', doc='regularization parameter (>= 0).'): 0.1,\n",
       "   Param(parent='LinearRegression_41f48c4c0ff297f2d893', name='fitIntercept', doc='whether to fit an intercept term.'): False,\n",
       "   Param(parent='LinearRegression_41f48c4c0ff297f2d893', name='elasticNetParam', doc='the ElasticNet mixing parameter, in range [0, 1]. For alpha = 0, the penalty is an L2 penalty. For alpha = 1, it is an L1 penalty.'): 0.5,\n",
       "   Param(parent='LinearRegression_41f48c4c0ff297f2d893', name='tol', doc='the convergence tolerance for iterative algorithms (>= 0).'): 0.01},\n",
       "  {Param(parent='LinearRegression_41f48c4c0ff297f2d893', name='regParam', doc='regularization parameter (>= 0).'): 0.1,\n",
       "   Param(parent='LinearRegression_41f48c4c0ff297f2d893', name='fitIntercept', doc='whether to fit an intercept term.'): False,\n",
       "   Param(parent='LinearRegression_41f48c4c0ff297f2d893', name='elasticNetParam', doc='the ElasticNet mixing parameter, in range [0, 1]. For alpha = 0, the penalty is an L2 penalty. For alpha = 1, it is an L1 penalty.'): 0.5,\n",
       "   Param(parent='LinearRegression_41f48c4c0ff297f2d893', name='tol', doc='the convergence tolerance for iterative algorithms (>= 0).'): 0.001},\n",
       "  {Param(parent='LinearRegression_41f48c4c0ff297f2d893', name='regParam', doc='regularization parameter (>= 0).'): 0.1,\n",
       "   Param(parent='LinearRegression_41f48c4c0ff297f2d893', name='fitIntercept', doc='whether to fit an intercept term.'): False,\n",
       "   Param(parent='LinearRegression_41f48c4c0ff297f2d893', name='elasticNetParam', doc='the ElasticNet mixing parameter, in range [0, 1]. For alpha = 0, the penalty is an L2 penalty. For alpha = 1, it is an L1 penalty.'): 0.5,\n",
       "   Param(parent='LinearRegression_41f48c4c0ff297f2d893', name='tol', doc='the convergence tolerance for iterative algorithms (>= 0).'): 0.0001},\n",
       "  {Param(parent='LinearRegression_41f48c4c0ff297f2d893', name='regParam', doc='regularization parameter (>= 0).'): 0.1,\n",
       "   Param(parent='LinearRegression_41f48c4c0ff297f2d893', name='fitIntercept', doc='whether to fit an intercept term.'): False,\n",
       "   Param(parent='LinearRegression_41f48c4c0ff297f2d893', name='elasticNetParam', doc='the ElasticNet mixing parameter, in range [0, 1]. For alpha = 0, the penalty is an L2 penalty. For alpha = 1, it is an L1 penalty.'): 0.75,\n",
       "   Param(parent='LinearRegression_41f48c4c0ff297f2d893', name='tol', doc='the convergence tolerance for iterative algorithms (>= 0).'): 0.01},\n",
       "  {Param(parent='LinearRegression_41f48c4c0ff297f2d893', name='regParam', doc='regularization parameter (>= 0).'): 0.1,\n",
       "   Param(parent='LinearRegression_41f48c4c0ff297f2d893', name='fitIntercept', doc='whether to fit an intercept term.'): False,\n",
       "   Param(parent='LinearRegression_41f48c4c0ff297f2d893', name='elasticNetParam', doc='the ElasticNet mixing parameter, in range [0, 1]. For alpha = 0, the penalty is an L2 penalty. For alpha = 1, it is an L1 penalty.'): 0.75,\n",
       "   Param(parent='LinearRegression_41f48c4c0ff297f2d893', name='tol', doc='the convergence tolerance for iterative algorithms (>= 0).'): 0.001},\n",
       "  {Param(parent='LinearRegression_41f48c4c0ff297f2d893', name='regParam', doc='regularization parameter (>= 0).'): 0.1,\n",
       "   Param(parent='LinearRegression_41f48c4c0ff297f2d893', name='fitIntercept', doc='whether to fit an intercept term.'): False,\n",
       "   Param(parent='LinearRegression_41f48c4c0ff297f2d893', name='elasticNetParam', doc='the ElasticNet mixing parameter, in range [0, 1]. For alpha = 0, the penalty is an L2 penalty. For alpha = 1, it is an L1 penalty.'): 0.75,\n",
       "   Param(parent='LinearRegression_41f48c4c0ff297f2d893', name='tol', doc='the convergence tolerance for iterative algorithms (>= 0).'): 0.0001},\n",
       "  {Param(parent='LinearRegression_41f48c4c0ff297f2d893', name='regParam', doc='regularization parameter (>= 0).'): 0.1,\n",
       "   Param(parent='LinearRegression_41f48c4c0ff297f2d893', name='fitIntercept', doc='whether to fit an intercept term.'): False,\n",
       "   Param(parent='LinearRegression_41f48c4c0ff297f2d893', name='elasticNetParam', doc='the ElasticNet mixing parameter, in range [0, 1]. For alpha = 0, the penalty is an L2 penalty. For alpha = 1, it is an L1 penalty.'): 1.0,\n",
       "   Param(parent='LinearRegression_41f48c4c0ff297f2d893', name='tol', doc='the convergence tolerance for iterative algorithms (>= 0).'): 0.01},\n",
       "  {Param(parent='LinearRegression_41f48c4c0ff297f2d893', name='regParam', doc='regularization parameter (>= 0).'): 0.1,\n",
       "   Param(parent='LinearRegression_41f48c4c0ff297f2d893', name='fitIntercept', doc='whether to fit an intercept term.'): False,\n",
       "   Param(parent='LinearRegression_41f48c4c0ff297f2d893', name='elasticNetParam', doc='the ElasticNet mixing parameter, in range [0, 1]. For alpha = 0, the penalty is an L2 penalty. For alpha = 1, it is an L1 penalty.'): 1.0,\n",
       "   Param(parent='LinearRegression_41f48c4c0ff297f2d893', name='tol', doc='the convergence tolerance for iterative algorithms (>= 0).'): 0.001},\n",
       "  {Param(parent='LinearRegression_41f48c4c0ff297f2d893', name='regParam', doc='regularization parameter (>= 0).'): 0.1,\n",
       "   Param(parent='LinearRegression_41f48c4c0ff297f2d893', name='fitIntercept', doc='whether to fit an intercept term.'): False,\n",
       "   Param(parent='LinearRegression_41f48c4c0ff297f2d893', name='elasticNetParam', doc='the ElasticNet mixing parameter, in range [0, 1]. For alpha = 0, the penalty is an L2 penalty. For alpha = 1, it is an L1 penalty.'): 1.0,\n",
       "   Param(parent='LinearRegression_41f48c4c0ff297f2d893', name='tol', doc='the convergence tolerance for iterative algorithms (>= 0).'): 0.0001},\n",
       "  {Param(parent='LinearRegression_41f48c4c0ff297f2d893', name='regParam', doc='regularization parameter (>= 0).'): 0.01,\n",
       "   Param(parent='LinearRegression_41f48c4c0ff297f2d893', name='fitIntercept', doc='whether to fit an intercept term.'): True,\n",
       "   Param(parent='LinearRegression_41f48c4c0ff297f2d893', name='elasticNetParam', doc='the ElasticNet mixing parameter, in range [0, 1]. For alpha = 0, the penalty is an L2 penalty. For alpha = 1, it is an L1 penalty.'): 0.0,\n",
       "   Param(parent='LinearRegression_41f48c4c0ff297f2d893', name='tol', doc='the convergence tolerance for iterative algorithms (>= 0).'): 0.01},\n",
       "  {Param(parent='LinearRegression_41f48c4c0ff297f2d893', name='regParam', doc='regularization parameter (>= 0).'): 0.01,\n",
       "   Param(parent='LinearRegression_41f48c4c0ff297f2d893', name='fitIntercept', doc='whether to fit an intercept term.'): True,\n",
       "   Param(parent='LinearRegression_41f48c4c0ff297f2d893', name='elasticNetParam', doc='the ElasticNet mixing parameter, in range [0, 1]. For alpha = 0, the penalty is an L2 penalty. For alpha = 1, it is an L1 penalty.'): 0.0,\n",
       "   Param(parent='LinearRegression_41f48c4c0ff297f2d893', name='tol', doc='the convergence tolerance for iterative algorithms (>= 0).'): 0.001},\n",
       "  {Param(parent='LinearRegression_41f48c4c0ff297f2d893', name='regParam', doc='regularization parameter (>= 0).'): 0.01,\n",
       "   Param(parent='LinearRegression_41f48c4c0ff297f2d893', name='fitIntercept', doc='whether to fit an intercept term.'): True,\n",
       "   Param(parent='LinearRegression_41f48c4c0ff297f2d893', name='elasticNetParam', doc='the ElasticNet mixing parameter, in range [0, 1]. For alpha = 0, the penalty is an L2 penalty. For alpha = 1, it is an L1 penalty.'): 0.0,\n",
       "   Param(parent='LinearRegression_41f48c4c0ff297f2d893', name='tol', doc='the convergence tolerance for iterative algorithms (>= 0).'): 0.0001},\n",
       "  {Param(parent='LinearRegression_41f48c4c0ff297f2d893', name='regParam', doc='regularization parameter (>= 0).'): 0.01,\n",
       "   Param(parent='LinearRegression_41f48c4c0ff297f2d893', name='fitIntercept', doc='whether to fit an intercept term.'): True,\n",
       "   Param(parent='LinearRegression_41f48c4c0ff297f2d893', name='elasticNetParam', doc='the ElasticNet mixing parameter, in range [0, 1]. For alpha = 0, the penalty is an L2 penalty. For alpha = 1, it is an L1 penalty.'): 0.25,\n",
       "   Param(parent='LinearRegression_41f48c4c0ff297f2d893', name='tol', doc='the convergence tolerance for iterative algorithms (>= 0).'): 0.01},\n",
       "  {Param(parent='LinearRegression_41f48c4c0ff297f2d893', name='regParam', doc='regularization parameter (>= 0).'): 0.01,\n",
       "   Param(parent='LinearRegression_41f48c4c0ff297f2d893', name='fitIntercept', doc='whether to fit an intercept term.'): True,\n",
       "   Param(parent='LinearRegression_41f48c4c0ff297f2d893', name='elasticNetParam', doc='the ElasticNet mixing parameter, in range [0, 1]. For alpha = 0, the penalty is an L2 penalty. For alpha = 1, it is an L1 penalty.'): 0.25,\n",
       "   Param(parent='LinearRegression_41f48c4c0ff297f2d893', name='tol', doc='the convergence tolerance for iterative algorithms (>= 0).'): 0.001},\n",
       "  {Param(parent='LinearRegression_41f48c4c0ff297f2d893', name='regParam', doc='regularization parameter (>= 0).'): 0.01,\n",
       "   Param(parent='LinearRegression_41f48c4c0ff297f2d893', name='fitIntercept', doc='whether to fit an intercept term.'): True,\n",
       "   Param(parent='LinearRegression_41f48c4c0ff297f2d893', name='elasticNetParam', doc='the ElasticNet mixing parameter, in range [0, 1]. For alpha = 0, the penalty is an L2 penalty. For alpha = 1, it is an L1 penalty.'): 0.25,\n",
       "   Param(parent='LinearRegression_41f48c4c0ff297f2d893', name='tol', doc='the convergence tolerance for iterative algorithms (>= 0).'): 0.0001},\n",
       "  {Param(parent='LinearRegression_41f48c4c0ff297f2d893', name='regParam', doc='regularization parameter (>= 0).'): 0.01,\n",
       "   Param(parent='LinearRegression_41f48c4c0ff297f2d893', name='fitIntercept', doc='whether to fit an intercept term.'): True,\n",
       "   Param(parent='LinearRegression_41f48c4c0ff297f2d893', name='elasticNetParam', doc='the ElasticNet mixing parameter, in range [0, 1]. For alpha = 0, the penalty is an L2 penalty. For alpha = 1, it is an L1 penalty.'): 0.5,\n",
       "   Param(parent='LinearRegression_41f48c4c0ff297f2d893', name='tol', doc='the convergence tolerance for iterative algorithms (>= 0).'): 0.01},\n",
       "  {Param(parent='LinearRegression_41f48c4c0ff297f2d893', name='regParam', doc='regularization parameter (>= 0).'): 0.01,\n",
       "   Param(parent='LinearRegression_41f48c4c0ff297f2d893', name='fitIntercept', doc='whether to fit an intercept term.'): True,\n",
       "   Param(parent='LinearRegression_41f48c4c0ff297f2d893', name='elasticNetParam', doc='the ElasticNet mixing parameter, in range [0, 1]. For alpha = 0, the penalty is an L2 penalty. For alpha = 1, it is an L1 penalty.'): 0.5,\n",
       "   Param(parent='LinearRegression_41f48c4c0ff297f2d893', name='tol', doc='the convergence tolerance for iterative algorithms (>= 0).'): 0.001},\n",
       "  {Param(parent='LinearRegression_41f48c4c0ff297f2d893', name='regParam', doc='regularization parameter (>= 0).'): 0.01,\n",
       "   Param(parent='LinearRegression_41f48c4c0ff297f2d893', name='fitIntercept', doc='whether to fit an intercept term.'): True,\n",
       "   Param(parent='LinearRegression_41f48c4c0ff297f2d893', name='elasticNetParam', doc='the ElasticNet mixing parameter, in range [0, 1]. For alpha = 0, the penalty is an L2 penalty. For alpha = 1, it is an L1 penalty.'): 0.5,\n",
       "   Param(parent='LinearRegression_41f48c4c0ff297f2d893', name='tol', doc='the convergence tolerance for iterative algorithms (>= 0).'): 0.0001},\n",
       "  {Param(parent='LinearRegression_41f48c4c0ff297f2d893', name='regParam', doc='regularization parameter (>= 0).'): 0.01,\n",
       "   Param(parent='LinearRegression_41f48c4c0ff297f2d893', name='fitIntercept', doc='whether to fit an intercept term.'): True,\n",
       "   Param(parent='LinearRegression_41f48c4c0ff297f2d893', name='elasticNetParam', doc='the ElasticNet mixing parameter, in range [0, 1]. For alpha = 0, the penalty is an L2 penalty. For alpha = 1, it is an L1 penalty.'): 0.75,\n",
       "   Param(parent='LinearRegression_41f48c4c0ff297f2d893', name='tol', doc='the convergence tolerance for iterative algorithms (>= 0).'): 0.01},\n",
       "  {Param(parent='LinearRegression_41f48c4c0ff297f2d893', name='regParam', doc='regularization parameter (>= 0).'): 0.01,\n",
       "   Param(parent='LinearRegression_41f48c4c0ff297f2d893', name='fitIntercept', doc='whether to fit an intercept term.'): True,\n",
       "   Param(parent='LinearRegression_41f48c4c0ff297f2d893', name='elasticNetParam', doc='the ElasticNet mixing parameter, in range [0, 1]. For alpha = 0, the penalty is an L2 penalty. For alpha = 1, it is an L1 penalty.'): 0.75,\n",
       "   Param(parent='LinearRegression_41f48c4c0ff297f2d893', name='tol', doc='the convergence tolerance for iterative algorithms (>= 0).'): 0.001},\n",
       "  {Param(parent='LinearRegression_41f48c4c0ff297f2d893', name='regParam', doc='regularization parameter (>= 0).'): 0.01,\n",
       "   Param(parent='LinearRegression_41f48c4c0ff297f2d893', name='fitIntercept', doc='whether to fit an intercept term.'): True,\n",
       "   Param(parent='LinearRegression_41f48c4c0ff297f2d893', name='elasticNetParam', doc='the ElasticNet mixing parameter, in range [0, 1]. For alpha = 0, the penalty is an L2 penalty. For alpha = 1, it is an L1 penalty.'): 0.75,\n",
       "   Param(parent='LinearRegression_41f48c4c0ff297f2d893', name='tol', doc='the convergence tolerance for iterative algorithms (>= 0).'): 0.0001},\n",
       "  {Param(parent='LinearRegression_41f48c4c0ff297f2d893', name='regParam', doc='regularization parameter (>= 0).'): 0.01,\n",
       "   Param(parent='LinearRegression_41f48c4c0ff297f2d893', name='fitIntercept', doc='whether to fit an intercept term.'): True,\n",
       "   Param(parent='LinearRegression_41f48c4c0ff297f2d893', name='elasticNetParam', doc='the ElasticNet mixing parameter, in range [0, 1]. For alpha = 0, the penalty is an L2 penalty. For alpha = 1, it is an L1 penalty.'): 1.0,\n",
       "   Param(parent='LinearRegression_41f48c4c0ff297f2d893', name='tol', doc='the convergence tolerance for iterative algorithms (>= 0).'): 0.01},\n",
       "  {Param(parent='LinearRegression_41f48c4c0ff297f2d893', name='regParam', doc='regularization parameter (>= 0).'): 0.01,\n",
       "   Param(parent='LinearRegression_41f48c4c0ff297f2d893', name='fitIntercept', doc='whether to fit an intercept term.'): True,\n",
       "   Param(parent='LinearRegression_41f48c4c0ff297f2d893', name='elasticNetParam', doc='the ElasticNet mixing parameter, in range [0, 1]. For alpha = 0, the penalty is an L2 penalty. For alpha = 1, it is an L1 penalty.'): 1.0,\n",
       "   Param(parent='LinearRegression_41f48c4c0ff297f2d893', name='tol', doc='the convergence tolerance for iterative algorithms (>= 0).'): 0.001},\n",
       "  {Param(parent='LinearRegression_41f48c4c0ff297f2d893', name='regParam', doc='regularization parameter (>= 0).'): 0.01,\n",
       "   Param(parent='LinearRegression_41f48c4c0ff297f2d893', name='fitIntercept', doc='whether to fit an intercept term.'): True,\n",
       "   Param(parent='LinearRegression_41f48c4c0ff297f2d893', name='elasticNetParam', doc='the ElasticNet mixing parameter, in range [0, 1]. For alpha = 0, the penalty is an L2 penalty. For alpha = 1, it is an L1 penalty.'): 1.0,\n",
       "   Param(parent='LinearRegression_41f48c4c0ff297f2d893', name='tol', doc='the convergence tolerance for iterative algorithms (>= 0).'): 0.0001},\n",
       "  {Param(parent='LinearRegression_41f48c4c0ff297f2d893', name='regParam', doc='regularization parameter (>= 0).'): 0.01,\n",
       "   Param(parent='LinearRegression_41f48c4c0ff297f2d893', name='fitIntercept', doc='whether to fit an intercept term.'): False,\n",
       "   Param(parent='LinearRegression_41f48c4c0ff297f2d893', name='elasticNetParam', doc='the ElasticNet mixing parameter, in range [0, 1]. For alpha = 0, the penalty is an L2 penalty. For alpha = 1, it is an L1 penalty.'): 0.0,\n",
       "   Param(parent='LinearRegression_41f48c4c0ff297f2d893', name='tol', doc='the convergence tolerance for iterative algorithms (>= 0).'): 0.01},\n",
       "  {Param(parent='LinearRegression_41f48c4c0ff297f2d893', name='regParam', doc='regularization parameter (>= 0).'): 0.01,\n",
       "   Param(parent='LinearRegression_41f48c4c0ff297f2d893', name='fitIntercept', doc='whether to fit an intercept term.'): False,\n",
       "   Param(parent='LinearRegression_41f48c4c0ff297f2d893', name='elasticNetParam', doc='the ElasticNet mixing parameter, in range [0, 1]. For alpha = 0, the penalty is an L2 penalty. For alpha = 1, it is an L1 penalty.'): 0.0,\n",
       "   Param(parent='LinearRegression_41f48c4c0ff297f2d893', name='tol', doc='the convergence tolerance for iterative algorithms (>= 0).'): 0.001},\n",
       "  {Param(parent='LinearRegression_41f48c4c0ff297f2d893', name='regParam', doc='regularization parameter (>= 0).'): 0.01,\n",
       "   Param(parent='LinearRegression_41f48c4c0ff297f2d893', name='fitIntercept', doc='whether to fit an intercept term.'): False,\n",
       "   Param(parent='LinearRegression_41f48c4c0ff297f2d893', name='elasticNetParam', doc='the ElasticNet mixing parameter, in range [0, 1]. For alpha = 0, the penalty is an L2 penalty. For alpha = 1, it is an L1 penalty.'): 0.0,\n",
       "   Param(parent='LinearRegression_41f48c4c0ff297f2d893', name='tol', doc='the convergence tolerance for iterative algorithms (>= 0).'): 0.0001},\n",
       "  {Param(parent='LinearRegression_41f48c4c0ff297f2d893', name='regParam', doc='regularization parameter (>= 0).'): 0.01,\n",
       "   Param(parent='LinearRegression_41f48c4c0ff297f2d893', name='fitIntercept', doc='whether to fit an intercept term.'): False,\n",
       "   Param(parent='LinearRegression_41f48c4c0ff297f2d893', name='elasticNetParam', doc='the ElasticNet mixing parameter, in range [0, 1]. For alpha = 0, the penalty is an L2 penalty. For alpha = 1, it is an L1 penalty.'): 0.25,\n",
       "   Param(parent='LinearRegression_41f48c4c0ff297f2d893', name='tol', doc='the convergence tolerance for iterative algorithms (>= 0).'): 0.01},\n",
       "  {Param(parent='LinearRegression_41f48c4c0ff297f2d893', name='regParam', doc='regularization parameter (>= 0).'): 0.01,\n",
       "   Param(parent='LinearRegression_41f48c4c0ff297f2d893', name='fitIntercept', doc='whether to fit an intercept term.'): False,\n",
       "   Param(parent='LinearRegression_41f48c4c0ff297f2d893', name='elasticNetParam', doc='the ElasticNet mixing parameter, in range [0, 1]. For alpha = 0, the penalty is an L2 penalty. For alpha = 1, it is an L1 penalty.'): 0.25,\n",
       "   Param(parent='LinearRegression_41f48c4c0ff297f2d893', name='tol', doc='the convergence tolerance for iterative algorithms (>= 0).'): 0.001},\n",
       "  {Param(parent='LinearRegression_41f48c4c0ff297f2d893', name='regParam', doc='regularization parameter (>= 0).'): 0.01,\n",
       "   Param(parent='LinearRegression_41f48c4c0ff297f2d893', name='fitIntercept', doc='whether to fit an intercept term.'): False,\n",
       "   Param(parent='LinearRegression_41f48c4c0ff297f2d893', name='elasticNetParam', doc='the ElasticNet mixing parameter, in range [0, 1]. For alpha = 0, the penalty is an L2 penalty. For alpha = 1, it is an L1 penalty.'): 0.25,\n",
       "   Param(parent='LinearRegression_41f48c4c0ff297f2d893', name='tol', doc='the convergence tolerance for iterative algorithms (>= 0).'): 0.0001},\n",
       "  {Param(parent='LinearRegression_41f48c4c0ff297f2d893', name='regParam', doc='regularization parameter (>= 0).'): 0.01,\n",
       "   Param(parent='LinearRegression_41f48c4c0ff297f2d893', name='fitIntercept', doc='whether to fit an intercept term.'): False,\n",
       "   Param(parent='LinearRegression_41f48c4c0ff297f2d893', name='elasticNetParam', doc='the ElasticNet mixing parameter, in range [0, 1]. For alpha = 0, the penalty is an L2 penalty. For alpha = 1, it is an L1 penalty.'): 0.5,\n",
       "   Param(parent='LinearRegression_41f48c4c0ff297f2d893', name='tol', doc='the convergence tolerance for iterative algorithms (>= 0).'): 0.01},\n",
       "  {Param(parent='LinearRegression_41f48c4c0ff297f2d893', name='regParam', doc='regularization parameter (>= 0).'): 0.01,\n",
       "   Param(parent='LinearRegression_41f48c4c0ff297f2d893', name='fitIntercept', doc='whether to fit an intercept term.'): False,\n",
       "   Param(parent='LinearRegression_41f48c4c0ff297f2d893', name='elasticNetParam', doc='the ElasticNet mixing parameter, in range [0, 1]. For alpha = 0, the penalty is an L2 penalty. For alpha = 1, it is an L1 penalty.'): 0.5,\n",
       "   Param(parent='LinearRegression_41f48c4c0ff297f2d893', name='tol', doc='the convergence tolerance for iterative algorithms (>= 0).'): 0.001},\n",
       "  {Param(parent='LinearRegression_41f48c4c0ff297f2d893', name='regParam', doc='regularization parameter (>= 0).'): 0.01,\n",
       "   Param(parent='LinearRegression_41f48c4c0ff297f2d893', name='fitIntercept', doc='whether to fit an intercept term.'): False,\n",
       "   Param(parent='LinearRegression_41f48c4c0ff297f2d893', name='elasticNetParam', doc='the ElasticNet mixing parameter, in range [0, 1]. For alpha = 0, the penalty is an L2 penalty. For alpha = 1, it is an L1 penalty.'): 0.5,\n",
       "   Param(parent='LinearRegression_41f48c4c0ff297f2d893', name='tol', doc='the convergence tolerance for iterative algorithms (>= 0).'): 0.0001},\n",
       "  {Param(parent='LinearRegression_41f48c4c0ff297f2d893', name='regParam', doc='regularization parameter (>= 0).'): 0.01,\n",
       "   Param(parent='LinearRegression_41f48c4c0ff297f2d893', name='fitIntercept', doc='whether to fit an intercept term.'): False,\n",
       "   Param(parent='LinearRegression_41f48c4c0ff297f2d893', name='elasticNetParam', doc='the ElasticNet mixing parameter, in range [0, 1]. For alpha = 0, the penalty is an L2 penalty. For alpha = 1, it is an L1 penalty.'): 0.75,\n",
       "   Param(parent='LinearRegression_41f48c4c0ff297f2d893', name='tol', doc='the convergence tolerance for iterative algorithms (>= 0).'): 0.01},\n",
       "  {Param(parent='LinearRegression_41f48c4c0ff297f2d893', name='regParam', doc='regularization parameter (>= 0).'): 0.01,\n",
       "   Param(parent='LinearRegression_41f48c4c0ff297f2d893', name='fitIntercept', doc='whether to fit an intercept term.'): False,\n",
       "   Param(parent='LinearRegression_41f48c4c0ff297f2d893', name='elasticNetParam', doc='the ElasticNet mixing parameter, in range [0, 1]. For alpha = 0, the penalty is an L2 penalty. For alpha = 1, it is an L1 penalty.'): 0.75,\n",
       "   Param(parent='LinearRegression_41f48c4c0ff297f2d893', name='tol', doc='the convergence tolerance for iterative algorithms (>= 0).'): 0.001},\n",
       "  {Param(parent='LinearRegression_41f48c4c0ff297f2d893', name='regParam', doc='regularization parameter (>= 0).'): 0.01,\n",
       "   Param(parent='LinearRegression_41f48c4c0ff297f2d893', name='fitIntercept', doc='whether to fit an intercept term.'): False,\n",
       "   Param(parent='LinearRegression_41f48c4c0ff297f2d893', name='elasticNetParam', doc='the ElasticNet mixing parameter, in range [0, 1]. For alpha = 0, the penalty is an L2 penalty. For alpha = 1, it is an L1 penalty.'): 0.75,\n",
       "   Param(parent='LinearRegression_41f48c4c0ff297f2d893', name='tol', doc='the convergence tolerance for iterative algorithms (>= 0).'): 0.0001},\n",
       "  {Param(parent='LinearRegression_41f48c4c0ff297f2d893', name='regParam', doc='regularization parameter (>= 0).'): 0.01,\n",
       "   Param(parent='LinearRegression_41f48c4c0ff297f2d893', name='fitIntercept', doc='whether to fit an intercept term.'): False,\n",
       "   Param(parent='LinearRegression_41f48c4c0ff297f2d893', name='elasticNetParam', doc='the ElasticNet mixing parameter, in range [0, 1]. For alpha = 0, the penalty is an L2 penalty. For alpha = 1, it is an L1 penalty.'): 1.0,\n",
       "   Param(parent='LinearRegression_41f48c4c0ff297f2d893', name='tol', doc='the convergence tolerance for iterative algorithms (>= 0).'): 0.01},\n",
       "  {Param(parent='LinearRegression_41f48c4c0ff297f2d893', name='regParam', doc='regularization parameter (>= 0).'): 0.01,\n",
       "   Param(parent='LinearRegression_41f48c4c0ff297f2d893', name='fitIntercept', doc='whether to fit an intercept term.'): False,\n",
       "   Param(parent='LinearRegression_41f48c4c0ff297f2d893', name='elasticNetParam', doc='the ElasticNet mixing parameter, in range [0, 1]. For alpha = 0, the penalty is an L2 penalty. For alpha = 1, it is an L1 penalty.'): 1.0,\n",
       "   Param(parent='LinearRegression_41f48c4c0ff297f2d893', name='tol', doc='the convergence tolerance for iterative algorithms (>= 0).'): 0.001},\n",
       "  {Param(parent='LinearRegression_41f48c4c0ff297f2d893', name='regParam', doc='regularization parameter (>= 0).'): 0.01,\n",
       "   Param(parent='LinearRegression_41f48c4c0ff297f2d893', name='fitIntercept', doc='whether to fit an intercept term.'): False,\n",
       "   Param(parent='LinearRegression_41f48c4c0ff297f2d893', name='elasticNetParam', doc='the ElasticNet mixing parameter, in range [0, 1]. For alpha = 0, the penalty is an L2 penalty. For alpha = 1, it is an L1 penalty.'): 1.0,\n",
       "   Param(parent='LinearRegression_41f48c4c0ff297f2d893', name='tol', doc='the convergence tolerance for iterative algorithms (>= 0).'): 0.0001},\n",
       "  {Param(parent='LinearRegression_41f48c4c0ff297f2d893', name='regParam', doc='regularization parameter (>= 0).'): 0.0,\n",
       "   Param(parent='LinearRegression_41f48c4c0ff297f2d893', name='fitIntercept', doc='whether to fit an intercept term.'): True,\n",
       "   Param(parent='LinearRegression_41f48c4c0ff297f2d893', name='elasticNetParam', doc='the ElasticNet mixing parameter, in range [0, 1]. For alpha = 0, the penalty is an L2 penalty. For alpha = 1, it is an L1 penalty.'): 0.0,\n",
       "   Param(parent='LinearRegression_41f48c4c0ff297f2d893', name='tol', doc='the convergence tolerance for iterative algorithms (>= 0).'): 0.01},\n",
       "  {Param(parent='LinearRegression_41f48c4c0ff297f2d893', name='regParam', doc='regularization parameter (>= 0).'): 0.0,\n",
       "   Param(parent='LinearRegression_41f48c4c0ff297f2d893', name='fitIntercept', doc='whether to fit an intercept term.'): True,\n",
       "   Param(parent='LinearRegression_41f48c4c0ff297f2d893', name='elasticNetParam', doc='the ElasticNet mixing parameter, in range [0, 1]. For alpha = 0, the penalty is an L2 penalty. For alpha = 1, it is an L1 penalty.'): 0.0,\n",
       "   Param(parent='LinearRegression_41f48c4c0ff297f2d893', name='tol', doc='the convergence tolerance for iterative algorithms (>= 0).'): 0.001},\n",
       "  {Param(parent='LinearRegression_41f48c4c0ff297f2d893', name='regParam', doc='regularization parameter (>= 0).'): 0.0,\n",
       "   Param(parent='LinearRegression_41f48c4c0ff297f2d893', name='fitIntercept', doc='whether to fit an intercept term.'): True,\n",
       "   Param(parent='LinearRegression_41f48c4c0ff297f2d893', name='elasticNetParam', doc='the ElasticNet mixing parameter, in range [0, 1]. For alpha = 0, the penalty is an L2 penalty. For alpha = 1, it is an L1 penalty.'): 0.0,\n",
       "   Param(parent='LinearRegression_41f48c4c0ff297f2d893', name='tol', doc='the convergence tolerance for iterative algorithms (>= 0).'): 0.0001},\n",
       "  {Param(parent='LinearRegression_41f48c4c0ff297f2d893', name='regParam', doc='regularization parameter (>= 0).'): 0.0,\n",
       "   Param(parent='LinearRegression_41f48c4c0ff297f2d893', name='fitIntercept', doc='whether to fit an intercept term.'): True,\n",
       "   Param(parent='LinearRegression_41f48c4c0ff297f2d893', name='elasticNetParam', doc='the ElasticNet mixing parameter, in range [0, 1]. For alpha = 0, the penalty is an L2 penalty. For alpha = 1, it is an L1 penalty.'): 0.25,\n",
       "   Param(parent='LinearRegression_41f48c4c0ff297f2d893', name='tol', doc='the convergence tolerance for iterative algorithms (>= 0).'): 0.01},\n",
       "  {Param(parent='LinearRegression_41f48c4c0ff297f2d893', name='regParam', doc='regularization parameter (>= 0).'): 0.0,\n",
       "   Param(parent='LinearRegression_41f48c4c0ff297f2d893', name='fitIntercept', doc='whether to fit an intercept term.'): True,\n",
       "   Param(parent='LinearRegression_41f48c4c0ff297f2d893', name='elasticNetParam', doc='the ElasticNet mixing parameter, in range [0, 1]. For alpha = 0, the penalty is an L2 penalty. For alpha = 1, it is an L1 penalty.'): 0.25,\n",
       "   Param(parent='LinearRegression_41f48c4c0ff297f2d893', name='tol', doc='the convergence tolerance for iterative algorithms (>= 0).'): 0.001},\n",
       "  {Param(parent='LinearRegression_41f48c4c0ff297f2d893', name='regParam', doc='regularization parameter (>= 0).'): 0.0,\n",
       "   Param(parent='LinearRegression_41f48c4c0ff297f2d893', name='fitIntercept', doc='whether to fit an intercept term.'): True,\n",
       "   Param(parent='LinearRegression_41f48c4c0ff297f2d893', name='elasticNetParam', doc='the ElasticNet mixing parameter, in range [0, 1]. For alpha = 0, the penalty is an L2 penalty. For alpha = 1, it is an L1 penalty.'): 0.25,\n",
       "   Param(parent='LinearRegression_41f48c4c0ff297f2d893', name='tol', doc='the convergence tolerance for iterative algorithms (>= 0).'): 0.0001},\n",
       "  {Param(parent='LinearRegression_41f48c4c0ff297f2d893', name='regParam', doc='regularization parameter (>= 0).'): 0.0,\n",
       "   Param(parent='LinearRegression_41f48c4c0ff297f2d893', name='fitIntercept', doc='whether to fit an intercept term.'): True,\n",
       "   Param(parent='LinearRegression_41f48c4c0ff297f2d893', name='elasticNetParam', doc='the ElasticNet mixing parameter, in range [0, 1]. For alpha = 0, the penalty is an L2 penalty. For alpha = 1, it is an L1 penalty.'): 0.5,\n",
       "   Param(parent='LinearRegression_41f48c4c0ff297f2d893', name='tol', doc='the convergence tolerance for iterative algorithms (>= 0).'): 0.01},\n",
       "  {Param(parent='LinearRegression_41f48c4c0ff297f2d893', name='regParam', doc='regularization parameter (>= 0).'): 0.0,\n",
       "   Param(parent='LinearRegression_41f48c4c0ff297f2d893', name='fitIntercept', doc='whether to fit an intercept term.'): True,\n",
       "   Param(parent='LinearRegression_41f48c4c0ff297f2d893', name='elasticNetParam', doc='the ElasticNet mixing parameter, in range [0, 1]. For alpha = 0, the penalty is an L2 penalty. For alpha = 1, it is an L1 penalty.'): 0.5,\n",
       "   Param(parent='LinearRegression_41f48c4c0ff297f2d893', name='tol', doc='the convergence tolerance for iterative algorithms (>= 0).'): 0.001},\n",
       "  {Param(parent='LinearRegression_41f48c4c0ff297f2d893', name='regParam', doc='regularization parameter (>= 0).'): 0.0,\n",
       "   Param(parent='LinearRegression_41f48c4c0ff297f2d893', name='fitIntercept', doc='whether to fit an intercept term.'): True,\n",
       "   Param(parent='LinearRegression_41f48c4c0ff297f2d893', name='elasticNetParam', doc='the ElasticNet mixing parameter, in range [0, 1]. For alpha = 0, the penalty is an L2 penalty. For alpha = 1, it is an L1 penalty.'): 0.5,\n",
       "   Param(parent='LinearRegression_41f48c4c0ff297f2d893', name='tol', doc='the convergence tolerance for iterative algorithms (>= 0).'): 0.0001},\n",
       "  {Param(parent='LinearRegression_41f48c4c0ff297f2d893', name='regParam', doc='regularization parameter (>= 0).'): 0.0,\n",
       "   Param(parent='LinearRegression_41f48c4c0ff297f2d893', name='fitIntercept', doc='whether to fit an intercept term.'): True,\n",
       "   Param(parent='LinearRegression_41f48c4c0ff297f2d893', name='elasticNetParam', doc='the ElasticNet mixing parameter, in range [0, 1]. For alpha = 0, the penalty is an L2 penalty. For alpha = 1, it is an L1 penalty.'): 0.75,\n",
       "   Param(parent='LinearRegression_41f48c4c0ff297f2d893', name='tol', doc='the convergence tolerance for iterative algorithms (>= 0).'): 0.01},\n",
       "  {Param(parent='LinearRegression_41f48c4c0ff297f2d893', name='regParam', doc='regularization parameter (>= 0).'): 0.0,\n",
       "   Param(parent='LinearRegression_41f48c4c0ff297f2d893', name='fitIntercept', doc='whether to fit an intercept term.'): True,\n",
       "   Param(parent='LinearRegression_41f48c4c0ff297f2d893', name='elasticNetParam', doc='the ElasticNet mixing parameter, in range [0, 1]. For alpha = 0, the penalty is an L2 penalty. For alpha = 1, it is an L1 penalty.'): 0.75,\n",
       "   Param(parent='LinearRegression_41f48c4c0ff297f2d893', name='tol', doc='the convergence tolerance for iterative algorithms (>= 0).'): 0.001},\n",
       "  {Param(parent='LinearRegression_41f48c4c0ff297f2d893', name='regParam', doc='regularization parameter (>= 0).'): 0.0,\n",
       "   Param(parent='LinearRegression_41f48c4c0ff297f2d893', name='fitIntercept', doc='whether to fit an intercept term.'): True,\n",
       "   Param(parent='LinearRegression_41f48c4c0ff297f2d893', name='elasticNetParam', doc='the ElasticNet mixing parameter, in range [0, 1]. For alpha = 0, the penalty is an L2 penalty. For alpha = 1, it is an L1 penalty.'): 0.75,\n",
       "   Param(parent='LinearRegression_41f48c4c0ff297f2d893', name='tol', doc='the convergence tolerance for iterative algorithms (>= 0).'): 0.0001},\n",
       "  {Param(parent='LinearRegression_41f48c4c0ff297f2d893', name='regParam', doc='regularization parameter (>= 0).'): 0.0,\n",
       "   Param(parent='LinearRegression_41f48c4c0ff297f2d893', name='fitIntercept', doc='whether to fit an intercept term.'): True,\n",
       "   Param(parent='LinearRegression_41f48c4c0ff297f2d893', name='elasticNetParam', doc='the ElasticNet mixing parameter, in range [0, 1]. For alpha = 0, the penalty is an L2 penalty. For alpha = 1, it is an L1 penalty.'): 1.0,\n",
       "   Param(parent='LinearRegression_41f48c4c0ff297f2d893', name='tol', doc='the convergence tolerance for iterative algorithms (>= 0).'): 0.01},\n",
       "  {Param(parent='LinearRegression_41f48c4c0ff297f2d893', name='regParam', doc='regularization parameter (>= 0).'): 0.0,\n",
       "   Param(parent='LinearRegression_41f48c4c0ff297f2d893', name='fitIntercept', doc='whether to fit an intercept term.'): True,\n",
       "   Param(parent='LinearRegression_41f48c4c0ff297f2d893', name='elasticNetParam', doc='the ElasticNet mixing parameter, in range [0, 1]. For alpha = 0, the penalty is an L2 penalty. For alpha = 1, it is an L1 penalty.'): 1.0,\n",
       "   Param(parent='LinearRegression_41f48c4c0ff297f2d893', name='tol', doc='the convergence tolerance for iterative algorithms (>= 0).'): 0.001},\n",
       "  {Param(parent='LinearRegression_41f48c4c0ff297f2d893', name='regParam', doc='regularization parameter (>= 0).'): 0.0,\n",
       "   Param(parent='LinearRegression_41f48c4c0ff297f2d893', name='fitIntercept', doc='whether to fit an intercept term.'): True,\n",
       "   Param(parent='LinearRegression_41f48c4c0ff297f2d893', name='elasticNetParam', doc='the ElasticNet mixing parameter, in range [0, 1]. For alpha = 0, the penalty is an L2 penalty. For alpha = 1, it is an L1 penalty.'): 1.0,\n",
       "   Param(parent='LinearRegression_41f48c4c0ff297f2d893', name='tol', doc='the convergence tolerance for iterative algorithms (>= 0).'): 0.0001},\n",
       "  {Param(parent='LinearRegression_41f48c4c0ff297f2d893', name='regParam', doc='regularization parameter (>= 0).'): 0.0,\n",
       "   Param(parent='LinearRegression_41f48c4c0ff297f2d893', name='fitIntercept', doc='whether to fit an intercept term.'): False,\n",
       "   Param(parent='LinearRegression_41f48c4c0ff297f2d893', name='elasticNetParam', doc='the ElasticNet mixing parameter, in range [0, 1]. For alpha = 0, the penalty is an L2 penalty. For alpha = 1, it is an L1 penalty.'): 0.0,\n",
       "   Param(parent='LinearRegression_41f48c4c0ff297f2d893', name='tol', doc='the convergence tolerance for iterative algorithms (>= 0).'): 0.01},\n",
       "  {Param(parent='LinearRegression_41f48c4c0ff297f2d893', name='regParam', doc='regularization parameter (>= 0).'): 0.0,\n",
       "   Param(parent='LinearRegression_41f48c4c0ff297f2d893', name='fitIntercept', doc='whether to fit an intercept term.'): False,\n",
       "   Param(parent='LinearRegression_41f48c4c0ff297f2d893', name='elasticNetParam', doc='the ElasticNet mixing parameter, in range [0, 1]. For alpha = 0, the penalty is an L2 penalty. For alpha = 1, it is an L1 penalty.'): 0.0,\n",
       "   Param(parent='LinearRegression_41f48c4c0ff297f2d893', name='tol', doc='the convergence tolerance for iterative algorithms (>= 0).'): 0.001},\n",
       "  {Param(parent='LinearRegression_41f48c4c0ff297f2d893', name='regParam', doc='regularization parameter (>= 0).'): 0.0,\n",
       "   Param(parent='LinearRegression_41f48c4c0ff297f2d893', name='fitIntercept', doc='whether to fit an intercept term.'): False,\n",
       "   Param(parent='LinearRegression_41f48c4c0ff297f2d893', name='elasticNetParam', doc='the ElasticNet mixing parameter, in range [0, 1]. For alpha = 0, the penalty is an L2 penalty. For alpha = 1, it is an L1 penalty.'): 0.0,\n",
       "   Param(parent='LinearRegression_41f48c4c0ff297f2d893', name='tol', doc='the convergence tolerance for iterative algorithms (>= 0).'): 0.0001},\n",
       "  {Param(parent='LinearRegression_41f48c4c0ff297f2d893', name='regParam', doc='regularization parameter (>= 0).'): 0.0,\n",
       "   Param(parent='LinearRegression_41f48c4c0ff297f2d893', name='fitIntercept', doc='whether to fit an intercept term.'): False,\n",
       "   Param(parent='LinearRegression_41f48c4c0ff297f2d893', name='elasticNetParam', doc='the ElasticNet mixing parameter, in range [0, 1]. For alpha = 0, the penalty is an L2 penalty. For alpha = 1, it is an L1 penalty.'): 0.25,\n",
       "   Param(parent='LinearRegression_41f48c4c0ff297f2d893', name='tol', doc='the convergence tolerance for iterative algorithms (>= 0).'): 0.01},\n",
       "  {Param(parent='LinearRegression_41f48c4c0ff297f2d893', name='regParam', doc='regularization parameter (>= 0).'): 0.0,\n",
       "   Param(parent='LinearRegression_41f48c4c0ff297f2d893', name='fitIntercept', doc='whether to fit an intercept term.'): False,\n",
       "   Param(parent='LinearRegression_41f48c4c0ff297f2d893', name='elasticNetParam', doc='the ElasticNet mixing parameter, in range [0, 1]. For alpha = 0, the penalty is an L2 penalty. For alpha = 1, it is an L1 penalty.'): 0.25,\n",
       "   Param(parent='LinearRegression_41f48c4c0ff297f2d893', name='tol', doc='the convergence tolerance for iterative algorithms (>= 0).'): 0.001},\n",
       "  {Param(parent='LinearRegression_41f48c4c0ff297f2d893', name='regParam', doc='regularization parameter (>= 0).'): 0.0,\n",
       "   Param(parent='LinearRegression_41f48c4c0ff297f2d893', name='fitIntercept', doc='whether to fit an intercept term.'): False,\n",
       "   Param(parent='LinearRegression_41f48c4c0ff297f2d893', name='elasticNetParam', doc='the ElasticNet mixing parameter, in range [0, 1]. For alpha = 0, the penalty is an L2 penalty. For alpha = 1, it is an L1 penalty.'): 0.25,\n",
       "   Param(parent='LinearRegression_41f48c4c0ff297f2d893', name='tol', doc='the convergence tolerance for iterative algorithms (>= 0).'): 0.0001},\n",
       "  {Param(parent='LinearRegression_41f48c4c0ff297f2d893', name='regParam', doc='regularization parameter (>= 0).'): 0.0,\n",
       "   Param(parent='LinearRegression_41f48c4c0ff297f2d893', name='fitIntercept', doc='whether to fit an intercept term.'): False,\n",
       "   Param(parent='LinearRegression_41f48c4c0ff297f2d893', name='elasticNetParam', doc='the ElasticNet mixing parameter, in range [0, 1]. For alpha = 0, the penalty is an L2 penalty. For alpha = 1, it is an L1 penalty.'): 0.5,\n",
       "   Param(parent='LinearRegression_41f48c4c0ff297f2d893', name='tol', doc='the convergence tolerance for iterative algorithms (>= 0).'): 0.01},\n",
       "  {Param(parent='LinearRegression_41f48c4c0ff297f2d893', name='regParam', doc='regularization parameter (>= 0).'): 0.0,\n",
       "   Param(parent='LinearRegression_41f48c4c0ff297f2d893', name='fitIntercept', doc='whether to fit an intercept term.'): False,\n",
       "   Param(parent='LinearRegression_41f48c4c0ff297f2d893', name='elasticNetParam', doc='the ElasticNet mixing parameter, in range [0, 1]. For alpha = 0, the penalty is an L2 penalty. For alpha = 1, it is an L1 penalty.'): 0.5,\n",
       "   Param(parent='LinearRegression_41f48c4c0ff297f2d893', name='tol', doc='the convergence tolerance for iterative algorithms (>= 0).'): 0.001},\n",
       "  {Param(parent='LinearRegression_41f48c4c0ff297f2d893', name='regParam', doc='regularization parameter (>= 0).'): 0.0,\n",
       "   Param(parent='LinearRegression_41f48c4c0ff297f2d893', name='fitIntercept', doc='whether to fit an intercept term.'): False,\n",
       "   Param(parent='LinearRegression_41f48c4c0ff297f2d893', name='elasticNetParam', doc='the ElasticNet mixing parameter, in range [0, 1]. For alpha = 0, the penalty is an L2 penalty. For alpha = 1, it is an L1 penalty.'): 0.5,\n",
       "   Param(parent='LinearRegression_41f48c4c0ff297f2d893', name='tol', doc='the convergence tolerance for iterative algorithms (>= 0).'): 0.0001},\n",
       "  {Param(parent='LinearRegression_41f48c4c0ff297f2d893', name='regParam', doc='regularization parameter (>= 0).'): 0.0,\n",
       "   Param(parent='LinearRegression_41f48c4c0ff297f2d893', name='fitIntercept', doc='whether to fit an intercept term.'): False,\n",
       "   Param(parent='LinearRegression_41f48c4c0ff297f2d893', name='elasticNetParam', doc='the ElasticNet mixing parameter, in range [0, 1]. For alpha = 0, the penalty is an L2 penalty. For alpha = 1, it is an L1 penalty.'): 0.75,\n",
       "   Param(parent='LinearRegression_41f48c4c0ff297f2d893', name='tol', doc='the convergence tolerance for iterative algorithms (>= 0).'): 0.01},\n",
       "  {Param(parent='LinearRegression_41f48c4c0ff297f2d893', name='regParam', doc='regularization parameter (>= 0).'): 0.0,\n",
       "   Param(parent='LinearRegression_41f48c4c0ff297f2d893', name='fitIntercept', doc='whether to fit an intercept term.'): False,\n",
       "   Param(parent='LinearRegression_41f48c4c0ff297f2d893', name='elasticNetParam', doc='the ElasticNet mixing parameter, in range [0, 1]. For alpha = 0, the penalty is an L2 penalty. For alpha = 1, it is an L1 penalty.'): 0.75,\n",
       "   Param(parent='LinearRegression_41f48c4c0ff297f2d893', name='tol', doc='the convergence tolerance for iterative algorithms (>= 0).'): 0.001},\n",
       "  {Param(parent='LinearRegression_41f48c4c0ff297f2d893', name='regParam', doc='regularization parameter (>= 0).'): 0.0,\n",
       "   Param(parent='LinearRegression_41f48c4c0ff297f2d893', name='fitIntercept', doc='whether to fit an intercept term.'): False,\n",
       "   Param(parent='LinearRegression_41f48c4c0ff297f2d893', name='elasticNetParam', doc='the ElasticNet mixing parameter, in range [0, 1]. For alpha = 0, the penalty is an L2 penalty. For alpha = 1, it is an L1 penalty.'): 0.75,\n",
       "   Param(parent='LinearRegression_41f48c4c0ff297f2d893', name='tol', doc='the convergence tolerance for iterative algorithms (>= 0).'): 0.0001},\n",
       "  {Param(parent='LinearRegression_41f48c4c0ff297f2d893', name='regParam', doc='regularization parameter (>= 0).'): 0.0,\n",
       "   Param(parent='LinearRegression_41f48c4c0ff297f2d893', name='fitIntercept', doc='whether to fit an intercept term.'): False,\n",
       "   Param(parent='LinearRegression_41f48c4c0ff297f2d893', name='elasticNetParam', doc='the ElasticNet mixing parameter, in range [0, 1]. For alpha = 0, the penalty is an L2 penalty. For alpha = 1, it is an L1 penalty.'): 1.0,\n",
       "   Param(parent='LinearRegression_41f48c4c0ff297f2d893', name='tol', doc='the convergence tolerance for iterative algorithms (>= 0).'): 0.01},\n",
       "  {Param(parent='LinearRegression_41f48c4c0ff297f2d893', name='regParam', doc='regularization parameter (>= 0).'): 0.0,\n",
       "   Param(parent='LinearRegression_41f48c4c0ff297f2d893', name='fitIntercept', doc='whether to fit an intercept term.'): False,\n",
       "   Param(parent='LinearRegression_41f48c4c0ff297f2d893', name='elasticNetParam', doc='the ElasticNet mixing parameter, in range [0, 1]. For alpha = 0, the penalty is an L2 penalty. For alpha = 1, it is an L1 penalty.'): 1.0,\n",
       "   Param(parent='LinearRegression_41f48c4c0ff297f2d893', name='tol', doc='the convergence tolerance for iterative algorithms (>= 0).'): 0.001},\n",
       "  {Param(parent='LinearRegression_41f48c4c0ff297f2d893', name='regParam', doc='regularization parameter (>= 0).'): 0.0,\n",
       "   Param(parent='LinearRegression_41f48c4c0ff297f2d893', name='fitIntercept', doc='whether to fit an intercept term.'): False,\n",
       "   Param(parent='LinearRegression_41f48c4c0ff297f2d893', name='elasticNetParam', doc='the ElasticNet mixing parameter, in range [0, 1]. For alpha = 0, the penalty is an L2 penalty. For alpha = 1, it is an L1 penalty.'): 1.0,\n",
       "   Param(parent='LinearRegression_41f48c4c0ff297f2d893', name='tol', doc='the convergence tolerance for iterative algorithms (>= 0).'): 0.0001}],\n",
       " Param(parent='CrossValidatorModel_4bd9b92ba7cdb9137783', name='evaluator', doc='evaluator used to select hyper-parameters that maximize the validator metric'): RegressionEvaluator_4e3d90b3942961e1b178}"
      ]
     },
     "execution_count": 38,
     "metadata": {},
     "output_type": "execute_result"
    }
   ],
   "source": [
    "cvModel.extractParamMap()"
   ]
  },
  {
   "cell_type": "code",
   "execution_count": 40,
   "metadata": {},
   "outputs": [
    {
     "name": "stdout",
     "output_type": "stream",
     "text": [
      "estimator: estimator to be cross-validated (current: Pipeline_4f6a8e4f5a27838fb8f0)\n",
      "estimatorParamMaps: estimator param maps (current: [{Param(parent='LinearRegression_41f48c4c0ff297f2d893', name='regParam', doc='regularization parameter (>= 0).'): 0.1, Param(parent='LinearRegression_41f48c4c0ff297f2d893', name='fitIntercept', doc='whether to fit an intercept term.'): True, Param(parent='LinearRegression_41f48c4c0ff297f2d893', name='elasticNetParam', doc='the ElasticNet mixing parameter, in range [0, 1]. For alpha = 0, the penalty is an L2 penalty. For alpha = 1, it is an L1 penalty.'): 0.0, Param(parent='LinearRegression_41f48c4c0ff297f2d893', name='tol', doc='the convergence tolerance for iterative algorithms (>= 0).'): 0.01}, {Param(parent='LinearRegression_41f48c4c0ff297f2d893', name='regParam', doc='regularization parameter (>= 0).'): 0.1, Param(parent='LinearRegression_41f48c4c0ff297f2d893', name='fitIntercept', doc='whether to fit an intercept term.'): True, Param(parent='LinearRegression_41f48c4c0ff297f2d893', name='elasticNetParam', doc='the ElasticNet mixing parameter, in range [0, 1]. For alpha = 0, the penalty is an L2 penalty. For alpha = 1, it is an L1 penalty.'): 0.0, Param(parent='LinearRegression_41f48c4c0ff297f2d893', name='tol', doc='the convergence tolerance for iterative algorithms (>= 0).'): 0.001}, {Param(parent='LinearRegression_41f48c4c0ff297f2d893', name='regParam', doc='regularization parameter (>= 0).'): 0.1, Param(parent='LinearRegression_41f48c4c0ff297f2d893', name='fitIntercept', doc='whether to fit an intercept term.'): True, Param(parent='LinearRegression_41f48c4c0ff297f2d893', name='elasticNetParam', doc='the ElasticNet mixing parameter, in range [0, 1]. For alpha = 0, the penalty is an L2 penalty. For alpha = 1, it is an L1 penalty.'): 0.0, Param(parent='LinearRegression_41f48c4c0ff297f2d893', name='tol', doc='the convergence tolerance for iterative algorithms (>= 0).'): 0.0001}, {Param(parent='LinearRegression_41f48c4c0ff297f2d893', name='regParam', doc='regularization parameter (>= 0).'): 0.1, Param(parent='LinearRegression_41f48c4c0ff297f2d893', name='fitIntercept', doc='whether to fit an intercept term.'): True, Param(parent='LinearRegression_41f48c4c0ff297f2d893', name='elasticNetParam', doc='the ElasticNet mixing parameter, in range [0, 1]. For alpha = 0, the penalty is an L2 penalty. For alpha = 1, it is an L1 penalty.'): 0.25, Param(parent='LinearRegression_41f48c4c0ff297f2d893', name='tol', doc='the convergence tolerance for iterative algorithms (>= 0).'): 0.01}, {Param(parent='LinearRegression_41f48c4c0ff297f2d893', name='regParam', doc='regularization parameter (>= 0).'): 0.1, Param(parent='LinearRegression_41f48c4c0ff297f2d893', name='fitIntercept', doc='whether to fit an intercept term.'): True, Param(parent='LinearRegression_41f48c4c0ff297f2d893', name='elasticNetParam', doc='the ElasticNet mixing parameter, in range [0, 1]. For alpha = 0, the penalty is an L2 penalty. For alpha = 1, it is an L1 penalty.'): 0.25, Param(parent='LinearRegression_41f48c4c0ff297f2d893', name='tol', doc='the convergence tolerance for iterative algorithms (>= 0).'): 0.001}, {Param(parent='LinearRegression_41f48c4c0ff297f2d893', name='regParam', doc='regularization parameter (>= 0).'): 0.1, Param(parent='LinearRegression_41f48c4c0ff297f2d893', name='fitIntercept', doc='whether to fit an intercept term.'): True, Param(parent='LinearRegression_41f48c4c0ff297f2d893', name='elasticNetParam', doc='the ElasticNet mixing parameter, in range [0, 1]. For alpha = 0, the penalty is an L2 penalty. For alpha = 1, it is an L1 penalty.'): 0.25, Param(parent='LinearRegression_41f48c4c0ff297f2d893', name='tol', doc='the convergence tolerance for iterative algorithms (>= 0).'): 0.0001}, {Param(parent='LinearRegression_41f48c4c0ff297f2d893', name='regParam', doc='regularization parameter (>= 0).'): 0.1, Param(parent='LinearRegression_41f48c4c0ff297f2d893', name='fitIntercept', doc='whether to fit an intercept term.'): True, Param(parent='LinearRegression_41f48c4c0ff297f2d893', name='elasticNetParam', doc='the ElasticNet mixing parameter, in range [0, 1]. For alpha = 0, the penalty is an L2 penalty. For alpha = 1, it is an L1 penalty.'): 0.5, Param(parent='LinearRegression_41f48c4c0ff297f2d893', name='tol', doc='the convergence tolerance for iterative algorithms (>= 0).'): 0.01}, {Param(parent='LinearRegression_41f48c4c0ff297f2d893', name='regParam', doc='regularization parameter (>= 0).'): 0.1, Param(parent='LinearRegression_41f48c4c0ff297f2d893', name='fitIntercept', doc='whether to fit an intercept term.'): True, Param(parent='LinearRegression_41f48c4c0ff297f2d893', name='elasticNetParam', doc='the ElasticNet mixing parameter, in range [0, 1]. For alpha = 0, the penalty is an L2 penalty. For alpha = 1, it is an L1 penalty.'): 0.5, Param(parent='LinearRegression_41f48c4c0ff297f2d893', name='tol', doc='the convergence tolerance for iterative algorithms (>= 0).'): 0.001}, {Param(parent='LinearRegression_41f48c4c0ff297f2d893', name='regParam', doc='regularization parameter (>= 0).'): 0.1, Param(parent='LinearRegression_41f48c4c0ff297f2d893', name='fitIntercept', doc='whether to fit an intercept term.'): True, Param(parent='LinearRegression_41f48c4c0ff297f2d893', name='elasticNetParam', doc='the ElasticNet mixing parameter, in range [0, 1]. For alpha = 0, the penalty is an L2 penalty. For alpha = 1, it is an L1 penalty.'): 0.5, Param(parent='LinearRegression_41f48c4c0ff297f2d893', name='tol', doc='the convergence tolerance for iterative algorithms (>= 0).'): 0.0001}, {Param(parent='LinearRegression_41f48c4c0ff297f2d893', name='regParam', doc='regularization parameter (>= 0).'): 0.1, Param(parent='LinearRegression_41f48c4c0ff297f2d893', name='fitIntercept', doc='whether to fit an intercept term.'): True, Param(parent='LinearRegression_41f48c4c0ff297f2d893', name='elasticNetParam', doc='the ElasticNet mixing parameter, in range [0, 1]. For alpha = 0, the penalty is an L2 penalty. For alpha = 1, it is an L1 penalty.'): 0.75, Param(parent='LinearRegression_41f48c4c0ff297f2d893', name='tol', doc='the convergence tolerance for iterative algorithms (>= 0).'): 0.01}, {Param(parent='LinearRegression_41f48c4c0ff297f2d893', name='regParam', doc='regularization parameter (>= 0).'): 0.1, Param(parent='LinearRegression_41f48c4c0ff297f2d893', name='fitIntercept', doc='whether to fit an intercept term.'): True, Param(parent='LinearRegression_41f48c4c0ff297f2d893', name='elasticNetParam', doc='the ElasticNet mixing parameter, in range [0, 1]. For alpha = 0, the penalty is an L2 penalty. For alpha = 1, it is an L1 penalty.'): 0.75, Param(parent='LinearRegression_41f48c4c0ff297f2d893', name='tol', doc='the convergence tolerance for iterative algorithms (>= 0).'): 0.001}, {Param(parent='LinearRegression_41f48c4c0ff297f2d893', name='regParam', doc='regularization parameter (>= 0).'): 0.1, Param(parent='LinearRegression_41f48c4c0ff297f2d893', name='fitIntercept', doc='whether to fit an intercept term.'): True, Param(parent='LinearRegression_41f48c4c0ff297f2d893', name='elasticNetParam', doc='the ElasticNet mixing parameter, in range [0, 1]. For alpha = 0, the penalty is an L2 penalty. For alpha = 1, it is an L1 penalty.'): 0.75, Param(parent='LinearRegression_41f48c4c0ff297f2d893', name='tol', doc='the convergence tolerance for iterative algorithms (>= 0).'): 0.0001}, {Param(parent='LinearRegression_41f48c4c0ff297f2d893', name='regParam', doc='regularization parameter (>= 0).'): 0.1, Param(parent='LinearRegression_41f48c4c0ff297f2d893', name='fitIntercept', doc='whether to fit an intercept term.'): True, Param(parent='LinearRegression_41f48c4c0ff297f2d893', name='elasticNetParam', doc='the ElasticNet mixing parameter, in range [0, 1]. For alpha = 0, the penalty is an L2 penalty. For alpha = 1, it is an L1 penalty.'): 1.0, Param(parent='LinearRegression_41f48c4c0ff297f2d893', name='tol', doc='the convergence tolerance for iterative algorithms (>= 0).'): 0.01}, {Param(parent='LinearRegression_41f48c4c0ff297f2d893', name='regParam', doc='regularization parameter (>= 0).'): 0.1, Param(parent='LinearRegression_41f48c4c0ff297f2d893', name='fitIntercept', doc='whether to fit an intercept term.'): True, Param(parent='LinearRegression_41f48c4c0ff297f2d893', name='elasticNetParam', doc='the ElasticNet mixing parameter, in range [0, 1]. For alpha = 0, the penalty is an L2 penalty. For alpha = 1, it is an L1 penalty.'): 1.0, Param(parent='LinearRegression_41f48c4c0ff297f2d893', name='tol', doc='the convergence tolerance for iterative algorithms (>= 0).'): 0.001}, {Param(parent='LinearRegression_41f48c4c0ff297f2d893', name='regParam', doc='regularization parameter (>= 0).'): 0.1, Param(parent='LinearRegression_41f48c4c0ff297f2d893', name='fitIntercept', doc='whether to fit an intercept term.'): True, Param(parent='LinearRegression_41f48c4c0ff297f2d893', name='elasticNetParam', doc='the ElasticNet mixing parameter, in range [0, 1]. For alpha = 0, the penalty is an L2 penalty. For alpha = 1, it is an L1 penalty.'): 1.0, Param(parent='LinearRegression_41f48c4c0ff297f2d893', name='tol', doc='the convergence tolerance for iterative algorithms (>= 0).'): 0.0001}, {Param(parent='LinearRegression_41f48c4c0ff297f2d893', name='regParam', doc='regularization parameter (>= 0).'): 0.1, Param(parent='LinearRegression_41f48c4c0ff297f2d893', name='fitIntercept', doc='whether to fit an intercept term.'): False, Param(parent='LinearRegression_41f48c4c0ff297f2d893', name='elasticNetParam', doc='the ElasticNet mixing parameter, in range [0, 1]. For alpha = 0, the penalty is an L2 penalty. For alpha = 1, it is an L1 penalty.'): 0.0, Param(parent='LinearRegression_41f48c4c0ff297f2d893', name='tol', doc='the convergence tolerance for iterative algorithms (>= 0).'): 0.01}, {Param(parent='LinearRegression_41f48c4c0ff297f2d893', name='regParam', doc='regularization parameter (>= 0).'): 0.1, Param(parent='LinearRegression_41f48c4c0ff297f2d893', name='fitIntercept', doc='whether to fit an intercept term.'): False, Param(parent='LinearRegression_41f48c4c0ff297f2d893', name='elasticNetParam', doc='the ElasticNet mixing parameter, in range [0, 1]. For alpha = 0, the penalty is an L2 penalty. For alpha = 1, it is an L1 penalty.'): 0.0, Param(parent='LinearRegression_41f48c4c0ff297f2d893', name='tol', doc='the convergence tolerance for iterative algorithms (>= 0).'): 0.001}, {Param(parent='LinearRegression_41f48c4c0ff297f2d893', name='regParam', doc='regularization parameter (>= 0).'): 0.1, Param(parent='LinearRegression_41f48c4c0ff297f2d893', name='fitIntercept', doc='whether to fit an intercept term.'): False, Param(parent='LinearRegression_41f48c4c0ff297f2d893', name='elasticNetParam', doc='the ElasticNet mixing parameter, in range [0, 1]. For alpha = 0, the penalty is an L2 penalty. For alpha = 1, it is an L1 penalty.'): 0.0, Param(parent='LinearRegression_41f48c4c0ff297f2d893', name='tol', doc='the convergence tolerance for iterative algorithms (>= 0).'): 0.0001}, {Param(parent='LinearRegression_41f48c4c0ff297f2d893', name='regParam', doc='regularization parameter (>= 0).'): 0.1, Param(parent='LinearRegression_41f48c4c0ff297f2d893', name='fitIntercept', doc='whether to fit an intercept term.'): False, Param(parent='LinearRegression_41f48c4c0ff297f2d893', name='elasticNetParam', doc='the ElasticNet mixing parameter, in range [0, 1]. For alpha = 0, the penalty is an L2 penalty. For alpha = 1, it is an L1 penalty.'): 0.25, Param(parent='LinearRegression_41f48c4c0ff297f2d893', name='tol', doc='the convergence tolerance for iterative algorithms (>= 0).'): 0.01}, {Param(parent='LinearRegression_41f48c4c0ff297f2d893', name='regParam', doc='regularization parameter (>= 0).'): 0.1, Param(parent='LinearRegression_41f48c4c0ff297f2d893', name='fitIntercept', doc='whether to fit an intercept term.'): False, Param(parent='LinearRegression_41f48c4c0ff297f2d893', name='elasticNetParam', doc='the ElasticNet mixing parameter, in range [0, 1]. For alpha = 0, the penalty is an L2 penalty. For alpha = 1, it is an L1 penalty.'): 0.25, Param(parent='LinearRegression_41f48c4c0ff297f2d893', name='tol', doc='the convergence tolerance for iterative algorithms (>= 0).'): 0.001}, {Param(parent='LinearRegression_41f48c4c0ff297f2d893', name='regParam', doc='regularization parameter (>= 0).'): 0.1, Param(parent='LinearRegression_41f48c4c0ff297f2d893', name='fitIntercept', doc='whether to fit an intercept term.'): False, Param(parent='LinearRegression_41f48c4c0ff297f2d893', name='elasticNetParam', doc='the ElasticNet mixing parameter, in range [0, 1]. For alpha = 0, the penalty is an L2 penalty. For alpha = 1, it is an L1 penalty.'): 0.25, Param(parent='LinearRegression_41f48c4c0ff297f2d893', name='tol', doc='the convergence tolerance for iterative algorithms (>= 0).'): 0.0001}, {Param(parent='LinearRegression_41f48c4c0ff297f2d893', name='regParam', doc='regularization parameter (>= 0).'): 0.1, Param(parent='LinearRegression_41f48c4c0ff297f2d893', name='fitIntercept', doc='whether to fit an intercept term.'): False, Param(parent='LinearRegression_41f48c4c0ff297f2d893', name='elasticNetParam', doc='the ElasticNet mixing parameter, in range [0, 1]. For alpha = 0, the penalty is an L2 penalty. For alpha = 1, it is an L1 penalty.'): 0.5, Param(parent='LinearRegression_41f48c4c0ff297f2d893', name='tol', doc='the convergence tolerance for iterative algorithms (>= 0).'): 0.01}, {Param(parent='LinearRegression_41f48c4c0ff297f2d893', name='regParam', doc='regularization parameter (>= 0).'): 0.1, Param(parent='LinearRegression_41f48c4c0ff297f2d893', name='fitIntercept', doc='whether to fit an intercept term.'): False, Param(parent='LinearRegression_41f48c4c0ff297f2d893', name='elasticNetParam', doc='the ElasticNet mixing parameter, in range [0, 1]. For alpha = 0, the penalty is an L2 penalty. For alpha = 1, it is an L1 penalty.'): 0.5, Param(parent='LinearRegression_41f48c4c0ff297f2d893', name='tol', doc='the convergence tolerance for iterative algorithms (>= 0).'): 0.001}, {Param(parent='LinearRegression_41f48c4c0ff297f2d893', name='regParam', doc='regularization parameter (>= 0).'): 0.1, Param(parent='LinearRegression_41f48c4c0ff297f2d893', name='fitIntercept', doc='whether to fit an intercept term.'): False, Param(parent='LinearRegression_41f48c4c0ff297f2d893', name='elasticNetParam', doc='the ElasticNet mixing parameter, in range [0, 1]. For alpha = 0, the penalty is an L2 penalty. For alpha = 1, it is an L1 penalty.'): 0.5, Param(parent='LinearRegression_41f48c4c0ff297f2d893', name='tol', doc='the convergence tolerance for iterative algorithms (>= 0).'): 0.0001}, {Param(parent='LinearRegression_41f48c4c0ff297f2d893', name='regParam', doc='regularization parameter (>= 0).'): 0.1, Param(parent='LinearRegression_41f48c4c0ff297f2d893', name='fitIntercept', doc='whether to fit an intercept term.'): False, Param(parent='LinearRegression_41f48c4c0ff297f2d893', name='elasticNetParam', doc='the ElasticNet mixing parameter, in range [0, 1]. For alpha = 0, the penalty is an L2 penalty. For alpha = 1, it is an L1 penalty.'): 0.75, Param(parent='LinearRegression_41f48c4c0ff297f2d893', name='tol', doc='the convergence tolerance for iterative algorithms (>= 0).'): 0.01}, {Param(parent='LinearRegression_41f48c4c0ff297f2d893', name='regParam', doc='regularization parameter (>= 0).'): 0.1, Param(parent='LinearRegression_41f48c4c0ff297f2d893', name='fitIntercept', doc='whether to fit an intercept term.'): False, Param(parent='LinearRegression_41f48c4c0ff297f2d893', name='elasticNetParam', doc='the ElasticNet mixing parameter, in range [0, 1]. For alpha = 0, the penalty is an L2 penalty. For alpha = 1, it is an L1 penalty.'): 0.75, Param(parent='LinearRegression_41f48c4c0ff297f2d893', name='tol', doc='the convergence tolerance for iterative algorithms (>= 0).'): 0.001}, {Param(parent='LinearRegression_41f48c4c0ff297f2d893', name='regParam', doc='regularization parameter (>= 0).'): 0.1, Param(parent='LinearRegression_41f48c4c0ff297f2d893', name='fitIntercept', doc='whether to fit an intercept term.'): False, Param(parent='LinearRegression_41f48c4c0ff297f2d893', name='elasticNetParam', doc='the ElasticNet mixing parameter, in range [0, 1]. For alpha = 0, the penalty is an L2 penalty. For alpha = 1, it is an L1 penalty.'): 0.75, Param(parent='LinearRegression_41f48c4c0ff297f2d893', name='tol', doc='the convergence tolerance for iterative algorithms (>= 0).'): 0.0001}, {Param(parent='LinearRegression_41f48c4c0ff297f2d893', name='regParam', doc='regularization parameter (>= 0).'): 0.1, Param(parent='LinearRegression_41f48c4c0ff297f2d893', name='fitIntercept', doc='whether to fit an intercept term.'): False, Param(parent='LinearRegression_41f48c4c0ff297f2d893', name='elasticNetParam', doc='the ElasticNet mixing parameter, in range [0, 1]. For alpha = 0, the penalty is an L2 penalty. For alpha = 1, it is an L1 penalty.'): 1.0, Param(parent='LinearRegression_41f48c4c0ff297f2d893', name='tol', doc='the convergence tolerance for iterative algorithms (>= 0).'): 0.01}, {Param(parent='LinearRegression_41f48c4c0ff297f2d893', name='regParam', doc='regularization parameter (>= 0).'): 0.1, Param(parent='LinearRegression_41f48c4c0ff297f2d893', name='fitIntercept', doc='whether to fit an intercept term.'): False, Param(parent='LinearRegression_41f48c4c0ff297f2d893', name='elasticNetParam', doc='the ElasticNet mixing parameter, in range [0, 1]. For alpha = 0, the penalty is an L2 penalty. For alpha = 1, it is an L1 penalty.'): 1.0, Param(parent='LinearRegression_41f48c4c0ff297f2d893', name='tol', doc='the convergence tolerance for iterative algorithms (>= 0).'): 0.001}, {Param(parent='LinearRegression_41f48c4c0ff297f2d893', name='regParam', doc='regularization parameter (>= 0).'): 0.1, Param(parent='LinearRegression_41f48c4c0ff297f2d893', name='fitIntercept', doc='whether to fit an intercept term.'): False, Param(parent='LinearRegression_41f48c4c0ff297f2d893', name='elasticNetParam', doc='the ElasticNet mixing parameter, in range [0, 1]. For alpha = 0, the penalty is an L2 penalty. For alpha = 1, it is an L1 penalty.'): 1.0, Param(parent='LinearRegression_41f48c4c0ff297f2d893', name='tol', doc='the convergence tolerance for iterative algorithms (>= 0).'): 0.0001}, {Param(parent='LinearRegression_41f48c4c0ff297f2d893', name='regParam', doc='regularization parameter (>= 0).'): 0.01, Param(parent='LinearRegression_41f48c4c0ff297f2d893', name='fitIntercept', doc='whether to fit an intercept term.'): True, Param(parent='LinearRegression_41f48c4c0ff297f2d893', name='elasticNetParam', doc='the ElasticNet mixing parameter, in range [0, 1]. For alpha = 0, the penalty is an L2 penalty. For alpha = 1, it is an L1 penalty.'): 0.0, Param(parent='LinearRegression_41f48c4c0ff297f2d893', name='tol', doc='the convergence tolerance for iterative algorithms (>= 0).'): 0.01}, {Param(parent='LinearRegression_41f48c4c0ff297f2d893', name='regParam', doc='regularization parameter (>= 0).'): 0.01, Param(parent='LinearRegression_41f48c4c0ff297f2d893', name='fitIntercept', doc='whether to fit an intercept term.'): True, Param(parent='LinearRegression_41f48c4c0ff297f2d893', name='elasticNetParam', doc='the ElasticNet mixing parameter, in range [0, 1]. For alpha = 0, the penalty is an L2 penalty. For alpha = 1, it is an L1 penalty.'): 0.0, Param(parent='LinearRegression_41f48c4c0ff297f2d893', name='tol', doc='the convergence tolerance for iterative algorithms (>= 0).'): 0.001}, {Param(parent='LinearRegression_41f48c4c0ff297f2d893', name='regParam', doc='regularization parameter (>= 0).'): 0.01, Param(parent='LinearRegression_41f48c4c0ff297f2d893', name='fitIntercept', doc='whether to fit an intercept term.'): True, Param(parent='LinearRegression_41f48c4c0ff297f2d893', name='elasticNetParam', doc='the ElasticNet mixing parameter, in range [0, 1]. For alpha = 0, the penalty is an L2 penalty. For alpha = 1, it is an L1 penalty.'): 0.0, Param(parent='LinearRegression_41f48c4c0ff297f2d893', name='tol', doc='the convergence tolerance for iterative algorithms (>= 0).'): 0.0001}, {Param(parent='LinearRegression_41f48c4c0ff297f2d893', name='regParam', doc='regularization parameter (>= 0).'): 0.01, Param(parent='LinearRegression_41f48c4c0ff297f2d893', name='fitIntercept', doc='whether to fit an intercept term.'): True, Param(parent='LinearRegression_41f48c4c0ff297f2d893', name='elasticNetParam', doc='the ElasticNet mixing parameter, in range [0, 1]. For alpha = 0, the penalty is an L2 penalty. For alpha = 1, it is an L1 penalty.'): 0.25, Param(parent='LinearRegression_41f48c4c0ff297f2d893', name='tol', doc='the convergence tolerance for iterative algorithms (>= 0).'): 0.01}, {Param(parent='LinearRegression_41f48c4c0ff297f2d893', name='regParam', doc='regularization parameter (>= 0).'): 0.01, Param(parent='LinearRegression_41f48c4c0ff297f2d893', name='fitIntercept', doc='whether to fit an intercept term.'): True, Param(parent='LinearRegression_41f48c4c0ff297f2d893', name='elasticNetParam', doc='the ElasticNet mixing parameter, in range [0, 1]. For alpha = 0, the penalty is an L2 penalty. For alpha = 1, it is an L1 penalty.'): 0.25, Param(parent='LinearRegression_41f48c4c0ff297f2d893', name='tol', doc='the convergence tolerance for iterative algorithms (>= 0).'): 0.001}, {Param(parent='LinearRegression_41f48c4c0ff297f2d893', name='regParam', doc='regularization parameter (>= 0).'): 0.01, Param(parent='LinearRegression_41f48c4c0ff297f2d893', name='fitIntercept', doc='whether to fit an intercept term.'): True, Param(parent='LinearRegression_41f48c4c0ff297f2d893', name='elasticNetParam', doc='the ElasticNet mixing parameter, in range [0, 1]. For alpha = 0, the penalty is an L2 penalty. For alpha = 1, it is an L1 penalty.'): 0.25, Param(parent='LinearRegression_41f48c4c0ff297f2d893', name='tol', doc='the convergence tolerance for iterative algorithms (>= 0).'): 0.0001}, {Param(parent='LinearRegression_41f48c4c0ff297f2d893', name='regParam', doc='regularization parameter (>= 0).'): 0.01, Param(parent='LinearRegression_41f48c4c0ff297f2d893', name='fitIntercept', doc='whether to fit an intercept term.'): True, Param(parent='LinearRegression_41f48c4c0ff297f2d893', name='elasticNetParam', doc='the ElasticNet mixing parameter, in range [0, 1]. For alpha = 0, the penalty is an L2 penalty. For alpha = 1, it is an L1 penalty.'): 0.5, Param(parent='LinearRegression_41f48c4c0ff297f2d893', name='tol', doc='the convergence tolerance for iterative algorithms (>= 0).'): 0.01}, {Param(parent='LinearRegression_41f48c4c0ff297f2d893', name='regParam', doc='regularization parameter (>= 0).'): 0.01, Param(parent='LinearRegression_41f48c4c0ff297f2d893', name='fitIntercept', doc='whether to fit an intercept term.'): True, Param(parent='LinearRegression_41f48c4c0ff297f2d893', name='elasticNetParam', doc='the ElasticNet mixing parameter, in range [0, 1]. For alpha = 0, the penalty is an L2 penalty. For alpha = 1, it is an L1 penalty.'): 0.5, Param(parent='LinearRegression_41f48c4c0ff297f2d893', name='tol', doc='the convergence tolerance for iterative algorithms (>= 0).'): 0.001}, {Param(parent='LinearRegression_41f48c4c0ff297f2d893', name='regParam', doc='regularization parameter (>= 0).'): 0.01, Param(parent='LinearRegression_41f48c4c0ff297f2d893', name='fitIntercept', doc='whether to fit an intercept term.'): True, Param(parent='LinearRegression_41f48c4c0ff297f2d893', name='elasticNetParam', doc='the ElasticNet mixing parameter, in range [0, 1]. For alpha = 0, the penalty is an L2 penalty. For alpha = 1, it is an L1 penalty.'): 0.5, Param(parent='LinearRegression_41f48c4c0ff297f2d893', name='tol', doc='the convergence tolerance for iterative algorithms (>= 0).'): 0.0001}, {Param(parent='LinearRegression_41f48c4c0ff297f2d893', name='regParam', doc='regularization parameter (>= 0).'): 0.01, Param(parent='LinearRegression_41f48c4c0ff297f2d893', name='fitIntercept', doc='whether to fit an intercept term.'): True, Param(parent='LinearRegression_41f48c4c0ff297f2d893', name='elasticNetParam', doc='the ElasticNet mixing parameter, in range [0, 1]. For alpha = 0, the penalty is an L2 penalty. For alpha = 1, it is an L1 penalty.'): 0.75, Param(parent='LinearRegression_41f48c4c0ff297f2d893', name='tol', doc='the convergence tolerance for iterative algorithms (>= 0).'): 0.01}, {Param(parent='LinearRegression_41f48c4c0ff297f2d893', name='regParam', doc='regularization parameter (>= 0).'): 0.01, Param(parent='LinearRegression_41f48c4c0ff297f2d893', name='fitIntercept', doc='whether to fit an intercept term.'): True, Param(parent='LinearRegression_41f48c4c0ff297f2d893', name='elasticNetParam', doc='the ElasticNet mixing parameter, in range [0, 1]. For alpha = 0, the penalty is an L2 penalty. For alpha = 1, it is an L1 penalty.'): 0.75, Param(parent='LinearRegression_41f48c4c0ff297f2d893', name='tol', doc='the convergence tolerance for iterative algorithms (>= 0).'): 0.001}, {Param(parent='LinearRegression_41f48c4c0ff297f2d893', name='regParam', doc='regularization parameter (>= 0).'): 0.01, Param(parent='LinearRegression_41f48c4c0ff297f2d893', name='fitIntercept', doc='whether to fit an intercept term.'): True, Param(parent='LinearRegression_41f48c4c0ff297f2d893', name='elasticNetParam', doc='the ElasticNet mixing parameter, in range [0, 1]. For alpha = 0, the penalty is an L2 penalty. For alpha = 1, it is an L1 penalty.'): 0.75, Param(parent='LinearRegression_41f48c4c0ff297f2d893', name='tol', doc='the convergence tolerance for iterative algorithms (>= 0).'): 0.0001}, {Param(parent='LinearRegression_41f48c4c0ff297f2d893', name='regParam', doc='regularization parameter (>= 0).'): 0.01, Param(parent='LinearRegression_41f48c4c0ff297f2d893', name='fitIntercept', doc='whether to fit an intercept term.'): True, Param(parent='LinearRegression_41f48c4c0ff297f2d893', name='elasticNetParam', doc='the ElasticNet mixing parameter, in range [0, 1]. For alpha = 0, the penalty is an L2 penalty. For alpha = 1, it is an L1 penalty.'): 1.0, Param(parent='LinearRegression_41f48c4c0ff297f2d893', name='tol', doc='the convergence tolerance for iterative algorithms (>= 0).'): 0.01}, {Param(parent='LinearRegression_41f48c4c0ff297f2d893', name='regParam', doc='regularization parameter (>= 0).'): 0.01, Param(parent='LinearRegression_41f48c4c0ff297f2d893', name='fitIntercept', doc='whether to fit an intercept term.'): True, Param(parent='LinearRegression_41f48c4c0ff297f2d893', name='elasticNetParam', doc='the ElasticNet mixing parameter, in range [0, 1]. For alpha = 0, the penalty is an L2 penalty. For alpha = 1, it is an L1 penalty.'): 1.0, Param(parent='LinearRegression_41f48c4c0ff297f2d893', name='tol', doc='the convergence tolerance for iterative algorithms (>= 0).'): 0.001}, {Param(parent='LinearRegression_41f48c4c0ff297f2d893', name='regParam', doc='regularization parameter (>= 0).'): 0.01, Param(parent='LinearRegression_41f48c4c0ff297f2d893', name='fitIntercept', doc='whether to fit an intercept term.'): True, Param(parent='LinearRegression_41f48c4c0ff297f2d893', name='elasticNetParam', doc='the ElasticNet mixing parameter, in range [0, 1]. For alpha = 0, the penalty is an L2 penalty. For alpha = 1, it is an L1 penalty.'): 1.0, Param(parent='LinearRegression_41f48c4c0ff297f2d893', name='tol', doc='the convergence tolerance for iterative algorithms (>= 0).'): 0.0001}, {Param(parent='LinearRegression_41f48c4c0ff297f2d893', name='regParam', doc='regularization parameter (>= 0).'): 0.01, Param(parent='LinearRegression_41f48c4c0ff297f2d893', name='fitIntercept', doc='whether to fit an intercept term.'): False, Param(parent='LinearRegression_41f48c4c0ff297f2d893', name='elasticNetParam', doc='the ElasticNet mixing parameter, in range [0, 1]. For alpha = 0, the penalty is an L2 penalty. For alpha = 1, it is an L1 penalty.'): 0.0, Param(parent='LinearRegression_41f48c4c0ff297f2d893', name='tol', doc='the convergence tolerance for iterative algorithms (>= 0).'): 0.01}, {Param(parent='LinearRegression_41f48c4c0ff297f2d893', name='regParam', doc='regularization parameter (>= 0).'): 0.01, Param(parent='LinearRegression_41f48c4c0ff297f2d893', name='fitIntercept', doc='whether to fit an intercept term.'): False, Param(parent='LinearRegression_41f48c4c0ff297f2d893', name='elasticNetParam', doc='the ElasticNet mixing parameter, in range [0, 1]. For alpha = 0, the penalty is an L2 penalty. For alpha = 1, it is an L1 penalty.'): 0.0, Param(parent='LinearRegression_41f48c4c0ff297f2d893', name='tol', doc='the convergence tolerance for iterative algorithms (>= 0).'): 0.001}, {Param(parent='LinearRegression_41f48c4c0ff297f2d893', name='regParam', doc='regularization parameter (>= 0).'): 0.01, Param(parent='LinearRegression_41f48c4c0ff297f2d893', name='fitIntercept', doc='whether to fit an intercept term.'): False, Param(parent='LinearRegression_41f48c4c0ff297f2d893', name='elasticNetParam', doc='the ElasticNet mixing parameter, in range [0, 1]. For alpha = 0, the penalty is an L2 penalty. For alpha = 1, it is an L1 penalty.'): 0.0, Param(parent='LinearRegression_41f48c4c0ff297f2d893', name='tol', doc='the convergence tolerance for iterative algorithms (>= 0).'): 0.0001}, {Param(parent='LinearRegression_41f48c4c0ff297f2d893', name='regParam', doc='regularization parameter (>= 0).'): 0.01, Param(parent='LinearRegression_41f48c4c0ff297f2d893', name='fitIntercept', doc='whether to fit an intercept term.'): False, Param(parent='LinearRegression_41f48c4c0ff297f2d893', name='elasticNetParam', doc='the ElasticNet mixing parameter, in range [0, 1]. For alpha = 0, the penalty is an L2 penalty. For alpha = 1, it is an L1 penalty.'): 0.25, Param(parent='LinearRegression_41f48c4c0ff297f2d893', name='tol', doc='the convergence tolerance for iterative algorithms (>= 0).'): 0.01}, {Param(parent='LinearRegression_41f48c4c0ff297f2d893', name='regParam', doc='regularization parameter (>= 0).'): 0.01, Param(parent='LinearRegression_41f48c4c0ff297f2d893', name='fitIntercept', doc='whether to fit an intercept term.'): False, Param(parent='LinearRegression_41f48c4c0ff297f2d893', name='elasticNetParam', doc='the ElasticNet mixing parameter, in range [0, 1]. For alpha = 0, the penalty is an L2 penalty. For alpha = 1, it is an L1 penalty.'): 0.25, Param(parent='LinearRegression_41f48c4c0ff297f2d893', name='tol', doc='the convergence tolerance for iterative algorithms (>= 0).'): 0.001}, {Param(parent='LinearRegression_41f48c4c0ff297f2d893', name='regParam', doc='regularization parameter (>= 0).'): 0.01, Param(parent='LinearRegression_41f48c4c0ff297f2d893', name='fitIntercept', doc='whether to fit an intercept term.'): False, Param(parent='LinearRegression_41f48c4c0ff297f2d893', name='elasticNetParam', doc='the ElasticNet mixing parameter, in range [0, 1]. For alpha = 0, the penalty is an L2 penalty. For alpha = 1, it is an L1 penalty.'): 0.25, Param(parent='LinearRegression_41f48c4c0ff297f2d893', name='tol', doc='the convergence tolerance for iterative algorithms (>= 0).'): 0.0001}, {Param(parent='LinearRegression_41f48c4c0ff297f2d893', name='regParam', doc='regularization parameter (>= 0).'): 0.01, Param(parent='LinearRegression_41f48c4c0ff297f2d893', name='fitIntercept', doc='whether to fit an intercept term.'): False, Param(parent='LinearRegression_41f48c4c0ff297f2d893', name='elasticNetParam', doc='the ElasticNet mixing parameter, in range [0, 1]. For alpha = 0, the penalty is an L2 penalty. For alpha = 1, it is an L1 penalty.'): 0.5, Param(parent='LinearRegression_41f48c4c0ff297f2d893', name='tol', doc='the convergence tolerance for iterative algorithms (>= 0).'): 0.01}, {Param(parent='LinearRegression_41f48c4c0ff297f2d893', name='regParam', doc='regularization parameter (>= 0).'): 0.01, Param(parent='LinearRegression_41f48c4c0ff297f2d893', name='fitIntercept', doc='whether to fit an intercept term.'): False, Param(parent='LinearRegression_41f48c4c0ff297f2d893', name='elasticNetParam', doc='the ElasticNet mixing parameter, in range [0, 1]. For alpha = 0, the penalty is an L2 penalty. For alpha = 1, it is an L1 penalty.'): 0.5, Param(parent='LinearRegression_41f48c4c0ff297f2d893', name='tol', doc='the convergence tolerance for iterative algorithms (>= 0).'): 0.001}, {Param(parent='LinearRegression_41f48c4c0ff297f2d893', name='regParam', doc='regularization parameter (>= 0).'): 0.01, Param(parent='LinearRegression_41f48c4c0ff297f2d893', name='fitIntercept', doc='whether to fit an intercept term.'): False, Param(parent='LinearRegression_41f48c4c0ff297f2d893', name='elasticNetParam', doc='the ElasticNet mixing parameter, in range [0, 1]. For alpha = 0, the penalty is an L2 penalty. For alpha = 1, it is an L1 penalty.'): 0.5, Param(parent='LinearRegression_41f48c4c0ff297f2d893', name='tol', doc='the convergence tolerance for iterative algorithms (>= 0).'): 0.0001}, {Param(parent='LinearRegression_41f48c4c0ff297f2d893', name='regParam', doc='regularization parameter (>= 0).'): 0.01, Param(parent='LinearRegression_41f48c4c0ff297f2d893', name='fitIntercept', doc='whether to fit an intercept term.'): False, Param(parent='LinearRegression_41f48c4c0ff297f2d893', name='elasticNetParam', doc='the ElasticNet mixing parameter, in range [0, 1]. For alpha = 0, the penalty is an L2 penalty. For alpha = 1, it is an L1 penalty.'): 0.75, Param(parent='LinearRegression_41f48c4c0ff297f2d893', name='tol', doc='the convergence tolerance for iterative algorithms (>= 0).'): 0.01}, {Param(parent='LinearRegression_41f48c4c0ff297f2d893', name='regParam', doc='regularization parameter (>= 0).'): 0.01, Param(parent='LinearRegression_41f48c4c0ff297f2d893', name='fitIntercept', doc='whether to fit an intercept term.'): False, Param(parent='LinearRegression_41f48c4c0ff297f2d893', name='elasticNetParam', doc='the ElasticNet mixing parameter, in range [0, 1]. For alpha = 0, the penalty is an L2 penalty. For alpha = 1, it is an L1 penalty.'): 0.75, Param(parent='LinearRegression_41f48c4c0ff297f2d893', name='tol', doc='the convergence tolerance for iterative algorithms (>= 0).'): 0.001}, {Param(parent='LinearRegression_41f48c4c0ff297f2d893', name='regParam', doc='regularization parameter (>= 0).'): 0.01, Param(parent='LinearRegression_41f48c4c0ff297f2d893', name='fitIntercept', doc='whether to fit an intercept term.'): False, Param(parent='LinearRegression_41f48c4c0ff297f2d893', name='elasticNetParam', doc='the ElasticNet mixing parameter, in range [0, 1]. For alpha = 0, the penalty is an L2 penalty. For alpha = 1, it is an L1 penalty.'): 0.75, Param(parent='LinearRegression_41f48c4c0ff297f2d893', name='tol', doc='the convergence tolerance for iterative algorithms (>= 0).'): 0.0001}, {Param(parent='LinearRegression_41f48c4c0ff297f2d893', name='regParam', doc='regularization parameter (>= 0).'): 0.01, Param(parent='LinearRegression_41f48c4c0ff297f2d893', name='fitIntercept', doc='whether to fit an intercept term.'): False, Param(parent='LinearRegression_41f48c4c0ff297f2d893', name='elasticNetParam', doc='the ElasticNet mixing parameter, in range [0, 1]. For alpha = 0, the penalty is an L2 penalty. For alpha = 1, it is an L1 penalty.'): 1.0, Param(parent='LinearRegression_41f48c4c0ff297f2d893', name='tol', doc='the convergence tolerance for iterative algorithms (>= 0).'): 0.01}, {Param(parent='LinearRegression_41f48c4c0ff297f2d893', name='regParam', doc='regularization parameter (>= 0).'): 0.01, Param(parent='LinearRegression_41f48c4c0ff297f2d893', name='fitIntercept', doc='whether to fit an intercept term.'): False, Param(parent='LinearRegression_41f48c4c0ff297f2d893', name='elasticNetParam', doc='the ElasticNet mixing parameter, in range [0, 1]. For alpha = 0, the penalty is an L2 penalty. For alpha = 1, it is an L1 penalty.'): 1.0, Param(parent='LinearRegression_41f48c4c0ff297f2d893', name='tol', doc='the convergence tolerance for iterative algorithms (>= 0).'): 0.001}, {Param(parent='LinearRegression_41f48c4c0ff297f2d893', name='regParam', doc='regularization parameter (>= 0).'): 0.01, Param(parent='LinearRegression_41f48c4c0ff297f2d893', name='fitIntercept', doc='whether to fit an intercept term.'): False, Param(parent='LinearRegression_41f48c4c0ff297f2d893', name='elasticNetParam', doc='the ElasticNet mixing parameter, in range [0, 1]. For alpha = 0, the penalty is an L2 penalty. For alpha = 1, it is an L1 penalty.'): 1.0, Param(parent='LinearRegression_41f48c4c0ff297f2d893', name='tol', doc='the convergence tolerance for iterative algorithms (>= 0).'): 0.0001}, {Param(parent='LinearRegression_41f48c4c0ff297f2d893', name='regParam', doc='regularization parameter (>= 0).'): 0.0, Param(parent='LinearRegression_41f48c4c0ff297f2d893', name='fitIntercept', doc='whether to fit an intercept term.'): True, Param(parent='LinearRegression_41f48c4c0ff297f2d893', name='elasticNetParam', doc='the ElasticNet mixing parameter, in range [0, 1]. For alpha = 0, the penalty is an L2 penalty. For alpha = 1, it is an L1 penalty.'): 0.0, Param(parent='LinearRegression_41f48c4c0ff297f2d893', name='tol', doc='the convergence tolerance for iterative algorithms (>= 0).'): 0.01}, {Param(parent='LinearRegression_41f48c4c0ff297f2d893', name='regParam', doc='regularization parameter (>= 0).'): 0.0, Param(parent='LinearRegression_41f48c4c0ff297f2d893', name='fitIntercept', doc='whether to fit an intercept term.'): True, Param(parent='LinearRegression_41f48c4c0ff297f2d893', name='elasticNetParam', doc='the ElasticNet mixing parameter, in range [0, 1]. For alpha = 0, the penalty is an L2 penalty. For alpha = 1, it is an L1 penalty.'): 0.0, Param(parent='LinearRegression_41f48c4c0ff297f2d893', name='tol', doc='the convergence tolerance for iterative algorithms (>= 0).'): 0.001}, {Param(parent='LinearRegression_41f48c4c0ff297f2d893', name='regParam', doc='regularization parameter (>= 0).'): 0.0, Param(parent='LinearRegression_41f48c4c0ff297f2d893', name='fitIntercept', doc='whether to fit an intercept term.'): True, Param(parent='LinearRegression_41f48c4c0ff297f2d893', name='elasticNetParam', doc='the ElasticNet mixing parameter, in range [0, 1]. For alpha = 0, the penalty is an L2 penalty. For alpha = 1, it is an L1 penalty.'): 0.0, Param(parent='LinearRegression_41f48c4c0ff297f2d893', name='tol', doc='the convergence tolerance for iterative algorithms (>= 0).'): 0.0001}, {Param(parent='LinearRegression_41f48c4c0ff297f2d893', name='regParam', doc='regularization parameter (>= 0).'): 0.0, Param(parent='LinearRegression_41f48c4c0ff297f2d893', name='fitIntercept', doc='whether to fit an intercept term.'): True, Param(parent='LinearRegression_41f48c4c0ff297f2d893', name='elasticNetParam', doc='the ElasticNet mixing parameter, in range [0, 1]. For alpha = 0, the penalty is an L2 penalty. For alpha = 1, it is an L1 penalty.'): 0.25, Param(parent='LinearRegression_41f48c4c0ff297f2d893', name='tol', doc='the convergence tolerance for iterative algorithms (>= 0).'): 0.01}, {Param(parent='LinearRegression_41f48c4c0ff297f2d893', name='regParam', doc='regularization parameter (>= 0).'): 0.0, Param(parent='LinearRegression_41f48c4c0ff297f2d893', name='fitIntercept', doc='whether to fit an intercept term.'): True, Param(parent='LinearRegression_41f48c4c0ff297f2d893', name='elasticNetParam', doc='the ElasticNet mixing parameter, in range [0, 1]. For alpha = 0, the penalty is an L2 penalty. For alpha = 1, it is an L1 penalty.'): 0.25, Param(parent='LinearRegression_41f48c4c0ff297f2d893', name='tol', doc='the convergence tolerance for iterative algorithms (>= 0).'): 0.001}, {Param(parent='LinearRegression_41f48c4c0ff297f2d893', name='regParam', doc='regularization parameter (>= 0).'): 0.0, Param(parent='LinearRegression_41f48c4c0ff297f2d893', name='fitIntercept', doc='whether to fit an intercept term.'): True, Param(parent='LinearRegression_41f48c4c0ff297f2d893', name='elasticNetParam', doc='the ElasticNet mixing parameter, in range [0, 1]. For alpha = 0, the penalty is an L2 penalty. For alpha = 1, it is an L1 penalty.'): 0.25, Param(parent='LinearRegression_41f48c4c0ff297f2d893', name='tol', doc='the convergence tolerance for iterative algorithms (>= 0).'): 0.0001}, {Param(parent='LinearRegression_41f48c4c0ff297f2d893', name='regParam', doc='regularization parameter (>= 0).'): 0.0, Param(parent='LinearRegression_41f48c4c0ff297f2d893', name='fitIntercept', doc='whether to fit an intercept term.'): True, Param(parent='LinearRegression_41f48c4c0ff297f2d893', name='elasticNetParam', doc='the ElasticNet mixing parameter, in range [0, 1]. For alpha = 0, the penalty is an L2 penalty. For alpha = 1, it is an L1 penalty.'): 0.5, Param(parent='LinearRegression_41f48c4c0ff297f2d893', name='tol', doc='the convergence tolerance for iterative algorithms (>= 0).'): 0.01}, {Param(parent='LinearRegression_41f48c4c0ff297f2d893', name='regParam', doc='regularization parameter (>= 0).'): 0.0, Param(parent='LinearRegression_41f48c4c0ff297f2d893', name='fitIntercept', doc='whether to fit an intercept term.'): True, Param(parent='LinearRegression_41f48c4c0ff297f2d893', name='elasticNetParam', doc='the ElasticNet mixing parameter, in range [0, 1]. For alpha = 0, the penalty is an L2 penalty. For alpha = 1, it is an L1 penalty.'): 0.5, Param(parent='LinearRegression_41f48c4c0ff297f2d893', name='tol', doc='the convergence tolerance for iterative algorithms (>= 0).'): 0.001}, {Param(parent='LinearRegression_41f48c4c0ff297f2d893', name='regParam', doc='regularization parameter (>= 0).'): 0.0, Param(parent='LinearRegression_41f48c4c0ff297f2d893', name='fitIntercept', doc='whether to fit an intercept term.'): True, Param(parent='LinearRegression_41f48c4c0ff297f2d893', name='elasticNetParam', doc='the ElasticNet mixing parameter, in range [0, 1]. For alpha = 0, the penalty is an L2 penalty. For alpha = 1, it is an L1 penalty.'): 0.5, Param(parent='LinearRegression_41f48c4c0ff297f2d893', name='tol', doc='the convergence tolerance for iterative algorithms (>= 0).'): 0.0001}, {Param(parent='LinearRegression_41f48c4c0ff297f2d893', name='regParam', doc='regularization parameter (>= 0).'): 0.0, Param(parent='LinearRegression_41f48c4c0ff297f2d893', name='fitIntercept', doc='whether to fit an intercept term.'): True, Param(parent='LinearRegression_41f48c4c0ff297f2d893', name='elasticNetParam', doc='the ElasticNet mixing parameter, in range [0, 1]. For alpha = 0, the penalty is an L2 penalty. For alpha = 1, it is an L1 penalty.'): 0.75, Param(parent='LinearRegression_41f48c4c0ff297f2d893', name='tol', doc='the convergence tolerance for iterative algorithms (>= 0).'): 0.01}, {Param(parent='LinearRegression_41f48c4c0ff297f2d893', name='regParam', doc='regularization parameter (>= 0).'): 0.0, Param(parent='LinearRegression_41f48c4c0ff297f2d893', name='fitIntercept', doc='whether to fit an intercept term.'): True, Param(parent='LinearRegression_41f48c4c0ff297f2d893', name='elasticNetParam', doc='the ElasticNet mixing parameter, in range [0, 1]. For alpha = 0, the penalty is an L2 penalty. For alpha = 1, it is an L1 penalty.'): 0.75, Param(parent='LinearRegression_41f48c4c0ff297f2d893', name='tol', doc='the convergence tolerance for iterative algorithms (>= 0).'): 0.001}, {Param(parent='LinearRegression_41f48c4c0ff297f2d893', name='regParam', doc='regularization parameter (>= 0).'): 0.0, Param(parent='LinearRegression_41f48c4c0ff297f2d893', name='fitIntercept', doc='whether to fit an intercept term.'): True, Param(parent='LinearRegression_41f48c4c0ff297f2d893', name='elasticNetParam', doc='the ElasticNet mixing parameter, in range [0, 1]. For alpha = 0, the penalty is an L2 penalty. For alpha = 1, it is an L1 penalty.'): 0.75, Param(parent='LinearRegression_41f48c4c0ff297f2d893', name='tol', doc='the convergence tolerance for iterative algorithms (>= 0).'): 0.0001}, {Param(parent='LinearRegression_41f48c4c0ff297f2d893', name='regParam', doc='regularization parameter (>= 0).'): 0.0, Param(parent='LinearRegression_41f48c4c0ff297f2d893', name='fitIntercept', doc='whether to fit an intercept term.'): True, Param(parent='LinearRegression_41f48c4c0ff297f2d893', name='elasticNetParam', doc='the ElasticNet mixing parameter, in range [0, 1]. For alpha = 0, the penalty is an L2 penalty. For alpha = 1, it is an L1 penalty.'): 1.0, Param(parent='LinearRegression_41f48c4c0ff297f2d893', name='tol', doc='the convergence tolerance for iterative algorithms (>= 0).'): 0.01}, {Param(parent='LinearRegression_41f48c4c0ff297f2d893', name='regParam', doc='regularization parameter (>= 0).'): 0.0, Param(parent='LinearRegression_41f48c4c0ff297f2d893', name='fitIntercept', doc='whether to fit an intercept term.'): True, Param(parent='LinearRegression_41f48c4c0ff297f2d893', name='elasticNetParam', doc='the ElasticNet mixing parameter, in range [0, 1]. For alpha = 0, the penalty is an L2 penalty. For alpha = 1, it is an L1 penalty.'): 1.0, Param(parent='LinearRegression_41f48c4c0ff297f2d893', name='tol', doc='the convergence tolerance for iterative algorithms (>= 0).'): 0.001}, {Param(parent='LinearRegression_41f48c4c0ff297f2d893', name='regParam', doc='regularization parameter (>= 0).'): 0.0, Param(parent='LinearRegression_41f48c4c0ff297f2d893', name='fitIntercept', doc='whether to fit an intercept term.'): True, Param(parent='LinearRegression_41f48c4c0ff297f2d893', name='elasticNetParam', doc='the ElasticNet mixing parameter, in range [0, 1]. For alpha = 0, the penalty is an L2 penalty. For alpha = 1, it is an L1 penalty.'): 1.0, Param(parent='LinearRegression_41f48c4c0ff297f2d893', name='tol', doc='the convergence tolerance for iterative algorithms (>= 0).'): 0.0001}, {Param(parent='LinearRegression_41f48c4c0ff297f2d893', name='regParam', doc='regularization parameter (>= 0).'): 0.0, Param(parent='LinearRegression_41f48c4c0ff297f2d893', name='fitIntercept', doc='whether to fit an intercept term.'): False, Param(parent='LinearRegression_41f48c4c0ff297f2d893', name='elasticNetParam', doc='the ElasticNet mixing parameter, in range [0, 1]. For alpha = 0, the penalty is an L2 penalty. For alpha = 1, it is an L1 penalty.'): 0.0, Param(parent='LinearRegression_41f48c4c0ff297f2d893', name='tol', doc='the convergence tolerance for iterative algorithms (>= 0).'): 0.01}, {Param(parent='LinearRegression_41f48c4c0ff297f2d893', name='regParam', doc='regularization parameter (>= 0).'): 0.0, Param(parent='LinearRegression_41f48c4c0ff297f2d893', name='fitIntercept', doc='whether to fit an intercept term.'): False, Param(parent='LinearRegression_41f48c4c0ff297f2d893', name='elasticNetParam', doc='the ElasticNet mixing parameter, in range [0, 1]. For alpha = 0, the penalty is an L2 penalty. For alpha = 1, it is an L1 penalty.'): 0.0, Param(parent='LinearRegression_41f48c4c0ff297f2d893', name='tol', doc='the convergence tolerance for iterative algorithms (>= 0).'): 0.001}, {Param(parent='LinearRegression_41f48c4c0ff297f2d893', name='regParam', doc='regularization parameter (>= 0).'): 0.0, Param(parent='LinearRegression_41f48c4c0ff297f2d893', name='fitIntercept', doc='whether to fit an intercept term.'): False, Param(parent='LinearRegression_41f48c4c0ff297f2d893', name='elasticNetParam', doc='the ElasticNet mixing parameter, in range [0, 1]. For alpha = 0, the penalty is an L2 penalty. For alpha = 1, it is an L1 penalty.'): 0.0, Param(parent='LinearRegression_41f48c4c0ff297f2d893', name='tol', doc='the convergence tolerance for iterative algorithms (>= 0).'): 0.0001}, {Param(parent='LinearRegression_41f48c4c0ff297f2d893', name='regParam', doc='regularization parameter (>= 0).'): 0.0, Param(parent='LinearRegression_41f48c4c0ff297f2d893', name='fitIntercept', doc='whether to fit an intercept term.'): False, Param(parent='LinearRegression_41f48c4c0ff297f2d893', name='elasticNetParam', doc='the ElasticNet mixing parameter, in range [0, 1]. For alpha = 0, the penalty is an L2 penalty. For alpha = 1, it is an L1 penalty.'): 0.25, Param(parent='LinearRegression_41f48c4c0ff297f2d893', name='tol', doc='the convergence tolerance for iterative algorithms (>= 0).'): 0.01}, {Param(parent='LinearRegression_41f48c4c0ff297f2d893', name='regParam', doc='regularization parameter (>= 0).'): 0.0, Param(parent='LinearRegression_41f48c4c0ff297f2d893', name='fitIntercept', doc='whether to fit an intercept term.'): False, Param(parent='LinearRegression_41f48c4c0ff297f2d893', name='elasticNetParam', doc='the ElasticNet mixing parameter, in range [0, 1]. For alpha = 0, the penalty is an L2 penalty. For alpha = 1, it is an L1 penalty.'): 0.25, Param(parent='LinearRegression_41f48c4c0ff297f2d893', name='tol', doc='the convergence tolerance for iterative algorithms (>= 0).'): 0.001}, {Param(parent='LinearRegression_41f48c4c0ff297f2d893', name='regParam', doc='regularization parameter (>= 0).'): 0.0, Param(parent='LinearRegression_41f48c4c0ff297f2d893', name='fitIntercept', doc='whether to fit an intercept term.'): False, Param(parent='LinearRegression_41f48c4c0ff297f2d893', name='elasticNetParam', doc='the ElasticNet mixing parameter, in range [0, 1]. For alpha = 0, the penalty is an L2 penalty. For alpha = 1, it is an L1 penalty.'): 0.25, Param(parent='LinearRegression_41f48c4c0ff297f2d893', name='tol', doc='the convergence tolerance for iterative algorithms (>= 0).'): 0.0001}, {Param(parent='LinearRegression_41f48c4c0ff297f2d893', name='regParam', doc='regularization parameter (>= 0).'): 0.0, Param(parent='LinearRegression_41f48c4c0ff297f2d893', name='fitIntercept', doc='whether to fit an intercept term.'): False, Param(parent='LinearRegression_41f48c4c0ff297f2d893', name='elasticNetParam', doc='the ElasticNet mixing parameter, in range [0, 1]. For alpha = 0, the penalty is an L2 penalty. For alpha = 1, it is an L1 penalty.'): 0.5, Param(parent='LinearRegression_41f48c4c0ff297f2d893', name='tol', doc='the convergence tolerance for iterative algorithms (>= 0).'): 0.01}, {Param(parent='LinearRegression_41f48c4c0ff297f2d893', name='regParam', doc='regularization parameter (>= 0).'): 0.0, Param(parent='LinearRegression_41f48c4c0ff297f2d893', name='fitIntercept', doc='whether to fit an intercept term.'): False, Param(parent='LinearRegression_41f48c4c0ff297f2d893', name='elasticNetParam', doc='the ElasticNet mixing parameter, in range [0, 1]. For alpha = 0, the penalty is an L2 penalty. For alpha = 1, it is an L1 penalty.'): 0.5, Param(parent='LinearRegression_41f48c4c0ff297f2d893', name='tol', doc='the convergence tolerance for iterative algorithms (>= 0).'): 0.001}, {Param(parent='LinearRegression_41f48c4c0ff297f2d893', name='regParam', doc='regularization parameter (>= 0).'): 0.0, Param(parent='LinearRegression_41f48c4c0ff297f2d893', name='fitIntercept', doc='whether to fit an intercept term.'): False, Param(parent='LinearRegression_41f48c4c0ff297f2d893', name='elasticNetParam', doc='the ElasticNet mixing parameter, in range [0, 1]. For alpha = 0, the penalty is an L2 penalty. For alpha = 1, it is an L1 penalty.'): 0.5, Param(parent='LinearRegression_41f48c4c0ff297f2d893', name='tol', doc='the convergence tolerance for iterative algorithms (>= 0).'): 0.0001}, {Param(parent='LinearRegression_41f48c4c0ff297f2d893', name='regParam', doc='regularization parameter (>= 0).'): 0.0, Param(parent='LinearRegression_41f48c4c0ff297f2d893', name='fitIntercept', doc='whether to fit an intercept term.'): False, Param(parent='LinearRegression_41f48c4c0ff297f2d893', name='elasticNetParam', doc='the ElasticNet mixing parameter, in range [0, 1]. For alpha = 0, the penalty is an L2 penalty. For alpha = 1, it is an L1 penalty.'): 0.75, Param(parent='LinearRegression_41f48c4c0ff297f2d893', name='tol', doc='the convergence tolerance for iterative algorithms (>= 0).'): 0.01}, {Param(parent='LinearRegression_41f48c4c0ff297f2d893', name='regParam', doc='regularization parameter (>= 0).'): 0.0, Param(parent='LinearRegression_41f48c4c0ff297f2d893', name='fitIntercept', doc='whether to fit an intercept term.'): False, Param(parent='LinearRegression_41f48c4c0ff297f2d893', name='elasticNetParam', doc='the ElasticNet mixing parameter, in range [0, 1]. For alpha = 0, the penalty is an L2 penalty. For alpha = 1, it is an L1 penalty.'): 0.75, Param(parent='LinearRegression_41f48c4c0ff297f2d893', name='tol', doc='the convergence tolerance for iterative algorithms (>= 0).'): 0.001}, {Param(parent='LinearRegression_41f48c4c0ff297f2d893', name='regParam', doc='regularization parameter (>= 0).'): 0.0, Param(parent='LinearRegression_41f48c4c0ff297f2d893', name='fitIntercept', doc='whether to fit an intercept term.'): False, Param(parent='LinearRegression_41f48c4c0ff297f2d893', name='elasticNetParam', doc='the ElasticNet mixing parameter, in range [0, 1]. For alpha = 0, the penalty is an L2 penalty. For alpha = 1, it is an L1 penalty.'): 0.75, Param(parent='LinearRegression_41f48c4c0ff297f2d893', name='tol', doc='the convergence tolerance for iterative algorithms (>= 0).'): 0.0001}, {Param(parent='LinearRegression_41f48c4c0ff297f2d893', name='regParam', doc='regularization parameter (>= 0).'): 0.0, Param(parent='LinearRegression_41f48c4c0ff297f2d893', name='fitIntercept', doc='whether to fit an intercept term.'): False, Param(parent='LinearRegression_41f48c4c0ff297f2d893', name='elasticNetParam', doc='the ElasticNet mixing parameter, in range [0, 1]. For alpha = 0, the penalty is an L2 penalty. For alpha = 1, it is an L1 penalty.'): 1.0, Param(parent='LinearRegression_41f48c4c0ff297f2d893', name='tol', doc='the convergence tolerance for iterative algorithms (>= 0).'): 0.01}, {Param(parent='LinearRegression_41f48c4c0ff297f2d893', name='regParam', doc='regularization parameter (>= 0).'): 0.0, Param(parent='LinearRegression_41f48c4c0ff297f2d893', name='fitIntercept', doc='whether to fit an intercept term.'): False, Param(parent='LinearRegression_41f48c4c0ff297f2d893', name='elasticNetParam', doc='the ElasticNet mixing parameter, in range [0, 1]. For alpha = 0, the penalty is an L2 penalty. For alpha = 1, it is an L1 penalty.'): 1.0, Param(parent='LinearRegression_41f48c4c0ff297f2d893', name='tol', doc='the convergence tolerance for iterative algorithms (>= 0).'): 0.001}, {Param(parent='LinearRegression_41f48c4c0ff297f2d893', name='regParam', doc='regularization parameter (>= 0).'): 0.0, Param(parent='LinearRegression_41f48c4c0ff297f2d893', name='fitIntercept', doc='whether to fit an intercept term.'): False, Param(parent='LinearRegression_41f48c4c0ff297f2d893', name='elasticNetParam', doc='the ElasticNet mixing parameter, in range [0, 1]. For alpha = 0, the penalty is an L2 penalty. For alpha = 1, it is an L1 penalty.'): 1.0, Param(parent='LinearRegression_41f48c4c0ff297f2d893', name='tol', doc='the convergence tolerance for iterative algorithms (>= 0).'): 0.0001}])\n",
      "evaluator: evaluator used to select hyper-parameters that maximize the validator metric (current: RegressionEvaluator_4e3d90b3942961e1b178)\n",
      "seed: random seed. (default: 1421955268366911044)\n"
     ]
    }
   ],
   "source": [
    "print(cvModel.explainParams())"
   ]
  }
 ],
 "metadata": {
  "kernelspec": {
   "display_name": "Python 3",
   "language": "python",
   "name": "python3"
  },
  "language_info": {
   "codemirror_mode": {
    "name": "ipython",
    "version": 3
   },
   "file_extension": ".py",
   "mimetype": "text/x-python",
   "name": "python",
   "nbconvert_exporter": "python",
   "pygments_lexer": "ipython3",
   "version": "3.6.5"
  }
 },
 "nbformat": 4,
 "nbformat_minor": 2
}
