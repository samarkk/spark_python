{
 "cells": [
  {
   "cell_type": "code",
   "execution_count": 56,
   "metadata": {},
   "outputs": [],
   "source": [
    "from pyspark.sql import SparkSession\n",
    "import pandas as pd\n",
    "import numpy as np"
   ]
  },
  {
   "cell_type": "code",
   "execution_count": 2,
   "metadata": {},
   "outputs": [],
   "source": [
    "spark = SparkSession.builder.appName('ForestCoverTypeClassifier') \\\n",
    ".config('spark.warehouse.dir','/apps/hive/warehouse') \\\n",
    ".config('spark.driver.memory', '4G') \\\n",
    ".config('spark.sql.shuffle.partitions', 4) \\\n",
    ".enableHiveSupport().getOrCreate()"
   ]
  },
  {
   "cell_type": "code",
   "execution_count": 3,
   "metadata": {},
   "outputs": [
    {
     "data": {
      "text/plain": [
       "'3.1.3'"
      ]
     },
     "execution_count": 3,
     "metadata": {},
     "output_type": "execute_result"
    }
   ],
   "source": [
    "# Having set the driver and driver options we should have spark representing spark session \n",
    "# available straight away\n",
    "spark.version"
   ]
  },
  {
   "cell_type": "code",
   "execution_count": 4,
   "metadata": {},
   "outputs": [],
   "source": [
    "sc = spark.sparkContext"
   ]
  },
  {
   "cell_type": "code",
   "execution_count": 5,
   "metadata": {},
   "outputs": [],
   "source": [
    "sc.setLogLevel('ERROR')"
   ]
  },
  {
   "cell_type": "code",
   "execution_count": 6,
   "metadata": {},
   "outputs": [],
   "source": [
    "#  Covtype dataset publicly available dataset provides information on\n",
    "# types of forest-covering parcels of land in Colorado, USA\n",
    "fileloc = 'C:/Users/Administrator/Downloads/covtype.data'\n",
    "dataWithoutHeader = spark.read  \\\n",
    ".option(\"inferSchema\", True) \\\n",
    ".option(\"header\", False) \\\n",
    ".csv(fileloc) "
   ]
  },
  {
   "cell_type": "code",
   "execution_count": 27,
   "metadata": {},
   "outputs": [
    {
     "name": "stdout",
     "output_type": "stream",
     "text": [
      "['Elevation', 'Aspect', 'Slope', 'Horizontal_Distance_To_Hydrology', 'Vertical_Distance_To_Hydrology', 'Horizontal_Distance_To_Roadways', 'Hillshade_9am', 'Hillshade_Noon', 'Hillshade_3pm', 'Horizontal_Distance_To_Fire_Points', 'Wilderness_Area_$0', 'Wilderness_Area_$1', 'Wilderness_Area_$2', 'Wilderness_Area_$3', 'Soil_type_$0', 'Soil_type_$1', 'Soil_type_$2', 'Soil_type_$3', 'Soil_type_$4', 'Soil_type_$5', 'Soil_type_$6', 'Soil_type_$7', 'Soil_type_$8', 'Soil_type_$9', 'Soil_type_$10', 'Soil_type_$11', 'Soil_type_$12', 'Soil_type_$13', 'Soil_type_$14', 'Soil_type_$15', 'Soil_type_$16', 'Soil_type_$17', 'Soil_type_$18', 'Soil_type_$19', 'Soil_type_$20', 'Soil_type_$21', 'Soil_type_$22', 'Soil_type_$23', 'Soil_type_$24', 'Soil_type_$25', 'Soil_type_$26', 'Soil_type_$27', 'Soil_type_$28', 'Soil_type_$29', 'Soil_type_$30', 'Soil_type_$31', 'Soil_type_$32', 'Soil_type_$33', 'Soil_type_$34', 'Soil_type_$35', 'Soil_type_$36', 'Soil_type_$37', 'Soil_type_$38', 'Soil_type_$39', 'Cover_Type']\n"
     ]
    }
   ],
   "source": [
    "# columns 10 to 14 are for wilderness_area and next 40 columns for soil type\n",
    "colNames = [\n",
    "    \"Elevation\", \"Aspect\", \"Slope\",\n",
    "    \"Horizontal_Distance_To_Hydrology\", \"Vertical_Distance_To_Hydrology\",\n",
    "    \"Horizontal_Distance_To_Roadways\",\n",
    "    \"Hillshade_9am\", \"Hillshade_Noon\", \"Hillshade_3pm\",\n",
    "    \"Horizontal_Distance_To_Fire_Points\"] \n",
    "for x in range(4):\n",
    "    colNames.append(\"Wilderness_Area_$\" + str(x))\n",
    "for x in range(40):\n",
    "    colNames.append(\"Soil_type_$\" + str(x))\n",
    "colNames.append('Cover_Type')\n",
    "print(colNames)"
   ]
  },
  {
   "cell_type": "code",
   "execution_count": 28,
   "metadata": {},
   "outputs": [],
   "source": [
    "coldict = dict(zip(['_c' + str(x) for x in range(55)], colNames))"
   ]
  },
  {
   "cell_type": "code",
   "execution_count": 29,
   "metadata": {},
   "outputs": [
    {
     "data": {
      "text/plain": [
       "{'_c0': 'Elevation',\n",
       " '_c1': 'Aspect',\n",
       " '_c2': 'Slope',\n",
       " '_c3': 'Horizontal_Distance_To_Hydrology',\n",
       " '_c4': 'Vertical_Distance_To_Hydrology',\n",
       " '_c5': 'Horizontal_Distance_To_Roadways',\n",
       " '_c6': 'Hillshade_9am',\n",
       " '_c7': 'Hillshade_Noon',\n",
       " '_c8': 'Hillshade_3pm',\n",
       " '_c9': 'Horizontal_Distance_To_Fire_Points',\n",
       " '_c10': 'Wilderness_Area_$0',\n",
       " '_c11': 'Wilderness_Area_$1',\n",
       " '_c12': 'Wilderness_Area_$2',\n",
       " '_c13': 'Wilderness_Area_$3',\n",
       " '_c14': 'Soil_type_$0',\n",
       " '_c15': 'Soil_type_$1',\n",
       " '_c16': 'Soil_type_$2',\n",
       " '_c17': 'Soil_type_$3',\n",
       " '_c18': 'Soil_type_$4',\n",
       " '_c19': 'Soil_type_$5',\n",
       " '_c20': 'Soil_type_$6',\n",
       " '_c21': 'Soil_type_$7',\n",
       " '_c22': 'Soil_type_$8',\n",
       " '_c23': 'Soil_type_$9',\n",
       " '_c24': 'Soil_type_$10',\n",
       " '_c25': 'Soil_type_$11',\n",
       " '_c26': 'Soil_type_$12',\n",
       " '_c27': 'Soil_type_$13',\n",
       " '_c28': 'Soil_type_$14',\n",
       " '_c29': 'Soil_type_$15',\n",
       " '_c30': 'Soil_type_$16',\n",
       " '_c31': 'Soil_type_$17',\n",
       " '_c32': 'Soil_type_$18',\n",
       " '_c33': 'Soil_type_$19',\n",
       " '_c34': 'Soil_type_$20',\n",
       " '_c35': 'Soil_type_$21',\n",
       " '_c36': 'Soil_type_$22',\n",
       " '_c37': 'Soil_type_$23',\n",
       " '_c38': 'Soil_type_$24',\n",
       " '_c39': 'Soil_type_$25',\n",
       " '_c40': 'Soil_type_$26',\n",
       " '_c41': 'Soil_type_$27',\n",
       " '_c42': 'Soil_type_$28',\n",
       " '_c43': 'Soil_type_$29',\n",
       " '_c44': 'Soil_type_$30',\n",
       " '_c45': 'Soil_type_$31',\n",
       " '_c46': 'Soil_type_$32',\n",
       " '_c47': 'Soil_type_$33',\n",
       " '_c48': 'Soil_type_$34',\n",
       " '_c49': 'Soil_type_$35',\n",
       " '_c50': 'Soil_type_$36',\n",
       " '_c51': 'Soil_type_$37',\n",
       " '_c52': 'Soil_type_$38',\n",
       " '_c53': 'Soil_type_$39',\n",
       " '_c54': 'Cover_Type'}"
      ]
     },
     "execution_count": 29,
     "metadata": {},
     "output_type": "execute_result"
    }
   ],
   "source": [
    "coldict"
   ]
  },
  {
   "cell_type": "code",
   "execution_count": 30,
   "metadata": {},
   "outputs": [],
   "source": [
    "from pyspark.sql.functions import *"
   ]
  },
  {
   "cell_type": "code",
   "execution_count": 31,
   "metadata": {},
   "outputs": [],
   "source": [
    "# lets create the data frame wiht column names\n",
    "# and cast the label that we have to forecast to double\n",
    "data = dataWithoutHeader.select([col(c).alias(coldict.get(c, c)) for c in dataWithoutHeader.columns])"
   ]
  },
  {
   "cell_type": "code",
   "execution_count": 32,
   "metadata": {},
   "outputs": [],
   "source": [
    "data = data.withColumn('Cover_Type', data.Cover_Type.cast('double'))"
   ]
  },
  {
   "cell_type": "code",
   "execution_count": 33,
   "metadata": {},
   "outputs": [],
   "source": [
    "# Split into 90% train (+ CV), 10% test\n",
    "trainData, testData = data.randomSplit([0.9, 0.1])"
   ]
  },
  {
   "cell_type": "code",
   "execution_count": 53,
   "metadata": {},
   "outputs": [
    {
     "name": "stdout",
     "output_type": "stream",
     "text": [
      "+---------+------+-----+--------------------------------+------------------------------+-------------------------------+-------------+--------------+-------------+----------------------------------+------------------+------------------+------------------+------------------+------------+------------+------------+------------+------------+------------+------------+------------+------------+------------+-------------+-------------+-------------+-------------+-------------+-------------+-------------+-------------+-------------+-------------+-------------+-------------+-------------+-------------+-------------+-------------+-------------+-------------+-------------+-------------+-------------+-------------+-------------+-------------+-------------+-------------+-------------+-------------+-------------+-------------+----------+\n",
      "|Elevation|Aspect|Slope|Horizontal_Distance_To_Hydrology|Vertical_Distance_To_Hydrology|Horizontal_Distance_To_Roadways|Hillshade_9am|Hillshade_Noon|Hillshade_3pm|Horizontal_Distance_To_Fire_Points|Wilderness_Area_$0|Wilderness_Area_$1|Wilderness_Area_$2|Wilderness_Area_$3|Soil_type_$0|Soil_type_$1|Soil_type_$2|Soil_type_$3|Soil_type_$4|Soil_type_$5|Soil_type_$6|Soil_type_$7|Soil_type_$8|Soil_type_$9|Soil_type_$10|Soil_type_$11|Soil_type_$12|Soil_type_$13|Soil_type_$14|Soil_type_$15|Soil_type_$16|Soil_type_$17|Soil_type_$18|Soil_type_$19|Soil_type_$20|Soil_type_$21|Soil_type_$22|Soil_type_$23|Soil_type_$24|Soil_type_$25|Soil_type_$26|Soil_type_$27|Soil_type_$28|Soil_type_$29|Soil_type_$30|Soil_type_$31|Soil_type_$32|Soil_type_$33|Soil_type_$34|Soil_type_$35|Soil_type_$36|Soil_type_$37|Soil_type_$38|Soil_type_$39|Cover_Type|\n",
      "+---------+------+-----+--------------------------------+------------------------------+-------------------------------+-------------+--------------+-------------+----------------------------------+------------------+------------------+------------------+------------------+------------+------------+------------+------------+------------+------------+------------+------------+------------+------------+-------------+-------------+-------------+-------------+-------------+-------------+-------------+-------------+-------------+-------------+-------------+-------------+-------------+-------------+-------------+-------------+-------------+-------------+-------------+-------------+-------------+-------------+-------------+-------------+-------------+-------------+-------------+-------------+-------------+-------------+----------+\n",
      "|1863     |37    |17   |120                             |18                            |90                             |217          |202           |115          |769                               |0                 |0                 |0                 |1                 |0           |1           |0           |0           |0           |0           |0           |0           |0           |0           |0            |0            |0            |0            |0            |0            |0            |0            |0            |0            |0            |0            |0            |0            |0            |0            |0            |0            |0            |0            |0            |0            |0            |0            |0            |0            |0            |0            |0            |0            |6.0       |\n",
      "+---------+------+-----+--------------------------------+------------------------------+-------------------------------+-------------+--------------+-------------+----------------------------------+------------------+------------------+------------------+------------------+------------+------------+------------+------------+------------+------------+------------+------------+------------+------------+-------------+-------------+-------------+-------------+-------------+-------------+-------------+-------------+-------------+-------------+-------------+-------------+-------------+-------------+-------------+-------------+-------------+-------------+-------------+-------------+-------------+-------------+-------------+-------------+-------------+-------------+-------------+-------------+-------------+-------------+----------+\n",
      "only showing top 1 row\n",
      "\n"
     ]
    }
   ],
   "source": [
    "trainData.show(1,False)"
   ]
  },
  {
   "cell_type": "code",
   "execution_count": 57,
   "metadata": {
    "collapsed": true
   },
   "outputs": [
    {
     "data": {
      "text/plain": [
       "['Elevation',\n",
       " 'Aspect',\n",
       " 'Slope',\n",
       " 'Horizontal_Distance_To_Hydrology',\n",
       " 'Vertical_Distance_To_Hydrology',\n",
       " 'Horizontal_Distance_To_Roadways',\n",
       " 'Hillshade_9am',\n",
       " 'Hillshade_Noon',\n",
       " 'Hillshade_3pm',\n",
       " 'Horizontal_Distance_To_Fire_Points',\n",
       " 'Wilderness_Area_$0',\n",
       " 'Wilderness_Area_$1',\n",
       " 'Wilderness_Area_$2',\n",
       " 'Wilderness_Area_$3',\n",
       " 'Soil_type_$0',\n",
       " 'Soil_type_$1',\n",
       " 'Soil_type_$2',\n",
       " 'Soil_type_$3',\n",
       " 'Soil_type_$4',\n",
       " 'Soil_type_$5',\n",
       " 'Soil_type_$6',\n",
       " 'Soil_type_$7',\n",
       " 'Soil_type_$8',\n",
       " 'Soil_type_$9',\n",
       " 'Soil_type_$10',\n",
       " 'Soil_type_$11',\n",
       " 'Soil_type_$12',\n",
       " 'Soil_type_$13',\n",
       " 'Soil_type_$14',\n",
       " 'Soil_type_$15',\n",
       " 'Soil_type_$16',\n",
       " 'Soil_type_$17',\n",
       " 'Soil_type_$18',\n",
       " 'Soil_type_$19',\n",
       " 'Soil_type_$20',\n",
       " 'Soil_type_$21',\n",
       " 'Soil_type_$22',\n",
       " 'Soil_type_$23',\n",
       " 'Soil_type_$24',\n",
       " 'Soil_type_$25',\n",
       " 'Soil_type_$26',\n",
       " 'Soil_type_$27',\n",
       " 'Soil_type_$28',\n",
       " 'Soil_type_$29',\n",
       " 'Soil_type_$30',\n",
       " 'Soil_type_$31',\n",
       " 'Soil_type_$32',\n",
       " 'Soil_type_$33',\n",
       " 'Soil_type_$34',\n",
       " 'Soil_type_$35',\n",
       " 'Soil_type_$36',\n",
       " 'Soil_type_$37',\n",
       " 'Soil_type_$38',\n",
       " 'Soil_type_$39']"
      ]
     },
     "execution_count": 57,
     "metadata": {},
     "output_type": "execute_result"
    }
   ],
   "source": [
    "# inputCols = list(filter(lambda x: x != 'Cover_Type', trainData.columns))\n",
    "# type(trainData.columns)\n",
    "len(trainData.columns)\n",
    "type(trainData.columns[54])\n",
    "# filter(lambda x : str(x) != 'Cover_Type', trainData.columns)\n",
    "col_list = trainData.columns\n",
    "col_list\n",
    "col_list.remove('Cover_Type')\n",
    "col_list"
   ]
  },
  {
   "cell_type": "code",
   "execution_count": 59,
   "metadata": {},
   "outputs": [
    {
     "name": "stdout",
     "output_type": "stream",
     "text": [
      "\n",
      "The feature vector produced by the assembler\n",
      "+-----------------------------------------------------------------------------------------------------+\n",
      "|featureVector                                                                                        |\n",
      "+-----------------------------------------------------------------------------------------------------+\n",
      "|(54,[0,1,2,3,4,5,6,7,8,9,13,15],[1863.0,37.0,17.0,120.0,18.0,90.0,217.0,202.0,115.0,769.0,1.0,1.0])  |\n",
      "|(54,[0,1,2,3,4,5,6,7,8,9,13,18],[1879.0,28.0,19.0,30.0,12.0,95.0,209.0,196.0,117.0,778.0,1.0,1.0])   |\n",
      "|(54,[0,1,2,3,4,5,6,7,8,9,13,15],[1888.0,33.0,22.0,150.0,46.0,108.0,209.0,185.0,103.0,735.0,1.0,1.0]) |\n",
      "|(54,[0,1,2,3,4,5,6,7,8,9,13,14],[1889.0,28.0,22.0,150.0,23.0,120.0,205.0,185.0,108.0,759.0,1.0,1.0]) |\n",
      "|(54,[0,1,2,3,4,5,6,7,8,9,13,18],[1889.0,353.0,30.0,95.0,39.0,67.0,153.0,172.0,146.0,600.0,1.0,1.0])  |\n",
      "|(54,[0,1,2,3,4,5,6,7,8,9,13,18],[1896.0,337.0,12.0,30.0,6.0,175.0,195.0,224.0,168.0,732.0,1.0,1.0])  |\n",
      "|(54,[0,1,2,3,4,5,6,7,8,9,13,15],[1898.0,34.0,23.0,175.0,56.0,134.0,210.0,184.0,99.0,765.0,1.0,1.0])  |\n",
      "|(54,[0,1,2,3,4,5,6,7,8,9,13,18],[1899.0,355.0,22.0,153.0,43.0,124.0,178.0,195.0,151.0,819.0,1.0,1.0])|\n",
      "|(54,[0,1,2,3,4,5,6,7,8,9,13,14],[1901.0,311.0,9.0,30.0,2.0,190.0,195.0,234.0,179.0,726.0,1.0,1.0])   |\n",
      "|(54,[0,1,2,3,4,5,6,7,8,9,13,16],[1903.0,67.0,16.0,108.0,36.0,120.0,234.0,207.0,100.0,969.0,1.0,1.0]) |\n",
      "|(54,[0,1,2,3,4,5,6,7,8,9,13,18],[1905.0,19.0,27.0,134.0,58.0,120.0,188.0,171.0,108.0,636.0,1.0,1.0]) |\n",
      "|(54,[0,1,2,3,4,5,6,7,8,9,13,14],[1905.0,33.0,27.0,90.0,46.0,150.0,204.0,171.0,89.0,725.0,1.0,1.0])   |\n",
      "|(54,[0,1,2,3,4,5,6,7,8,9,13,16],[1905.0,77.0,21.0,90.0,38.0,120.0,241.0,196.0,75.0,1025.0,1.0,1.0])  |\n",
      "|(54,[0,1,2,3,4,5,6,7,8,9,13,15],[1906.0,356.0,20.0,150.0,55.0,120.0,184.0,201.0,151.0,726.0,1.0,1.0])|\n",
      "|(54,[0,1,2,3,4,5,6,7,8,9,13,18],[1908.0,323.0,32.0,150.0,52.0,120.0,125.0,190.0,196.0,765.0,1.0,1.0])|\n",
      "|(54,[0,1,2,3,4,5,6,7,8,9,13,15],[1916.0,24.0,25.0,212.0,74.0,175.0,197.0,177.0,105.0,789.0,1.0,1.0]) |\n",
      "|(54,[0,1,2,3,4,5,6,7,8,9,13,18],[1916.0,320.0,24.0,190.0,60.0,162.0,151.0,210.0,195.0,832.0,1.0,1.0])|\n",
      "|(54,[0,1,2,3,4,5,6,7,8,9,13,23],[1918.0,321.0,28.0,42.0,17.0,85.0,139.0,201.0,196.0,402.0,1.0,1.0])  |\n",
      "|(54,[0,1,2,3,4,5,6,7,8,9,13,18],[1919.0,44.0,26.0,162.0,68.0,150.0,216.0,173.0,77.0,706.0,1.0,1.0])  |\n",
      "|(54,[0,1,2,3,4,5,6,7,8,9,13,14],[1922.0,50.0,29.0,108.0,43.0,218.0,219.0,165.0,62.0,659.0,1.0,1.0])  |\n",
      "+-----------------------------------------------------------------------------------------------------+\n",
      "only showing top 20 rows\n",
      "\n"
     ]
    }
   ],
   "source": [
    "# Simple Decision Tree\n",
    "# inputCols = list(filter(lambda x: x != 'Cover_Type', trainData.columns))\n",
    "from pyspark.ml.feature import VectorAssembler, VectorIndexer\n",
    "from pyspark.ml.feature import VectorIndexer\n",
    "assembler = VectorAssembler().setInputCols(col_list).setOutputCol('featureVector')\n",
    "#  and use the vector assembler transformer to transform the training data\n",
    "assembledTrainData = assembler.transform(trainData)\n",
    "print(\"\\nThe feature vector produced by the assembler\")\n",
    "assembledTrainData.select(\"featureVector\").show(truncate = False)"
   ]
  },
  {
   "cell_type": "code",
   "execution_count": 60,
   "metadata": {},
   "outputs": [],
   "source": [
    "# the classifier is an estimator whose parameters we set\n",
    "from pyspark.ml.classification import DecisionTreeClassifier, RandomForestClassifier\n",
    "DecisionTreeClassifier\n",
    "classifier = DecisionTreeClassifier(featuresCol='featureVector', labelCol='Cover_Type', \n",
    "                                    predictionCol='prediction', seed=100)\n",
    "model = classifier.fit(assembledTrainData)"
   ]
  },
  {
   "cell_type": "code",
   "execution_count": 61,
   "metadata": {},
   "outputs": [
    {
     "name": "stdout",
     "output_type": "stream",
     "text": [
      "\n",
      "The model printed out\n",
      "DecisionTreeClassificationModel: uid=DecisionTreeClassifier_35647b828831, depth=5, numNodes=49, numClasses=8, numFeatures=54\n",
      "  If (feature 0 <= 3049.5)\n",
      "   If (feature 0 <= 2564.5)\n",
      "    If (feature 10 <= 0.5)\n",
      "     If (feature 0 <= 2459.5)\n",
      "      If (feature 3 <= 15.0)\n",
      "       Predict: 4.0\n",
      "      Else (feature 3 > 15.0)\n",
      "       Predict: 3.0\n",
      "     Else (feature 0 > 2459.5)\n",
      "      If (feature 17 <= 0.5)\n",
      "       Predict: 2.0\n",
      "      Else (feature 17 > 0.5)\n",
      "       Predict: 3.0\n",
      "    Else (feature 10 > 0.5)\n",
      "     If (feature 9 <= 5433.0)\n",
      "      Predict: 2.0\n",
      "     Else (feature 9 > 5433.0)\n",
      "      If (feature 5 <= 572.0)\n",
      "       Predict: 2.0\n",
      "      Else (feature 5 > 572.0)\n",
      "       Predict: 5.0\n",
      "   Else (feature 0 > 2564.5)\n",
      "    If (feature 0 <= 2956.5)\n",
      "     If (feature 15 <= 0.5)\n",
      "      If (feature 17 <= 0.5)\n",
      "       Predict: 2.0\n",
      "      Else (feature 17 > 0.5)\n",
      "       Predict: 3.0\n",
      "     Else (feature 15 > 0.5)\n",
      "      Predict: 3.0\n",
      "    Else (feature 0 > 2956.5)\n",
      "     If (feature 3 <= 191.0)\n",
      "      If (feature 36 <= 0.5)\n",
      "       Predict: 2.0\n",
      "      Else (feature 36 > 0.5)\n",
      "       Predict: 1.0\n",
      "     Else (feature 3 > 191.0)\n",
      "      Predict: 2.0\n",
      "  Else (feature 0 > 3049.5)\n",
      "   If (feature 0 <= 3310.5)\n",
      "    If (feature 7 <= 239.5)\n",
      "     If (feature 45 <= 0.5)\n",
      "      Predict: 1.0\n",
      "     Else (feature 45 > 0.5)\n",
      "      If (feature 5 <= 4174.5)\n",
      "       Predict: 2.0\n",
      "      Else (feature 5 > 4174.5)\n",
      "       Predict: 1.0\n",
      "    Else (feature 7 > 239.5)\n",
      "     If (feature 3 <= 316.0)\n",
      "      Predict: 1.0\n",
      "     Else (feature 3 > 316.0)\n",
      "      If (feature 0 <= 3202.5)\n",
      "       Predict: 2.0\n",
      "      Else (feature 0 > 3202.5)\n",
      "       Predict: 1.0\n",
      "   Else (feature 0 > 3310.5)\n",
      "    If (feature 12 <= 0.5)\n",
      "     If (feature 3 <= 274.5)\n",
      "      If (feature 6 <= 206.5)\n",
      "       Predict: 1.0\n",
      "      Else (feature 6 > 206.5)\n",
      "       Predict: 7.0\n",
      "     Else (feature 3 > 274.5)\n",
      "      Predict: 1.0\n",
      "    Else (feature 12 > 0.5)\n",
      "     If (feature 45 <= 0.5)\n",
      "      Predict: 7.0\n",
      "     Else (feature 45 > 0.5)\n",
      "      If (feature 5 <= 922.0)\n",
      "       Predict: 7.0\n",
      "      Else (feature 5 > 922.0)\n",
      "       Predict: 1.0\n",
      "\n"
     ]
    }
   ],
   "source": [
    "print(\"\\nThe model printed out\")\n",
    "print(model.toDebugString)"
   ]
  },
  {
   "cell_type": "code",
   "execution_count": 62,
   "metadata": {},
   "outputs": [
    {
     "name": "stdout",
     "output_type": "stream",
     "text": [
      "\n",
      "The feature importances that are provided by the model in descending order\n"
     ]
    },
    {
     "data": {
      "text/plain": [
       "[('Elevation', 0.7924945051788969),\n",
       " ('Horizontal_Distance_To_Hydrology', 0.041689463182791195),\n",
       " ('Wilderness_Area_$0', 0.03255111826682026),\n",
       " ('Soil_type_$3', 0.030317682186528125),\n",
       " ('Soil_type_$31', 0.02809401736308813),\n",
       " ('Hillshade_Noon', 0.025565383800904024),\n",
       " ('Soil_type_$1', 0.023019547300731476),\n",
       " ('Wilderness_Area_$2', 0.011499187322143518),\n",
       " ('Horizontal_Distance_To_Roadways', 0.006202649430273973),\n",
       " ('Soil_type_$22', 0.00564310239829267),\n",
       " ('Hillshade_9am', 0.002505064671203571),\n",
       " ('Horizontal_Distance_To_Fire_Points', 0.0004182788983263319),\n",
       " ('Aspect', 0.0),\n",
       " ('Slope', 0.0),\n",
       " ('Vertical_Distance_To_Hydrology', 0.0),\n",
       " ('Hillshade_3pm', 0.0),\n",
       " ('Wilderness_Area_$1', 0.0),\n",
       " ('Wilderness_Area_$3', 0.0),\n",
       " ('Soil_type_$0', 0.0),\n",
       " ('Soil_type_$2', 0.0),\n",
       " ('Soil_type_$4', 0.0),\n",
       " ('Soil_type_$5', 0.0),\n",
       " ('Soil_type_$6', 0.0),\n",
       " ('Soil_type_$7', 0.0),\n",
       " ('Soil_type_$8', 0.0),\n",
       " ('Soil_type_$9', 0.0),\n",
       " ('Soil_type_$10', 0.0),\n",
       " ('Soil_type_$11', 0.0),\n",
       " ('Soil_type_$12', 0.0),\n",
       " ('Soil_type_$13', 0.0),\n",
       " ('Soil_type_$14', 0.0),\n",
       " ('Soil_type_$15', 0.0),\n",
       " ('Soil_type_$16', 0.0),\n",
       " ('Soil_type_$17', 0.0),\n",
       " ('Soil_type_$18', 0.0),\n",
       " ('Soil_type_$19', 0.0),\n",
       " ('Soil_type_$20', 0.0),\n",
       " ('Soil_type_$21', 0.0),\n",
       " ('Soil_type_$23', 0.0),\n",
       " ('Soil_type_$24', 0.0),\n",
       " ('Soil_type_$25', 0.0),\n",
       " ('Soil_type_$26', 0.0),\n",
       " ('Soil_type_$27', 0.0),\n",
       " ('Soil_type_$28', 0.0),\n",
       " ('Soil_type_$29', 0.0),\n",
       " ('Soil_type_$30', 0.0),\n",
       " ('Soil_type_$32', 0.0),\n",
       " ('Soil_type_$33', 0.0),\n",
       " ('Soil_type_$34', 0.0),\n",
       " ('Soil_type_$35', 0.0),\n",
       " ('Soil_type_$36', 0.0),\n",
       " ('Soil_type_$37', 0.0),\n",
       " ('Soil_type_$38', 0.0),\n",
       " ('Soil_type_$39', 0.0)]"
      ]
     },
     "execution_count": 62,
     "metadata": {},
     "output_type": "execute_result"
    }
   ],
   "source": [
    "print(\"\\nThe feature importances that are provided by the model in descending order\")\n",
    "# model provides column numbers - lets zip with column names to put comprehensible stuff\n",
    "sorted([x for x  in zip(colNames, model.featureImportances.toArray())], key=lambda x: -x[1])"
   ]
  },
  {
   "cell_type": "code",
   "execution_count": 63,
   "metadata": {},
   "outputs": [
    {
     "name": "stdout",
     "output_type": "stream",
     "text": [
      "\n",
      "Take a look at the predictions\n",
      "+----------+----------+------------------------------------------------------------------------------------------------+\n",
      "|Cover_Type|prediction|probability                                                                                     |\n",
      "+----------+----------+------------------------------------------------------------------------------------------------+\n",
      "|6.0       |3.0       |[0.0,0.0,0.03750835003340013,0.6285905143620575,0.04849699398797595,0.0,0.28540414161656646,0.0]|\n",
      "|6.0       |3.0       |[0.0,0.0,0.03750835003340013,0.6285905143620575,0.04849699398797595,0.0,0.28540414161656646,0.0]|\n",
      "|6.0       |3.0       |[0.0,0.0,0.03750835003340013,0.6285905143620575,0.04849699398797595,0.0,0.28540414161656646,0.0]|\n",
      "|6.0       |3.0       |[0.0,0.0,0.03750835003340013,0.6285905143620575,0.04849699398797595,0.0,0.28540414161656646,0.0]|\n",
      "|6.0       |3.0       |[0.0,0.0,0.03750835003340013,0.6285905143620575,0.04849699398797595,0.0,0.28540414161656646,0.0]|\n",
      "|6.0       |3.0       |[0.0,0.0,0.03750835003340013,0.6285905143620575,0.04849699398797595,0.0,0.28540414161656646,0.0]|\n",
      "|6.0       |3.0       |[0.0,0.0,0.03750835003340013,0.6285905143620575,0.04849699398797595,0.0,0.28540414161656646,0.0]|\n",
      "|6.0       |3.0       |[0.0,0.0,0.03750835003340013,0.6285905143620575,0.04849699398797595,0.0,0.28540414161656646,0.0]|\n",
      "|6.0       |3.0       |[0.0,0.0,0.03750835003340013,0.6285905143620575,0.04849699398797595,0.0,0.28540414161656646,0.0]|\n",
      "|3.0       |3.0       |[0.0,0.0,0.03750835003340013,0.6285905143620575,0.04849699398797595,0.0,0.28540414161656646,0.0]|\n",
      "|6.0       |3.0       |[0.0,0.0,0.03750835003340013,0.6285905143620575,0.04849699398797595,0.0,0.28540414161656646,0.0]|\n",
      "|6.0       |3.0       |[0.0,0.0,0.03750835003340013,0.6285905143620575,0.04849699398797595,0.0,0.28540414161656646,0.0]|\n",
      "|3.0       |3.0       |[0.0,0.0,0.03750835003340013,0.6285905143620575,0.04849699398797595,0.0,0.28540414161656646,0.0]|\n",
      "|6.0       |3.0       |[0.0,0.0,0.03750835003340013,0.6285905143620575,0.04849699398797595,0.0,0.28540414161656646,0.0]|\n",
      "|6.0       |3.0       |[0.0,0.0,0.03750835003340013,0.6285905143620575,0.04849699398797595,0.0,0.28540414161656646,0.0]|\n",
      "|6.0       |3.0       |[0.0,0.0,0.03750835003340013,0.6285905143620575,0.04849699398797595,0.0,0.28540414161656646,0.0]|\n",
      "|6.0       |3.0       |[0.0,0.0,0.03750835003340013,0.6285905143620575,0.04849699398797595,0.0,0.28540414161656646,0.0]|\n",
      "|3.0       |3.0       |[0.0,0.0,0.03750835003340013,0.6285905143620575,0.04849699398797595,0.0,0.28540414161656646,0.0]|\n",
      "|6.0       |3.0       |[0.0,0.0,0.03750835003340013,0.6285905143620575,0.04849699398797595,0.0,0.28540414161656646,0.0]|\n",
      "|6.0       |3.0       |[0.0,0.0,0.03750835003340013,0.6285905143620575,0.04849699398797595,0.0,0.28540414161656646,0.0]|\n",
      "+----------+----------+------------------------------------------------------------------------------------------------+\n",
      "only showing top 20 rows\n",
      "\n"
     ]
    }
   ],
   "source": [
    "#  we use the model transformer to get predictions from training data\n",
    "predictions = model.transform(assembledTrainData)\n",
    "print(\"\\nTake a look at the predictions\")\n",
    "predictions.select(\"Cover_Type\", \"prediction\", \"probability\").show(truncate = False)"
   ]
  },
  {
   "cell_type": "code",
   "execution_count": 64,
   "metadata": {},
   "outputs": [],
   "source": [
    "# now lets evaluate - initialize an evaluator\n",
    "from pyspark.ml.evaluation import MulticlassClassificationEvaluator\n",
    "evaluator = MulticlassClassificationEvaluator(labelCol='Cover_Type', predictionCol= 'prediction')"
   ]
  },
  {
   "cell_type": "code",
   "execution_count": 68,
   "metadata": {},
   "outputs": [
    {
     "name": "stdout",
     "output_type": "stream",
     "text": [
      "\n",
      "Printing classification metrics\n",
      "accuracy:  0.70070871789967\n",
      "f1:  0.6829352420240993\n"
     ]
    }
   ],
   "source": [
    "#  lets get the classification metrics\n",
    "accuracy = evaluator.setMetricName(\"accuracy\").evaluate(predictions)\n",
    "f1 = evaluator.setMetricName(\"f1\").evaluate(predictions)\n",
    "print(\"\\nPrinting classification metrics\")\n",
    "print(\"accuracy: \" , accuracy)\n",
    "print(\"f1: \" , f1)"
   ]
  },
  {
   "cell_type": "code",
   "execution_count": 69,
   "metadata": {},
   "outputs": [
    {
     "data": {
      "text/plain": [
       "[Row(Elevation=1863, Aspect=37, Slope=17, Horizontal_Distance_To_Hydrology=120, Vertical_Distance_To_Hydrology=18, Horizontal_Distance_To_Roadways=90, Hillshade_9am=217, Hillshade_Noon=202, Hillshade_3pm=115, Horizontal_Distance_To_Fire_Points=769, Wilderness_Area_$0=0, Wilderness_Area_$1=0, Wilderness_Area_$2=0, Wilderness_Area_$3=1, Soil_type_$0=0, Soil_type_$1=1, Soil_type_$2=0, Soil_type_$3=0, Soil_type_$4=0, Soil_type_$5=0, Soil_type_$6=0, Soil_type_$7=0, Soil_type_$8=0, Soil_type_$9=0, Soil_type_$10=0, Soil_type_$11=0, Soil_type_$12=0, Soil_type_$13=0, Soil_type_$14=0, Soil_type_$15=0, Soil_type_$16=0, Soil_type_$17=0, Soil_type_$18=0, Soil_type_$19=0, Soil_type_$20=0, Soil_type_$21=0, Soil_type_$22=0, Soil_type_$23=0, Soil_type_$24=0, Soil_type_$25=0, Soil_type_$26=0, Soil_type_$27=0, Soil_type_$28=0, Soil_type_$29=0, Soil_type_$30=0, Soil_type_$31=0, Soil_type_$32=0, Soil_type_$33=0, Soil_type_$34=0, Soil_type_$35=0, Soil_type_$36=0, Soil_type_$37=0, Soil_type_$38=0, Soil_type_$39=0, Cover_Type=6.0, featureVector=SparseVector(54, {0: 1863.0, 1: 37.0, 2: 17.0, 3: 120.0, 4: 18.0, 5: 90.0, 6: 217.0, 7: 202.0, 8: 115.0, 9: 769.0, 13: 1.0, 15: 1.0}), rawPrediction=DenseVector([0.0, 0.0, 1123.0, 18820.0, 1452.0, 0.0, 8545.0, 0.0]), probability=DenseVector([0.0, 0.0, 0.0375, 0.6286, 0.0485, 0.0, 0.2854, 0.0]), prediction=3.0),\n",
       " Row(Elevation=1879, Aspect=28, Slope=19, Horizontal_Distance_To_Hydrology=30, Vertical_Distance_To_Hydrology=12, Horizontal_Distance_To_Roadways=95, Hillshade_9am=209, Hillshade_Noon=196, Hillshade_3pm=117, Horizontal_Distance_To_Fire_Points=778, Wilderness_Area_$0=0, Wilderness_Area_$1=0, Wilderness_Area_$2=0, Wilderness_Area_$3=1, Soil_type_$0=0, Soil_type_$1=0, Soil_type_$2=0, Soil_type_$3=0, Soil_type_$4=1, Soil_type_$5=0, Soil_type_$6=0, Soil_type_$7=0, Soil_type_$8=0, Soil_type_$9=0, Soil_type_$10=0, Soil_type_$11=0, Soil_type_$12=0, Soil_type_$13=0, Soil_type_$14=0, Soil_type_$15=0, Soil_type_$16=0, Soil_type_$17=0, Soil_type_$18=0, Soil_type_$19=0, Soil_type_$20=0, Soil_type_$21=0, Soil_type_$22=0, Soil_type_$23=0, Soil_type_$24=0, Soil_type_$25=0, Soil_type_$26=0, Soil_type_$27=0, Soil_type_$28=0, Soil_type_$29=0, Soil_type_$30=0, Soil_type_$31=0, Soil_type_$32=0, Soil_type_$33=0, Soil_type_$34=0, Soil_type_$35=0, Soil_type_$36=0, Soil_type_$37=0, Soil_type_$38=0, Soil_type_$39=0, Cover_Type=6.0, featureVector=SparseVector(54, {0: 1879.0, 1: 28.0, 2: 19.0, 3: 30.0, 4: 12.0, 5: 95.0, 6: 209.0, 7: 196.0, 8: 117.0, 9: 778.0, 13: 1.0, 18: 1.0}), rawPrediction=DenseVector([0.0, 0.0, 1123.0, 18820.0, 1452.0, 0.0, 8545.0, 0.0]), probability=DenseVector([0.0, 0.0, 0.0375, 0.6286, 0.0485, 0.0, 0.2854, 0.0]), prediction=3.0)]"
      ]
     },
     "execution_count": 69,
     "metadata": {},
     "output_type": "execute_result"
    }
   ],
   "source": [
    "predictions.rdd.take(2)"
   ]
  },
  {
   "cell_type": "code",
   "execution_count": 70,
   "metadata": {},
   "outputs": [
    {
     "name": "stderr",
     "output_type": "stream",
     "text": [
      "C:\\ProgramData\\Anaconda3\\lib\\site-packages\\pyspark\\sql\\context.py:125: FutureWarning: Deprecated in 3.0.0. Use SparkSession.builder.getOrCreate() instead.\n",
      "  warnings.warn(\n"
     ]
    },
    {
     "name": "stdout",
     "output_type": "stream",
     "text": [
      "\n",
      "Printing the confusion matrix obtaned from multiclass metrics\n",
      "[[1.25887e+05 5.90460e+04 1.59000e+02 0.00000e+00 0.00000e+00 0.00000e+00\n",
      "  5.36400e+03]\n",
      " [4.67860e+04 2.02939e+05 4.42200e+03 1.16000e+02 5.50000e+01 0.00000e+00\n",
      "  8.02000e+02]\n",
      " [0.00000e+00 5.43600e+03 2.60830e+04 6.60000e+02 0.00000e+00 0.00000e+00\n",
      "  0.00000e+00]\n",
      " [0.00000e+00 1.80000e+01 1.45200e+03 1.00600e+03 0.00000e+00 0.00000e+00\n",
      "  0.00000e+00]\n",
      " [3.00000e+00 7.75900e+03 6.91000e+02 0.00000e+00 7.90000e+01 0.00000e+00\n",
      "  0.00000e+00]\n",
      " [0.00000e+00 5.76600e+03 9.21800e+03 5.88000e+02 0.00000e+00 0.00000e+00\n",
      "  0.00000e+00]\n",
      " [7.97200e+03 9.10000e+01 5.80000e+01 0.00000e+00 0.00000e+00 0.00000e+00\n",
      "  1.03190e+04]]\n"
     ]
    }
   ],
   "source": [
    "#  for getting the confusion matrix out \n",
    "#  we have multiclassmetrics available from mllib  which expects RDDs\n",
    "#  we can always get the underlying RDD\n",
    "from pyspark.mllib.evaluation import MulticlassMetrics\n",
    "predictionRDD = predictions.select('prediction', 'Cover_Type').rdd\n",
    "multiclassMetrics = MulticlassMetrics(predictionRDD)\n",
    "print(\"\\nPrinting the confusion matrix obtaned from multiclass metrics\")\n",
    "\n",
    "print(multiclassMetrics.confusionMatrix().toArray())"
   ]
  },
  {
   "cell_type": "code",
   "execution_count": 71,
   "metadata": {},
   "outputs": [
    {
     "name": "stdout",
     "output_type": "stream",
     "text": [
      "522775\n",
      "522775.0\n"
     ]
    }
   ],
   "source": [
    "print(assembledTrainData.count())\n",
    "print(multiclassMetrics.confusionMatrix().toArray().sum())"
   ]
  },
  {
   "cell_type": "code",
   "execution_count": 72,
   "metadata": {},
   "outputs": [
    {
     "data": {
      "text/plain": [
       "[0.4052221318923055,\n",
       " 0.5419176509970829,\n",
       " 0.06839271196977667,\n",
       " 0.00525465066233083,\n",
       " 0.018158863755917937,\n",
       " 0.03322079288412797,\n",
       " 0.03923293960116685]"
      ]
     },
     "execution_count": 72,
     "metadata": {},
     "output_type": "execute_result"
    }
   ],
   "source": [
    " data.groupBy(\"Cover_Type\").count().orderBy('Cover_Type').select('count').rdd.map(lambda x: x[0]/522775).collect()"
   ]
  },
  {
   "cell_type": "code",
   "execution_count": 73,
   "metadata": {},
   "outputs": [],
   "source": [
    "def classProbabilities(data):\n",
    "    '''\n",
    "    to calcluate distribution of result classes in any part dataframe that we obtain using splits\n",
    "    '''\n",
    "    total = data.count()\n",
    "    return data.groupBy(\"Cover_Type\").count() \\\n",
    "      .orderBy(\"Cover_Type\") \\\n",
    "      .select(\"count\") \\\n",
    "      .rdd.map(lambda x: x[0]/522775).collect()  "
   ]
  },
  {
   "cell_type": "code",
   "execution_count": 74,
   "metadata": {},
   "outputs": [
    {
     "name": "stdout",
     "output_type": "stream",
     "text": [
      "------RANDOM CLASSIFIER PROBABILITIES--------\n",
      "\n",
      "Random classification prbability -  0.041904663410863796\n"
     ]
    }
   ],
   "source": [
    "from functools import reduce\n",
    "print(\"------RANDOM CLASSIFIER PROBABILITIES--------\")\n",
    "trainProbabilities = classProbabilities(trainData)\n",
    "testProbabilities = classProbabilities(testData)\n",
    "randomClassificationProbability = reduce(lambda x, y: x + y , [ a[0] * a[1] \n",
    "                                    for a  in zip(trainProbabilities, testProbabilities)])\n",
    "print(\"\\nRandom classification prbability - \" , randomClassificationProbability)"
   ]
  },
  {
   "cell_type": "code",
   "execution_count": 75,
   "metadata": {},
   "outputs": [
    {
     "name": "stdout",
     "output_type": "stream",
     "text": [
      "\n",
      "Now using pipelines and grids to find the best fit\n"
     ]
    }
   ],
   "source": [
    "print(\"\\nNow using pipelines and grids to find the best fit\")\n",
    "#   evaluate(trainData, testData)\n",
    "\n",
    "# inputCols = list(filter(lambda x: x != 'Cover_Type', trainData.columns))\n",
    "assembler = VectorAssembler().setInputCols(col_list).setOutputCol('featureVector')\n",
    "classifier = DecisionTreeClassifier(featuresCol='featureVector', labelCol='Cover_Type', \n",
    "                                    predictionCol='prediction', seed=100)\n",
    "from pyspark.ml import PipelineModel, Pipeline \n",
    "from pyspark.ml.tuning import ParamGridBuilder, TrainValidationSplit \n",
    "\n",
    "pipeline = Pipeline(stages=[assembler, classifier])\n",
    "\n",
    "paramGrid = ParamGridBuilder()  \\\n",
    ".addGrid(classifier.impurity, [\"gini\", \"entropy\"]) \\\n",
    ".addGrid(classifier.maxDepth, [1, 20]) \\\n",
    ".addGrid(classifier.maxBins, [40, 300]) \\\n",
    ".addGrid(classifier.minInfoGain, [0.0, 0.05]) \\\n",
    ".build()\n",
    "\n",
    "multiClassEval = MulticlassClassificationEvaluator(labelCol='Cover_Type', \n",
    "                                        predictionCol= 'prediction', metricName='accuracy')\n",
    "\n",
    "# we employ the traihihg validation split to run the pipeline\n",
    "#   and setting train ratio we can hold out a cross vaildatoin set from within the training data\n",
    "#     val validator = new TrainValidationSplit().\n",
    "#       setSeed(Random.nextLong()).\n",
    "#       setEstimator(pipeline).\n",
    "#       setEvaluator(multiclassEval).\n",
    "#       setEstimatorParamMaps(paramGrid).\n",
    "#       setTrainRatio(0.9)\n",
    "validator = TrainValidationSplit(\n",
    "    estimator=pipeline, \n",
    "    estimatorParamMaps=paramGrid, \n",
    "    evaluator=multiClassEval,\n",
    "    trainRatio=0.9,\n",
    "    seed= 100\n",
    ")\n",
    "\n",
    "#  we fit it to the train data\n",
    "validatorModel = validator.fit(trainData)\n"
   ]
  },
  {
   "cell_type": "code",
   "execution_count": 76,
   "metadata": {},
   "outputs": [],
   "source": [
    "paramsAndMetrics =  sorted(\n",
    "    zip(validatorModel.validationMetrics, validatorModel.getEstimatorParamMaps()), \n",
    "    key = lambda x: -x[0])"
   ]
  },
  {
   "cell_type": "code",
   "execution_count": 77,
   "metadata": {},
   "outputs": [
    {
     "data": {
      "text/plain": [
       "[(0.9095193573622851,\n",
       "  {Param(parent='DecisionTreeClassifier_abad881777f8', name='impurity', doc='Criterion used for information gain calculation (case-insensitive). Supported options: entropy, gini'): 'entropy',\n",
       "   Param(parent='DecisionTreeClassifier_abad881777f8', name='maxDepth', doc='Maximum depth of the tree. (>= 0) E.g., depth 0 means 1 leaf node; depth 1 means 1 internal node + 2 leaf nodes. Must be in range [0, 30].'): 20,\n",
       "   Param(parent='DecisionTreeClassifier_abad881777f8', name='maxBins', doc='Max number of bins for discretizing continuous features.  Must be >=2 and >= number of categories for any categorical feature.'): 40,\n",
       "   Param(parent='DecisionTreeClassifier_abad881777f8', name='minInfoGain', doc='Minimum information gain for a split to be considered at a tree node.'): 0.0}),\n",
       " (0.9085462420576619,\n",
       "  {Param(parent='DecisionTreeClassifier_abad881777f8', name='impurity', doc='Criterion used for information gain calculation (case-insensitive). Supported options: entropy, gini'): 'entropy',\n",
       "   Param(parent='DecisionTreeClassifier_abad881777f8', name='maxDepth', doc='Maximum depth of the tree. (>= 0) E.g., depth 0 means 1 leaf node; depth 1 means 1 internal node + 2 leaf nodes. Must be in range [0, 30].'): 20,\n",
       "   Param(parent='DecisionTreeClassifier_abad881777f8', name='maxBins', doc='Max number of bins for discretizing continuous features.  Must be >=2 and >= number of categories for any categorical feature.'): 300,\n",
       "   Param(parent='DecisionTreeClassifier_abad881777f8', name='minInfoGain', doc='Minimum information gain for a split to be considered at a tree node.'): 0.0}),\n",
       " (0.9041767635329809,\n",
       "  {Param(parent='DecisionTreeClassifier_abad881777f8', name='impurity', doc='Criterion used for information gain calculation (case-insensitive). Supported options: entropy, gini'): 'gini',\n",
       "   Param(parent='DecisionTreeClassifier_abad881777f8', name='maxDepth', doc='Maximum depth of the tree. (>= 0) E.g., depth 0 means 1 leaf node; depth 1 means 1 internal node + 2 leaf nodes. Must be in range [0, 30].'): 20,\n",
       "   Param(parent='DecisionTreeClassifier_abad881777f8', name='maxBins', doc='Max number of bins for discretizing continuous features.  Must be >=2 and >= number of categories for any categorical feature.'): 40,\n",
       "   Param(parent='DecisionTreeClassifier_abad881777f8', name='minInfoGain', doc='Minimum information gain for a split to be considered at a tree node.'): 0.0}),\n",
       " (0.9036615848422981,\n",
       "  {Param(parent='DecisionTreeClassifier_abad881777f8', name='impurity', doc='Criterion used for information gain calculation (case-insensitive). Supported options: entropy, gini'): 'gini',\n",
       "   Param(parent='DecisionTreeClassifier_abad881777f8', name='maxDepth', doc='Maximum depth of the tree. (>= 0) E.g., depth 0 means 1 leaf node; depth 1 means 1 internal node + 2 leaf nodes. Must be in range [0, 30].'): 20,\n",
       "   Param(parent='DecisionTreeClassifier_abad881777f8', name='maxBins', doc='Max number of bins for discretizing continuous features.  Must be >=2 and >= number of categories for any categorical feature.'): 300,\n",
       "   Param(parent='DecisionTreeClassifier_abad881777f8', name='minInfoGain', doc='Minimum information gain for a split to be considered at a tree node.'): 0.0}),\n",
       " (0.7285389913946078,\n",
       "  {Param(parent='DecisionTreeClassifier_abad881777f8', name='impurity', doc='Criterion used for information gain calculation (case-insensitive). Supported options: entropy, gini'): 'entropy',\n",
       "   Param(parent='DecisionTreeClassifier_abad881777f8', name='maxDepth', doc='Maximum depth of the tree. (>= 0) E.g., depth 0 means 1 leaf node; depth 1 means 1 internal node + 2 leaf nodes. Must be in range [0, 30].'): 20,\n",
       "   Param(parent='DecisionTreeClassifier_abad881777f8', name='maxBins', doc='Max number of bins for discretizing continuous features.  Must be >=2 and >= number of categories for any categorical feature.'): 40,\n",
       "   Param(parent='DecisionTreeClassifier_abad881777f8', name='minInfoGain', doc='Minimum information gain for a split to be considered at a tree node.'): 0.05}),\n",
       " (0.7225285733366407,\n",
       "  {Param(parent='DecisionTreeClassifier_abad881777f8', name='impurity', doc='Criterion used for information gain calculation (case-insensitive). Supported options: entropy, gini'): 'entropy',\n",
       "   Param(parent='DecisionTreeClassifier_abad881777f8', name='maxDepth', doc='Maximum depth of the tree. (>= 0) E.g., depth 0 means 1 leaf node; depth 1 means 1 internal node + 2 leaf nodes. Must be in range [0, 30].'): 20,\n",
       "   Param(parent='DecisionTreeClassifier_abad881777f8', name='maxBins', doc='Max number of bins for discretizing continuous features.  Must be >=2 and >= number of categories for any categorical feature.'): 300,\n",
       "   Param(parent='DecisionTreeClassifier_abad881777f8', name='minInfoGain', doc='Minimum information gain for a split to be considered at a tree node.'): 0.05}),\n",
       " (0.6684157301226888,\n",
       "  {Param(parent='DecisionTreeClassifier_abad881777f8', name='impurity', doc='Criterion used for information gain calculation (case-insensitive). Supported options: entropy, gini'): 'gini',\n",
       "   Param(parent='DecisionTreeClassifier_abad881777f8', name='maxDepth', doc='Maximum depth of the tree. (>= 0) E.g., depth 0 means 1 leaf node; depth 1 means 1 internal node + 2 leaf nodes. Must be in range [0, 30].'): 20,\n",
       "   Param(parent='DecisionTreeClassifier_abad881777f8', name='maxBins', doc='Max number of bins for discretizing continuous features.  Must be >=2 and >= number of categories for any categorical feature.'): 300,\n",
       "   Param(parent='DecisionTreeClassifier_abad881777f8', name='minInfoGain', doc='Minimum information gain for a split to be considered at a tree node.'): 0.05}),\n",
       " (0.6657444332080368,\n",
       "  {Param(parent='DecisionTreeClassifier_abad881777f8', name='impurity', doc='Criterion used for information gain calculation (case-insensitive). Supported options: entropy, gini'): 'gini',\n",
       "   Param(parent='DecisionTreeClassifier_abad881777f8', name='maxDepth', doc='Maximum depth of the tree. (>= 0) E.g., depth 0 means 1 leaf node; depth 1 means 1 internal node + 2 leaf nodes. Must be in range [0, 30].'): 20,\n",
       "   Param(parent='DecisionTreeClassifier_abad881777f8', name='maxBins', doc='Max number of bins for discretizing continuous features.  Must be >=2 and >= number of categories for any categorical feature.'): 40,\n",
       "   Param(parent='DecisionTreeClassifier_abad881777f8', name='minInfoGain', doc='Minimum information gain for a split to be considered at a tree node.'): 0.05}),\n",
       " (0.6329065618500639,\n",
       "  {Param(parent='DecisionTreeClassifier_abad881777f8', name='impurity', doc='Criterion used for information gain calculation (case-insensitive). Supported options: entropy, gini'): 'gini',\n",
       "   Param(parent='DecisionTreeClassifier_abad881777f8', name='maxDepth', doc='Maximum depth of the tree. (>= 0) E.g., depth 0 means 1 leaf node; depth 1 means 1 internal node + 2 leaf nodes. Must be in range [0, 30].'): 1,\n",
       "   Param(parent='DecisionTreeClassifier_abad881777f8', name='maxBins', doc='Max number of bins for discretizing continuous features.  Must be >=2 and >= number of categories for any categorical feature.'): 300,\n",
       "   Param(parent='DecisionTreeClassifier_abad881777f8', name='minInfoGain', doc='Minimum information gain for a split to be considered at a tree node.'): 0.0}),\n",
       " (0.6329065618500639,\n",
       "  {Param(parent='DecisionTreeClassifier_abad881777f8', name='impurity', doc='Criterion used for information gain calculation (case-insensitive). Supported options: entropy, gini'): 'gini',\n",
       "   Param(parent='DecisionTreeClassifier_abad881777f8', name='maxDepth', doc='Maximum depth of the tree. (>= 0) E.g., depth 0 means 1 leaf node; depth 1 means 1 internal node + 2 leaf nodes. Must be in range [0, 30].'): 1,\n",
       "   Param(parent='DecisionTreeClassifier_abad881777f8', name='maxBins', doc='Max number of bins for discretizing continuous features.  Must be >=2 and >= number of categories for any categorical feature.'): 300,\n",
       "   Param(parent='DecisionTreeClassifier_abad881777f8', name='minInfoGain', doc='Minimum information gain for a split to be considered at a tree node.'): 0.05}),\n",
       " (0.6305787173958671,\n",
       "  {Param(parent='DecisionTreeClassifier_abad881777f8', name='impurity', doc='Criterion used for information gain calculation (case-insensitive). Supported options: entropy, gini'): 'gini',\n",
       "   Param(parent='DecisionTreeClassifier_abad881777f8', name='maxDepth', doc='Maximum depth of the tree. (>= 0) E.g., depth 0 means 1 leaf node; depth 1 means 1 internal node + 2 leaf nodes. Must be in range [0, 30].'): 1,\n",
       "   Param(parent='DecisionTreeClassifier_abad881777f8', name='maxBins', doc='Max number of bins for discretizing continuous features.  Must be >=2 and >= number of categories for any categorical feature.'): 40,\n",
       "   Param(parent='DecisionTreeClassifier_abad881777f8', name='minInfoGain', doc='Minimum information gain for a split to be considered at a tree node.'): 0.0}),\n",
       " (0.6305787173958671,\n",
       "  {Param(parent='DecisionTreeClassifier_abad881777f8', name='impurity', doc='Criterion used for information gain calculation (case-insensitive). Supported options: entropy, gini'): 'gini',\n",
       "   Param(parent='DecisionTreeClassifier_abad881777f8', name='maxDepth', doc='Maximum depth of the tree. (>= 0) E.g., depth 0 means 1 leaf node; depth 1 means 1 internal node + 2 leaf nodes. Must be in range [0, 30].'): 1,\n",
       "   Param(parent='DecisionTreeClassifier_abad881777f8', name='maxBins', doc='Max number of bins for discretizing continuous features.  Must be >=2 and >= number of categories for any categorical feature.'): 40,\n",
       "   Param(parent='DecisionTreeClassifier_abad881777f8', name='minInfoGain', doc='Minimum information gain for a split to be considered at a tree node.'): 0.05}),\n",
       " (0.49222461790913774,\n",
       "  {Param(parent='DecisionTreeClassifier_abad881777f8', name='impurity', doc='Criterion used for information gain calculation (case-insensitive). Supported options: entropy, gini'): 'entropy',\n",
       "   Param(parent='DecisionTreeClassifier_abad881777f8', name='maxDepth', doc='Maximum depth of the tree. (>= 0) E.g., depth 0 means 1 leaf node; depth 1 means 1 internal node + 2 leaf nodes. Must be in range [0, 30].'): 1,\n",
       "   Param(parent='DecisionTreeClassifier_abad881777f8', name='maxBins', doc='Max number of bins for discretizing continuous features.  Must be >=2 and >= number of categories for any categorical feature.'): 40,\n",
       "   Param(parent='DecisionTreeClassifier_abad881777f8', name='minInfoGain', doc='Minimum information gain for a split to be considered at a tree node.'): 0.0}),\n",
       " (0.49222461790913774,\n",
       "  {Param(parent='DecisionTreeClassifier_abad881777f8', name='impurity', doc='Criterion used for information gain calculation (case-insensitive). Supported options: entropy, gini'): 'entropy',\n",
       "   Param(parent='DecisionTreeClassifier_abad881777f8', name='maxDepth', doc='Maximum depth of the tree. (>= 0) E.g., depth 0 means 1 leaf node; depth 1 means 1 internal node + 2 leaf nodes. Must be in range [0, 30].'): 1,\n",
       "   Param(parent='DecisionTreeClassifier_abad881777f8', name='maxBins', doc='Max number of bins for discretizing continuous features.  Must be >=2 and >= number of categories for any categorical feature.'): 40,\n",
       "   Param(parent='DecisionTreeClassifier_abad881777f8', name='minInfoGain', doc='Minimum information gain for a split to be considered at a tree node.'): 0.05}),\n",
       " (0.49222461790913774,\n",
       "  {Param(parent='DecisionTreeClassifier_abad881777f8', name='impurity', doc='Criterion used for information gain calculation (case-insensitive). Supported options: entropy, gini'): 'entropy',\n",
       "   Param(parent='DecisionTreeClassifier_abad881777f8', name='maxDepth', doc='Maximum depth of the tree. (>= 0) E.g., depth 0 means 1 leaf node; depth 1 means 1 internal node + 2 leaf nodes. Must be in range [0, 30].'): 1,\n",
       "   Param(parent='DecisionTreeClassifier_abad881777f8', name='maxBins', doc='Max number of bins for discretizing continuous features.  Must be >=2 and >= number of categories for any categorical feature.'): 300,\n",
       "   Param(parent='DecisionTreeClassifier_abad881777f8', name='minInfoGain', doc='Minimum information gain for a split to be considered at a tree node.'): 0.0}),\n",
       " (0.49222461790913774,\n",
       "  {Param(parent='DecisionTreeClassifier_abad881777f8', name='impurity', doc='Criterion used for information gain calculation (case-insensitive). Supported options: entropy, gini'): 'entropy',\n",
       "   Param(parent='DecisionTreeClassifier_abad881777f8', name='maxDepth', doc='Maximum depth of the tree. (>= 0) E.g., depth 0 means 1 leaf node; depth 1 means 1 internal node + 2 leaf nodes. Must be in range [0, 30].'): 1,\n",
       "   Param(parent='DecisionTreeClassifier_abad881777f8', name='maxBins', doc='Max number of bins for discretizing continuous features.  Must be >=2 and >= number of categories for any categorical feature.'): 300,\n",
       "   Param(parent='DecisionTreeClassifier_abad881777f8', name='minInfoGain', doc='Minimum information gain for a split to be considered at a tree node.'): 0.05})]"
      ]
     },
     "execution_count": 77,
     "metadata": {},
     "output_type": "execute_result"
    }
   ],
   "source": [
    "paramsAndMetrics"
   ]
  },
  {
   "cell_type": "code",
   "execution_count": 78,
   "metadata": {},
   "outputs": [],
   "source": [
    "bestModel = validatorModel.bestModel\n",
    "ppmodel = bestModel.stages[-1]"
   ]
  },
  {
   "cell_type": "code",
   "execution_count": 86,
   "metadata": {},
   "outputs": [
    {
     "data": {
      "text/plain": [
       "2"
      ]
     },
     "execution_count": 86,
     "metadata": {},
     "output_type": "execute_result"
    }
   ],
   "source": [
    "len(bestModel.stages)"
   ]
  },
  {
   "cell_type": "code",
   "execution_count": 80,
   "metadata": {},
   "outputs": [
    {
     "name": "stdout",
     "output_type": "stream",
     "text": [
      "Printing the max validation metrics achieved by any of the runs\n",
      "0.9095193573622851\n",
      "\n",
      "Accuracy on the test data:  0.9130106289815753\n",
      "\n",
      "Accuracy on the train data:  0.9506384199703505\n"
     ]
    }
   ],
   "source": [
    "print(\"Printing the max validation metrics achieved by any of the runs\")\n",
    "print(reduce(lambda x, y: x if x > y else y, validatorModel.validationMetrics))\n",
    "\n",
    "#  find out the performance for the test data\n",
    "testAccuracy = multiClassEval.evaluate(bestModel.transform(testData))\n",
    "print(\"\\nAccuracy on the test data: \" , testAccuracy)\n",
    "\n",
    "trainAccuracy = multiClassEval.evaluate(bestModel.transform(trainData))\n",
    "print(\"\\nAccuracy on the train data: \" , trainAccuracy)"
   ]
  },
  {
   "cell_type": "code",
   "execution_count": 81,
   "metadata": {},
   "outputs": [
    {
     "data": {
      "text/plain": [
       "[0.0, 0.0, 1.0]"
      ]
     },
     "execution_count": 81,
     "metadata": {},
     "output_type": "execute_result"
    }
   ],
   "source": [
    "import numpy as np\n",
    "tarr = np.array([0, 0, 1.0])\n",
    "tarr.tolist()"
   ]
  },
  {
   "cell_type": "code",
   "execution_count": 82,
   "metadata": {},
   "outputs": [],
   "source": [
    "# UnOneHotEncode\n",
    "def unencodeOneHot(data):\n",
    "    wildernessCols = list(map(lambda x: \"Wilderness_Area_$\" + str(x), range(4)))\n",
    "    wildernessAssembler = VectorAssembler(\n",
    "          inputCols = wildernessCols, \n",
    "          outputCol = \"wilderness\"\n",
    "    )\n",
    "\n",
    "    #   we have a udf here which is going to find the item which is 1.0 in the 4 columns\n",
    "    #  for wilderness and the 40 for the soil\n",
    "    unhotUDF = udf(lambda vec: vec.toArray().tolist().index(1.0))\n",
    "\n",
    "    withWilderness = wildernessAssembler.transform(data)  \n",
    "    withWilderness = withWilderness.select([x for x in withWilderness.columns \n",
    "                                            if x not in wildernessCols])\n",
    "    withWilderness = withWilderness.withColumn('wilderness', unhotUDF('wilderness').cast('double'))\n",
    "\n",
    "    soilCols = list(map(lambda x: \"Soil_type_$\" + str(x), range(40)))\n",
    "    soilAssembler = VectorAssembler(\n",
    "          inputCols = soilCols, \n",
    "          outputCol = \"soil\"\n",
    "    )\n",
    "\n",
    "    soilDF = soilAssembler.transform(withWilderness)\n",
    "    soilDF = soilDF.select([x for x in soilDF.columns \n",
    "                                            if x not in soilCols])\n",
    "    soilDF = soilDF.withColumn('soil', unhotUDF('soil').cast('double'))\n",
    "\n",
    "    return soilDF\n"
   ]
  },
  {
   "cell_type": "code",
   "execution_count": 83,
   "metadata": {},
   "outputs": [],
   "source": [
    "unencTrainData = unencodeOneHot(trainData)"
   ]
  },
  {
   "cell_type": "code",
   "execution_count": 84,
   "metadata": {},
   "outputs": [
    {
     "name": "stdout",
     "output_type": "stream",
     "text": [
      "+----+-----+\n",
      "|soil|count|\n",
      "+----+-----+\n",
      "| 0.0| 2714|\n",
      "| 1.0| 6753|\n",
      "| 2.0| 4349|\n",
      "| 3.0|11176|\n",
      "| 4.0| 1437|\n",
      "| 5.0| 5920|\n",
      "| 6.0|   95|\n",
      "| 7.0|  160|\n",
      "| 8.0| 1012|\n",
      "| 9.0|29329|\n",
      "|10.0|11161|\n",
      "|11.0|26954|\n",
      "|12.0|15668|\n",
      "|13.0|  540|\n",
      "|14.0|    2|\n",
      "|15.0| 2576|\n",
      "|16.0| 3088|\n",
      "|17.0| 1724|\n",
      "|18.0| 3622|\n",
      "|19.0| 8287|\n",
      "+----+-----+\n",
      "only showing top 20 rows\n",
      "\n"
     ]
    }
   ],
   "source": [
    "unencTrainData.groupBy('soil').count().orderBy('soil').show()"
   ]
  },
  {
   "cell_type": "markdown",
   "metadata": {},
   "source": [
    "# Random Forest"
   ]
  },
  {
   "cell_type": "code",
   "execution_count": 89,
   "metadata": {},
   "outputs": [
    {
     "data": {
      "text/plain": [
       "['Elevation',\n",
       " 'Aspect',\n",
       " 'Slope',\n",
       " 'Horizontal_Distance_To_Hydrology',\n",
       " 'Vertical_Distance_To_Hydrology',\n",
       " 'Horizontal_Distance_To_Roadways',\n",
       " 'Hillshade_9am',\n",
       " 'Hillshade_Noon',\n",
       " 'Hillshade_3pm',\n",
       " 'Horizontal_Distance_To_Fire_Points',\n",
       " 'wilderness',\n",
       " 'soil']"
      ]
     },
     "execution_count": 89,
     "metadata": {},
     "output_type": "execute_result"
    }
   ],
   "source": [
    "unencode_col_list = unencTrainData.columns\n",
    "unencode_col_list.remove('Cover_Type')\n",
    "unencode_col_list"
   ]
  },
  {
   "cell_type": "code",
   "execution_count": 90,
   "metadata": {},
   "outputs": [],
   "source": [
    "unencTrainData = unencodeOneHot(trainData)\n",
    "unencTestData = unencodeOneHot(testData)\n",
    "# inputCols = list(filter(lambda x: x != 'Cover_Type', unencTrainData.columns))\n",
    "\n",
    "assemblerForest = VectorAssembler().setInputCols(\n",
    "    unencode_col_list).setOutputCol('featureVector')\n",
    "\n",
    "indexerForest = VectorIndexer(\n",
    "      maxCategories = 40,\n",
    "      inputCol = \"featureVector\", \n",
    "      outputCol = \"indexedVector\")\n",
    "\n",
    "classifierForest = RandomForestClassifier(\n",
    "      seed = 100, \n",
    "      labelCol = \"Cover_Type\", \n",
    "      featuresCol = \"indexedVector\", \n",
    "      predictionCol = \"prediction\", \n",
    "      impurity = \"entropy\",\n",
    "      maxDepth = 20,\n",
    "      maxBins = 300)\n",
    "\n",
    "pipelineForest = Pipeline(stages=[assemblerForest, \n",
    "                                  indexerForest, classifierForest])\n",
    "\n",
    "paramGridForest = ParamGridBuilder()  \\\n",
    ".addGrid(classifierForest.minInfoGain, [0.0, 0.05]) \\\n",
    ".addGrid(classifierForest.numTrees, [1, 10]) \\\n",
    ".build()\n",
    "\n",
    "multiClassEvalForest = MulticlassClassificationEvaluator(labelCol='Cover_Type', \n",
    "                                        predictionCol= 'prediction',\n",
    "                                        metricName='accuracy')\n",
    "\n",
    "validatorForest = TrainValidationSplit(\n",
    "    estimator=pipelineForest, \n",
    "    estimatorParamMaps=paramGridForest, \n",
    "    evaluator=multiClassEvalForest,\n",
    "    trainRatio=0.9,\n",
    "    seed= 100\n",
    ")\n",
    "\n",
    "#  we fit it to the train data\n",
    "validatorForest = validatorForest.fit(unencTrainData)\n"
   ]
  },
  {
   "cell_type": "code",
   "execution_count": 91,
   "metadata": {},
   "outputs": [
    {
     "name": "stdout",
     "output_type": "stream",
     "text": [
      "\n",
      "The best forest model parameters\n",
      "{Param(parent='RandomForestClassifier_7d5d75932eb9', name='bootstrap', doc='Whether bootstrap samples are used when building trees.'): True, Param(parent='RandomForestClassifier_7d5d75932eb9', name='cacheNodeIds', doc='If false, the algorithm will pass trees to executors to match instances with nodes. If true, the algorithm will cache node IDs for each instance. Caching can speed up training of deeper trees. Users can set how often should the cache be checkpointed or disable it by setting checkpointInterval.'): False, Param(parent='RandomForestClassifier_7d5d75932eb9', name='checkpointInterval', doc='set checkpoint interval (>= 1) or disable checkpoint (-1). E.g. 10 means that the cache will get checkpointed every 10 iterations. Note: this setting will be ignored if the checkpoint directory is not set in the SparkContext.'): 10, Param(parent='RandomForestClassifier_7d5d75932eb9', name='featureSubsetStrategy', doc=\"The number of features to consider for splits at each tree node. Supported options: 'auto' (choose automatically for task: If numTrees == 1, set to 'all'. If numTrees > 1 (forest), set to 'sqrt' for classification and to 'onethird' for regression), 'all' (use all features), 'onethird' (use 1/3 of the features), 'sqrt' (use sqrt(number of features)), 'log2' (use log2(number of features)), 'n' (when n is in the range (0, 1.0], use n * number of features. When n is in the range (1, number of features), use n features). default = 'auto'\"): 'auto', Param(parent='RandomForestClassifier_7d5d75932eb9', name='featuresCol', doc='features column name.'): 'indexedVector', Param(parent='RandomForestClassifier_7d5d75932eb9', name='impurity', doc='Criterion used for information gain calculation (case-insensitive). Supported options: entropy, gini'): 'entropy', Param(parent='RandomForestClassifier_7d5d75932eb9', name='labelCol', doc='label column name.'): 'Cover_Type', Param(parent='RandomForestClassifier_7d5d75932eb9', name='leafCol', doc='Leaf indices column name. Predicted leaf index of each instance in each tree by preorder.'): '', Param(parent='RandomForestClassifier_7d5d75932eb9', name='maxBins', doc='Max number of bins for discretizing continuous features.  Must be >=2 and >= number of categories for any categorical feature.'): 300, Param(parent='RandomForestClassifier_7d5d75932eb9', name='maxDepth', doc='Maximum depth of the tree. (>= 0) E.g., depth 0 means 1 leaf node; depth 1 means 1 internal node + 2 leaf nodes. Must be in range [0, 30].'): 20, Param(parent='RandomForestClassifier_7d5d75932eb9', name='maxMemoryInMB', doc='Maximum memory in MB allocated to histogram aggregation. If too small, then 1 node will be split per iteration, and its aggregates may exceed this size.'): 256, Param(parent='RandomForestClassifier_7d5d75932eb9', name='minInfoGain', doc='Minimum information gain for a split to be considered at a tree node.'): 0.0, Param(parent='RandomForestClassifier_7d5d75932eb9', name='minInstancesPerNode', doc='Minimum number of instances each child must have after split. If a split causes the left or right child to have fewer than minInstancesPerNode, the split will be discarded as invalid. Should be >= 1.'): 1, Param(parent='RandomForestClassifier_7d5d75932eb9', name='minWeightFractionPerNode', doc='Minimum fraction of the weighted sample count that each child must have after split. If a split causes the fraction of the total weight in the left or right child to be less than minWeightFractionPerNode, the split will be discarded as invalid. Should be in interval [0.0, 0.5).'): 0.0, Param(parent='RandomForestClassifier_7d5d75932eb9', name='numTrees', doc='Number of trees to train (>= 1).'): 10, Param(parent='RandomForestClassifier_7d5d75932eb9', name='predictionCol', doc='prediction column name.'): 'prediction', Param(parent='RandomForestClassifier_7d5d75932eb9', name='probabilityCol', doc='Column name for predicted class conditional probabilities. Note: Not all models output well-calibrated probability estimates! These probabilities should be treated as confidences, not precise probabilities.'): 'probability', Param(parent='RandomForestClassifier_7d5d75932eb9', name='rawPredictionCol', doc='raw prediction (a.k.a. confidence) column name.'): 'rawPrediction', Param(parent='RandomForestClassifier_7d5d75932eb9', name='seed', doc='random seed.'): 100, Param(parent='RandomForestClassifier_7d5d75932eb9', name='subsamplingRate', doc='Fraction of the training data used for learning each decision tree, in range (0, 1].'): 1.0}\n",
      "\n",
      "The nubmer of trees used by the forestModel\n",
      "10\n"
     ]
    }
   ],
   "source": [
    "bestModel = validatorForest.bestModel\n",
    "print(\"\\nThe best forest model parameters\")\n",
    "print(bestModel.stages[-1].extractParamMap())\n",
    "print(\"\\nThe nubmer of trees used by the forestModel\")\n",
    "print(bestModel.stages[-1].getNumTrees)"
   ]
  },
  {
   "cell_type": "code",
   "execution_count": 92,
   "metadata": {},
   "outputs": [
    {
     "name": "stdout",
     "output_type": "stream",
     "text": [
      "\n",
      "Feature importances obtained from random forest\n",
      "0.948280302900218\n"
     ]
    }
   ],
   "source": [
    "print(\"\\nFeature importances obtained from random forest\")\n",
    "sorted([x for x  in zip(unencTrainData.columns, \n",
    "                        bestModel.stages[-1].featureImportances.toArray())], \n",
    "       key=lambda x: -x[1])\n",
    "\n",
    "testAccuracy = multiClassEvalForest.evaluate(bestModel.transform(unencTestData))\n",
    "print(testAccuracy)\n",
    "\n",
    "#     bestModel.transform(unencTestData.drop(\"Cover_Type\")).select(\"prediction\").show()"
   ]
  }
 ],
 "metadata": {
  "kernelspec": {
   "display_name": "Python 3 (ipykernel)",
   "language": "python",
   "name": "python3"
  },
  "language_info": {
   "codemirror_mode": {
    "name": "ipython",
    "version": 3
   },
   "file_extension": ".py",
   "mimetype": "text/x-python",
   "name": "python",
   "nbconvert_exporter": "python",
   "pygments_lexer": "ipython3",
   "version": "3.9.7"
  }
 },
 "nbformat": 4,
 "nbformat_minor": 2
}
