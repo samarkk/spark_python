{
 "cells": [
  {
   "cell_type": "code",
   "execution_count": 1,
   "metadata": {},
   "outputs": [],
   "source": [
    "import os\n",
    "import sys\n",
    "os.environ['SPARK_HOME']='/usr/lib/spark'\n",
    "os.environ['PYLIB']=os.environ['SPARK_HOME']+'/python/lib'\n",
    "sys.path.insert(0,os.environ['PYLIB']+'/py4j-0.10.7-src.zip')\n",
    "sys.path.insert(1,os.environ['PYLIB']+'/pyspark.zip')"
   ]
  },
  {
   "cell_type": "code",
   "execution_count": 2,
   "metadata": {},
   "outputs": [],
   "source": [
    "from pyspark.sql import SparkSession\n",
    "import pandas as pd\n",
    "import numpy as np"
   ]
  },
  {
   "cell_type": "code",
   "execution_count": 3,
   "metadata": {},
   "outputs": [],
   "source": [
    "spark = SparkSession.builder.appName('TestHive') \\\n",
    ".config('spark.warehouse.dir','/apps/hive/warehouse') \\\n",
    ".enableHiveSupport().getOrCreate()"
   ]
  },
  {
   "cell_type": "code",
   "execution_count": 4,
   "metadata": {},
   "outputs": [
    {
     "data": {
      "text/plain": [
       "'2.3.0'"
      ]
     },
     "execution_count": 4,
     "metadata": {},
     "output_type": "execute_result"
    }
   ],
   "source": [
    "# Having set the driver and driver options we should have spark representing spark session \n",
    "# available straight away\n",
    "spark.version"
   ]
  },
  {
   "cell_type": "code",
   "execution_count": 5,
   "metadata": {},
   "outputs": [],
   "source": [
    "sc = spark.sparkContext"
   ]
  },
  {
   "cell_type": "code",
   "execution_count": 6,
   "metadata": {},
   "outputs": [
    {
     "name": "stdout",
     "output_type": "stream",
     "text": [
      "+--------+--------------------+-----------+\n",
      "|database|           tableName|isTemporary|\n",
      "+--------+--------------------+-----------+\n",
      "| default|          categories|      false|\n",
      "| default|            cmfvwtbl|      false|\n",
      "| default|           customers|      false|\n",
      "| default|            demtable|      false|\n",
      "| default|         departments|      false|\n",
      "| default|                 hkt|      false|\n",
      "| default|intermediate_acce...|      false|\n",
      "| default|      my_first_table|      false|\n",
      "| default|               nsecm|      false|\n",
      "| default|    ntest_kudu_table|      false|\n",
      "| default|          oitem_kudu|      false|\n",
      "| default|         order_items|      false|\n",
      "| default|              orders|      false|\n",
      "| default|        product_kudu|      false|\n",
      "| default|            products|      false|\n",
      "| default|          spark2ttbl|      false|\n",
      "| default|spark_kudu_mappin...|      false|\n",
      "| default|                spkt|      false|\n",
      "| default|    spkt_mapping_tbl|      false|\n",
      "| default|             stmdtbl|      false|\n",
      "+--------+--------------------+-----------+\n",
      "only showing top 20 rows\n",
      "\n"
     ]
    }
   ],
   "source": [
    "spark.sql('show tables').show()"
   ]
  },
  {
   "cell_type": "code",
   "execution_count": 37,
   "metadata": {},
   "outputs": [],
   "source": [
    "testDF = sc.parallelize([(1, \"sachin\", 2000, 6, 10, 575, 2), (1, \"sachin\", 2001, 10, 18, 1003, 3),\n",
    "                         (1, \"sachin\", 2002, 16, 26, 1392, 4), (1, \"sachin\", 2010, 14, 23, 1562, 7), \n",
    "                         (2, \"virat\", 2011, 5, 9, 202, 0), (2, \"virat\", 2012, 9, 16, 689, 3),\n",
    "                         (2, \"virat\", 2016, 12, 18, 1215, 4), (2, \"virat\", 2017, 10, 16, 1059, 5)\n",
    "                        ]).toDF([\"id\",  \"fname\", \"year\", \"matches\", \"innings\", \"runs\", \"centuries\"])\n",
    "\n",
    "odiDF = sc.parallelize([(1, 2000, \"sachin\", 34, 34, 1328, 3), (1, 2001, \"sachin\", 17, 16, 904, 4),\n",
    "                        (1, 2010, \"sachin\", 2, 2, 1, 204), (1, 2011, \"sachin\", 11, 11, 513, 2), \n",
    "                        (2, 2008, \"virat\", 5, 5, 159, 0),(2, 2009, \"virat\", 10, 8,  325, 1), \n",
    "                        (2, 2016, \"virat\", 10, 10, 739, 3), (2, 2017, \"virat\", 26, 26, 1460, 6)\n",
    "                       ]).toDF([\"id\", \"year\", \"fname\", \"matches\", \"innings\", \"runs\", \"centuries\"])"
   ]
  },
  {
   "cell_type": "code",
   "execution_count": 38,
   "metadata": {},
   "outputs": [
    {
     "name": "stdout",
     "output_type": "stream",
     "text": [
      "+---+------+----+-------+-------+----+---------+---+----+------+-------+-------+----+---------+\n",
      "| id| fname|year|matches|innings|runs|centuries| id|year| fname|matches|innings|runs|centuries|\n",
      "+---+------+----+-------+-------+----+---------+---+----+------+-------+-------+----+---------+\n",
      "|  1|sachin|2000|      6|     10| 575|        2|  1|2000|sachin|     34|     34|1328|        3|\n",
      "|  1|sachin|2000|      6|     10| 575|        2|  1|2001|sachin|     17|     16| 904|        4|\n",
      "|  1|sachin|2000|      6|     10| 575|        2|  1|2010|sachin|      2|      2|   1|      204|\n",
      "|  1|sachin|2000|      6|     10| 575|        2|  1|2011|sachin|     11|     11| 513|        2|\n",
      "|  1|sachin|2001|     10|     18|1003|        3|  1|2000|sachin|     34|     34|1328|        3|\n",
      "|  1|sachin|2001|     10|     18|1003|        3|  1|2001|sachin|     17|     16| 904|        4|\n",
      "|  1|sachin|2001|     10|     18|1003|        3|  1|2010|sachin|      2|      2|   1|      204|\n",
      "|  1|sachin|2001|     10|     18|1003|        3|  1|2011|sachin|     11|     11| 513|        2|\n",
      "|  1|sachin|2002|     16|     26|1392|        4|  1|2000|sachin|     34|     34|1328|        3|\n",
      "|  1|sachin|2002|     16|     26|1392|        4|  1|2001|sachin|     17|     16| 904|        4|\n",
      "|  1|sachin|2002|     16|     26|1392|        4|  1|2010|sachin|      2|      2|   1|      204|\n",
      "|  1|sachin|2002|     16|     26|1392|        4|  1|2011|sachin|     11|     11| 513|        2|\n",
      "|  1|sachin|2010|     14|     23|1562|        7|  1|2000|sachin|     34|     34|1328|        3|\n",
      "|  1|sachin|2010|     14|     23|1562|        7|  1|2001|sachin|     17|     16| 904|        4|\n",
      "|  1|sachin|2010|     14|     23|1562|        7|  1|2010|sachin|      2|      2|   1|      204|\n",
      "|  1|sachin|2010|     14|     23|1562|        7|  1|2011|sachin|     11|     11| 513|        2|\n",
      "|  1|sachin|2000|      6|     10| 575|        2|  2|2008| virat|      5|      5| 159|        0|\n",
      "|  1|sachin|2000|      6|     10| 575|        2|  2|2009| virat|     10|      8| 325|        1|\n",
      "|  1|sachin|2000|      6|     10| 575|        2|  2|2016| virat|     10|     10| 739|        3|\n",
      "|  1|sachin|2000|      6|     10| 575|        2|  2|2017| virat|     26|     26|1460|        6|\n",
      "+---+------+----+-------+-------+----+---------+---+----+------+-------+-------+----+---------+\n",
      "only showing top 20 rows\n",
      "\n"
     ]
    }
   ],
   "source": [
    "#cross join\n",
    "# need to have this setting to cross joins to work as default\n",
    "spark.conf.set(\"spark.sql.crossJoin.enabled\", True)\n",
    "testDF.join(odiDF).show()"
   ]
  },
  {
   "cell_type": "code",
   "execution_count": 43,
   "metadata": {},
   "outputs": [
    {
     "name": "stdout",
     "output_type": "stream",
     "text": [
      "+---+------+----+---+---+----+---+\n",
      "| fc|    sc|  tc|foc|fic| sic|sec|\n",
      "+---+------+----+---+---+----+---+\n",
      "|  1|sachin|2000|  6| 10| 575|  2|\n",
      "|  1|sachin|2001| 10| 18|1003|  3|\n",
      "|  1|sachin|2002| 16| 26|1392|  4|\n",
      "|  1|sachin|2010| 14| 23|1562|  7|\n",
      "|  2| virat|2011|  5|  9| 202|  0|\n",
      "|  2| virat|2012|  9| 16| 689|  3|\n",
      "|  2| virat|2016| 12| 18|1215|  4|\n",
      "|  2| virat|2017| 10| 16|1059|  5|\n",
      "+---+------+----+---+---+----+---+\n",
      "\n"
     ]
    }
   ],
   "source": [
    "# renaming columns when we already have a DF and we call toDF then we need\n",
    "# to provide comma separated names for each of the columns\n",
    "# in contrast, when we are parallelizing and callling to DF we have to provide the colnames as a list\n",
    "testDF.toDF('fc', 'sc', 'tc', 'foc', 'fic', 'sic', 'sec').show()"
   ]
  },
  {
   "cell_type": "code",
   "execution_count": 39,
   "metadata": {},
   "outputs": [
    {
     "name": "stdout",
     "output_type": "stream",
     "text": [
      "+---+------+----+--------+--------+-----+----------+---+-----+------+--------+--------+-----+----------+\n",
      "| id| fname|year|tmatches|tinnings|truns|tcenturies|sid|syear|sfname|omatches|oinnings|oruns|ocenturies|\n",
      "+---+------+----+--------+--------+-----+----------+---+-----+------+--------+--------+-----+----------+\n",
      "|  1|sachin|2000|       6|      10|  575|         2|  1| 2000|sachin|      34|      34| 1328|         3|\n",
      "|  1|sachin|2000|       6|      10|  575|         2|  1| 2001|sachin|      17|      16|  904|         4|\n",
      "|  1|sachin|2000|       6|      10|  575|         2|  1| 2010|sachin|       2|       2|    1|       204|\n",
      "|  1|sachin|2000|       6|      10|  575|         2|  1| 2011|sachin|      11|      11|  513|         2|\n",
      "|  1|sachin|2001|      10|      18| 1003|         3|  1| 2000|sachin|      34|      34| 1328|         3|\n",
      "|  1|sachin|2001|      10|      18| 1003|         3|  1| 2001|sachin|      17|      16|  904|         4|\n",
      "|  1|sachin|2001|      10|      18| 1003|         3|  1| 2010|sachin|       2|       2|    1|       204|\n",
      "|  1|sachin|2001|      10|      18| 1003|         3|  1| 2011|sachin|      11|      11|  513|         2|\n",
      "|  1|sachin|2002|      16|      26| 1392|         4|  1| 2000|sachin|      34|      34| 1328|         3|\n",
      "|  1|sachin|2002|      16|      26| 1392|         4|  1| 2001|sachin|      17|      16|  904|         4|\n",
      "|  1|sachin|2002|      16|      26| 1392|         4|  1| 2010|sachin|       2|       2|    1|       204|\n",
      "|  1|sachin|2002|      16|      26| 1392|         4|  1| 2011|sachin|      11|      11|  513|         2|\n",
      "|  1|sachin|2010|      14|      23| 1562|         7|  1| 2000|sachin|      34|      34| 1328|         3|\n",
      "|  1|sachin|2010|      14|      23| 1562|         7|  1| 2001|sachin|      17|      16|  904|         4|\n",
      "|  1|sachin|2010|      14|      23| 1562|         7|  1| 2010|sachin|       2|       2|    1|       204|\n",
      "|  1|sachin|2010|      14|      23| 1562|         7|  1| 2011|sachin|      11|      11|  513|         2|\n",
      "|  1|sachin|2000|       6|      10|  575|         2|  2| 2008| virat|       5|       5|  159|         0|\n",
      "|  1|sachin|2000|       6|      10|  575|         2|  2| 2009| virat|      10|       8|  325|         1|\n",
      "|  1|sachin|2000|       6|      10|  575|         2|  2| 2016| virat|      10|      10|  739|         3|\n",
      "|  1|sachin|2000|       6|      10|  575|         2|  2| 2017| virat|      26|      26| 1460|         6|\n",
      "+---+------+----+--------+--------+-----+----------+---+-----+------+--------+--------+-----+----------+\n",
      "only showing top 20 rows\n",
      "\n"
     ]
    }
   ],
   "source": [
    "# cross join and column renaming to create unique columns\n",
    "from pyspark.sql.functions import *\n",
    "# testDF.join(odiDF).select(testDF['id'], testDF['fname']).toDF(\"a\", \"b\").show()\n",
    "testDF.join(odiDF).toDF(\"id\", \"fname\", \"year\", \"tmatches\", \"tinnings\", \n",
    "                         \"truns\", \"tcenturies\", \"sid\",\"syear\", \"sfname\", \n",
    "                         \"omatches\", \"oinnings\", \"oruns\", \"ocenturies\").show()"
   ]
  },
  {
   "cell_type": "code",
   "execution_count": 45,
   "metadata": {},
   "outputs": [
    {
     "name": "stdout",
     "output_type": "stream",
     "text": [
      "+---+------+----+-------+-------+----+---------+----+------+-------+-------+----+---------+\n",
      "| id| fname|year|matches|innings|runs|centuries|year| fname|matches|innings|runs|centuries|\n",
      "+---+------+----+-------+-------+----+---------+----+------+-------+-------+----+---------+\n",
      "|  1|sachin|2000|      6|     10| 575|        2|2000|sachin|     34|     34|1328|        3|\n",
      "|  1|sachin|2000|      6|     10| 575|        2|2001|sachin|     17|     16| 904|        4|\n",
      "|  1|sachin|2000|      6|     10| 575|        2|2010|sachin|      2|      2|   1|      204|\n",
      "|  1|sachin|2000|      6|     10| 575|        2|2011|sachin|     11|     11| 513|        2|\n",
      "|  1|sachin|2001|     10|     18|1003|        3|2000|sachin|     34|     34|1328|        3|\n",
      "|  1|sachin|2001|     10|     18|1003|        3|2001|sachin|     17|     16| 904|        4|\n",
      "|  1|sachin|2001|     10|     18|1003|        3|2010|sachin|      2|      2|   1|      204|\n",
      "|  1|sachin|2001|     10|     18|1003|        3|2011|sachin|     11|     11| 513|        2|\n",
      "|  1|sachin|2002|     16|     26|1392|        4|2000|sachin|     34|     34|1328|        3|\n",
      "|  1|sachin|2002|     16|     26|1392|        4|2001|sachin|     17|     16| 904|        4|\n",
      "|  1|sachin|2002|     16|     26|1392|        4|2010|sachin|      2|      2|   1|      204|\n",
      "|  1|sachin|2002|     16|     26|1392|        4|2011|sachin|     11|     11| 513|        2|\n",
      "|  1|sachin|2010|     14|     23|1562|        7|2000|sachin|     34|     34|1328|        3|\n",
      "|  1|sachin|2010|     14|     23|1562|        7|2001|sachin|     17|     16| 904|        4|\n",
      "|  1|sachin|2010|     14|     23|1562|        7|2010|sachin|      2|      2|   1|      204|\n",
      "|  1|sachin|2010|     14|     23|1562|        7|2011|sachin|     11|     11| 513|        2|\n",
      "|  2| virat|2011|      5|      9| 202|        0|2008| virat|      5|      5| 159|        0|\n",
      "|  2| virat|2011|      5|      9| 202|        0|2009| virat|     10|      8| 325|        1|\n",
      "|  2| virat|2011|      5|      9| 202|        0|2016| virat|     10|     10| 739|        3|\n",
      "|  2| virat|2011|      5|      9| 202|        0|2017| virat|     26|     26|1460|        6|\n",
      "+---+------+----+-------+-------+----+---------+----+------+-------+-------+----+---------+\n",
      "only showing top 20 rows\n",
      "\n"
     ]
    }
   ],
   "source": [
    "# implicit inner join\n",
    "testDF.join(odiDF, \"id\").show()"
   ]
  },
  {
   "cell_type": "code",
   "execution_count": 47,
   "metadata": {},
   "outputs": [
    {
     "name": "stdout",
     "output_type": "stream",
     "text": [
      "+---+----+------+-------+-------+----+---------+------+-------+-------+----+---------+\n",
      "| id|year| fname|matches|innings|runs|centuries| fname|matches|innings|runs|centuries|\n",
      "+---+----+------+-------+-------+----+---------+------+-------+-------+----+---------+\n",
      "|  1|2010|sachin|     14|     23|1562|        7|sachin|      2|      2|   1|      204|\n",
      "|  2|2016| virat|     12|     18|1215|        4| virat|     10|     10| 739|        3|\n",
      "|  2|2017| virat|     10|     16|1059|        5| virat|     26|     26|1460|        6|\n",
      "|  1|2001|sachin|     10|     18|1003|        3|sachin|     17|     16| 904|        4|\n",
      "|  1|2000|sachin|      6|     10| 575|        2|sachin|     34|     34|1328|        3|\n",
      "+---+----+------+-------+-------+----+---------+------+-------+-------+----+---------+\n",
      "\n"
     ]
    }
   ],
   "source": [
    "# implicit inner join using two columns\n",
    "testDF.join(odiDF, [\"id\", \"year\"]).show()"
   ]
  },
  {
   "cell_type": "code",
   "execution_count": 50,
   "metadata": {},
   "outputs": [
    {
     "name": "stdout",
     "output_type": "stream",
     "text": [
      "+---+------+----+-------+-------+----+---------+---+----+------+-------+-------+----+---------+\n",
      "| id| fname|year|matches|innings|runs|centuries| id|year| fname|matches|innings|runs|centuries|\n",
      "+---+------+----+-------+-------+----+---------+---+----+------+-------+-------+----+---------+\n",
      "|  1|sachin|2000|      6|     10| 575|        2|  1|2000|sachin|     34|     34|1328|        3|\n",
      "|  1|sachin|2000|      6|     10| 575|        2|  1|2001|sachin|     17|     16| 904|        4|\n",
      "|  1|sachin|2000|      6|     10| 575|        2|  1|2010|sachin|      2|      2|   1|      204|\n",
      "|  1|sachin|2000|      6|     10| 575|        2|  1|2011|sachin|     11|     11| 513|        2|\n",
      "|  1|sachin|2001|     10|     18|1003|        3|  1|2000|sachin|     34|     34|1328|        3|\n",
      "|  1|sachin|2001|     10|     18|1003|        3|  1|2001|sachin|     17|     16| 904|        4|\n",
      "|  1|sachin|2001|     10|     18|1003|        3|  1|2010|sachin|      2|      2|   1|      204|\n",
      "|  1|sachin|2001|     10|     18|1003|        3|  1|2011|sachin|     11|     11| 513|        2|\n",
      "|  1|sachin|2002|     16|     26|1392|        4|  1|2000|sachin|     34|     34|1328|        3|\n",
      "|  1|sachin|2002|     16|     26|1392|        4|  1|2001|sachin|     17|     16| 904|        4|\n",
      "|  1|sachin|2002|     16|     26|1392|        4|  1|2010|sachin|      2|      2|   1|      204|\n",
      "|  1|sachin|2002|     16|     26|1392|        4|  1|2011|sachin|     11|     11| 513|        2|\n",
      "|  1|sachin|2010|     14|     23|1562|        7|  1|2000|sachin|     34|     34|1328|        3|\n",
      "|  1|sachin|2010|     14|     23|1562|        7|  1|2001|sachin|     17|     16| 904|        4|\n",
      "|  1|sachin|2010|     14|     23|1562|        7|  1|2010|sachin|      2|      2|   1|      204|\n",
      "|  1|sachin|2010|     14|     23|1562|        7|  1|2011|sachin|     11|     11| 513|        2|\n",
      "|  2| virat|2011|      5|      9| 202|        0|  2|2008| virat|      5|      5| 159|        0|\n",
      "|  2| virat|2011|      5|      9| 202|        0|  2|2009| virat|     10|      8| 325|        1|\n",
      "|  2| virat|2011|      5|      9| 202|        0|  2|2016| virat|     10|     10| 739|        3|\n",
      "|  2| virat|2011|      5|      9| 202|        0|  2|2017| virat|     26|     26|1460|        6|\n",
      "+---+------+----+-------+-------+----+---------+---+----+------+-------+-------+----+---------+\n",
      "only showing top 20 rows\n",
      "\n"
     ]
    }
   ],
   "source": [
    "# explicit inner join\n",
    "testDF.join(odiDF, testDF[\"id\"] == odiDF[\"id\"], \"inner\").show()"
   ]
  },
  {
   "cell_type": "code",
   "execution_count": 58,
   "metadata": {},
   "outputs": [
    {
     "name": "stdout",
     "output_type": "stream",
     "text": [
      "+---+----+------+-------+-------+----+---------+------+-------+-------+----+---------+\n",
      "| id|year| fname|matches|innings|runs|centuries| fname|matches|innings|runs|centuries|\n",
      "+---+----+------+-------+-------+----+---------+------+-------+-------+----+---------+\n",
      "|  1|2010|sachin|     14|     23|1562|        7|sachin|      2|      2|   1|      204|\n",
      "|  2|2016| virat|     12|     18|1215|        4| virat|     10|     10| 739|        3|\n",
      "|  2|2017| virat|     10|     16|1059|        5| virat|     26|     26|1460|        6|\n",
      "|  1|2001|sachin|     10|     18|1003|        3|sachin|     17|     16| 904|        4|\n",
      "|  1|2000|sachin|      6|     10| 575|        2|sachin|     34|     34|1328|        3|\n",
      "+---+----+------+-------+-------+----+---------+------+-------+-------+----+---------+\n",
      "\n",
      "+---+------+----+-------+-------+----+---------+---+----+------+-------+-------+----+---------+\n",
      "| id| fname|year|matches|innings|runs|centuries| id|year| fname|matches|innings|runs|centuries|\n",
      "+---+------+----+-------+-------+----+---------+---+----+------+-------+-------+----+---------+\n",
      "|  1|sachin|2010|     14|     23|1562|        7|  1|2010|sachin|      2|      2|   1|      204|\n",
      "|  2| virat|2016|     12|     18|1215|        4|  2|2016| virat|     10|     10| 739|        3|\n",
      "|  2| virat|2017|     10|     16|1059|        5|  2|2017| virat|     26|     26|1460|        6|\n",
      "|  1|sachin|2001|     10|     18|1003|        3|  1|2001|sachin|     17|     16| 904|        4|\n",
      "|  1|sachin|2000|      6|     10| 575|        2|  1|2000|sachin|     34|     34|1328|        3|\n",
      "+---+------+----+-------+-------+----+---------+---+----+------+-------+-------+----+---------+\n",
      "\n"
     ]
    }
   ],
   "source": [
    "# explicit inner join using multiple columns\n",
    "testDF.join(odiDF, [\"id\", \"year\"], \"inner\").show()\n",
    "testDF.join(odiDF, (testDF[\"id\"] == odiDF[\"id\"]) & (testDF[\"year\"] == odiDF[\"year\"]), \"inner\").show()"
   ]
  },
  {
   "cell_type": "code",
   "execution_count": 84,
   "metadata": {},
   "outputs": [
    {
     "name": "stdout",
     "output_type": "stream",
     "text": [
      "+---+------+----+-------+-------+----+---------+---+----+------+-------+-------+----+---------+\n",
      "| id| fname|year|matches|innings|runs|centuries| id|year| fname|matches|innings|runs|centuries|\n",
      "+---+------+----+-------+-------+----+---------+---+----+------+-------+-------+----+---------+\n",
      "|  1|sachin|2000|      6|     10| 575|        2|  1|2000|sachin|     34|     34|1328|        3|\n",
      "|  1|sachin|2000|      6|     10| 575|        2|  1|2001|sachin|     17|     16| 904|        4|\n",
      "|  1|sachin|2000|      6|     10| 575|        2|  1|2010|sachin|      2|      2|   1|      204|\n",
      "|  1|sachin|2000|      6|     10| 575|        2|  1|2011|sachin|     11|     11| 513|        2|\n",
      "|  1|sachin|2001|     10|     18|1003|        3|  1|2000|sachin|     34|     34|1328|        3|\n",
      "|  1|sachin|2001|     10|     18|1003|        3|  1|2001|sachin|     17|     16| 904|        4|\n",
      "|  1|sachin|2001|     10|     18|1003|        3|  1|2010|sachin|      2|      2|   1|      204|\n",
      "|  1|sachin|2001|     10|     18|1003|        3|  1|2011|sachin|     11|     11| 513|        2|\n",
      "|  1|sachin|2002|     16|     26|1392|        4|  1|2000|sachin|     34|     34|1328|        3|\n",
      "|  1|sachin|2002|     16|     26|1392|        4|  1|2001|sachin|     17|     16| 904|        4|\n",
      "|  1|sachin|2002|     16|     26|1392|        4|  1|2010|sachin|      2|      2|   1|      204|\n",
      "|  1|sachin|2002|     16|     26|1392|        4|  1|2011|sachin|     11|     11| 513|        2|\n",
      "|  1|sachin|2010|     14|     23|1562|        7|  1|2000|sachin|     34|     34|1328|        3|\n",
      "|  1|sachin|2010|     14|     23|1562|        7|  1|2001|sachin|     17|     16| 904|        4|\n",
      "|  1|sachin|2010|     14|     23|1562|        7|  1|2010|sachin|      2|      2|   1|      204|\n",
      "|  1|sachin|2010|     14|     23|1562|        7|  1|2011|sachin|     11|     11| 513|        2|\n",
      "|  2| virat|2011|      5|      9| 202|        0|  2|2008| virat|      5|      5| 159|        0|\n",
      "|  2| virat|2011|      5|      9| 202|        0|  2|2009| virat|     10|      8| 325|        1|\n",
      "|  2| virat|2011|      5|      9| 202|        0|  2|2016| virat|     10|     10| 739|        3|\n",
      "|  2| virat|2011|      5|      9| 202|        0|  2|2017| virat|     26|     26|1460|        6|\n",
      "+---+------+----+-------+-------+----+---------+---+----+------+-------+-------+----+---------+\n",
      "only showing top 20 rows\n",
      "\n",
      "+---+------+----+-------+-------+----+---------+---+----+------+-------+-------+----+---------+\n",
      "| id| fname|year|matches|innings|runs|centuries| id|year| fname|matches|innings|runs|centuries|\n",
      "+---+------+----+-------+-------+----+---------+---+----+------+-------+-------+----+---------+\n",
      "|  1|sachin|2000|      6|     10| 575|        2|  1|2000|sachin|     34|     34|1328|        3|\n",
      "|  1|sachin|2001|     10|     18|1003|        3|  1|2000|sachin|     34|     34|1328|        3|\n",
      "|  1|sachin|2002|     16|     26|1392|        4|  1|2000|sachin|     34|     34|1328|        3|\n",
      "|  1|sachin|2010|     14|     23|1562|        7|  1|2000|sachin|     34|     34|1328|        3|\n",
      "|  1|sachin|2000|      6|     10| 575|        2|  1|2001|sachin|     17|     16| 904|        4|\n",
      "|  1|sachin|2001|     10|     18|1003|        3|  1|2001|sachin|     17|     16| 904|        4|\n",
      "|  1|sachin|2002|     16|     26|1392|        4|  1|2001|sachin|     17|     16| 904|        4|\n",
      "|  1|sachin|2010|     14|     23|1562|        7|  1|2001|sachin|     17|     16| 904|        4|\n",
      "|  1|sachin|2000|      6|     10| 575|        2|  1|2010|sachin|      2|      2|   1|      204|\n",
      "|  1|sachin|2001|     10|     18|1003|        3|  1|2010|sachin|      2|      2|   1|      204|\n",
      "|  1|sachin|2002|     16|     26|1392|        4|  1|2010|sachin|      2|      2|   1|      204|\n",
      "|  1|sachin|2010|     14|     23|1562|        7|  1|2010|sachin|      2|      2|   1|      204|\n",
      "|  1|sachin|2000|      6|     10| 575|        2|  1|2011|sachin|     11|     11| 513|        2|\n",
      "|  1|sachin|2001|     10|     18|1003|        3|  1|2011|sachin|     11|     11| 513|        2|\n",
      "|  1|sachin|2002|     16|     26|1392|        4|  1|2011|sachin|     11|     11| 513|        2|\n",
      "|  1|sachin|2010|     14|     23|1562|        7|  1|2011|sachin|     11|     11| 513|        2|\n",
      "|  2| virat|2011|      5|      9| 202|        0|  2|2008| virat|      5|      5| 159|        0|\n",
      "|  2| virat|2012|      9|     16| 689|        3|  2|2008| virat|      5|      5| 159|        0|\n",
      "|  2| virat|2016|     12|     18|1215|        4|  2|2008| virat|      5|      5| 159|        0|\n",
      "|  2| virat|2017|     10|     16|1059|        5|  2|2008| virat|      5|      5| 159|        0|\n",
      "+---+------+----+-------+-------+----+---------+---+----+------+-------+-------+----+---------+\n",
      "only showing top 20 rows\n",
      "\n",
      "+---+------+----+-------+-------+----+---------+---+----+------+-------+-------+----+---------+\n",
      "| id| fname|year|matches|innings|runs|centuries| id|year| fname|matches|innings|runs|centuries|\n",
      "+---+------+----+-------+-------+----+---------+---+----+------+-------+-------+----+---------+\n",
      "|  1|sachin|2000|      6|     10| 575|        2|  1|2000|sachin|     34|     34|1328|        3|\n",
      "|  1|sachin|2000|      6|     10| 575|        2|  1|2001|sachin|     17|     16| 904|        4|\n",
      "|  1|sachin|2000|      6|     10| 575|        2|  1|2010|sachin|      2|      2|   1|      204|\n",
      "|  1|sachin|2000|      6|     10| 575|        2|  1|2011|sachin|     11|     11| 513|        2|\n",
      "|  1|sachin|2001|     10|     18|1003|        3|  1|2000|sachin|     34|     34|1328|        3|\n",
      "|  1|sachin|2001|     10|     18|1003|        3|  1|2001|sachin|     17|     16| 904|        4|\n",
      "|  1|sachin|2001|     10|     18|1003|        3|  1|2010|sachin|      2|      2|   1|      204|\n",
      "|  1|sachin|2001|     10|     18|1003|        3|  1|2011|sachin|     11|     11| 513|        2|\n",
      "|  1|sachin|2002|     16|     26|1392|        4|  1|2000|sachin|     34|     34|1328|        3|\n",
      "|  1|sachin|2002|     16|     26|1392|        4|  1|2001|sachin|     17|     16| 904|        4|\n",
      "|  1|sachin|2002|     16|     26|1392|        4|  1|2010|sachin|      2|      2|   1|      204|\n",
      "|  1|sachin|2002|     16|     26|1392|        4|  1|2011|sachin|     11|     11| 513|        2|\n",
      "|  1|sachin|2010|     14|     23|1562|        7|  1|2000|sachin|     34|     34|1328|        3|\n",
      "|  1|sachin|2010|     14|     23|1562|        7|  1|2001|sachin|     17|     16| 904|        4|\n",
      "|  1|sachin|2010|     14|     23|1562|        7|  1|2010|sachin|      2|      2|   1|      204|\n",
      "|  1|sachin|2010|     14|     23|1562|        7|  1|2011|sachin|     11|     11| 513|        2|\n",
      "|  2| virat|2011|      5|      9| 202|        0|  2|2008| virat|      5|      5| 159|        0|\n",
      "|  2| virat|2011|      5|      9| 202|        0|  2|2009| virat|     10|      8| 325|        1|\n",
      "|  2| virat|2011|      5|      9| 202|        0|  2|2016| virat|     10|     10| 739|        3|\n",
      "|  2| virat|2011|      5|      9| 202|        0|  2|2017| virat|     26|     26|1460|        6|\n",
      "+---+------+----+-------+-------+----+---------+---+----+------+-------+-------+----+---------+\n",
      "only showing top 20 rows\n",
      "\n"
     ]
    }
   ],
   "source": [
    "#outer joins\n",
    "testDF.join(odiDF, testDF[\"id\"] == odiDF[\"id\"], \"left_outer\").show()\n",
    "testDF.join(odiDF, testDF[\"id\"] == odiDF[\"id\"], \"right_outer\").show()\n",
    "testDF.join(odiDF, testDF[\"id\"] == odiDF[\"id\"], \"full_outer\").show()"
   ]
  },
  {
   "cell_type": "code",
   "execution_count": 64,
   "metadata": {},
   "outputs": [
    {
     "name": "stdout",
     "output_type": "stream",
     "text": [
      "+---+----+------+--------+--------+-----+----------+------+--------+--------+-----+----------+\n",
      "| id|year| fname|tmatches|tinnings|truns|tcenturies|sfname|omatches|oinnings|oruns|ocenturies|\n",
      "+---+----+------+--------+--------+-----+----------+------+--------+--------+-----+----------+\n",
      "|  2|2012| virat|       9|      16|  689|         3|  null|    null|    null| null|      null|\n",
      "|  1|2002|sachin|      16|      26| 1392|         4|  null|    null|    null| null|      null|\n",
      "|  2|2011| virat|       5|       9|  202|         0|  null|    null|    null| null|      null|\n",
      "+---+----+------+--------+--------+-----+----------+------+--------+--------+-----+----------+\n",
      "\n"
     ]
    }
   ],
   "source": [
    "# see the null values for some particular column\n",
    "testDF.join(odiDF, [\"id\", \"year\"], \"leftOuter\").toDF(\n",
    "    \"id\", \"year\",\"fname\", \"tmatches\", \"tinnings\", \"truns\", \"tcenturies\", \n",
    "    \"sfname\", \"omatches\", \"oinnings\", \"oruns\", \"ocenturies\").where(col(\"omatches\").isNull()).show()\n"
   ]
  },
  {
   "cell_type": "code",
   "execution_count": 65,
   "metadata": {},
   "outputs": [
    {
     "name": "stdout",
     "output_type": "stream",
     "text": [
      "+---+----+------+--------+--------+-----+----------+------+--------+--------+-----+----------+\n",
      "| id|year| fname|tmatches|tinnings|truns|tcenturies|sfname|omatches|oinnings|oruns|ocenturies|\n",
      "+---+----+------+--------+--------+-----+----------+------+--------+--------+-----+----------+\n",
      "|  1|2010|sachin|      14|      23| 1562|         7|sachin|       2|       2|    1|       204|\n",
      "|  2|2016| virat|      12|      18| 1215|         4| virat|      10|      10|  739|         3|\n",
      "|  2|2017| virat|      10|      16| 1059|         5| virat|      26|      26| 1460|         6|\n",
      "|  1|2001|sachin|      10|      18| 1003|         3|sachin|      17|      16|  904|         4|\n",
      "|  1|2000|sachin|       6|      10|  575|         2|sachin|      34|      34| 1328|         3|\n",
      "+---+----+------+--------+--------+-----+----------+------+--------+--------+-----+----------+\n",
      "\n"
     ]
    }
   ],
   "source": [
    "# drop all null values\n",
    "testDF.join(odiDF, [\"id\", \"year\"], \"leftOuter\").toDF(\n",
    "    \"id\", \"year\",\"fname\", \"tmatches\", \"tinnings\", \"truns\", \"tcenturies\", \n",
    "    \"sfname\", \"omatches\", \"oinnings\", \"oruns\", \"ocenturies\").na.drop().show()"
   ]
  },
  {
   "cell_type": "code",
   "execution_count": 66,
   "metadata": {},
   "outputs": [
    {
     "name": "stdout",
     "output_type": "stream",
     "text": [
      "+---+----+------+--------+--------+-----+----------+------+--------+--------+-----+----------+\n",
      "| id|year| fname|tmatches|tinnings|truns|tcenturies|sfname|omatches|oinnings|oruns|ocenturies|\n",
      "+---+----+------+--------+--------+-----+----------+------+--------+--------+-----+----------+\n",
      "|  1|2010|sachin|      14|      23| 1562|         7|sachin|       2|       2|    1|       204|\n",
      "|  2|2016| virat|      12|      18| 1215|         4| virat|      10|      10|  739|         3|\n",
      "|  2|2017| virat|      10|      16| 1059|         5| virat|      26|      26| 1460|         6|\n",
      "|  1|2001|sachin|      10|      18| 1003|         3|sachin|      17|      16|  904|         4|\n",
      "|  1|2000|sachin|       6|      10|  575|         2|sachin|      34|      34| 1328|         3|\n",
      "+---+----+------+--------+--------+-----+----------+------+--------+--------+-----+----------+\n",
      "\n"
     ]
    }
   ],
   "source": [
    "# to filter out null values for a column \n",
    "testDF.join(odiDF, [\"id\", \"year\"], \"leftOuter\").toDF(\"id\", \"year\",\"fname\", \"tmatches\", \"tinnings\", \"truns\", \n",
    "            \"tcenturies\", \"sfname\", \"omatches\", \"oinnings\", \"oruns\", \"ocenturies\").where(\n",
    "col('omatches').isNotNull()).show()"
   ]
  },
  {
   "cell_type": "code",
   "execution_count": 81,
   "metadata": {},
   "outputs": [
    {
     "name": "stdout",
     "output_type": "stream",
     "text": [
      "+---+----+------+--------+--------+-----+----------+-------+\n",
      "| id|year| fname|tmatches|tinnings|truns|tcenturies|omtnull|\n",
      "+---+----+------+--------+--------+-----+----------+-------+\n",
      "|  1|2010|sachin|      14|      23| 1562|         7|      2|\n",
      "|  2|2012| virat|       9|      16|  689|         3|      0|\n",
      "|  2|2016| virat|      12|      18| 1215|         4|     10|\n",
      "|  2|2017| virat|      10|      16| 1059|         5|     26|\n",
      "|  1|2002|sachin|      16|      26| 1392|         4|      0|\n",
      "|  1|2001|sachin|      10|      18| 1003|         3|     17|\n",
      "|  2|2011| virat|       5|       9|  202|         0|      0|\n",
      "|  1|2000|sachin|       6|      10|  575|         2|     34|\n",
      "+---+----+------+--------+--------+-----+----------+-------+\n",
      "\n"
     ]
    }
   ],
   "source": [
    "# isnull then 0 else value for a column with null values\n",
    "testDF.join(odiDF, [\"id\", \"year\"], \"leftOuter\").toDF(\n",
    "     \"id\", \"year\",\"fname\", \"tmatches\", \"tinnings\", \"truns\", \"tcenturies\", \"sfname\",\n",
    "     \"omatches\", \"oinnings\", \"oruns\", \"ocenturies\").select(\n",
    "     \"id\", \"year\", \"fname\", \"tmatches\", \"tinnings\", \"truns\", \"tcenturies\",\n",
    "     when(isnull(col(\"omatches\")), 0).otherwise(col(\"omatches\")).alias(\"omtnull\")).show()\n",
    "#     when(isnull(odiDF[\"omatches\"]), 0).otherwise(odiDF[\"omatches\"]).alias(\"omtnull\")).show()"
   ]
  },
  {
   "cell_type": "code",
   "execution_count": 83,
   "metadata": {},
   "outputs": [
    {
     "name": "stdout",
     "output_type": "stream",
     "text": [
      "+---+----+------+--------+--------+-----+----------+-------+----------+\n",
      "| id|year| fname|tmatches|tinnings|truns|tcenturies|omtnull|totmatches|\n",
      "+---+----+------+--------+--------+-----+----------+-------+----------+\n",
      "|  1|2010|sachin|      14|      23| 1562|         7|      2|        16|\n",
      "|  2|2012| virat|       9|      16|  689|         3|      0|         9|\n",
      "|  2|2016| virat|      12|      18| 1215|         4|     10|        22|\n",
      "|  2|2017| virat|      10|      16| 1059|         5|     26|        36|\n",
      "|  1|2002|sachin|      16|      26| 1392|         4|      0|        16|\n",
      "|  1|2001|sachin|      10|      18| 1003|         3|     17|        27|\n",
      "|  2|2011| virat|       5|       9|  202|         0|      0|         5|\n",
      "|  1|2000|sachin|       6|      10|  575|         2|     34|        40|\n",
      "+---+----+------+--------+--------+-----+----------+-------+----------+\n",
      "\n"
     ]
    }
   ],
   "source": [
    "# adding a computed column\n",
    "testDF.join(odiDF, [\"id\", \"year\"], \"leftOuter\").toDF(\n",
    "     \"id\", \"year\",\"fname\", \"tmatches\", \"tinnings\", \"truns\", \"tcenturies\", \"sfname\",\n",
    "     \"omatches\", \"oinnings\", \"oruns\", \"ocenturies\").select(\n",
    "     \"id\", \"year\", \"fname\", \"tmatches\", \"tinnings\", \"truns\", \"tcenturies\",\n",
    "     when(isnull(col(\"omatches\")), 0).otherwise(col(\"omatches\")).alias(\"omtnull\")).withColumn(\n",
    "    'totmatches', col('tmatches') + col('omtnull')).show()"
   ]
  },
  {
   "cell_type": "code",
   "execution_count": 102,
   "metadata": {},
   "outputs": [
    {
     "name": "stdout",
     "output_type": "stream",
     "text": [
      "+---+------+----+-------+-------+----+---------+\n",
      "| id| fname|year|matches|innings|runs|centuries|\n",
      "+---+------+----+-------+-------+----+---------+\n",
      "|  1|sachin|2000|      6|     10| 575|        2|\n",
      "|  1|sachin|2001|     10|     18|1003|        3|\n",
      "|  1|sachin|2002|     16|     26|1392|        4|\n",
      "|  1|sachin|2010|     14|     23|1562|        7|\n",
      "|  2| virat|2011|      5|      9| 202|        0|\n",
      "|  2| virat|2012|      9|     16| 689|        3|\n",
      "|  2| virat|2016|     12|     18|1215|        4|\n",
      "|  2| virat|2017|     10|     16|1059|        5|\n",
      "+---+------+----+-------+-------+----+---------+\n",
      "\n",
      "+---+------+----+-------+-------+----+---------+---+------+----+-------+-------+----+---------+\n",
      "| id| fname|year|matches|innings|runs|centuries| id| fname|year|matches|innings|runs|centuries|\n",
      "+---+------+----+-------+-------+----+---------+---+------+----+-------+-------+----+---------+\n",
      "|  1|sachin|2000|      6|     10| 575|        2|  1|sachin|2000|      6|     10| 575|        2|\n",
      "|  1|sachin|2000|      6|     10| 575|        2|  1|sachin|2001|     10|     18|1003|        3|\n",
      "|  1|sachin|2000|      6|     10| 575|        2|  1|sachin|2002|     16|     26|1392|        4|\n",
      "|  1|sachin|2000|      6|     10| 575|        2|  1|sachin|2010|     14|     23|1562|        7|\n",
      "|  1|sachin|2001|     10|     18|1003|        3|  1|sachin|2000|      6|     10| 575|        2|\n",
      "|  1|sachin|2001|     10|     18|1003|        3|  1|sachin|2001|     10|     18|1003|        3|\n",
      "|  1|sachin|2001|     10|     18|1003|        3|  1|sachin|2002|     16|     26|1392|        4|\n",
      "|  1|sachin|2001|     10|     18|1003|        3|  1|sachin|2010|     14|     23|1562|        7|\n",
      "|  1|sachin|2002|     16|     26|1392|        4|  1|sachin|2000|      6|     10| 575|        2|\n",
      "|  1|sachin|2002|     16|     26|1392|        4|  1|sachin|2001|     10|     18|1003|        3|\n",
      "|  1|sachin|2002|     16|     26|1392|        4|  1|sachin|2002|     16|     26|1392|        4|\n",
      "|  1|sachin|2002|     16|     26|1392|        4|  1|sachin|2010|     14|     23|1562|        7|\n",
      "|  1|sachin|2010|     14|     23|1562|        7|  1|sachin|2000|      6|     10| 575|        2|\n",
      "|  1|sachin|2010|     14|     23|1562|        7|  1|sachin|2001|     10|     18|1003|        3|\n",
      "|  1|sachin|2010|     14|     23|1562|        7|  1|sachin|2002|     16|     26|1392|        4|\n",
      "|  1|sachin|2010|     14|     23|1562|        7|  1|sachin|2010|     14|     23|1562|        7|\n",
      "|  2| virat|2011|      5|      9| 202|        0|  2| virat|2011|      5|      9| 202|        0|\n",
      "|  2| virat|2011|      5|      9| 202|        0|  2| virat|2012|      9|     16| 689|        3|\n",
      "|  2| virat|2011|      5|      9| 202|        0|  2| virat|2016|     12|     18|1215|        4|\n",
      "|  2| virat|2011|      5|      9| 202|        0|  2| virat|2017|     10|     16|1059|        5|\n",
      "+---+------+----+-------+-------+----+---------+---+------+----+-------+-------+----+---------+\n",
      "only showing top 20 rows\n",
      "\n",
      "+---+------+----+-------+-------+----+---------+---+------+----+-------+-------+----+---------+\n",
      "| id| fname|year|matches|innings|runs|centuries| id| fname|year|matches|innings|runs|centuries|\n",
      "+---+------+----+-------+-------+----+---------+---+------+----+-------+-------+----+---------+\n",
      "|  1|sachin|2010|     14|     23|1562|        7|  1|sachin|2010|     14|     23|1562|        7|\n",
      "|  2| virat|2012|      9|     16| 689|        3|  2| virat|2012|      9|     16| 689|        3|\n",
      "|  2| virat|2016|     12|     18|1215|        4|  2| virat|2016|     12|     18|1215|        4|\n",
      "|  2| virat|2017|     10|     16|1059|        5|  2| virat|2017|     10|     16|1059|        5|\n",
      "|  1|sachin|2002|     16|     26|1392|        4|  1|sachin|2002|     16|     26|1392|        4|\n",
      "|  1|sachin|2001|     10|     18|1003|        3|  1|sachin|2001|     10|     18|1003|        3|\n",
      "+---+------+----+-------+-------+----+---------+---+------+----+-------+-------+----+---------+\n",
      "\n"
     ]
    }
   ],
   "source": [
    "#leftsemi join\n",
    "testDF.join(odiDF, testDF[\"id\"] == odiDF[\"id\"], \"left_semi\").show()\n",
    "\n",
    "#self join\n",
    "testDF.alias(\"a\").join(testDF.alias(\"b\")).where(col('a.id') == col('b.id')).show()\n",
    "testDF.alias(\"a\").join(testDF.alias(\"b\")).where((col('a.id') == col('b.id')) &\n",
    "    (col('a.year') == col('b.year')) & (col('a.innings') > 10)) .show()\n",
    "\n"
   ]
  },
  {
   "cell_type": "code",
   "execution_count": 105,
   "metadata": {},
   "outputs": [
    {
     "name": "stdout",
     "output_type": "stream",
     "text": [
      "+----+-------+--------+--------+\n",
      "|year|totruns|totcents|distcent|\n",
      "+----+-------+--------+--------+\n",
      "|2012|    689|       3|       3|\n",
      "|2016|   1215|       4|       4|\n",
      "|2010|   1562|       7|       7|\n",
      "|2017|   1059|       5|       5|\n",
      "|2002|   1392|       4|       4|\n",
      "|2011|    202|       0|       0|\n",
      "|2000|    575|       2|       2|\n",
      "|2001|   1003|       3|       3|\n",
      "+----+-------+--------+--------+\n",
      "\n"
     ]
    }
   ],
   "source": [
    "# join, grouping and aggregation\n",
    "testDF.groupBy(\"year\").agg(sum(\"runs\").alias(\"totruns\"), sum(\"centuries\").alias(\"totcents\"), \n",
    "                           sumDistinct(\"centuries\").alias(\"distcent\")).show()"
   ]
  }
 ],
 "metadata": {
  "kernelspec": {
   "display_name": "Python 3",
   "language": "python",
   "name": "python3"
  },
  "language_info": {
   "codemirror_mode": {
    "name": "ipython",
    "version": 3
   },
   "file_extension": ".py",
   "mimetype": "text/x-python",
   "name": "python",
   "nbconvert_exporter": "python",
   "pygments_lexer": "ipython3",
   "version": "3.6.5"
  }
 },
 "nbformat": 4,
 "nbformat_minor": 2
}
