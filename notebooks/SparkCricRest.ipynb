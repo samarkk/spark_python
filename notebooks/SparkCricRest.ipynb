{
 "cells": [
  {
   "cell_type": "code",
   "execution_count": 1,
   "metadata": {},
   "outputs": [],
   "source": [
    "import os\n",
    "import sys\n",
    "os.environ['SPARK_HOME']='/usr/lib/spark'\n",
    "os.environ['PYLIB']=os.environ['SPARK_HOME']+'/python/lib'\n",
    "sys.path.insert(0,os.environ['PYLIB']+'/py4j-0.10.7-src.zip')\n",
    "sys.path.insert(1,os.environ['PYLIB']+'/pyspark.zip')"
   ]
  },
  {
   "cell_type": "code",
   "execution_count": 2,
   "metadata": {},
   "outputs": [],
   "source": [
    "from pyspark.sql import SparkSession\n",
    "import pandas as pd\n",
    "import numpy as np"
   ]
  },
  {
   "cell_type": "code",
   "execution_count": 3,
   "metadata": {},
   "outputs": [],
   "source": [
    "spark = SparkSession.builder.appName('SparkRestOps') \\\n",
    ".config('hive.metastore.uris', 'thrift://localhost:9083') \\\n",
    ".enableHiveSupport().getOrCreate()"
   ]
  },
  {
   "cell_type": "code",
   "execution_count": 4,
   "metadata": {},
   "outputs": [
    {
     "data": {
      "text/plain": [
       "'2.4.1'"
      ]
     },
     "execution_count": 4,
     "metadata": {},
     "output_type": "execute_result"
    }
   ],
   "source": [
    "# Having set the driver and driver options we should have spark representing spark session \n",
    "# available straight away\n",
    "spark.version"
   ]
  },
  {
   "cell_type": "code",
   "execution_count": 5,
   "metadata": {},
   "outputs": [],
   "source": [
    "sc = spark.sparkContext"
   ]
  },
  {
   "cell_type": "code",
   "execution_count": 6,
   "metadata": {},
   "outputs": [],
   "source": [
    "import requests\n",
    "players = requests.get('http://localhost:5000/players').json()"
   ]
  },
  {
   "cell_type": "code",
   "execution_count": 7,
   "metadata": {
    "collapsed": true
   },
   "outputs": [
    {
     "data": {
      "text/plain": [
       "[{'ln': 'Tendulkar',\n",
       "  'fn': 'Sachin',\n",
       "  'stats': {'odi': {'matches': 463,\n",
       "    'innings': 452,\n",
       "    'notout': 41,\n",
       "    'runs': 18426,\n",
       "    'hs': 200,\n",
       "    'avg': 44.83,\n",
       "    'centuries': 49,\n",
       "    'doublehoundreds': 1,\n",
       "    'fifties': 96,\n",
       "    'fours': 2016,\n",
       "    'sixes': 195},\n",
       "   'test': {'matches': 200,\n",
       "    'innings': 329,\n",
       "    'notout': 33,\n",
       "    'runs': 15921,\n",
       "    'hs': 248,\n",
       "    'avg': 53.79,\n",
       "    'centuries': 51,\n",
       "    'doublehoundreds': 6,\n",
       "    'fifties': 68,\n",
       "    'fours': 2058,\n",
       "    'sixes': 69},\n",
       "   'fansaus': ['Bill Lawry', 'Ian Chappell', 'Mark Taylor'],\n",
       "   'faneng': ['Tony Greig', 'Geoofrey Boycott', 'Nasser Hssain'],\n",
       "   'fanwb': ['Nichael Holding', 'Tony Cozier'],\n",
       "   'fanind': ['Sunil Gavaskar', 'Ravi Shastri', 'Sanja Manjarekar']}},\n",
       " {'ln': 'Kohli',\n",
       "  'fn': 'Virat',\n",
       "  'stats': {'odi': {'matches': 227,\n",
       "    'innings': 219,\n",
       "    'notout': 37,\n",
       "    'runs': 10843,\n",
       "    'hs': 183,\n",
       "    'avg': 59.58,\n",
       "    'centuries': 41,\n",
       "    'doublehoundreds': 0,\n",
       "    'fifties': 49,\n",
       "    'fours': 1019,\n",
       "    'sixes': 117},\n",
       "   'test': {'matches': 77,\n",
       "    'innings': 131,\n",
       "    'notout': 8,\n",
       "    'runs': 6613,\n",
       "    'hs': 243,\n",
       "    'avg': 53.76,\n",
       "    'centuries': 25,\n",
       "    'doublehoundreds': 6,\n",
       "    'fifties': 20,\n",
       "    'fours': 731,\n",
       "    'sixes': 19},\n",
       "   'fansaus': ['Michael Clarke', 'Ian Chappell', 'Mark Taylor', 'David Boon'],\n",
       "   'faneng': ['Ian Botham', 'Geoofrey Boycott', 'Nasser Hssain'],\n",
       "   'fanwb': ['Nichael Holding', 'Tony Cozier'],\n",
       "   'fanind': ['Sunil Gavaskar', 'Ajit Agarkar', 'Sanjay Manjarekar']}}]"
      ]
     },
     "execution_count": 7,
     "metadata": {},
     "output_type": "execute_result"
    }
   ],
   "source": [
    "players"
   ]
  },
  {
   "cell_type": "code",
   "execution_count": 8,
   "metadata": {},
   "outputs": [],
   "source": [
    "players_df = spark.read.json(sc.parallelize(players))"
   ]
  },
  {
   "cell_type": "code",
   "execution_count": 9,
   "metadata": {},
   "outputs": [
    {
     "name": "stdout",
     "output_type": "stream",
     "text": [
      "+------+---------+--------------------------------------------------------------------------------------------------------------------------------------------------------------------------------------------------------------------------------------------------------------------------------------------------------+\n",
      "|fn    |ln       |stats                                                                                                                                                                                                                                                                                                   |\n",
      "+------+---------+--------------------------------------------------------------------------------------------------------------------------------------------------------------------------------------------------------------------------------------------------------------------------------------------------------+\n",
      "|Sachin|Tendulkar|[[Tony Greig, Geoofrey Boycott, Nasser Hssain], [Sunil Gavaskar, Ravi Shastri, Sanja Manjarekar], [Bill Lawry, Ian Chappell, Mark Taylor], [Nichael Holding, Tony Cozier], [44.83, 49, 1, 96, 2016, 200, 452, 463, 41, 18426, 195], [53.79, 51, 6, 68, 2058, 248, 329, 200, 33, 15921, 69]]             |\n",
      "|Virat |Kohli    |[[Ian Botham, Geoofrey Boycott, Nasser Hssain], [Sunil Gavaskar, Ajit Agarkar, Sanjay Manjarekar], [Michael Clarke, Ian Chappell, Mark Taylor, David Boon], [Nichael Holding, Tony Cozier], [59.58, 41, 0, 49, 1019, 183, 219, 227, 37, 10843, 117], [53.76, 25, 6, 20, 731, 243, 131, 77, 8, 6613, 19]]|\n",
      "+------+---------+--------------------------------------------------------------------------------------------------------------------------------------------------------------------------------------------------------------------------------------------------------------------------------------------------------+\n",
      "\n"
     ]
    }
   ],
   "source": [
    "players_df.show(truncate=False)"
   ]
  },
  {
   "cell_type": "code",
   "execution_count": 10,
   "metadata": {},
   "outputs": [
    {
     "name": "stdout",
     "output_type": "stream",
     "text": [
      "root\n",
      " |-- fn: string (nullable = true)\n",
      " |-- ln: string (nullable = true)\n",
      " |-- stats: struct (nullable = true)\n",
      " |    |-- faneng: array (nullable = true)\n",
      " |    |    |-- element: string (containsNull = true)\n",
      " |    |-- fanind: array (nullable = true)\n",
      " |    |    |-- element: string (containsNull = true)\n",
      " |    |-- fansaus: array (nullable = true)\n",
      " |    |    |-- element: string (containsNull = true)\n",
      " |    |-- fanwb: array (nullable = true)\n",
      " |    |    |-- element: string (containsNull = true)\n",
      " |    |-- odi: struct (nullable = true)\n",
      " |    |    |-- avg: double (nullable = true)\n",
      " |    |    |-- centuries: long (nullable = true)\n",
      " |    |    |-- doublehoundreds: long (nullable = true)\n",
      " |    |    |-- fifties: long (nullable = true)\n",
      " |    |    |-- fours: long (nullable = true)\n",
      " |    |    |-- hs: long (nullable = true)\n",
      " |    |    |-- innings: long (nullable = true)\n",
      " |    |    |-- matches: long (nullable = true)\n",
      " |    |    |-- notout: long (nullable = true)\n",
      " |    |    |-- runs: long (nullable = true)\n",
      " |    |    |-- sixes: long (nullable = true)\n",
      " |    |-- test: struct (nullable = true)\n",
      " |    |    |-- avg: double (nullable = true)\n",
      " |    |    |-- centuries: long (nullable = true)\n",
      " |    |    |-- doublehoundreds: long (nullable = true)\n",
      " |    |    |-- fifties: long (nullable = true)\n",
      " |    |    |-- fours: long (nullable = true)\n",
      " |    |    |-- hs: long (nullable = true)\n",
      " |    |    |-- innings: long (nullable = true)\n",
      " |    |    |-- matches: long (nullable = true)\n",
      " |    |    |-- notout: long (nullable = true)\n",
      " |    |    |-- runs: long (nullable = true)\n",
      " |    |    |-- sixes: long (nullable = true)\n",
      "\n"
     ]
    }
   ],
   "source": [
    "players_df.printSchema()"
   ]
  },
  {
   "cell_type": "code",
   "execution_count": 12,
   "metadata": {},
   "outputs": [
    {
     "name": "stdout",
     "output_type": "stream",
     "text": [
      "+------+---------+-------+---------+-------+---------+\n",
      "|    fn|       ln|matches|centuries|matches|centuries|\n",
      "+------+---------+-------+---------+-------+---------+\n",
      "|Sachin|Tendulkar|    463|       49|    200|       51|\n",
      "| Virat|    Kohli|    227|       41|     77|       25|\n",
      "+------+---------+-------+---------+-------+---------+\n",
      "\n"
     ]
    }
   ],
   "source": [
    "players_df.select('fn', 'ln', 'stats.odi.matches', 'stats.odi.centuries', \n",
    "                 'stats.test.matches', 'stats.test.centuries').show()"
   ]
  }
 ],
 "metadata": {
  "kernelspec": {
   "display_name": "Python 3",
   "language": "python",
   "name": "python3"
  },
  "language_info": {
   "codemirror_mode": {
    "name": "ipython",
    "version": 3
   },
   "file_extension": ".py",
   "mimetype": "text/x-python",
   "name": "python",
   "nbconvert_exporter": "python",
   "pygments_lexer": "ipython3",
   "version": "3.7.3"
  }
 },
 "nbformat": 4,
 "nbformat_minor": 2
}
