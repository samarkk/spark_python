{
 "cells": [
  {
   "cell_type": "code",
   "execution_count": 1,
   "metadata": {},
   "outputs": [],
   "source": [
    "import os\n",
    "import sys\n",
    "\n",
    "os.environ['SPARK_HOME']='/home/cloudera/spark230hadoop26'\n",
    "os.environ['PYLIB']=os.environ['SPARK_HOME']+'/python/lib'\n",
    "sys.path.insert(0,os.environ['PYLIB']+'/py4j-0.10.6-src.zip')\n",
    "sys.path.insert(1,os.environ['PYLIB']+'/pyspark.zip')"
   ]
  },
  {
   "cell_type": "code",
   "execution_count": 2,
   "metadata": {},
   "outputs": [],
   "source": [
    "from pyspark.sql import SparkSession\n",
    "import pandas as pd\n",
    "import numpy as np"
   ]
  },
  {
   "cell_type": "code",
   "execution_count": 3,
   "metadata": {},
   "outputs": [],
   "source": [
    "# spark = SparkSession.builder.appName('SparkTransformations') \\\n",
    "# .config('spark.warehouse.dir','/apps/hive/warehouse') \\\n",
    "# .enableHiveSupport().getOrCreate()\n",
    "spark = SparkSession.builder.appName('SparkAccumulatorsAndBroadcastVariables') \\\n",
    ".enableHiveSupport().getOrCreate()"
   ]
  },
  {
   "cell_type": "code",
   "execution_count": 4,
   "metadata": {},
   "outputs": [
    {
     "data": {
      "text/plain": [
       "'2.3.0'"
      ]
     },
     "execution_count": 4,
     "metadata": {},
     "output_type": "execute_result"
    }
   ],
   "source": [
    "# Having set the driver and driver options we should have spark representing spark session \n",
    "# available straight away\n",
    "spark.version"
   ]
  },
  {
   "cell_type": "code",
   "execution_count": 5,
   "metadata": {},
   "outputs": [],
   "source": [
    "sc = spark.sparkContext"
   ]
  },
  {
   "cell_type": "code",
   "execution_count": 6,
   "metadata": {},
   "outputs": [
    {
     "data": {
      "text/plain": [
       "'2.3.0'"
      ]
     },
     "execution_count": 6,
     "metadata": {},
     "output_type": "execute_result"
    }
   ],
   "source": [
    "sc.version"
   ]
  },
  {
   "cell_type": "code",
   "execution_count": 7,
   "metadata": {},
   "outputs": [
    {
     "data": {
      "text/plain": [
       "1"
      ]
     },
     "execution_count": 7,
     "metadata": {},
     "output_type": "execute_result"
    }
   ],
   "source": [
    "a = sc.accumulator(1)\n",
    "a.value"
   ]
  },
  {
   "cell_type": "code",
   "execution_count": 8,
   "metadata": {},
   "outputs": [
    {
     "data": {
      "text/plain": [
       "7"
      ]
     },
     "execution_count": 8,
     "metadata": {},
     "output_type": "execute_result"
    }
   ],
   "source": [
    "rdd = sc.parallelize([1, 2, 3])\n",
    "def f(x):\n",
    "    global a\n",
    "    a += x\n",
    "rdd.foreach(f)\n",
    "a.value"
   ]
  },
  {
   "cell_type": "code",
   "execution_count": 9,
   "metadata": {},
   "outputs": [
    {
     "name": "stdout",
     "output_type": "stream",
     "text": [
      "37550402023\n",
      "78498\n"
     ]
    }
   ],
   "source": [
    "new_accum = sc.accumulator(0)\n",
    "x = 1000000\n",
    "nrdd = sc.parallelize(range(2, x))\n",
    "def is_prime(x):\n",
    "    import math\n",
    "    if x == 1:\n",
    "        return False\n",
    "    if x == 2:\n",
    "        return True\n",
    "    return all(x % y != 0 for y in range(2, int(math.sqrt(x)) + 1))\n",
    "\n",
    "def count_prime_accum(x):\n",
    "    global new_accum\n",
    "    if is_prime(x):\n",
    "        new_accum += 1\n",
    "        return x\n",
    "    else:\n",
    "        return 0\n",
    "sum_of_primes_less_than_x = nrdd.filter(lambda x: count_prime_accum(x)).sum()\n",
    "print(sum_of_primes_less_than_x)\n",
    "print(new_accum.value)"
   ]
  },
  {
   "cell_type": "code",
   "execution_count": 10,
   "metadata": {},
   "outputs": [
    {
     "name": "stdout",
     "output_type": "stream",
     "text": [
      "[1.0, 2.0, 3.0]\n",
      "[61.0, 62.0, 63.0]\n"
     ]
    }
   ],
   "source": [
    "from pyspark.accumulators import AccumulatorParam\n",
    "\n",
    "class VectorAccumulatorParam(AccumulatorParam):\n",
    "    def zero(self, value):\n",
    "        return [0.0] * len(value)\n",
    "    \n",
    "    def addInPlace(self, val1, val2):\n",
    "        for x in range(len(val1)):\n",
    "            val1[x] += val2[x]\n",
    "        return val1\n",
    "\n",
    "va = sc.accumulator([1.0, 2.0, 3.0], VectorAccumulatorParam())\n",
    "def g(x):\n",
    "    global va\n",
    "    va += [x] * 3\n",
    "print(va.value)\n",
    "rdd = sc.parallelize([10, 20, 30])\n",
    "# [1, 2, 3] + [10, 10, 10] = [11, 12, 13] + [20, 20, 20] + [30, 30, 30] = [61, 62, 63]\n",
    "rdd.foreach(g)\n",
    "print(va.value)"
   ]
  },
  {
   "cell_type": "code",
   "execution_count": 79,
   "metadata": {},
   "outputs": [
    {
     "name": "stdout",
     "output_type": "stream",
     "text": [
      "[[0, 2], [4, 6, 8], [10, 12], [14, 16, 18]]\n",
      "4\n"
     ]
    }
   ],
   "source": [
    "nac = sc.accumulator(0)\n",
    "def mappart(itera):\n",
    "    global nac\n",
    "    nac += 1\n",
    "    yield list(map(lambda x: x * 2, itera))\n",
    "ardd = sc.parallelize(range(10))\n",
    "print(ardd.mapPartitions(mappart).collect())\n",
    "print(nac.value)"
   ]
  },
  {
   "cell_type": "code",
   "execution_count": 11,
   "metadata": {},
   "outputs": [],
   "source": [
    "nmbr_lim_to_check = 1000000"
   ]
  },
  {
   "cell_type": "code",
   "execution_count": 12,
   "metadata": {},
   "outputs": [],
   "source": [
    "prime_dict = {x: is_prime(x)  for x in range(nmbr_lim_to_check) }"
   ]
  },
  {
   "cell_type": "code",
   "execution_count": 13,
   "metadata": {},
   "outputs": [],
   "source": [
    "prime_broadcast = sc.broadcast(prime_dict)"
   ]
  },
  {
   "cell_type": "code",
   "execution_count": 83,
   "metadata": {},
   "outputs": [
    {
     "name": "stdout",
     "output_type": "stream",
     "text": [
      "37550402023\n",
      "78499\n"
     ]
    }
   ],
   "source": [
    "braccum = sc.accumulator(0)\n",
    "\n",
    "def check_prime_using_brv(x):\n",
    "    global braccum\n",
    "    if prime_broadcast.value[x]:\n",
    "        braccum += 1\n",
    "        return x\n",
    "    else:\n",
    "        return 0\n",
    "\n",
    "prime_numbers = sc.parallelize(range(nmbr_lim_to_check)).filter(lambda x: check_prime_using_brv(x))\n",
    "print(prime_numbers.sum())\n",
    "print(braccum.value)"
   ]
  }
 ],
 "metadata": {
  "kernelspec": {
   "display_name": "Python 3",
   "language": "python",
   "name": "python3"
  },
  "language_info": {
   "codemirror_mode": {
    "name": "ipython",
    "version": 3
   },
   "file_extension": ".py",
   "mimetype": "text/x-python",
   "name": "python",
   "nbconvert_exporter": "python",
   "pygments_lexer": "ipython3",
   "version": "3.6.5"
  }
 },
 "nbformat": 4,
 "nbformat_minor": 2
}
