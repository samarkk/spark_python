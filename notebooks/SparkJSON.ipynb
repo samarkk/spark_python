{
 "cells": [
  {
   "cell_type": "code",
   "execution_count": 1,
   "metadata": {},
   "outputs": [],
   "source": [
    "import os\n",
    "import sys\n",
    "os.environ['SPARK_HOME']='/home/cloudera/spark230hadoop26'\n",
    "os.environ['PYLIB']=os.environ['SPARK_HOME']+'/python/lib'\n",
    "sys.path.insert(0,os.environ['PYLIB']+'/py4j-0.10.6-src.zip')\n",
    "sys.path.insert(1,os.environ['PYLIB']+'/pyspark.zip')"
   ]
  },
  {
   "cell_type": "code",
   "execution_count": 2,
   "metadata": {},
   "outputs": [],
   "source": [
    "from pyspark.sql import SparkSession\n",
    "import pandas as pd\n",
    "import numpy as np"
   ]
  },
  {
   "cell_type": "code",
   "execution_count": 3,
   "metadata": {},
   "outputs": [],
   "source": [
    "spark = SparkSession.builder.appName('JSONSparkSQL') \\\n",
    ".config('hive.metastore.uris', 'thrift://localhost:9083') \\\n",
    ".enableHiveSupport().getOrCreate()"
   ]
  },
  {
   "cell_type": "code",
   "execution_count": 4,
   "metadata": {},
   "outputs": [
    {
     "data": {
      "text/plain": [
       "'2.3.0'"
      ]
     },
     "execution_count": 4,
     "metadata": {},
     "output_type": "execute_result"
    }
   ],
   "source": [
    "# Having set the driver and driver options we should have spark representing spark session \n",
    "# available straight away\n",
    "spark.version"
   ]
  },
  {
   "cell_type": "code",
   "execution_count": 5,
   "metadata": {},
   "outputs": [],
   "source": [
    "sc = spark.sparkContext"
   ]
  },
  {
   "cell_type": "code",
   "execution_count": 6,
   "metadata": {},
   "outputs": [],
   "source": [
    "from pyspark.sql.types import *\n",
    "json_schema = StructType(\n",
    "[StructField('battery_level', LongType()), StructField('c02_level', LongType()), \n",
    "StructField('cca3', StringType()), StructField('cn', StringType()),\n",
    "StructField('device_id', LongType()), StructField('device_type', StringType()), \n",
    "StructField('signal', LongType()), StructField('ip', StringType()) , \n",
    "StructField('temp', LongType()) , StructField('timestamp', TimestampType()) ])"
   ]
  },
  {
   "cell_type": "code",
   "execution_count": 7,
   "metadata": {},
   "outputs": [],
   "source": [
    "eventsData = [\n",
    " (0, \"\"\"{\"device_id\": 0, \"device_type\": \"sensor-ipad\", \"ip\": \"68.161.225.1\", \"cca3\": \"USA\", \"cn\": \"United States\", \"temp\": 25, \"signal\": 23, \"battery_level\": 8, \"c02_level\": 917, \"timestamp\" :1475600496 }\"\"\"),\n",
    " (1, \"\"\"{\"device_id\": 1, \"device_type\": \"sensor-igauge\", \"ip\": \"213.161.254.1\", \"cca3\": \"NOR\", \"cn\": \"Norway\", \"temp\": 30, \"signal\": 18, \"battery_level\": 6, \"c02_level\": 1413, \"timestamp\" :1475600498 }\"\"\"),\n",
    " (2, \"\"\"{\"device_id\": 2, \"device_type\": \"sensor-ipad\", \"ip\": \"88.36.5.1\", \"cca3\": \"ITA\", \"cn\": \"Italy\", \"temp\": 18, \"signal\": 25, \"battery_level\": 5, \"c02_level\": 1372, \"timestamp\" :1475600500 }\"\"\"),\n",
    " (3, \"\"\"{\"device_id\": 3, \"device_type\": \"sensor-inest\", \"ip\": \"66.39.173.154\", \"cca3\": \"USA\", \"cn\": \"United States\", \"temp\": 47, \"signal\": 12, \"battery_level\": 1, \"c02_level\": 1447, \"timestamp\" :1475600502 }\"\"\"),\n",
    "(4, \"\"\"{\"device_id\": 4, \"device_type\": \"sensor-ipad\", \"ip\": \"203.82.41.9\", \"cca3\": \"PHL\", \"cn\": \"Philippines\", \"temp\": 29, \"signal\": 11, \"battery_level\": 0, \"c02_level\": 983, \"timestamp\" :1475600504 }\"\"\"),\n",
    "(5, \"\"\"{\"device_id\": 5, \"device_type\": \"sensor-istick\", \"ip\": \"204.116.105.67\", \"cca3\": \"USA\", \"cn\": \"United States\", \"temp\": 50, \"signal\": 16, \"battery_level\": 8, \"c02_level\": 1574, \"timestamp\" :1475600506 }\"\"\"),\n",
    "(6, \"\"\"{\"device_id\": 6, \"device_type\": \"sensor-ipad\", \"ip\": \"220.173.179.1\", \"cca3\": \"CHN\", \"cn\": \"China\", \"temp\": 21, \"signal\": 18, \"battery_level\": 9, \"c02_level\": 1249, \"timestamp\" :1475600508 }\"\"\"),\n",
    "(7, \"\"\"{\"device_id\": 7, \"device_type\": \"sensor-ipad\", \"ip\": \"118.23.68.227\", \"cca3\": \"JPN\", \"cn\": \"Japan\", \"temp\": 27, \"signal\": 15, \"battery_level\": 0, \"c02_level\": 1531, \"timestamp\" :1475600512 }\"\"\"),\n",
    "(8 ,\"\"\" {\"device_id\": 8, \"device_type\": \"sensor-inest\", \"ip\": \"208.109.163.218\", \"cca3\": \"USA\", \"cn\": \"United States\", \"temp\": 40, \"signal\": 16, \"battery_level\": 9, \"c02_level\": 1208, \"timestamp\" :1475600514 }\"\"\"),\n",
    "(9,\"\"\"{\"device_id\": 9, \"device_type\": \"sensor-ipad\", \"ip\": \"88.213.191.34\", \"cca3\": \"ITA\", \"cn\": \"Italy\", \"temp\": 19, \"signal\": 11, \"battery_level\": 0, \"c02_level\": 1171, \"timestamp\" :1475600516 }\"\"\"),\n",
    "(10,\"\"\"{\"device_id\": 10, \"device_type\": \"sensor-igauge\", \"ip\": \"68.28.91.22\", \"cca3\": \"USA\", \"cn\": \"United States\", \"temp\": 32, \"signal\": 26, \"battery_level\": 7, \"c02_level\": 886, \"timestamp\" :1475600518 }\"\"\"),\n",
    "(11,\"\"\"{\"device_id\": 11, \"device_type\": \"sensor-ipad\", \"ip\": \"59.144.114.250\", \"cca3\": \"IND\", \"cn\": \"India\", \"temp\": 46, \"signal\": 25, \"battery_level\": 4, \"c02_level\": 863, \"timestamp\" :1475600520 }\"\"\"),\n",
    "(12, \"\"\"{\"device_id\": 12, \"device_type\": \"sensor-igauge\", \"ip\": \"193.156.90.200\", \"cca3\": \"NOR\", \"cn\": \"Norway\", \"temp\": 18, \"signal\": 26, \"battery_level\": 8, \"c02_level\": 1220, \"timestamp\" :1475600522 }\"\"\"),\n",
    "(13, \"\"\"{\"device_id\": 13, \"device_type\": \"sensor-ipad\", \"ip\": \"67.185.72.1\", \"cca3\": \"USA\", \"cn\": \"United States\", \"temp\": 34, \"signal\": 20, \"battery_level\": 8, \"c02_level\": 1504, \"timestamp\" :1475600524 }\"\"\"),\n",
    "(14, \"\"\"{\"device_id\": 14, \"device_type\": \"sensor-inest\", \"ip\": \"68.85.85.106\", \"cca3\": \"USA\", \"cn\": \"United States\", \"temp\": 39, \"signal\": 17, \"battery_level\": 8, \"c02_level\": 831, \"timestamp\" :1475600526 }\"\"\"),\n",
    "(15, \"\"\"{\"device_id\": 15, \"device_type\": \"sensor-ipad\", \"ip\": \"161.188.212.254\", \"cca3\": \"USA\", \"cn\": \"United States\", \"temp\": 27, \"signal\": 26, \"battery_level\": 5, \"c02_level\": 1378, \"timestamp\" :1475600528 }\"\"\"),\n",
    "(16, \"\"\"{\"device_id\": 16, \"device_type\": \"sensor-igauge\", \"ip\": \"221.3.128.242\", \"cca3\": \"CHN\", \"cn\": \"China\", \"temp\": 10, \"signal\": 24, \"battery_level\": 6, \"c02_level\": 1423, \"timestamp\" :1475600530 }\"\"\"),\n",
    "(17, \"\"\"{\"device_id\": 17, \"device_type\": \"sensor-ipad\", \"ip\": \"64.124.180.215\", \"cca3\": \"USA\", \"cn\": \"United States\", \"temp\": 38, \"signal\": 17, \"battery_level\": 9, \"c02_level\": 1304, \"timestamp\" :1475600532 }\"\"\"),\n",
    "(18, \"\"\"{\"device_id\": 18, \"device_type\": \"sensor-igauge\", \"ip\": \"66.153.162.66\", \"cca3\": \"USA\", \"cn\": \"United States\", \"temp\": 26, \"signal\": 10, \"battery_level\": 0, \"c02_level\": 902, \"timestamp\" :1475600534 }\"\"\"),\n",
    "(19, \"\"\"{\"device_id\": 19, \"device_type\": \"sensor-ipad\", \"ip\": \"193.200.142.254\", \"cca3\": \"AUT\", \"cn\": \"Austria\", \"temp\": 32, \"signal\": 27, \"battery_level\": 5, \"c02_level\": 1282, \"timestamp\" :1475600536 }\"\"\")]"
   ]
  },
  {
   "cell_type": "code",
   "execution_count": 8,
   "metadata": {},
   "outputs": [],
   "source": [
    "eventsFromJSONDF = sc.parallelize(eventsData).toDF(['id', 'json'])"
   ]
  },
  {
   "cell_type": "code",
   "execution_count": 9,
   "metadata": {},
   "outputs": [
    {
     "name": "stdout",
     "output_type": "stream",
     "text": [
      "root\n",
      " |-- id: long (nullable = true)\n",
      " |-- json: string (nullable = true)\n",
      "\n"
     ]
    }
   ],
   "source": [
    "eventsFromJSONDF.printSchema()"
   ]
  },
  {
   "cell_type": "code",
   "execution_count": 10,
   "metadata": {},
   "outputs": [],
   "source": [
    "from pyspark.sql.functions import *"
   ]
  },
  {
   "cell_type": "code",
   "execution_count": 11,
   "metadata": {},
   "outputs": [
    {
     "name": "stdout",
     "output_type": "stream",
     "text": [
      "+-------------+---------------+----+\n",
      "|     dev_type|             ip|temp|\n",
      "+-------------+---------------+----+\n",
      "|  sensor-ipad|   68.161.225.1|  25|\n",
      "|sensor-igauge|  213.161.254.1|  30|\n",
      "|  sensor-ipad|      88.36.5.1|  18|\n",
      "| sensor-inest|  66.39.173.154|  47|\n",
      "|  sensor-ipad|    203.82.41.9|  29|\n",
      "|sensor-istick| 204.116.105.67|  50|\n",
      "|  sensor-ipad|  220.173.179.1|  21|\n",
      "|  sensor-ipad|  118.23.68.227|  27|\n",
      "| sensor-inest|208.109.163.218|  40|\n",
      "|  sensor-ipad|  88.213.191.34|  19|\n",
      "|sensor-igauge|    68.28.91.22|  32|\n",
      "|  sensor-ipad| 59.144.114.250|  46|\n",
      "|sensor-igauge| 193.156.90.200|  18|\n",
      "|  sensor-ipad|    67.185.72.1|  34|\n",
      "| sensor-inest|   68.85.85.106|  39|\n",
      "|  sensor-ipad|161.188.212.254|  27|\n",
      "|sensor-igauge|  221.3.128.242|  10|\n",
      "|  sensor-ipad| 64.124.180.215|  38|\n",
      "|sensor-igauge|  66.153.162.66|  26|\n",
      "|  sensor-ipad|193.200.142.254|  32|\n",
      "+-------------+---------------+----+\n",
      "\n"
     ]
    }
   ],
   "source": [
    "eventsFromJSONDF.select(get_json_object('json', '$.device_type').alias('dev_type'),\n",
    "                       get_json_object('json', '$.ip').alias('ip'),\n",
    "                       get_json_object('json', '$.temp').alias('temp')).show()"
   ]
  },
  {
   "cell_type": "code",
   "execution_count": 14,
   "metadata": {},
   "outputs": [],
   "source": [
    "eventsDF = eventsFromJSONDF.select(from_json(eventsFromJSONDF.json, json_schema).alias('device'))"
   ]
  },
  {
   "cell_type": "code",
   "execution_count": 15,
   "metadata": {},
   "outputs": [
    {
     "name": "stdout",
     "output_type": "stream",
     "text": [
      "root\n",
      " |-- device: struct (nullable = true)\n",
      " |    |-- battery_level: long (nullable = true)\n",
      " |    |-- c02_level: long (nullable = true)\n",
      " |    |-- cca3: string (nullable = true)\n",
      " |    |-- cn: string (nullable = true)\n",
      " |    |-- device_id: long (nullable = true)\n",
      " |    |-- device_type: string (nullable = true)\n",
      " |    |-- signal: long (nullable = true)\n",
      " |    |-- ip: string (nullable = true)\n",
      " |    |-- temp: long (nullable = true)\n",
      " |    |-- timestamp: timestamp (nullable = true)\n",
      "\n"
     ]
    }
   ],
   "source": [
    "eventsDF.printSchema()"
   ]
  },
  {
   "cell_type": "code",
   "execution_count": 18,
   "metadata": {},
   "outputs": [
    {
     "name": "stdout",
     "output_type": "stream",
     "text": [
      "+-------------+---------+----+-------------+---------+-------------+------+---------------+----+-------------------+\n",
      "|battery_level|c02_level|cca3|           cn|device_id|  device_type|signal|             ip|temp|          timestamp|\n",
      "+-------------+---------+----+-------------+---------+-------------+------+---------------+----+-------------------+\n",
      "|            8|      917| USA|United States|        0|  sensor-ipad|    23|   68.161.225.1|  25|2016-10-04 22:31:36|\n",
      "|            6|     1413| NOR|       Norway|        1|sensor-igauge|    18|  213.161.254.1|  30|2016-10-04 22:31:38|\n",
      "|            5|     1372| ITA|        Italy|        2|  sensor-ipad|    25|      88.36.5.1|  18|2016-10-04 22:31:40|\n",
      "|            1|     1447| USA|United States|        3| sensor-inest|    12|  66.39.173.154|  47|2016-10-04 22:31:42|\n",
      "|            0|      983| PHL|  Philippines|        4|  sensor-ipad|    11|    203.82.41.9|  29|2016-10-04 22:31:44|\n",
      "|            8|     1574| USA|United States|        5|sensor-istick|    16| 204.116.105.67|  50|2016-10-04 22:31:46|\n",
      "|            9|     1249| CHN|        China|        6|  sensor-ipad|    18|  220.173.179.1|  21|2016-10-04 22:31:48|\n",
      "|            0|     1531| JPN|        Japan|        7|  sensor-ipad|    15|  118.23.68.227|  27|2016-10-04 22:31:52|\n",
      "|            9|     1208| USA|United States|        8| sensor-inest|    16|208.109.163.218|  40|2016-10-04 22:31:54|\n",
      "|            0|     1171| ITA|        Italy|        9|  sensor-ipad|    11|  88.213.191.34|  19|2016-10-04 22:31:56|\n",
      "|            7|      886| USA|United States|       10|sensor-igauge|    26|    68.28.91.22|  32|2016-10-04 22:31:58|\n",
      "|            4|      863| IND|        India|       11|  sensor-ipad|    25| 59.144.114.250|  46|2016-10-04 22:32:00|\n",
      "|            8|     1220| NOR|       Norway|       12|sensor-igauge|    26| 193.156.90.200|  18|2016-10-04 22:32:02|\n",
      "|            8|     1504| USA|United States|       13|  sensor-ipad|    20|    67.185.72.1|  34|2016-10-04 22:32:04|\n",
      "|            8|      831| USA|United States|       14| sensor-inest|    17|   68.85.85.106|  39|2016-10-04 22:32:06|\n",
      "|            5|     1378| USA|United States|       15|  sensor-ipad|    26|161.188.212.254|  27|2016-10-04 22:32:08|\n",
      "|            6|     1423| CHN|        China|       16|sensor-igauge|    24|  221.3.128.242|  10|2016-10-04 22:32:10|\n",
      "|            9|     1304| USA|United States|       17|  sensor-ipad|    17| 64.124.180.215|  38|2016-10-04 22:32:12|\n",
      "|            0|      902| USA|United States|       18|sensor-igauge|    10|  66.153.162.66|  26|2016-10-04 22:32:14|\n",
      "|            5|     1282| AUT|      Austria|       19|  sensor-ipad|    27|193.200.142.254|  32|2016-10-04 22:32:16|\n",
      "+-------------+---------+----+-------------+---------+-------------+------+---------------+----+-------------------+\n",
      "\n"
     ]
    }
   ],
   "source": [
    "eventsDF.select('device.*').show()"
   ]
  },
  {
   "cell_type": "code",
   "execution_count": 19,
   "metadata": {},
   "outputs": [
    {
     "name": "stdout",
     "output_type": "stream",
     "text": [
      "+---------------+-------------+----+\n",
      "|             ip|           cn|temp|\n",
      "+---------------+-------------+----+\n",
      "|   68.161.225.1|United States|  25|\n",
      "|  213.161.254.1|       Norway|  30|\n",
      "|      88.36.5.1|        Italy|  18|\n",
      "|  66.39.173.154|United States|  47|\n",
      "|    203.82.41.9|  Philippines|  29|\n",
      "| 204.116.105.67|United States|  50|\n",
      "|  220.173.179.1|        China|  21|\n",
      "|  118.23.68.227|        Japan|  27|\n",
      "|208.109.163.218|United States|  40|\n",
      "|  88.213.191.34|        Italy|  19|\n",
      "|    68.28.91.22|United States|  32|\n",
      "| 59.144.114.250|        India|  46|\n",
      "| 193.156.90.200|       Norway|  18|\n",
      "|    67.185.72.1|United States|  34|\n",
      "|   68.85.85.106|United States|  39|\n",
      "|161.188.212.254|United States|  27|\n",
      "|  221.3.128.242|        China|  10|\n",
      "| 64.124.180.215|United States|  38|\n",
      "|  66.153.162.66|United States|  26|\n",
      "|193.200.142.254|      Austria|  32|\n",
      "+---------------+-------------+----+\n",
      "\n"
     ]
    }
   ],
   "source": [
    "eventsDF.select('device.ip', 'device.cn', 'device.temp').show()"
   ]
  },
  {
   "cell_type": "code",
   "execution_count": 20,
   "metadata": {},
   "outputs": [
    {
     "name": "stdout",
     "output_type": "stream",
     "text": [
      "+--------------+------+----+\n",
      "|            ip|    cn|temp|\n",
      "+--------------+------+----+\n",
      "|     88.36.5.1| Italy|  18|\n",
      "| 88.213.191.34| Italy|  19|\n",
      "|193.156.90.200|Norway|  18|\n",
      "| 221.3.128.242| China|  10|\n",
      "+--------------+------+----+\n",
      "\n"
     ]
    }
   ],
   "source": [
    "eventsDF.select('device.ip', 'device.cn', 'device.temp') \\\n",
    ".filter('temp < 20').show()"
   ]
  },
  {
   "cell_type": "code",
   "execution_count": 21,
   "metadata": {},
   "outputs": [
    {
     "name": "stdout",
     "output_type": "stream",
     "text": [
      "+-------------------------------------------------------+\n",
      "|devices                                                |\n",
      "+-------------------------------------------------------+\n",
      "|{\"ip\":\"68.161.225.1\",\"cn\":\"United States\",\"temp\":25}   |\n",
      "|{\"ip\":\"213.161.254.1\",\"cn\":\"Norway\",\"temp\":30}         |\n",
      "|{\"ip\":\"88.36.5.1\",\"cn\":\"Italy\",\"temp\":18}              |\n",
      "|{\"ip\":\"66.39.173.154\",\"cn\":\"United States\",\"temp\":47}  |\n",
      "|{\"ip\":\"203.82.41.9\",\"cn\":\"Philippines\",\"temp\":29}      |\n",
      "|{\"ip\":\"204.116.105.67\",\"cn\":\"United States\",\"temp\":50} |\n",
      "|{\"ip\":\"220.173.179.1\",\"cn\":\"China\",\"temp\":21}          |\n",
      "|{\"ip\":\"118.23.68.227\",\"cn\":\"Japan\",\"temp\":27}          |\n",
      "|{\"ip\":\"208.109.163.218\",\"cn\":\"United States\",\"temp\":40}|\n",
      "|{\"ip\":\"88.213.191.34\",\"cn\":\"Italy\",\"temp\":19}          |\n",
      "|{\"ip\":\"68.28.91.22\",\"cn\":\"United States\",\"temp\":32}    |\n",
      "|{\"ip\":\"59.144.114.250\",\"cn\":\"India\",\"temp\":46}         |\n",
      "|{\"ip\":\"193.156.90.200\",\"cn\":\"Norway\",\"temp\":18}        |\n",
      "|{\"ip\":\"67.185.72.1\",\"cn\":\"United States\",\"temp\":34}    |\n",
      "|{\"ip\":\"68.85.85.106\",\"cn\":\"United States\",\"temp\":39}   |\n",
      "|{\"ip\":\"161.188.212.254\",\"cn\":\"United States\",\"temp\":27}|\n",
      "|{\"ip\":\"221.3.128.242\",\"cn\":\"China\",\"temp\":10}          |\n",
      "|{\"ip\":\"64.124.180.215\",\"cn\":\"United States\",\"temp\":38} |\n",
      "|{\"ip\":\"66.153.162.66\",\"cn\":\"United States\",\"temp\":26}  |\n",
      "|{\"ip\":\"193.200.142.254\",\"cn\":\"Austria\",\"temp\":32}      |\n",
      "+-------------------------------------------------------+\n",
      "\n"
     ]
    }
   ],
   "source": [
    "eventsDF.select(to_json(struct('device.ip', 'device.cn', 'device.temp')))\\\n",
    ".toDF('devices').show(truncate=False)"
   ]
  },
  {
   "cell_type": "code",
   "execution_count": 23,
   "metadata": {},
   "outputs": [
    {
     "name": "stdout",
     "output_type": "stream",
     "text": [
      "root\n",
      " |-- devices: string (nullable = true)\n",
      "\n"
     ]
    }
   ],
   "source": [
    "eventsDF.select(to_json(struct('device.ip', 'device.cn', 'device.temp')))\\\n",
    ".toDF('devices').printSchema()"
   ]
  },
  {
   "cell_type": "code",
   "execution_count": 24,
   "metadata": {},
   "outputs": [
    {
     "name": "stdout",
     "output_type": "stream",
     "text": [
      "+---------------------------------------------------------------------------------------------------------------------------------------------------------------------------------------------------------------------+\n",
      "|devices                                                                                                                                                                                                              |\n",
      "+---------------------------------------------------------------------------------------------------------------------------------------------------------------------------------------------------------------------+\n",
      "|{\"device\":{\"battery_level\":8,\"c02_level\":917,\"cca3\":\"USA\",\"cn\":\"United States\",\"device_id\":0,\"device_type\":\"sensor-ipad\",\"signal\":23,\"ip\":\"68.161.225.1\",\"temp\":25,\"timestamp\":\"2016-10-04T22:31:36.000+05:30\"}}     |\n",
      "|{\"device\":{\"battery_level\":6,\"c02_level\":1413,\"cca3\":\"NOR\",\"cn\":\"Norway\",\"device_id\":1,\"device_type\":\"sensor-igauge\",\"signal\":18,\"ip\":\"213.161.254.1\",\"temp\":30,\"timestamp\":\"2016-10-04T22:31:38.000+05:30\"}}        |\n",
      "|{\"device\":{\"battery_level\":5,\"c02_level\":1372,\"cca3\":\"ITA\",\"cn\":\"Italy\",\"device_id\":2,\"device_type\":\"sensor-ipad\",\"signal\":25,\"ip\":\"88.36.5.1\",\"temp\":18,\"timestamp\":\"2016-10-04T22:31:40.000+05:30\"}}               |\n",
      "|{\"device\":{\"battery_level\":1,\"c02_level\":1447,\"cca3\":\"USA\",\"cn\":\"United States\",\"device_id\":3,\"device_type\":\"sensor-inest\",\"signal\":12,\"ip\":\"66.39.173.154\",\"temp\":47,\"timestamp\":\"2016-10-04T22:31:42.000+05:30\"}}  |\n",
      "|{\"device\":{\"battery_level\":0,\"c02_level\":983,\"cca3\":\"PHL\",\"cn\":\"Philippines\",\"device_id\":4,\"device_type\":\"sensor-ipad\",\"signal\":11,\"ip\":\"203.82.41.9\",\"temp\":29,\"timestamp\":\"2016-10-04T22:31:44.000+05:30\"}}        |\n",
      "|{\"device\":{\"battery_level\":8,\"c02_level\":1574,\"cca3\":\"USA\",\"cn\":\"United States\",\"device_id\":5,\"device_type\":\"sensor-istick\",\"signal\":16,\"ip\":\"204.116.105.67\",\"temp\":50,\"timestamp\":\"2016-10-04T22:31:46.000+05:30\"}}|\n",
      "|{\"device\":{\"battery_level\":9,\"c02_level\":1249,\"cca3\":\"CHN\",\"cn\":\"China\",\"device_id\":6,\"device_type\":\"sensor-ipad\",\"signal\":18,\"ip\":\"220.173.179.1\",\"temp\":21,\"timestamp\":\"2016-10-04T22:31:48.000+05:30\"}}           |\n",
      "|{\"device\":{\"battery_level\":0,\"c02_level\":1531,\"cca3\":\"JPN\",\"cn\":\"Japan\",\"device_id\":7,\"device_type\":\"sensor-ipad\",\"signal\":15,\"ip\":\"118.23.68.227\",\"temp\":27,\"timestamp\":\"2016-10-04T22:31:52.000+05:30\"}}           |\n",
      "|{\"device\":{\"battery_level\":9,\"c02_level\":1208,\"cca3\":\"USA\",\"cn\":\"United States\",\"device_id\":8,\"device_type\":\"sensor-inest\",\"signal\":16,\"ip\":\"208.109.163.218\",\"temp\":40,\"timestamp\":\"2016-10-04T22:31:54.000+05:30\"}}|\n",
      "|{\"device\":{\"battery_level\":0,\"c02_level\":1171,\"cca3\":\"ITA\",\"cn\":\"Italy\",\"device_id\":9,\"device_type\":\"sensor-ipad\",\"signal\":11,\"ip\":\"88.213.191.34\",\"temp\":19,\"timestamp\":\"2016-10-04T22:31:56.000+05:30\"}}           |\n",
      "|{\"device\":{\"battery_level\":7,\"c02_level\":886,\"cca3\":\"USA\",\"cn\":\"United States\",\"device_id\":10,\"device_type\":\"sensor-igauge\",\"signal\":26,\"ip\":\"68.28.91.22\",\"temp\":32,\"timestamp\":\"2016-10-04T22:31:58.000+05:30\"}}   |\n",
      "|{\"device\":{\"battery_level\":4,\"c02_level\":863,\"cca3\":\"IND\",\"cn\":\"India\",\"device_id\":11,\"device_type\":\"sensor-ipad\",\"signal\":25,\"ip\":\"59.144.114.250\",\"temp\":46,\"timestamp\":\"2016-10-04T22:32:00.000+05:30\"}}          |\n",
      "|{\"device\":{\"battery_level\":8,\"c02_level\":1220,\"cca3\":\"NOR\",\"cn\":\"Norway\",\"device_id\":12,\"device_type\":\"sensor-igauge\",\"signal\":26,\"ip\":\"193.156.90.200\",\"temp\":18,\"timestamp\":\"2016-10-04T22:32:02.000+05:30\"}}      |\n",
      "|{\"device\":{\"battery_level\":8,\"c02_level\":1504,\"cca3\":\"USA\",\"cn\":\"United States\",\"device_id\":13,\"device_type\":\"sensor-ipad\",\"signal\":20,\"ip\":\"67.185.72.1\",\"temp\":34,\"timestamp\":\"2016-10-04T22:32:04.000+05:30\"}}    |\n",
      "|{\"device\":{\"battery_level\":8,\"c02_level\":831,\"cca3\":\"USA\",\"cn\":\"United States\",\"device_id\":14,\"device_type\":\"sensor-inest\",\"signal\":17,\"ip\":\"68.85.85.106\",\"temp\":39,\"timestamp\":\"2016-10-04T22:32:06.000+05:30\"}}   |\n",
      "|{\"device\":{\"battery_level\":5,\"c02_level\":1378,\"cca3\":\"USA\",\"cn\":\"United States\",\"device_id\":15,\"device_type\":\"sensor-ipad\",\"signal\":26,\"ip\":\"161.188.212.254\",\"temp\":27,\"timestamp\":\"2016-10-04T22:32:08.000+05:30\"}}|\n",
      "|{\"device\":{\"battery_level\":6,\"c02_level\":1423,\"cca3\":\"CHN\",\"cn\":\"China\",\"device_id\":16,\"device_type\":\"sensor-igauge\",\"signal\":24,\"ip\":\"221.3.128.242\",\"temp\":10,\"timestamp\":\"2016-10-04T22:32:10.000+05:30\"}}        |\n",
      "|{\"device\":{\"battery_level\":9,\"c02_level\":1304,\"cca3\":\"USA\",\"cn\":\"United States\",\"device_id\":17,\"device_type\":\"sensor-ipad\",\"signal\":17,\"ip\":\"64.124.180.215\",\"temp\":38,\"timestamp\":\"2016-10-04T22:32:12.000+05:30\"}} |\n",
      "|{\"device\":{\"battery_level\":0,\"c02_level\":902,\"cca3\":\"USA\",\"cn\":\"United States\",\"device_id\":18,\"device_type\":\"sensor-igauge\",\"signal\":10,\"ip\":\"66.153.162.66\",\"temp\":26,\"timestamp\":\"2016-10-04T22:32:14.000+05:30\"}} |\n",
      "|{\"device\":{\"battery_level\":5,\"c02_level\":1282,\"cca3\":\"AUT\",\"cn\":\"Austria\",\"device_id\":19,\"device_type\":\"sensor-ipad\",\"signal\":27,\"ip\":\"193.200.142.254\",\"temp\":32,\"timestamp\":\"2016-10-04T22:32:16.000+05:30\"}}      |\n",
      "+---------------------------------------------------------------------------------------------------------------------------------------------------------------------------------------------------------------------+\n",
      "\n"
     ]
    }
   ],
   "source": [
    "eventsDF.select(to_json(struct('*')))\\\n",
    ".toDF('devices').show(truncate=False)"
   ]
  },
  {
   "cell_type": "code",
   "execution_count": 18,
   "metadata": {},
   "outputs": [],
   "source": [
    "dataDS = [\"\"\"\n",
    "{\n",
    "\"dc_id\": \"dc-101\",\n",
    "\"source\": {\n",
    "    \"sensor-igauge\": {\n",
    "      \"id\": 10,\n",
    "      \"ip\": \"68.28.91.22\",\n",
    "      \"description\": \"Sensor attached to the container ceilings\",\n",
    "      \"temp\":35,\n",
    "      \"c02_level\": 1475,\n",
    "      \"geo\": {\"lat\":38.00, \"long\":97.00}                        \n",
    "    },\n",
    "    \"sensor-ipad\": {\n",
    "      \"id\": 13,\n",
    "      \"ip\": \"67.185.72.1\",\n",
    "      \"description\": \"Sensor ipad attached to carbon cylinders\",\n",
    "      \"temp\": 34,\n",
    "      \"c02_level\": 1370,\n",
    "      \"geo\": {\"lat\":47.41, \"long\":-122.00}\n",
    "    },\n",
    "    \"sensor-inest\": {\n",
    "      \"id\": 8,\n",
    "      \"ip\": \"208.109.163.218\",\n",
    "      \"description\": \"Sensor attached to the factory ceilings\",\n",
    "      \"temp\": 40,\n",
    "      \"c02_level\": 1346,\n",
    "      \"geo\": {\"lat\":33.61, \"long\":-111.89}\n",
    "    },\n",
    "    \"sensor-istick\": {\n",
    "      \"id\": 5,\n",
    "      \"ip\": \"204.116.105.67\",\n",
    "      \"description\": \"Sensor embedded in exhaust pipes in the ceilings\",\n",
    "      \"temp\": 40,\n",
    "      \"c02_level\": 1574,\n",
    "      \"geo\": {\"lat\":35.93, \"long\":-85.46}\n",
    "    }\n",
    "  }\n",
    "}\"\"\"]"
   ]
  },
  {
   "cell_type": "code",
   "execution_count": 19,
   "metadata": {},
   "outputs": [],
   "source": [
    "dataDS = [\"\"\"{ \"dc_id\": \"dc-101\", \"source\": { \"sensor-igauge\": { \"id\": 10, \"ip\": \"68.28.91.22\", \"description\": \"Sensor attached to the container ceilings\", \"temp\":35, \"c02_level\": 1475, \"geo\": {\"lat\":38.00, \"long\":97.00} }, \"sensor-ipad\": { \"id\": 13, \"ip\": \"67.185.72.1\", \"description\": \"Sensor ipad attached to carbon cylinders\", \"temp\": 34, \"c02_level\": 1370, \"geo\": {\"lat\":47.41, \"long\":-122.00} }, \"sensor-inest\": { \"id\": 8, \"ip\": \"208.109.163.218\", \"description\": \"Sensor attached to the factory ceilings\", \"temp\": 40, \"c02_level\": 1346, \"geo\": {\"lat\":33.61, \"long\":-111.89} }, \"sensor-istick\": { \"id\": 5, \"ip\": \"204.116.105.67\", \"description\": \"Sensor embedded in exhaust pipes in the ceilings\", \"temp\": 40, \"c02_level\": 1574, \"geo\": {\"lat\":35.93, \"long\":-85.46} } } }\"\"\"]"
   ]
  },
  {
   "cell_type": "code",
   "execution_count": 20,
   "metadata": {},
   "outputs": [
    {
     "data": {
      "text/plain": [
       "1"
      ]
     },
     "execution_count": 20,
     "metadata": {},
     "output_type": "execute_result"
    }
   ],
   "source": [
    "len(dataDS)"
   ]
  },
  {
   "cell_type": "code",
   "execution_count": 21,
   "metadata": {},
   "outputs": [],
   "source": [
    "from pyspark.sql import Row\n",
    "cmplxDF = sc.parallelize(dataDS).map(lambda x: Row(x)).toDF(['nstr'])"
   ]
  },
  {
   "cell_type": "code",
   "execution_count": 22,
   "metadata": {},
   "outputs": [
    {
     "name": "stdout",
     "output_type": "stream",
     "text": [
      "root\n",
      " |-- nstr: string (nullable = true)\n",
      "\n"
     ]
    }
   ],
   "source": [
    "cmplxDF.printSchema()"
   ]
  },
  {
   "cell_type": "code",
   "execution_count": 23,
   "metadata": {},
   "outputs": [
    {
     "name": "stdout",
     "output_type": "stream",
     "text": [
      "+-----------------------------------------------------------------------------------------------------------------------------------------------------------------------------------------------------------------------------------------------------------------------------------------------------------------------------------------------------------------------------------------------------------------------------------------------------------------------------------------------------------------------------------------------------------------------------------------------------------------------------------------------------------------------------------------------------------------------------------------------------------------------------------------+\n",
      "|nstr                                                                                                                                                                                                                                                                                                                                                                                                                                                                                                                                                                                                                                                                                                                                                                                     |\n",
      "+-----------------------------------------------------------------------------------------------------------------------------------------------------------------------------------------------------------------------------------------------------------------------------------------------------------------------------------------------------------------------------------------------------------------------------------------------------------------------------------------------------------------------------------------------------------------------------------------------------------------------------------------------------------------------------------------------------------------------------------------------------------------------------------------+\n",
      "|{ \"dc_id\": \"dc-101\", \"source\": { \"sensor-igauge\": { \"id\": 10, \"ip\": \"68.28.91.22\", \"description\": \"Sensor attached to the container ceilings\", \"temp\":35, \"c02_level\": 1475, \"geo\": {\"lat\":38.00, \"long\":97.00} }, \"sensor-ipad\": { \"id\": 13, \"ip\": \"67.185.72.1\", \"description\": \"Sensor ipad attached to carbon cylinders\", \"temp\": 34, \"c02_level\": 1370, \"geo\": {\"lat\":47.41, \"long\":-122.00} }, \"sensor-inest\": { \"id\": 8, \"ip\": \"208.109.163.218\", \"description\": \"Sensor attached to the factory ceilings\", \"temp\": 40, \"c02_level\": 1346, \"geo\": {\"lat\":33.61, \"long\":-111.89} }, \"sensor-istick\": { \"id\": 5, \"ip\": \"204.116.105.67\", \"description\": \"Sensor embedded in exhaust pipes in the ceilings\", \"temp\": 40, \"c02_level\": 1574, \"geo\": {\"lat\":35.93, \"long\":-85.46} } } }|\n",
      "+-----------------------------------------------------------------------------------------------------------------------------------------------------------------------------------------------------------------------------------------------------------------------------------------------------------------------------------------------------------------------------------------------------------------------------------------------------------------------------------------------------------------------------------------------------------------------------------------------------------------------------------------------------------------------------------------------------------------------------------------------------------------------------------------+\n",
      "\n"
     ]
    }
   ],
   "source": [
    "cmplxDF.show(truncate=False)"
   ]
  },
  {
   "cell_type": "code",
   "execution_count": 24,
   "metadata": {},
   "outputs": [],
   "source": [
    "schema = StructType([StructField(\"dc_id\", StringType()),\n",
    "                    StructField(\"source\", \n",
    "                                MapType(StringType(), \n",
    "                                StructType([\n",
    "                                   StructField(\"description\", StringType()),\n",
    "                                   StructField(\"ip\", StringType()),\n",
    "                                   StructField(\"id\", LongType()),\n",
    "                                   StructField(\"temp\", LongType()),\n",
    "                                   StructField(\"c02_level\", LongType()),\n",
    "                                   StructField(\"geo\", \n",
    "                                               StructType([\n",
    "                                                   StructField(\"lat\", DoubleType()),\n",
    "                                                   StructField(\"long\", DoubleType())\n",
    "                                               ]\n",
    "                                               )\n",
    "                                              )\n",
    "                                ])\n",
    "                                       )\n",
    "                               )\n",
    "                    ])"
   ]
  },
  {
   "cell_type": "code",
   "execution_count": 25,
   "metadata": {},
   "outputs": [
    {
     "data": {
      "text/plain": [
       "[Row(nstr='{ \"dc_id\": \"dc-101\", \"source\": { \"sensor-igauge\": { \"id\": 10, \"ip\": \"68.28.91.22\", \"description\": \"Sensor attached to the container ceilings\", \"temp\":35, \"c02_level\": 1475, \"geo\": {\"lat\":38.00, \"long\":97.00} }, \"sensor-ipad\": { \"id\": 13, \"ip\": \"67.185.72.1\", \"description\": \"Sensor ipad attached to carbon cylinders\", \"temp\": 34, \"c02_level\": 1370, \"geo\": {\"lat\":47.41, \"long\":-122.00} }, \"sensor-inest\": { \"id\": 8, \"ip\": \"208.109.163.218\", \"description\": \"Sensor attached to the factory ceilings\", \"temp\": 40, \"c02_level\": 1346, \"geo\": {\"lat\":33.61, \"long\":-111.89} }, \"sensor-istick\": { \"id\": 5, \"ip\": \"204.116.105.67\", \"description\": \"Sensor embedded in exhaust pipes in the ceilings\", \"temp\": 40, \"c02_level\": 1574, \"geo\": {\"lat\":35.93, \"long\":-85.46} } } }')]"
      ]
     },
     "execution_count": 25,
     "metadata": {},
     "output_type": "execute_result"
    }
   ],
   "source": [
    "cmplxDF.rdd.collect()"
   ]
  },
  {
   "cell_type": "code",
   "execution_count": 26,
   "metadata": {},
   "outputs": [],
   "source": [
    "df = spark.read.schema(schema).json(cmplxDF.rdd)"
   ]
  },
  {
   "cell_type": "code",
   "execution_count": 27,
   "metadata": {},
   "outputs": [
    {
     "name": "stdout",
     "output_type": "stream",
     "text": [
      "root\n",
      " |-- dc_id: string (nullable = true)\n",
      " |-- source: map (nullable = true)\n",
      " |    |-- key: string\n",
      " |    |-- value: struct (valueContainsNull = true)\n",
      " |    |    |-- description: string (nullable = true)\n",
      " |    |    |-- ip: string (nullable = true)\n",
      " |    |    |-- id: long (nullable = true)\n",
      " |    |    |-- temp: long (nullable = true)\n",
      " |    |    |-- c02_level: long (nullable = true)\n",
      " |    |    |-- geo: struct (nullable = true)\n",
      " |    |    |    |-- lat: double (nullable = true)\n",
      " |    |    |    |-- long: double (nullable = true)\n",
      "\n"
     ]
    }
   ],
   "source": [
    "df.printSchema()"
   ]
  },
  {
   "cell_type": "code",
   "execution_count": 28,
   "metadata": {},
   "outputs": [
    {
     "name": "stdout",
     "output_type": "stream",
     "text": [
      "+---+-----+\n",
      "|key|value|\n",
      "+---+-----+\n",
      "+---+-----+\n",
      "\n"
     ]
    },
    {
     "data": {
      "text/plain": [
       "1"
      ]
     },
     "execution_count": 28,
     "metadata": {},
     "output_type": "execute_result"
    }
   ],
   "source": [
    "df.select(explode('source')).show()\n",
    "df.count()"
   ]
  },
  {
   "cell_type": "code",
   "execution_count": 29,
   "metadata": {},
   "outputs": [
    {
     "name": "stdout",
     "output_type": "stream",
     "text": [
      "+------+----+----+------+---------+\n",
      "|symbol|  yr|mnth|   qty|      vlu|\n",
      "+------+----+----+------+---------+\n",
      "|  INFY|2017|   5|  2000|2164550.0|\n",
      "|  INFY|2017|   5|  1954|2174352.0|\n",
      "|  INFY|2017|   6|  2341|2934231.0|\n",
      "|  INFY|2017|   6|  1814|1904557.0|\n",
      "|  SBIN|2017|   5|200061|3164550.0|\n",
      "|  SBIN|2017|   5|211954|3174352.0|\n",
      "|  SBIN|2017|   6|222341|3434234.0|\n",
      "|  SBIN|2017|   6|301814|4590455.0|\n",
      "+------+----+----+------+---------+\n",
      "\n"
     ]
    }
   ],
   "source": [
    "spark.read.parquet('hdfs://localhost:8020/user/cloudera/stdf_parquet').show()"
   ]
  },
  {
   "cell_type": "code",
   "execution_count": 35,
   "metadata": {},
   "outputs": [
    {
     "name": "stdout",
     "output_type": "stream",
     "text": [
      "+-----+------+\n",
      "|dc_id|source|\n",
      "+-----+------+\n",
      "| null|  null|\n",
      "| null|  null|\n",
      "| null|  null|\n",
      "| null|  null|\n",
      "| null|  null|\n",
      "| null|  null|\n",
      "| null|  null|\n",
      "| null|  null|\n",
      "| null|  null|\n",
      "| null|  null|\n",
      "| null|  null|\n",
      "| null|  null|\n",
      "| null|  null|\n",
      "| null|  null|\n",
      "| null|  null|\n",
      "| null|  null|\n",
      "| null|  null|\n",
      "| null|  null|\n",
      "| null|  null|\n",
      "| null|  null|\n",
      "+-----+------+\n",
      "only showing top 20 rows\n",
      "\n"
     ]
    }
   ],
   "source": [
    "spark.read.json(schema=schema,path='file:///home/cloudera/cmplx.json').show()"
   ]
  },
  {
   "cell_type": "code",
   "execution_count": 32,
   "metadata": {},
   "outputs": [
    {
     "name": "stdout",
     "output_type": "stream",
     "text": [
      "root\n",
      " |-- dc_id: string (nullable = true)\n",
      " |-- source: map (nullable = true)\n",
      " |    |-- key: string\n",
      " |    |-- value: struct (valueContainsNull = true)\n",
      " |    |    |-- description: string (nullable = true)\n",
      " |    |    |-- ip: string (nullable = true)\n",
      " |    |    |-- id: long (nullable = true)\n",
      " |    |    |-- temp: long (nullable = true)\n",
      " |    |    |-- c02_level: long (nullable = true)\n",
      " |    |    |-- geo: struct (nullable = true)\n",
      " |    |    |    |-- lat: double (nullable = true)\n",
      " |    |    |    |-- long: double (nullable = true)\n",
      "\n"
     ]
    }
   ],
   "source": [
    "df.printSchema()"
   ]
  },
  {
   "cell_type": "code",
   "execution_count": 33,
   "metadata": {},
   "outputs": [
    {
     "name": "stdout",
     "output_type": "stream",
     "text": [
      "+-----+------+\n",
      "|dc_id|source|\n",
      "+-----+------+\n",
      "| null|  null|\n",
      "| null|  null|\n",
      "| null|  null|\n",
      "| null|  null|\n",
      "| null|  null|\n",
      "| null|  null|\n",
      "| null|  null|\n",
      "| null|  null|\n",
      "| null|  null|\n",
      "| null|  null|\n",
      "| null|  null|\n",
      "| null|  null|\n",
      "| null|  null|\n",
      "| null|  null|\n",
      "| null|  null|\n",
      "| null|  null|\n",
      "| null|  null|\n",
      "| null|  null|\n",
      "| null|  null|\n",
      "| null|  null|\n",
      "+-----+------+\n",
      "only showing top 20 rows\n",
      "\n"
     ]
    }
   ],
   "source": [
    "df.show()"
   ]
  },
  {
   "cell_type": "code",
   "execution_count": null,
   "metadata": {},
   "outputs": [],
   "source": []
  }
 ],
 "metadata": {
  "kernelspec": {
   "display_name": "Python 3",
   "language": "python",
   "name": "python3"
  },
  "language_info": {
   "codemirror_mode": {
    "name": "ipython",
    "version": 3
   },
   "file_extension": ".py",
   "mimetype": "text/x-python",
   "name": "python",
   "nbconvert_exporter": "python",
   "pygments_lexer": "ipython3",
   "version": "3.6.5"
  }
 },
 "nbformat": 4,
 "nbformat_minor": 2
}
