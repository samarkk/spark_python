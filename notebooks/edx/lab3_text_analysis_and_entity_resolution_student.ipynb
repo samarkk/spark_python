{
 "cells": [
  {
   "cell_type": "markdown",
   "metadata": {},
   "source": [
    "version 1.0.3\n",
    "#![Spark Logo](http://spark-mooc.github.io/web-assets/images/ta_Spark-logo-small.png) + ![Python Logo](http://spark-mooc.github.io/web-assets/images/python-logo-master-v3-TM-flattened_small.png)\n",
    "# **Text Analysis and Entity Resolution**\n",
    "####Entity resolution is a common, yet difficult problem in data cleaning and integration. This lab will demonstrate how we can use Apache Spark to apply powerful and scalable text analysis techniques and perform entity resolution across two datasets of commercial products."
   ]
  },
  {
   "cell_type": "markdown",
   "metadata": {},
   "source": [
    "#### Entity Resolution, or \"[Record linkage][wiki]\" is the term used by statisticians, epidemiologists, and historians, among others, to describe the process of joining records from one data source with another that describe the same entity. Our terms with the same meaning include, \"entity disambiguation/linking\", duplicate detection\", \"deduplication\", \"record matching\", \"(reference) reconciliation\", \"object identification\", \"data/information integration\", and \"conflation\".\n",
    "#### Entity Resolution (ER) refers to the task of finding records in a dataset that refer to the same entity across different data sources (e.g., data files, books, websites, databases). ER is necessary when joining datasets based on entities that may or may not share a common identifier (e.g., database key, URI, National identification number), as may be the case due to differences in record shape, storage location, and/or curator style or preference. A dataset that has undergone ER may be referred to as being cross-linked.\n",
    "[wiki]: https://en.wikipedia.org/wiki/Record_linkage"
   ]
  },
  {
   "cell_type": "markdown",
   "metadata": {},
   "source": [
    "### Code\n",
    "#### This assignment can be completed using basic Python, pySpark Transformations and actions, and the plotting library matplotlib. Other libraries are not allowed.\n",
    "### Files\n",
    "#### Data files for this assignment are from the [metric-learning](https://code.google.com/p/metric-learning/) project and can be found at:\n",
    "`cs100/lab3`\n",
    "#### The directory contains the following files:\n",
    "* **Google.csv**, the Google Products dataset\n",
    "* **Amazon.csv**, the Amazon dataset\n",
    "* **Google_small.csv**, 200 records sampled from the Google data\n",
    "* **Amazon_small.csv**, 200 records sampled from the Amazon data\n",
    "* **Amazon_Google_perfectMapping.csv**, the \"gold standard\" mapping\n",
    "* **stopwords.txt**, a list of common English words\n",
    "#### Besides the complete data files, there are \"sample\" data files for each dataset - we will use these for **Part 1**. In addition, there is a \"gold standard\" file that contains all of the true mappings between entities in the two datasets. Every row in the gold standard file has a pair of record IDs (one Google, one Amazon) that belong to two record that describe the same thing in the real world. We will use the gold standard to evaluate our algorithms."
   ]
  },
  {
   "cell_type": "code",
   "execution_count": 35,
   "metadata": {},
   "outputs": [
    {
     "name": "stdout",
     "output_type": "stream",
     "text": [
      "Populating the interactive namespace from numpy and matplotlib\n"
     ]
    }
   ],
   "source": [
    "%pylab inline"
   ]
  },
  {
   "cell_type": "code",
   "execution_count": 1,
   "metadata": {},
   "outputs": [],
   "source": [
    "import os\n",
    "import sys\n",
    "os.environ['SPARK_HOME']='/usr/lib/spark'\n",
    "os.environ['PYLIB']=os.environ['SPARK_HOME']+'/python/lib'\n",
    "sys.path.insert(0,os.environ['PYLIB']+'/py4j-0.10.7-src.zip')\n",
    "sys.path.insert(1,os.environ['PYLIB']+'/pyspark.zip')"
   ]
  },
  {
   "cell_type": "code",
   "execution_count": 4,
   "metadata": {},
   "outputs": [],
   "source": [
    "from pyspark.sql import SparkSession\n",
    "import pandas as pd\n",
    "import numpy as np"
   ]
  },
  {
   "cell_type": "code",
   "execution_count": 5,
   "metadata": {},
   "outputs": [],
   "source": [
    "spark = SparkSession.builder.appName('EntityResolution') \\\n",
    ".config('spark.warehouse.dir','/user/hive/warehouse') \\\n",
    ".enableHiveSupport().getOrCreate()"
   ]
  },
  {
   "cell_type": "code",
   "execution_count": 6,
   "metadata": {},
   "outputs": [
    {
     "data": {
      "text/plain": [
       "'2.4.1'"
      ]
     },
     "execution_count": 6,
     "metadata": {},
     "output_type": "execute_result"
    }
   ],
   "source": [
    "# Having set the driver and driver options we should have spark representing spark session \n",
    "# available straight away\n",
    "spark.version"
   ]
  },
  {
   "cell_type": "code",
   "execution_count": 7,
   "metadata": {},
   "outputs": [],
   "source": [
    "sc = spark.sparkContext"
   ]
  },
  {
   "cell_type": "markdown",
   "metadata": {},
   "source": [
    "### **Part 0: Preliminaries**\n",
    "#### We read in each of the files and create an RDD consisting of lines.\n",
    "#### For each of the data files (\"Google.csv\", \"Amazon.csv\", and the samples), we want to parse the IDs out of each record. The IDs are the first column of the file (they are URLs for Google, and alphanumeric strings for Amazon). Omitting the headers, we load these data files into pair RDDs where the *mapping ID* is the key, and the value is a string consisting of the name/title, description, and manufacturer from the record.\n",
    "#### The file format of an Amazon line is:\n",
    "   `\"id\",\"title\",\"description\",\"manufacturer\",\"price\"`\n",
    "#### The file format of a Google line is:\n",
    "   `\"id\",\"name\",\"description\",\"manufacturer\",\"price\"`"
   ]
  },
  {
   "cell_type": "code",
   "execution_count": 8,
   "metadata": {},
   "outputs": [],
   "source": [
    "import re\n",
    "DATAFILE_PATTERN = '^(.+),\"(.+)\",(.*),(.*),(.*)'\n",
    "\n",
    "def removeQuotes(s):\n",
    "    \"\"\" Remove quotation marks from an input string\n",
    "    Args:\n",
    "        s (str): input string that might have the quote \"\" characters\n",
    "    Returns:\n",
    "        str: a string without the quote characters\n",
    "    \"\"\"\n",
    "    return ''.join(i for i in s if i!='\"')\n",
    "\n",
    "\n",
    "def parseDatafileLine(datafileLine):\n",
    "    \"\"\" Parse a line of the data file using the specified regular expression pattern\n",
    "    Args:\n",
    "        datafileLine (str): input string that is a line from the data file\n",
    "    Returns:\n",
    "        str: a string parsed using the given regular expression and without the quote characters\n",
    "    \"\"\"\n",
    "    match = re.search(DATAFILE_PATTERN, datafileLine)\n",
    "    if match is None:\n",
    "        print('Invalid datafile line: %s' % datafileLine)\n",
    "        return (datafileLine, -1)\n",
    "    elif match.group(1) == '\"id\"':\n",
    "        print('Header datafile line: %s' % datafileLine)\n",
    "        return (datafileLine, 0)\n",
    "    else:\n",
    "        product = '%s %s %s' % (match.group(2), match.group(3), match.group(4))\n",
    "        return ((removeQuotes(match.group(1)), product), 1)"
   ]
  },
  {
   "cell_type": "code",
   "execution_count": 9,
   "metadata": {},
   "outputs": [],
   "source": [
    "def loadData(filename):\n",
    "    \"\"\" Load a data file\n",
    "    Args:\n",
    "        path (str): input file name of the data file\n",
    "    Returns:\n",
    "        RDD: a RDD of parsed valid lines\n",
    "    \"\"\"\n",
    "#     filename = os.path.join(baseDir, inputPath, path)\n",
    "    raw = sc.textFile(filename).map(lambda x: parseDatafileLine(x)).cache()\n",
    "    failed = (raw\n",
    "              .filter(lambda s: s[1] == -1)\n",
    "              .map(lambda s: s[0]))\n",
    "    for line in failed.take(10):\n",
    "        print( '%s - Invalid datafile line: %s' % (filename, line))\n",
    "    valid = (raw\n",
    "             .filter(lambda s: s[1] == 1)\n",
    "             .map(lambda s: s[0])\n",
    "             .cache())\n",
    "    print( '%s - Read %d lines, successfully parsed %d lines, failed to parse %d lines' % (filename,\n",
    "                                                                                        raw.count(),\n",
    "                                                                                        valid.count(),\n",
    "                                                                                        failed.count()))\n",
    "    assert failed.count() == 0\n",
    "    assert raw.count() == (valid.count() + 1)\n",
    "    return valid"
   ]
  },
  {
   "cell_type": "code",
   "execution_count": 10,
   "metadata": {},
   "outputs": [
    {
     "name": "stdout",
     "output_type": "stream",
     "text": [
      "erdata/Google_small.csv - Read 201 lines, successfully parsed 200 lines, failed to parse 0 lines\n",
      "erdata/Google.csv - Read 3227 lines, successfully parsed 3226 lines, failed to parse 0 lines\n",
      "erdata/Amazon_small.csv - Read 201 lines, successfully parsed 200 lines, failed to parse 0 lines\n",
      "erdata/Amazon.csv - Read 1364 lines, successfully parsed 1363 lines, failed to parse 0 lines\n"
     ]
    }
   ],
   "source": [
    "GOOGLE_PATH = 'erdata/Google.csv'\n",
    "GOOGLE_SMALL_PATH = 'erdata/Google_small.csv'\n",
    "AMAZON_PATH = 'erdata/Amazon.csv'\n",
    "AMAZON_SMALL_PATH = 'erdata/Amazon_small.csv'\n",
    "GOLD_STANDARD_PATH = 'erdata/Amazon_Google_perfectMapping.csv'\n",
    "STOPWORDS_PATH = 'erdata/stopwords.txt'\n",
    "\n",
    "googleSmall = loadData(GOOGLE_SMALL_PATH)\n",
    "google = loadData(GOOGLE_PATH)\n",
    "amazonSmall = loadData(AMAZON_SMALL_PATH)\n",
    "amazon = loadData(AMAZON_PATH)"
   ]
  },
  {
   "cell_type": "markdown",
   "metadata": {},
   "source": [
    "#### Let's examine the lines that were just loaded in the two subset (small) files - one from Google and one from Amazon"
   ]
  },
  {
   "cell_type": "code",
   "execution_count": 11,
   "metadata": {},
   "outputs": [
    {
     "name": "stdout",
     "output_type": "stream",
     "text": [
      "google: http://www.google.com/base/feeds/snippets/11448761432933644608: spanish vocabulary builder \"expand your vocabulary! contains fun lessons that both teach and entertain you'll quickly find yourself mastering new terms. includes games and more!\" \n",
      "\n",
      "google: http://www.google.com/base/feeds/snippets/8175198959985911471: topics presents: museums of world \"5 cd-rom set. step behind the velvet rope to examine some of the most treasured collections of antiquities art and inventions. includes the following the louvre - virtual visit 25 rooms in full screen interactive video detailed map of the louvre ...\" \n",
      "\n",
      "google: http://www.google.com/base/feeds/snippets/18445827127704822533: sierrahome hse hallmark card studio special edition win 98 me 2000 xp \"hallmark card studio special edition (win 98 me 2000 xp)\" \"sierrahome\"\n",
      "\n",
      "amazon: b000jz4hqo: clickart 950 000 - premier image pack (dvd-rom)  \"broderbund\"\n",
      "\n",
      "amazon: b0006zf55o: ca international - arcserve lap/desktop oem 30pk \"oem arcserve backup v11.1 win 30u for laptops and desktops\" \"computer associates\"\n",
      "\n",
      "amazon: b00004tkvy: noah's ark activity center (jewel case ages 3-8)  \"victory multimedia\"\n",
      "\n"
     ]
    }
   ],
   "source": [
    "for line in googleSmall.take(3):\n",
    "    print( 'google: %s: %s\\n' % (line[0], line[1]))\n",
    "\n",
    "for line in amazonSmall.take(3):\n",
    "    print( 'amazon: %s: %s\\n' % (line[0], line[1]))"
   ]
  },
  {
   "cell_type": "markdown",
   "metadata": {},
   "source": [
    "### **Part 1: ER as Text Similarity - Bags of Words**\n",
    "#### A simple approach to entity resolution is to treat all records as strings and compute their similarity with a string distance function. In this part, we will build some components for performing bag-of-words text-analysis, and then use them to compute record similarity.\n",
    "#### [Bag-of-words][bag-of-words] is a conceptually simple yet powerful approach to text analysis.\n",
    "#### The idea is to treat strings, a.k.a. **documents**, as *unordered collections* of words, or **tokens**, i.e., as bags of words.\n",
    "> #### **Note on terminology**: a \"token\" is the result of parsing the document down to the elements we consider \"atomic\" for the task at hand.  Tokens can be things like words, numbers, acronyms, or other exotica like word-roots or fixed-length character strings.\n",
    "> #### Bag of words techniques all apply to any sort of token, so when we say \"bag-of-words\" we really mean \"bag-of-tokens,\" strictly speaking.\n",
    "#### Tokens become the atomic unit of text comparison. If we want to compare two documents, we count how many tokens they share in common. If we want to search for documents with keyword queries (this is what Google does), then we turn the keywords into tokens and find documents that contain them. The power of this approach is that it makes string comparisons insensitive to small differences that probably do not affect meaning much, for example, punctuation and word order.\n",
    "[bag-of-words]: https://en.wikipedia.org/wiki/Bag-of-words_model"
   ]
  },
  {
   "cell_type": "markdown",
   "metadata": {},
   "source": [
    "### **1(a) Tokenize a String**\n",
    "#### Implement the function `simpleTokenize(string)` that takes a string and returns a list of non-empty tokens in the string. `simpleTokenize` should split strings using the provided regular expression. Since we want to make token-matching case insensitive, make sure all tokens are turned lower-case. Give an interpretation, in natural language, of what the regular expression, `split_regex`, matches.\n",
    "#### If you need help with Regular Expressions, try the site [regex101](https://regex101.com/) where you can interactively explore the results of applying different regular expressions to strings. *Note that \\W includes the \"_\" character*.  You should use [re.split()](https://docs.python.org/2/library/re.html#re.split) to perform the string split. Also, make sure you remove any empty tokens."
   ]
  },
  {
   "cell_type": "code",
   "execution_count": 12,
   "metadata": {},
   "outputs": [
    {
     "name": "stdout",
     "output_type": "stream",
     "text": [
      "['a', 'quick', 'brown', 'fox', 'jumps', 'over', 'the', 'lazy', 'dog']\n"
     ]
    }
   ],
   "source": [
    "# TODO: Replace <FILL IN> with appropriate code\n",
    "quickbrownfox = 'A quick brown fox jumps over the lazy dog.'\n",
    "split_regex = r'\\W+'\n",
    "\n",
    "def simpleTokenize(string):\n",
    "    \"\"\" A simple implementation of input string tokenization\n",
    "    Args:\n",
    "        string (str): input string\n",
    "    Returns:\n",
    "        list: a list of tokens\n",
    "    \"\"\"\n",
    "    return list(filter(None,re.split(split_regex,string.lower())))\n",
    "\n",
    "print(list(simpleTokenize(quickbrownfox))) # Should give ['a', 'quick', 'brown', ... ]"
   ]
  },
  {
   "cell_type": "code",
   "execution_count": 13,
   "metadata": {},
   "outputs": [],
   "source": [
    "# TEST Tokenize a String (1a)\n",
    "assert simpleTokenize(quickbrownfox) ==   ['a','quick','brown','fox','jumps','over','the','lazy','dog'], \\\n",
    "'simpleTokenize should handle sample text'\n",
    "assert simpleTokenize(' ') == [], 'simpleTokenize should handle empty string'\n",
    "assert simpleTokenize('!!!!123A/456_B/789C.123A') == ['123a','456_b','789c','123a'], \\\n",
    "                  'simpleTokenize should handle puntuations and lowercase result'\n",
    "assert simpleTokenize('fox fox') ==  ['fox', 'fox'], \\\n",
    "                  'simpleTokenize should not remove duplicates'"
   ]
  },
  {
   "cell_type": "markdown",
   "metadata": {},
   "source": [
    "### **(1b) Removing stopwords**\n",
    "#### *[Stopwords][stopwords]* are common (English) words that do not contribute much to the content or meaning of a document (e.g., \"the\", \"a\", \"is\", \"to\", etc.). Stopwords add noise to bag-of-words comparisons, so they are usually excluded.\n",
    "#### Using the included file \"stopwords.txt\", implement `tokenize`, an improved tokenizer that does not emit stopwords.\n",
    "[stopwords]: https://en.wikipedia.org/wiki/Stop_words"
   ]
  },
  {
   "cell_type": "code",
   "execution_count": 15,
   "metadata": {},
   "outputs": [
    {
     "name": "stdout",
     "output_type": "stream",
     "text": [
      "These are the stopwords: {'themselves', 'with', 'where', 'hers', 'too', 'who', 'once', 'this', 'why', 'by', 'of', 'or', 'down', 'whom', 'being', 'just', 'until', 'their', 'so', 'above', 'my', 'and', 'more', 'they', 'such', 'can', 'having', 'but', 'each', 'before', 'from', 'no', 'ourselves', 'it', 'itself', 'only', 'him', 'been', 'yourselves', 'are', 'should', 'off', 'in', 'yours', 'do', 'at', 'to', 'me', 'its', 'then', 'how', 'which', 'few', 'were', 'he', 'his', 'that', 'her', 'ours', 'the', 'over', 'i', 'them', 'below', 'further', 'most', 'if', 'up', 'am', 'don', 'both', 'a', 'what', 'herself', 'because', 'after', 'very', 'out', 'other', 'while', 'not', 'when', 's', 'through', 'same', 'you', 'into', 'your', 'all', 'between', 'there', 'than', 'be', 'own', 'for', 'had', 'under', 'here', 'again', 'against', 'have', 'nor', 't', 'on', 'some', 'we', 'has', 'himself', 'did', 'during', 'was', 'as', 'now', 'about', 'yourself', 'does', 'our', 'any', 'myself', 'doing', 'those', 'will', 'an', 'these', 'she', 'is', 'theirs'}\n",
      "['quick', 'brown', 'fox', 'jumps', 'lazy', 'dog']\n"
     ]
    }
   ],
   "source": [
    "# TODO: Replace <FILL IN> with appropriate code\n",
    "stopfile = sc.textFile(STOPWORDS_PATH)\n",
    "stopwords = set(sc.textFile(STOPWORDS_PATH).collect())\n",
    "print('These are the stopwords: %s' % stopwords)\n",
    "\n",
    "def tokenize(string):\n",
    "    \"\"\" An implementation of input string tokenization that excludes stopwords\n",
    "    Args:\n",
    "        string (str): input string\n",
    "    Returns:\n",
    "        list: a list of tokens without stopwords\n",
    "    \"\"\"\n",
    "    return [x for x in simpleTokenize(string) if x not in stopwords]\n",
    "\n",
    "print(tokenize(quickbrownfox)) # Should give ['quick', 'brown', ... ]"
   ]
  },
  {
   "cell_type": "code",
   "execution_count": 16,
   "metadata": {},
   "outputs": [],
   "source": [
    "# TEST Removing stopwords (1b)\n",
    "assert tokenize(\"Why a the?\") ==  [], 'tokenize should remove all stopwords'\n",
    "assert tokenize(\"Being at the_?\") ==  ['the_'], 'tokenize should handle non-stopwords'\n",
    "assert tokenize(quickbrownfox) ==  ['quick','brown','fox','jumps','lazy','dog'], \\\n",
    "                    'tokenize should handle sample text'"
   ]
  },
  {
   "cell_type": "markdown",
   "metadata": {},
   "source": [
    "### **(1c) Tokenizing the small datasets**\n",
    "#### Now let's tokenize the two *small* datasets. For each ID in a dataset, `tokenize` the values, and then count the total number of tokens.\n",
    "#### How many tokens, total, are there in the two datasets?"
   ]
  },
  {
   "cell_type": "code",
   "execution_count": 17,
   "metadata": {},
   "outputs": [
    {
     "data": {
      "text/plain": [
       "('http://www.google.com/base/feeds/snippets/11448761432933644608',\n",
       " 'spanish vocabulary builder \"expand your vocabulary! contains fun lessons that both teach and entertain you\\'ll quickly find yourself mastering new terms. includes games and more!\" ')"
      ]
     },
     "execution_count": 17,
     "metadata": {},
     "output_type": "execute_result"
    }
   ],
   "source": [
    "googleSmall.first()"
   ]
  },
  {
   "cell_type": "code",
   "execution_count": 18,
   "metadata": {},
   "outputs": [
    {
     "name": "stdout",
     "output_type": "stream",
     "text": [
      "There are 22520 tokens in the combined datasets\n"
     ]
    }
   ],
   "source": [
    "# TODO: Replace <FILL IN> with appropriate code\n",
    "amazonRecToToken = amazonSmall.map( lambda x :(x[0], tokenize(x[1])))\n",
    "googleRecToToken = googleSmall.map(lambda x: (x[0], tokenize(x[1])))\n",
    "\n",
    "def countTokens(vendorRDD):\n",
    "    \"\"\" Count and return the number of tokens\n",
    "    Args:\n",
    "        vendorRDD (RDD of (recordId, tokenizedValue)): Pair tuple of record ID to tokenized output\n",
    "    Returns:\n",
    "        count: count of all tokens\n",
    "    \"\"\"\n",
    "    return vendorRDD.map(lambda x:(x[0], len(x[1]))).map(lambda x: x[1]).reduce(lambda a, b: a + b)\n",
    "\n",
    "totalTokens = countTokens(amazonRecToToken) + countTokens(googleRecToToken)\n",
    "print('There are %s tokens in the combined datasets' % totalTokens)"
   ]
  },
  {
   "cell_type": "code",
   "execution_count": 19,
   "metadata": {},
   "outputs": [],
   "source": [
    "# TEST Tokenizing the small datasets (1c)\n",
    "assert totalTokens == 22520, 'incorrect totalTokens'"
   ]
  },
  {
   "cell_type": "markdown",
   "metadata": {},
   "source": [
    "### **(1d) Amazon record with the most tokens**\n",
    "#### Which Amazon record has the biggest number of tokens?\n",
    "#### In other words, you want to sort the records and get the one with the largest count of tokens."
   ]
  },
  {
   "cell_type": "code",
   "execution_count": 20,
   "metadata": {},
   "outputs": [
    {
     "name": "stdout",
     "output_type": "stream",
     "text": [
      "1547\n",
      "('b000o24l3q', (['adobe', 'premiere', 'pro', 'cs3', 'upgrade', 'note', 'upgrade', 'version', 'adobe', 'premiere', 'pro', 'cs3', 'tell', 'story', 'maximum', 'impact', 'using', 'adobe', 'premiere', 'pro', 'cs3', 'upgrade', 'software', 'start', 'finish', 'solution', 'efficient', 'video', 'production', 'includes', 'adobe', 'encore', 'cs3', 'adobe', 'onlocation', 'cs3', 'windows', 'formerly', 'award', 'winning', 'dv', 'rack', 'hd', 'save', 'time', 'set', 'capture', 'using', 'adobe', 'onlocation', 'output', 'expand', 'creative', 'options', 'via', 'integration', 'adobe', 'effects', 'cs3', 'professional', 'photoshop', 'deliver', 'content', 'dvd', 'blu', 'ray', 'disc', 'web', 'mobile', 'devices', 'powerful', 'editing', 'finishing', 'delivery', 'tools', 'adobe', 'premiere', 'pro', 'available', 'mac', 'windows', 'operating', 'systems', 'maintain', 'control', 'media', 'multiple', 'project', 'panels', 'customizable', 'panel', 'display', 'settings', 'instant', 'file', 'searches', 'export', 'adobe', 'encore', 'cs3', 'projects', 'dvd', 'blu', 'ray', 'disc', 'flash', 'export', 'flash', 'encore', 'generates', 'html', 'flv', 'swf', 'files', 'provide', 'dvd', 'style', 'chapter', 'selection', 'playback', 'interactivity', 'flash', 'player', 'capture', 'edit', 'deliver', 'video', 'dvd', 'web', 'adobe', 'premiere', 'pro', 'cs3', 'software', 'available', 'mac', 'windows', 'streamlines', 'entire', 'video', 'production', 'process', 'direct', 'disk', 'recording', 'editing', 'final', 'delivery', 'tape', 'disc', 'web', 'mobile', 'devices', 'adobe', 'premiere', 'pro', 'cs3', 'redefines', 'productivity', 'flexibility', 'capturing', 'editing', 'delivering', 'video', 'content', 'video', 'professionals', 'want', 'concentrate', 'storytelling', 'nuts', 'bolts', 'production', 'adobe', 'premiere', 'pro', 'cs3', 'frees', 'focus', 'telling', 'story', 'maximize', 'image', 'quality', 'work', 'faster', 'shoots', 'using', 'adobe', 'onlocation', 'cs3', 'software', 'requires', 'windows', 'boot', 'camp', 'mac', 'included', 'adobe', 'premiere', 'pro', 'calibrate', 'cameras', 'monitor', 'video', 'signals', 'record', 'directly', 'disk', 'shoot', 'edit', 'every', 'major', 'video', 'format', 'dv', 'hd', 'beyond', 'adobe', 'premiere', 'pro', 'cs3', 'improve', 'efficiency', 'creativity', 'new', 'workflow', 'new', 'visual', 'effects', 'features', 'save', 'time', 'expand', 'creative', 'options', 'tight', 'integration', 'adobe', 'software', 'including', 'adobe', 'effects', 'cs3', 'adobe', 'photoshop', 'cs3', 'adobe', 'encore', 'cs3', 'software', 'included', 'adobe', 'premiere', 'pro', 'cs3', 'lets', 'author', 'output', 'blu', 'ray', 'disc', 'dvd', 'flash', 'swf', 'web', 'adobe', 'premiere', 'pro', 'supports', 'additional', 'delivery', 'platforms', 'including', 'flash', 'mobile', 'devices', 'letting', 'reach', 'widest', 'audience', 'possible', 'audience', 'benefit', 'corporate', 'government', 'video', 'producers', 'adobe', 'premiere', 'pro', 'cs3', 'provides', 'tools', 'need', 'ensure', 'excellent', 'production', 'values', 'working', 'quickly', 'stay', 'schedule', 'edit', 'precise', 'control', 'add', 'stunning', 'effects', 'move', 'content', 'smoothly', 'adobe', 'effects', 'cs3', 'professional', 'photoshop', 'even', 'creative', 'control', 'streamline', 'review', 'process', 'adobe', 'clip', 'notes', 'output', 'multiple', 'formats', 'quickly', 'easily', 'reach', 'people', 'everywhere', 'adobe', 'premiere', 'pro', 'cs3', 'lets', 'communicate', 'high', 'quality', 'video', 'imagery', 'even', 'tight', 'budgets', 'looming', 'deadlines', 'event', 'videographers', 'small', 'crews', 'tight', 'deadlines', 'mean', 'need', 'work', 'fast', 'even', 'clients', 'demand', 'higher', 'higher', 'production', 'values', 'adobe', 'premiere', 'pro', 'cs3', 'lets', 'capture', 'events', 'directly', 'disc', 'included', 'adobe', 'onlocation', 'cs3', 'windows', 'work', 'fast', 'precision', 'editing', 'tools', 'including', 'support', 'editing', 'multicam', 'shots', 'create', 'compelling', 'effects', 'via', 'tight', 'integration', 'adobe', 'effects', 'cs3', 'professional', 'photoshop', 'cs3', 'use', 'included', 'copy', 'adobe', 'encore', 'cs3', 'deliver', 'content', 'however', 'clients', 'need', 'whether', 'dvd', 'blu', 'ray', 'disc', 'web', 'mobile', 'devices', 'independent', 'filmmakers', 'passion', 'storytelling', 'challenge', 'finding', 'right', 'software', 'handle', 'every', 'aspect', 'production', 'process', 'deliver', 'hollywood', 'quality', 'imagery', 'adobe', 'premiere', 'pro', 'cs3', 'meets', 'need', 'complete', 'toolset', 'capturing', 'footage', 'direct', 'disc', 'editing', 'imagery', 'creating', 'titles', 'post', 'production', 'producing', 'dvds', 'delivering', 'web', 'ready', 'content', 'promote', 'films', 'internet', 'included', 'video', 'workshop', 'training', 'materials', 'll', 'help', 'every', 'stage', 'production', 'post', 'production', 'boutiques', 'enjoy', 'advanced', 'editing', 'tools', 'well', 'uncompromised', 'image', 'quality', 'real', 'time', 'performance', 'need', 'professional', 'broadcast', 'film', 'post', 'production', 'work', 'major', 'formats', 'enjoy', 'powerful', 'effects', 'media', 'management', 'tools', 'get', 'unparalleled', 'integration', 'adobe', 'effects', 'cs3', 'professional', 'photoshop', 'software', 'increase', 'efficiency', 'workflow', 'enhancements', 'adobe', 'clip', 'notes', 'adobe', 'premiere', 'pro', 'cs3', 'adobe', 'encore', 'cs3', 'deliver', 'work', 'format', 'client', 'needs', 'adobe', 'flash', 'video', 'dvd', 'blu', 'ray', 'disc', 'uncompressed', 'hd', 'educators', 'students', 'adobe', 'premiere', 'pro', 'cs3', 'offers', 'complete', 'set', 'post', 'production', 'tools', 'let', 'handle', 'aspects', 'filmmaking', 'post', 'production', 'cost', 'effectively', 'capturing', 'editing', 'footage', 'creating', 'titles', 'dvds', 'promotional', 'materials', 'websites', 'feature', 'video', 'content', 'use', 'flexible', 'tools', 'express', 'creativity', 'work', 'file', 'format', 'windows', 'macintosh', 'platforms', 'deliver', 'work', 'across', 'multiple', 'media', 'new', 'adobe', 'premiere', 'pro', 'cs3k', 'dvd', 'blu', 'ray', 'disc', 'output', 'included', 'adobe', 'encore', 'cs3', 'create', 'dvd', 'blu', 'ray', 'disc', 'content', 'adobe', 'encore', 'cs3', 'software', 'included', 'adobe', 'premiere', 'pro', 'cs3', 'work', 'encore', 'authoring', 'interface', 'features', 'used', 'create', 'standard', 'definition', 'dvds', 'author', 'deliver', 'twice', 'automatically', 'convert', 'high', 'definition', 'blu', 'ray', 'disc', 'projects', 'standard', 'definition', 'dvds', 'high', 'quality', 'slow', 'motion', 'time', 'remapping', 'create', 'dramatic', 'slow', 'fast', 'motion', 'effects', 'without', 'exporting', 'clips', 'another', 'application', 'precise', 'keyframe', 'control', 'real', 'time', 'feedback', 'excellent', 'quality', 'advanced', 'frame', 'blending', 'slow', 'things', 'without', 'compromising', 'quality', 'generate', 'even', 'better', 'frames', 'pixel', 'motion', 'analysis', 'timewarp', 'effect', 'direct', 'disc', 'recording', 'included', 'adobe', 'onlocation', 'cs3', 'windows', 'save', 'tape', 'time', 'eliminating', 'capture', 'production', 'process', 'record', 'sd', 'hd', 'video', 'directly', 'disc', 'using', 'adobe', 'onlocation', 'cs3', 'software', 'included', 'adobe', 'premiere', 'pro', 'cs3', 'instantly', 'review', 'shot', 'without', 'shuttling', 'tape', 'adobe', 'onlocation', 'automatically', 'detects', 'flags', 'problems', 'provide', 'best', 'results', 'adobe', 'encore', 'cs3', 'projects', 'web', 'one', 'click', 'easily', 'create', 'adobe', 'flash', 'versions', 'dvd', 'blu', 'ray', 'disc', 'projects', 'web', 'use', 'adobe', 'encore', 'cs3', 'create', 'flash', 'content', 'complete', 'dvd', 'interactivity', 'menus', 'without', 'learning', 'flash', 'programming', 'multiple', 'project', 'windows', 'smart', 'file', 'search', 'find', 'files', 'faster', 'search', 'tools', 'instantly', 'update', 'results', 'list', 'type', 'sort', 'organize', 'assets', 'multiple', 'project', 'windows', 'graphical', 'text', 'view', 'setting', 'display', 'handle', 'media', 'files', 'making', 'project', 'management', 'easier', 'efficient', 'professional', 'set', 'monitoring', 'adobe', 'onlocation', 'cs3', 'maximize', 'camera', 'image', 'quality', 'shoots', 'using', 'adobe', 'onlocation', 'cs3', 'quickly', 'calibrate', 'camera', 'check', 'levels', 'monitor', 'signal', 'use', 'simple', 'tools', 'function', 'like', 'hardware', 'equivalents', 'get', 'results', 'quickly', 'easily', 'virtual', 'reference', 'monitor', 'waveform', 'monitor', 'vectorscope', 'audio', 'spectrum', 'analyzer', 'help', 'avoid', 'problems', 'improve', 'quality', 'location', 'create', 'stunning', 'slow', 'motion', 'retiming', 'effects', 'directly', 'timeline', 'setting', 'moving', 'time', 'remapping', 'keyframe', 'markers', 'improve', 'look', 'video', 'three', 'way', 'color', 'corrector', 'precision', 'color', 'correction', 'tools', 'adobe', 'premiere', 'pro', 'improved', 'editing', 'efficiency', 'work', 'faster', 'powerful', 'flexible', 'editing', 'tools', 'play', 'video', 'nested', 'audio', 'sequences', 'real', 'time', 'without', 'rendering', 'replace', 'clip', 'timeline', 'new', 'clip', 'preserving', 'replaced', 'clip', 'editing', 'attributes', 'settings', 'use', 'shortcuts', 'switch', 'workspace', 'panels', 'save', 'time', 'output', 'mobile', 'devices', 'make', 'video', 'viewable', 'latest', 'delivery', 'platforms', 'encode', 'video', 'delivery', 'cell', 'phones', 'mobile', 'devices', 'simulate', 'playback', 'devices', 'check', 'video', 'quality', 'download', 'profile', 'updates', 'simulate', 'latest', 'devices', 'flash', 'video', 'export', 'markers', 'converted', 'cue', 'points', 'encode', 'video', 'audio', 'flash', 'projects', 'web', 'playback', 'direct', 'flash', 'video', 'flv', 'export', 'adobe', 'premiere', 'pro', 'cs3', 'timeline', 'markers', 'become', 'flash', 'cue', 'points', 'trigger', 'interactivity', 'navigation', 'create', 'flash', 'video', 'ease', 'improve', 'efficiency', 'incorporate', 'tapeless', 'workflow', 'shoots', 'using', 'adobe', 'onlocation', 'cs3', 'monitor', 'camera', 'video', 'signal', 'record', 'directly', 'computer', 'hard', 'drive', 'multi', 'camera', 'window', 'makes', 'editing', 'action', 'recorded', 'several', 'cameras', 'multiple', 'takes', 'easy', 'pointing', 'clicking', 'additional', 'features', 'efficient', 'tools', 'creative', 'editing', 'create', 'high', 'quality', 'visual', 'editorial', 'effects', 'directly', 'within', 'editing', 'timeline', 'generate', 'slow', 'motion', 'time', 'remapping', 'effects', 'precise', 'keyframe', 'control', 'real', 'time', 'feedback', 'add', 'color', 'correction', 'lighting', 'effects', 'audio', 'filters', 'fast', 'flexible', 'built', 'tools', 'edit', 'footage', 'multicam', 'shoots', 'ease', 'precision', 'comprehensive', 'video', 'format', 'compatibility', 'work', 'formats', 'want', 'edit', 'standard', 'high', 'definition', 'formats', 'dv', 'hdv', 'hd', 'beyond', 'formats', 'may', 'require', 'additional', 'hardware', 'broad', 'range', 'supporting', 'hardware', 'software', 'mac', 'windows', 'choose', 'wide', 'range', 'mac', 'windows', 'workstations', 'capture', 'cards', 'build', 'editing', 'system', 'exactly', 'meets', 'needs', 'budget', 'enhance', 'system', 'additional', 'plug', 'ins', 'including', 'many', 'adobe', 'effects', 'software', 'dvd', 'blu', 'ray', 'disc', 'output', 'included', 'adobe', 'encore', 'cs3', 'create', 'dvd', 'blu', 'ray', 'disc', 'content', 'adobe', 'encore', 'cs3', 'software', 'included', 'adobe', 'premiere', 'pro', 'cs3', 'work', 'encore', 'authoring', 'interface', 'features', 'used', 'create', 'standard', 'definition', 'dvds', 'author', 'deliver', 'twice', 'automatically', 'convert', 'high', 'definition', 'blu', 'ray', 'disc', 'projects', 'standard', 'definition', 'dvds', 'superior', 'integration', 'adobe', 'applications', 'make', 'leading', 'still', 'motion', 'graphics', 'applications', 'adobe', 'photoshop', 'effects', 'part', 'efficient', 'post', 'production', 'workflow', 'import', 'animate', 'photoshop', 'layers', 'automatically', 'create', 'photoshop', 'files', 'match', 'current', 'project', 'frame', 'size', 'aspect', 'ratio', 'drag', 'drop', 'copy', 'paste', 'clips', 'timelines', 'adobe', 'premiere', 'pro', 'cs3', 'effects', 'cs3', 'professional', 'direct', 'disc', 'recording', 'included', 'adobe', 'onlocation', 'cs3', 'windows', 'save', 'tape', 'time', 'eliminating', 'capture', 'production', 'process', 'record', 'sd', 'hd', 'video', 'directly', 'disc', 'using', 'adobe', 'onlocation', 'cs3', 'software', 'included', 'adobe', 'premiere', 'pro', 'cs3', 'instantly', 'review', 'shot', 'without', 'shuttling', 'tape', 'adobe', 'onlocation', 'automatically', 'detects', 'flags', 'problems', 'provide', 'best', 'results', 'professional', 'set', 'monitoring', 'adobe', 'onlocation', 'cs3', 'maximize', 'camera', 'image', 'quality', 'shoots', 'using', 'adobe', 'onlocation', 'cs3', 'quickly', 'calibrate', 'camera', 'check', 'levels', 'monitor', 'signal', 'use', 'simple', 'tools', 'function', 'like', 'hardware', 'equivalents', 'get', 'results', 'quickly', 'easily', 'virtual', 'reference', 'monitor', 'waveform', 'monitor', 'vectorscope', 'audio', 'spectrum', 'analyzer', 'help', 'avoid', 'problems', 'improve', 'quality', 'location', 'delivery', 'web', 'mobile', 'devices', 'make', 'video', 'viewable', 'today', 'tomorrow', 'delivery', 'platforms', 'export', 'adobe', 'flash', 'video', 'flv', 'easily', 'convert', 'dvd', 'projects', 'complete', 'menus', 'flash', 'swf', 'files', 'web', 'playback', 'encode', 'delivery', 'cell', 'phones', 'mobile', 'devices', 'emulate', 'playback', 'devices', 'check', 'playback', 'quality', 'accelerated', 'client', 'review', 'approval', 'adobe', 'clip', 'notes', 'expedite', 'review', 'cycles', 'avoid', 'miscommunication', 'adobe', 'clip', 'notes', 'embed', 'video', 'adobe', 'pdf', 'file', 'e', 'mail', 'file', 'client', 'review', 'add', 'timecode', 'specific', 'comments', 'view', 'comments', 'mapped', 'adobe', 'premiere', 'pro', 'cs3', 'timeline', 'multicam', 'editing', 'view', 'multiple', 'video', 'tracks', 'multiple', 'camera', 'shoot', 'easily', 'sync', 'via', 'timecode', 'edit', 'switching', 'tracks', 'real', 'time', 'rerecord', 'sections', 'edit', 'make', 'fine', 'adjustments', 'using', 'standard', 'timeline', 'editing', 'tools', 'easily', 'adjust', 'color', 'correction', 'across', 'multiple', 'shots', 'even', 'editing', 'accelerated', 'client', 'review', 'approval', 'adobe', 'clip', 'notes', 'expedite', 'review', 'cycles', 'avoid', 'miscommunication', 'adobe', 'clip', 'notes', 'embed', 'video', 'adobe', 'pdf', 'file', 'e', 'mail', 'file', 'client', 'review', 'add', 'timecode', 'specific', 'comments', 'view', 'comments', 'mapped', 'adobe', 'premiere', 'pro', 'cs3', 'timeline', 'mac', 'os', 'x', 'compatibility', 'use', 'adobe', 'premiere', 'pro', 'cs3', 'latest', 'intel', 'based', 'macintosh', 'computers', 'aaf', 'edl', 'import', 'export', 'exchange', 'project', 'metadata', 'major', 'video', 'film', 'audio', 'applications', 'via', 'industry', 'standard', 'advanced', 'authoring', 'format', 'aaf', 'aaf', 'edit', 'protocol', 'edit', 'decision', 'list', 'edl', 'files', 'aaf', 'import', 'export', 'windows', 'comprehensive', 'vtr', 'support', 'control', 'video', 'decks', 'rs', '422', 'rs', '232', 'serial', 'protocols', 'firewire', 'precise', 'batch', 'capturing', 'recapturing', 'insert', 'editing', 'file', 'management', 'adobe', 'bridge', 'work', 'efficiently', 'using', 'adobe', 'bridge', 'cs3', 'search', 'access', 'project', 'files', 'preview', 'apply', 'settings', 'run', 'batch', 'processes', 'tag', 'assets', 'xmp', 'metadata', 'macintosh', 'users', 'adobe', 'onlocation', 'requires', 'boot', 'camp', 'windows', 'purchased', 'separately', 'separate', 'windows', 'based', 'computer', 'adobe'], 1547))\n"
     ]
    }
   ],
   "source": [
    "print(amazonRecToToken.map( lambda x : len(x[1])).max())\n",
    "print(amazonRecToToken.map( lambda x: (x[0],(x[1],len(x[1])))).sortBy(lambda x : x[1][1] * -1).first())"
   ]
  },
  {
   "cell_type": "code",
   "execution_count": 21,
   "metadata": {},
   "outputs": [
    {
     "name": "stdout",
     "output_type": "stream",
     "text": [
      "The Amazon record with ID \"b000o24l3q\" has the most tokens (1547)\n"
     ]
    }
   ],
   "source": [
    "import math\n",
    "# TODO: Replace <FILL IN> with appropriate code\n",
    "def findBiggestRecord(vendorRDD):\n",
    "    \"\"\" Find and return the record with the largest number of tokens\n",
    "    Args:\n",
    "        vendorRDD (RDD of (recordId, tokens)): input Pair Tuple of record ID and tokens\n",
    "    Returns:\n",
    "        list: a list of 1 Pair Tuple of record ID and tokens\n",
    "    \"\"\"\n",
    "    return vendorRDD.map(lambda x: ((x[0],x[1]),len(x[1]))).sortBy(lambda x : x[1] * -1).first()\n",
    "\n",
    "biggestRecordAmazon = findBiggestRecord(amazonRecToToken)\n",
    "print('The Amazon record with ID \"%s\" has the most tokens (%s)' % (biggestRecordAmazon[0][0],\n",
    "                                                                   len(biggestRecordAmazon[0][1])))"
   ]
  },
  {
   "cell_type": "code",
   "execution_count": 22,
   "metadata": {},
   "outputs": [],
   "source": [
    "# TEST Amazon record with the most tokens (1d)\n",
    "assert biggestRecordAmazon[0][0] == 'b000o24l3q', 'incorrect biggestRecordAmazon'\n",
    "assert len(biggestRecordAmazon[0][1]) == 1547, 'incorrect len for biggestRecordAmazon'"
   ]
  },
  {
   "cell_type": "markdown",
   "metadata": {},
   "source": [
    "### **Part 2: ER as Text Similarity - Weighted Bag-of-Words using TF-IDF**\n",
    "#### Bag-of-words comparisons are not very good when all tokens are treated the same: some tokens are more important than others. Weights give us a way to specify which tokens to favor. With weights, when we compare documents, instead of counting common tokens, we sum up the weights of common tokens. A good heuristic for assigning weights is called \"Term-Frequency/Inverse-Document-Frequency,\" or [TF-IDF][tfidf] for short.\n",
    "#### **TF**\n",
    "#### TF rewards tokens that appear many times in the same document. It is computed as the frequency of a token in a document, that is, if document *d* contains 100 tokens and token *t* appears in *d* 5 times, then the TF weight of *t* in *d* is *5/100 = 1/20*. The intuition for TF is that if a word occurs often in a document, then it is more important to the meaning of the document.\n",
    "#### **IDF**\n",
    "#### IDF rewards tokens that are rare overall in a dataset. The intuition is that it is more significant if two documents share a rare word than a common one. IDF weight for a token, *t*, in a set of documents, *U*, is computed as follows:\n",
    "* #### Let *N* be the total number of documents in *U*\n",
    "* #### Find *n(t)*, the number of documents in *U* that contain *t*\n",
    "* #### Then *IDF(t) = N/n(t)*.\n",
    "#### Note that *n(t)/N* is the frequency of *t* in *U*, and *N/n(t)* is the inverse frequency.\n",
    "> #### **Note on terminology**: Sometimes token weights depend on the document the token belongs to, that is, the same token may have a different weight when it's found in different documents.  We call these weights *local* weights.  TF is an example of a local weight, because it depends on the length of the source.  On the other hand, some token weights only depend on the token, and are the same everywhere that token is found.  We call these weights *global*, and IDF is one such weight.\n",
    "#### **TF-IDF**\n",
    "#### Finally, to bring it all together, the total TF-IDF weight for a token in a document is the product of its TF and IDF weights.\n",
    "[tfidf]: https://en.wikipedia.org/wiki/Tf%E2%80%93idf"
   ]
  },
  {
   "cell_type": "markdown",
   "metadata": {},
   "source": [
    "### **(2a) Implement a TF function**\n",
    "#### Implement `tf(tokens)` that takes a list of tokens and returns a Python [dictionary](https://docs.python.org/2/tutorial/datastructures.html#dictionaries) mapping tokens to TF weights.\n",
    "#### The steps your function should perform are:\n",
    "* #### Create an empty Python dictionary\n",
    "* #### For each of the tokens in the input `tokens` list, count 1 for each occurance and add the token to the dictionary\n",
    "* #### For each of the tokens in the dictionary, divide the token's count by the total number of tokens in the input `tokens` list"
   ]
  },
  {
   "cell_type": "code",
   "execution_count": 23,
   "metadata": {},
   "outputs": [],
   "source": [
    "strlist = ['apple', 'banana', 'apple', 'mango','banana','apple']\n"
   ]
  },
  {
   "cell_type": "code",
   "execution_count": 24,
   "metadata": {},
   "outputs": [
    {
     "name": "stdout",
     "output_type": "stream",
     "text": [
      "{'quick': 0.16666666666666666, 'brown': 0.16666666666666666, 'fox': 0.16666666666666666, 'jumps': 0.16666666666666666, 'lazy': 0.16666666666666666, 'dog': 0.16666666666666666}\n"
     ]
    }
   ],
   "source": [
    "# TODO: Replace <FILL IN> with appropriate code\n",
    "def tf(tokens):\n",
    "    \"\"\" Compute TF\n",
    "    Args:\n",
    "        tokens (list of str): input list of tokens from tokenize\n",
    "    Returns:\n",
    "        dictionary: a dictionary of tokens to its TF values\n",
    "    \"\"\"\n",
    "    retDict = {}\n",
    "    return { x : float( tokens.count(x))/len(tokens) for x in tokens}\n",
    "\n",
    "print(tf(tokenize(quickbrownfox))) # Should give { 'quick': 0.1666 ... }"
   ]
  },
  {
   "cell_type": "code",
   "execution_count": 25,
   "metadata": {},
   "outputs": [],
   "source": [
    "# TEST Implement a TF function (2a)\n",
    "tf_test = tf(tokenize(quickbrownfox))\n",
    "assert tf_test == {'brown': 0.16666666666666666, 'lazy': 0.16666666666666666,\n",
    "                             'jumps': 0.16666666666666666, 'fox': 0.16666666666666666,\n",
    "                             'dog': 0.16666666666666666, 'quick': 0.16666666666666666}, \\\n",
    "                    'incorrect result for tf on sample text'\n",
    "tf_test2 = tf(tokenize('one_ one_ two!'))\n",
    "assert tf_test2 == {'one_': 0.6666666666666666, 'two': 0.3333333333333333}, \\\n",
    "                    'incorrect result for tf test'"
   ]
  },
  {
   "cell_type": "markdown",
   "metadata": {},
   "source": [
    "### **(2b) Create a corpus**\n",
    "#### Create a pair RDD called `corpusRDD`, consisting of a combination of the two small datasets, `amazonRecToToken` and `googleRecToToken`. Each element of the `corpusRDD` should be a pair consisting of a key from one of the small datasets (ID or URL) and the value is the associated value for that key from the small datasets."
   ]
  },
  {
   "cell_type": "code",
   "execution_count": 26,
   "metadata": {},
   "outputs": [],
   "source": [
    "# TODO: Replace <FILL IN> with appropriate code\n",
    "corpusRDD = amazonRecToToken.union(googleRecToToken)"
   ]
  },
  {
   "cell_type": "code",
   "execution_count": 27,
   "metadata": {},
   "outputs": [],
   "source": [
    "# TEST Create a corpus (2b)\n",
    "assert corpusRDD.count() == 400, 'incorrect corpusRDD.count()'"
   ]
  },
  {
   "cell_type": "code",
   "execution_count": 28,
   "metadata": {},
   "outputs": [
    {
     "name": "stdout",
     "output_type": "stream",
     "text": [
      "('b000jz4hqo', ['clickart', '950', '000', 'premier', 'image', 'pack', 'dvd', 'rom', 'broderbund'])\n"
     ]
    }
   ],
   "source": [
    " print(corpusRDD.first())"
   ]
  },
  {
   "cell_type": "markdown",
   "metadata": {},
   "source": [
    "### **(2c) Implement an IDFs function**\n",
    "#### Implement `idfs` that assigns an IDF weight to every unique token in an RDD called `corpus`. The function should return an pair RDD where the `key` is the unique token and value is the IDF weight for the token.\n",
    "#### Recall that the IDF weight for a token, *t*, in a set of documents, *U*, is computed as follows:\n",
    "* #### Let *N* be the total number of documents in *U*.\n",
    "* #### Find *n(t)*, the number of documents in *U* that contain *t*.\n",
    "* #### Then *IDF(t) = N/n(t)*.\n",
    "#### The steps your function should perform are:\n",
    "* #### Calculate *N*. Think about how you can calculate *N* from the input RDD.\n",
    "* #### Create an RDD (*not a pair RDD*) containing the unique tokens from each document in the input `corpus`. For each document, you should only include a token once, *even if it appears multiple times in that document.*\n",
    "* #### For each of the unique tokens, count how many times it appears in the document and then compute the IDF for that token: *N/n(t)*\n",
    "#### Use your `idfs` to compute the IDF weights for all tokens in `corpusRDD` (the combined small datasets).\n",
    "#### How many unique tokens are there?"
   ]
  },
  {
   "cell_type": "code",
   "execution_count": 29,
   "metadata": {},
   "outputs": [
    {
     "name": "stdout",
     "output_type": "stream",
     "text": [
      "('b000jz4hqo', ['clickart', '950', '000', 'premier', 'image', 'pack', 'dvd', 'rom', 'broderbund'])\n",
      "94 4.25531914893617\n"
     ]
    }
   ],
   "source": [
    "# print amazonRecToToken.union(googleRecToToken).first()\n",
    "# uniqueTokens = corpusRDD.flatMap(lambda x : x[1]).distinct()\n",
    "# print type(uniqueTokens), uniqueTokens.distinct().count(), uniqueTokens.take(5)\n",
    "# # print uniqueTokens.map(lambda x : (x,1)).reduceByKey(lambda a,b: a + b).collect()\n",
    "# tokenCountPairTuple = corpusRDD.flatMap( lambda x : [(y,1) for y in set(x[1]) ]).join(\n",
    "#     uniqueTokens.map(lambda x:(x,1))).map( lambda x: (x[0],x[1][1]))\n",
    "# print type(tokenCountPairTuple),tokenCountPairTuple.first()\n",
    "# tokenSumPairTuple = tokenCountPairTuple.reduceByKey(lambda a,b: a + b)\n",
    "# print tokenSumPairTuple.first()\n",
    "# print tokenSumPairTuple.map( lambda x : ( x[0],float(400)/x[1])).takeOrdered(1,lambda s:s[1])[0]\n",
    "print(corpusRDD.first())\n",
    "print(corpusRDD.filter(lambda x: x[1].count('software') > 0 ).count(), float(400)/94)"
   ]
  },
  {
   "cell_type": "code",
   "execution_count": 30,
   "metadata": {},
   "outputs": [
    {
     "data": {
      "text/plain": [
       "[('950', 4772.0),\n",
       " ('premier', 1193.0),\n",
       " ('rom', 198.83333333333334),\n",
       " ('dvd', 190.88),\n",
       " ('v11', 4772.0),\n",
       " ('ca', 681.7142857142857),\n",
       " ('lap', 2386.0),\n",
       " ('oem', 1590.6666666666667),\n",
       " ('center', 2386.0),\n",
       " ('sage', 2386.0)]"
      ]
     },
     "execution_count": 30,
     "metadata": {},
     "output_type": "execute_result"
    }
   ],
   "source": [
    "corpusRDD.flatMap(lambda x: x[1]).distinct().count()\n",
    "corpusRDD.first()\n",
    "corpusRDD.flatMap(lambda x: set(x[1])).map(lambda x: (x, 1)).reduceByKey(lambda x, y: x + y) \\\n",
    ".map(lambda x: (x[0], 4772/x[1])).take(10)"
   ]
  },
  {
   "cell_type": "code",
   "execution_count": 31,
   "metadata": {},
   "outputs": [
    {
     "name": "stdout",
     "output_type": "stream",
     "text": [
      "There are 4772 unique tokens in the small datasets.\n"
     ]
    }
   ],
   "source": [
    "# TODO: Replace <FILL IN> with appropriate code\n",
    "def idfs(corpus):\n",
    "    \"\"\" Compute IDF\n",
    "    Args:\n",
    "        corpus (RDD): input corpus\n",
    "    Returns:\n",
    "        RDD: a RDD of (token, IDF value)\n",
    "    \"\"\"\n",
    "    N = corpus.count()\n",
    "#     uniqueTokens = corpus.flatMap( lambda x : x[1]).distinct()\n",
    "#     tokenCountPairTuple = corpus.flatMap( lambda x : [(y,1) for y in set(x[1])]).join(\n",
    "#         uniqueTokens.map(lambda x:(x,1)) ).map( lambda x : (x[0],1))\n",
    "#     tokenSumPairTuple = tokenCountPairTuple.reduceByKey( lambda a,b : a + b)\n",
    "#     return (tokenSumPairTuple.map(lambda x: ( x[0],float(N)/x[1])))\n",
    "\n",
    "#   Here we do a flatMap using a set of the list of tokens - so for every document a token is going to get\n",
    "#   counted once. and we will have an overall count of the number of times the term appears in the entire corpus\n",
    "    return corpus.flatMap(lambda x: set(x[1])).map(lambda x: (x, 1)).reduceByKey(lambda x, y: x + y) \\\n",
    ".map(lambda x: (x[0], N/x[1]))\n",
    "\n",
    "idfsSmall = idfs(amazonRecToToken.union(googleRecToToken))\n",
    "uniqueTokenCount = idfsSmall.count()\n",
    "\n",
    "print('There are %s unique tokens in the small datasets.' % uniqueTokenCount)"
   ]
  },
  {
   "cell_type": "code",
   "execution_count": 32,
   "metadata": {},
   "outputs": [],
   "source": [
    "# TEST Implement an IDFs function (2c)\n",
    "assert uniqueTokenCount == 4772, 'incorrect uniqueTokenCount'\n",
    "tokenSmallestIdf = idfsSmall.takeOrdered(1, lambda s: s[1])[0]\n",
    "assert tokenSmallestIdf[0] == 'software', 'incorrect smallest IDF token'\n",
    "assert abs(tokenSmallestIdf[1] - 4.25531914894) < 0.0000000001,'incorrect smallest IDF value'"
   ]
  },
  {
   "cell_type": "markdown",
   "metadata": {},
   "source": [
    "### **(2d) Tokens with the smallest IDF**\n",
    "#### Print out the 11 tokens with the smallest IDF in the combined small dataset."
   ]
  },
  {
   "cell_type": "code",
   "execution_count": 33,
   "metadata": {},
   "outputs": [
    {
     "name": "stdout",
     "output_type": "stream",
     "text": [
      "[('software', 4.25531914893617), ('features', 6.896551724137931), ('new', 6.896551724137931), ('use', 7.017543859649122), ('complete', 7.2727272727272725), ('easy', 7.6923076923076925), ('cd', 8.333333333333334), ('create', 8.333333333333334), ('system', 8.333333333333334), ('windows', 8.51063829787234), ('1', 8.51063829787234)]\n"
     ]
    }
   ],
   "source": [
    "smallIDFTokens = idfsSmall.takeOrdered(11, lambda s: s[1])\n",
    "print(smallIDFTokens)"
   ]
  },
  {
   "cell_type": "markdown",
   "metadata": {},
   "source": [
    "### **(2e) IDF Histogram**\n",
    "#### Plot a histogram of IDF values.  Be sure to use appropriate scaling and bucketing for the data.\n",
    "#### First plot the histogram using `matplotlib`"
   ]
  },
  {
   "cell_type": "code",
   "execution_count": 36,
   "metadata": {},
   "outputs": [
    {
     "data": {
      "image/png": "[encoded data removed]",
      "text/plain": [
       "<Figure size 864x288 with 1 Axes>"
      ]
     },
     "metadata": {
      "needs_background": "light"
     },
     "output_type": "display_data"
    }
   ],
   "source": [
    "import matplotlib.pyplot as plt\n",
    "\n",
    "small_idf_values = idfsSmall.map(lambda s: s[1]).collect()\n",
    "fig = plt.figure(figsize=(12, 4))\n",
    "plt.hist(small_idf_values, 50, log=True)\n",
    "plt.show()"
   ]
  },
  {
   "cell_type": "markdown",
   "metadata": {},
   "source": [
    "### **(2f) Implement a TF-IDF function**\n",
    "#### Use your `tf` function to implement a `tfidf(tokens, idfs)` function that takes a list of tokens from a document and a Python dictionary of IDF weights and returns a Python dictionary mapping individual tokens to total TF-IDF weights.\n",
    "#### The steps your function should perform are:\n",
    "* #### Calculate the token frequencies (TF) for `tokens`\n",
    "* #### Create a Python dictionary where each token maps to the token's frequency times the token's IDF weight\n",
    "#### Use your `tfidf` function to compute the weights of Amazon product record 'b000hkgj8k'. To do this, we need to extract the record for the token from the tokenized small Amazon dataset and we need to convert the IDFs for the small dataset into a Python dictionary. We can do the first part, by using a `filter()` transformation to extract the matching record and a `collect()` action to return the value to the driver. For the second part, we use the [`collectAsMap()` action](http://spark.apache.org/docs/latest/api/python/pyspark.html#pyspark.RDD.collectAsMap) to return the IDFs to the driver as a Python dictionary."
   ]
  },
  {
   "cell_type": "code",
   "execution_count": 37,
   "metadata": {},
   "outputs": [
    {
     "name": "stdout",
     "output_type": "stream",
     "text": [
      "('b000jz4hqo', ['clickart', '950', '000', 'premier', 'image', 'pack', 'dvd', 'rom', 'broderbund'])\n",
      "{'clickart': 0.1111111111111111, '950': 0.1111111111111111, '000': 0.1111111111111111, 'premier': 0.1111111111111111, 'image': 0.1111111111111111, 'pack': 0.1111111111111111, 'dvd': 0.1111111111111111, 'rom': 0.1111111111111111, 'broderbund': 0.1111111111111111}\n",
      "3 [('apple', 1), ('banana', 1), ('mango', 1)] {'apple': 1, 'banana': 1, 'mango': 1}\n"
     ]
    }
   ],
   "source": [
    "print(amazonRecToToken.first())\n",
    "print(amazonRecToToken.map( lambda x : tf(x[1])).first())\n",
    "chrdd = sc.parallelize([ ('apple',1),('banana',1),('mango',1)])\n",
    "print(chrdd.count(),chrdd.collect(),chrdd.collectAsMap())"
   ]
  },
  {
   "cell_type": "code",
   "execution_count": 38,
   "metadata": {},
   "outputs": [
    {
     "name": "stdout",
     "output_type": "stream",
     "text": [
      "Amazon record \"b000hkgj8k\" has tokens and weights:\n",
      "{'autocad': 33.33333333333333, '2007': 3.5087719298245617, 'courseware': 66.66666666666666, 'customizing': 16.666666666666664, 'interface': 3.0303030303030303, 'autodesk': 8.333333333333332, 'psg': 33.33333333333333}\n"
     ]
    }
   ],
   "source": [
    "# TODO: Replace <FILL IN> with appropriate code\n",
    "def tfidf(tokens, idfs):\n",
    "    \"\"\" Compute TF-IDF\n",
    "    Args:\n",
    "        tokens (list of str): input list of tokens from tokenize\n",
    "        idfs (dictionary): record to IDF value\n",
    "    Returns:\n",
    "        dictionary: a dictionary of records to TF-IDF values\n",
    "    \"\"\"\n",
    "    tfs = tf(tokens)\n",
    "    tfIdfDict = dict( [(k,(tfs[k]*idfs[k])) for k in tfs])\n",
    "    return tfIdfDict\n",
    "\n",
    "recb000hkgj8k = amazonRecToToken.filter(lambda x: x[0] == 'b000hkgj8k').collect()[0][1]\n",
    "idfsSmallWeights = idfsSmall.collectAsMap()\n",
    "rec_b000hkgj8k_weights = tfidf(recb000hkgj8k, idfsSmallWeights)\n",
    "\n",
    "print('Amazon record \"b000hkgj8k\" has tokens and weights:\\n%s' % rec_b000hkgj8k_weights)"
   ]
  },
  {
   "cell_type": "code",
   "execution_count": 39,
   "metadata": {},
   "outputs": [],
   "source": [
    "# TEST Implement a TF-IDF function (2f)\n",
    "assert rec_b000hkgj8k_weights ==  {'autocad': 33.33333333333333, 'autodesk': 8.333333333333332,\n",
    "                    'courseware': 66.66666666666666, 'psg': 33.33333333333333,\n",
    "                    '2007': 3.5087719298245617, 'customizing': 16.666666666666664,\n",
    "                    'interface': 3.0303030303030303}, 'incorrect rec_b000hkgj8k_weights'"
   ]
  },
  {
   "cell_type": "markdown",
   "metadata": {},
   "source": [
    "### **Part 3: ER as Text Similarity - Cosine Similarity**\n",
    "#### Now we are ready to do text comparisons in a formal way. The metric of string distance we will use is called **[cosine similarity][cosine]**. We will treat each document as a vector in some high dimensional space. Then, to compare two documents we compute the cosine of the angle between their two document vectors. This is *much* easier than it sounds.\n",
    "#### The first question to answer is how do we represent documents as vectors? The answer is familiar: bag-of-words! We treat each unique token as a dimension, and treat token weights as magnitudes in their respective token dimensions. For example, suppose we use simple counts as weights, and we want to interpret the string \"Hello, world!  Goodbye, world!\" as a vector. Then in the \"hello\" and \"goodbye\" dimensions the vector has value 1, in the \"world\" dimension it has value 2, and it is zero in all other dimensions.\n",
    "#### The next question is: given two vectors how do we find the cosine of the angle between them? Recall the formula for the dot product of two vectors:\n",
    "#### $$ a \\cdot b = \\| a \\| \\| b \\| \\cos \\theta $$\n",
    "#### Here $ a \\cdot b = \\sum a_i b_i $ is the ordinary dot product of two vectors, and $ \\|a\\| = \\sqrt{ \\sum a_i^2 } $ is the norm of $ a $.\n",
    "#### We can rearrange terms and solve for the cosine to find it is simply the normalized dot product of the vectors. With our vector model, the dot product and norm computations are simple functions of the bag-of-words document representations, so we now have a formal way to compute similarity:\n",
    "#### $$ similarity = \\cos \\theta = \\frac{a \\cdot b}{\\|a\\| \\|b\\|} = \\frac{\\sum a_i b_i}{\\sqrt{\\sum a_i^2} \\sqrt{\\sum b_i^2}} $$\n",
    "#### Setting aside the algebra, the geometric interpretation is more intuitive. The angle between two document vectors is small if they share many tokens in common, because they are pointing in roughly the same direction. For that case, the cosine of the angle will be large. Otherwise, if the angle is large (and they have few words in common), the cosine is small. Therefore, cosine similarity scales proportionally with our intuitive sense of similarity.\n",
    "[cosine]: https://en.wikipedia.org/wiki/Cosine_similarity"
   ]
  },
  {
   "cell_type": "markdown",
   "metadata": {},
   "source": [
    "### **(3a) Implement the components of a `cosineSimilarity` function**\n",
    "#### Implement the components of a `cosineSimilarity` function.\n",
    "#### Use the `tokenize` and `tfidf` functions, and the IDF weights from Part 2 for extracting tokens and assigning them weights.\n",
    "#### The steps you should perform are:\n",
    "* #### Define a function `dotprod` that takes two Python dictionaries and produces the dot product of them, where the dot product is defined as the sum of the product of values for tokens that appear in *both* dictionaries\n",
    "* #### Define a function `norm` that returns the square root of the dot product of a dictionary and itself\n",
    "* #### Define a function `cossim` that returns the dot product of two dictionaries divided by the norm of the first dictionary and then by the norm of the second dictionary"
   ]
  },
  {
   "cell_type": "code",
   "execution_count": 43,
   "metadata": {},
   "outputs": [
    {
     "name": "stdout",
     "output_type": "stream",
     "text": [
      "dict_values([3, 4])\n",
      "1.7320508075688772\n"
     ]
    }
   ],
   "source": [
    "adict = { \"a\": 1, \"b\":2, 'c':3}\n",
    "# # print adict.items()\n",
    "# # print [ (k,v) for k,v in adict.items()]\n",
    "# print adict.keys(), adict.values()\n",
    "bdict = {'a':3,'b':2}\n",
    "# [v * vb for v in adict.values() for vb in bdict.values()]\n",
    "def dotprod(a,b):\n",
    "    return sum( {k:v*b[k] for k,v in a.items() if k in b}.values())\n",
    "print( dotprod(adict,bdict))\n",
    "print( 3 ** 0.5)"
   ]
  },
  {
   "cell_type": "code",
   "execution_count": 65,
   "metadata": {},
   "outputs": [
    {
     "name": "stdout",
     "output_type": "stream",
     "text": [
      "102 6.164414002968976\n"
     ]
    },
    {
     "name": "stderr",
     "output_type": "stream",
     "text": [
      "/home/samar/anaconda3/lib/python3.7/site-packages/ipykernel_launcher.py:21: DeprecationWarning: Calling np.sum(generator) is deprecated, and in the future will give a different result. Use np.sum(np.fromiter(generator)) or the python sum builtin instead.\n"
     ]
    }
   ],
   "source": [
    "# TODO: Replace <FILL IN> with appropriate code\n",
    "import math\n",
    "\n",
    "def dotprod(a, b):\n",
    "    \"\"\" Compute dot product\n",
    "    Args:\n",
    "        a (dictionary): first dictionary of record to value\n",
    "        b (dictionary): second dictionary of record to value\n",
    "    Returns:\n",
    "        dotProd: result of the dot product with the two input dictionaries\n",
    "    \"\"\"\n",
    "    return sum(list( { k : v * b[k] for k, v in a.items() if k in b}.values()))\n",
    "\n",
    "def norm(a):\n",
    "    \"\"\" Compute square root of the dot product\n",
    "    Args:\n",
    "        a (dictionary): a dictionary of record to value\n",
    "    Returns:\n",
    "        norm: a dictionary of tokens to its TF values\n",
    "    \"\"\"\n",
    "    return  (sum( v ** 2  for v in a.values()))** 0.5\n",
    "def cossim(a, b):\n",
    "    \"\"\" Compute cosine similarity\n",
    "    Args:\n",
    "        a (dictionary): first dictionary of record to value\n",
    "        b (dictionary): second dictionary of record to value\n",
    "    Returns:\n",
    "        cossim: dot product of two dictionaries divided by the norm of the first dictionary and\n",
    "                then by the norm of the second dictionary\n",
    "    \"\"\"\n",
    "    return dotprod(a,b)/(norm(a)*norm(b))\n",
    "\n",
    "testVec1 = {'foo': 2, 'bar': 3, 'baz': 5 }\n",
    "testVec2 = {'foo': 1, 'bar': 0, 'baz': 20 }\n",
    "dp = dotprod(testVec1, testVec2)\n",
    "nm = norm(testVec1)\n",
    "print(dp, nm)"
   ]
  },
  {
   "cell_type": "code",
   "execution_count": 66,
   "metadata": {},
   "outputs": [],
   "source": [
    "# TEST Implement the components of a cosineSimilarity function (3a)\n",
    "assert dp == 102, 'incorrect dp'\n",
    "assert abs(nm - 6.16441400297) < 0.0000001, 'incorrrect nm'"
   ]
  },
  {
   "cell_type": "markdown",
   "metadata": {},
   "source": [
    "### **(3b) Implement a `cosineSimilarity` function**\n",
    "#### Implement a `cosineSimilarity(string1, string2, idfsDictionary)` function that takes two strings and a dictionary of IDF weights, and computes their cosine similarity in the context of some global IDF weights.\n",
    "#### The steps you should perform are:\n",
    "* #### Apply your `tfidf` function to the tokenized first and second strings, using the dictionary of IDF weights\n",
    "* #### Compute and return your `cossim` function applied to the results of the two `tfidf` functions"
   ]
  },
  {
   "cell_type": "code",
   "execution_count": 67,
   "metadata": {},
   "outputs": [
    {
     "name": "stdout",
     "output_type": "stream",
     "text": [
      "0.05772433821630337\n"
     ]
    },
    {
     "name": "stderr",
     "output_type": "stream",
     "text": [
      "/home/samar/anaconda3/lib/python3.7/site-packages/ipykernel_launcher.py:21: DeprecationWarning: Calling np.sum(generator) is deprecated, and in the future will give a different result. Use np.sum(np.fromiter(generator)) or the python sum builtin instead.\n"
     ]
    }
   ],
   "source": [
    "# TODO: Replace <FILL IN> with appropriate code\n",
    "def cosineSimilarity(string1, string2, idfsDictionary):\n",
    "    \"\"\" Compute cosine similarity between two strings\n",
    "    Args:\n",
    "        string1 (str): first string\n",
    "        string2 (str): second string\n",
    "        idfsDictionary (dictionary): a dictionary of IDF values\n",
    "    Returns:\n",
    "        cossim: cosine similarity value\n",
    "    \"\"\"\n",
    "    w1 = tfidf( tokenize(string1),idfsDictionary)\n",
    "    w2 = tfidf(tokenize(string2),idfsDictionary)\n",
    "    return cossim(w1, w2)\n",
    "\n",
    "cossimAdobe = cosineSimilarity('Adobe Photoshop',\n",
    "                               'Adobe Illustrator',\n",
    "                               idfsSmallWeights)\n",
    "\n",
    "print(cossimAdobe)"
   ]
  },
  {
   "cell_type": "code",
   "execution_count": 68,
   "metadata": {},
   "outputs": [],
   "source": [
    "# TEST Implement a cosineSimilarity function (3b)\n",
    "assert abs(cossimAdobe - 0.0577243382163) < 0.0000001, 'incorrect cossimAdobe'"
   ]
  },
  {
   "cell_type": "markdown",
   "metadata": {},
   "source": [
    "### **(3c) Perform Entity Resolution**\n",
    "#### Now we can finally do some entity resolution!\n",
    "#### For *every* product record in the small Google dataset, use your `cosineSimilarity` function to compute its similarity to every record in the small Amazon dataset.  Then, build a dictionary mapping `(Google URL, Amazon ID)` tuples to similarity scores between 0 and 1.\n",
    "#### We'll do this computation two different ways, first we'll do it without a broadcast variable, and then we'll use a broadcast variable\n",
    "#### The steps you should perform are:\n",
    "* #### Create an RDD that is a combination of the small Google and small Amazon datasets that has as elements all pairs of elements (a, b) where a is in self and b is in other. The result will be an RDD of the form: `[ ((Google URL1, Google String1), (Amazon ID1, Amazon String1)), ((Google URL1, Google String1), (Amazon ID2, Amazon String2)), ((Google URL2, Google String2), (Amazon ID1, Amazon String1)), ... ]`\n",
    "* #### Define a worker function that given an element from the combination RDD computes the cosineSimlarity for the two records in the element\n",
    "* #### Apply the worker function to every element in the RDD\n",
    "#### Now, compute the similarity between Amazon record `b000o24l3q` and Google record `http://www.google.com/base/feeds/snippets/17242822440574356561`."
   ]
  },
  {
   "cell_type": "code",
   "execution_count": 69,
   "metadata": {},
   "outputs": [
    {
     "name": "stdout",
     "output_type": "stream",
     "text": [
      "[(('a', 1), ('a', 3)), (('a', 1), ('c', 5)), (('b', 2), ('a', 3)), (('b', 2), ('c', 5))]\n",
      "[(('http://www.google.com/base/feeds/snippets/11448761432933644608', ['spanish', 'vocabulary', 'builder', 'expand', 'vocabulary', 'contains', 'fun', 'lessons', 'teach', 'entertain', 'll', 'quickly', 'find', 'mastering', 'new', 'terms', 'includes', 'games']), ('b000jz4hqo', ['clickart', '950', '000', 'premier', 'image', 'pack', 'dvd', 'rom', 'broderbund'])), (('http://www.google.com/base/feeds/snippets/11448761432933644608', ['spanish', 'vocabulary', 'builder', 'expand', 'vocabulary', 'contains', 'fun', 'lessons', 'teach', 'entertain', 'll', 'quickly', 'find', 'mastering', 'new', 'terms', 'includes', 'games']), ('b0006zf55o', ['ca', 'international', 'arcserve', 'lap', 'desktop', 'oem', '30pk', 'oem', 'arcserve', 'backup', 'v11', '1', 'win', '30u', 'laptops', 'desktops', 'computer', 'associates']))]\n"
     ]
    }
   ],
   "source": [
    "ds1 = sc.parallelize( [ ('a',1),('b',2)])\n",
    "ds2 = sc.parallelize( [('a',3),('c',5)])\n",
    "print(ds1.cartesian(ds2).collect())\n",
    "print(googleRecToToken.cartesian(amazonRecToToken).take(2))"
   ]
  },
  {
   "cell_type": "code",
   "execution_count": 70,
   "metadata": {},
   "outputs": [
    {
     "name": "stdout",
     "output_type": "stream",
     "text": [
      "Requested similarity is 0.00030317194045132.\n"
     ]
    }
   ],
   "source": [
    "# TODO: Replace <FILL IN> with appropriate code\n",
    "crossSmall = (googleSmall\n",
    "              .cartesian(amazonSmall)\n",
    "              .cache())\n",
    "\n",
    "def computeSimilarity(record):\n",
    "    \"\"\" Compute similarity on a combination record\n",
    "    Args:\n",
    "        record: a pair, (google record, amazon record)\n",
    "    Returns:\n",
    "        pair: a pair, (google URL, amazon ID, cosine similarity value)\n",
    "    \"\"\"\n",
    "    googleRec = record[0]\n",
    "    amazonRec = record[1]\n",
    "    googleURL = googleRec[0]\n",
    "    amazonID =  amazonRec[0]\n",
    "    googleValue =  googleRec[1]\n",
    "    amazonValue =  amazonRec[1]\n",
    "    cs = cosineSimilarity(googleValue, amazonValue, idfsSmallWeights)\n",
    "    return (googleURL, amazonID, cs)\n",
    "\n",
    "similarities = (crossSmall\n",
    "                .map( lambda x: computeSimilarity(x))\n",
    "                .cache())\n",
    "\n",
    "def similar(amazonID, googleURL):\n",
    "    \"\"\" Return similarity value\n",
    "    Args:\n",
    "        amazonID: amazon ID\n",
    "        googleURL: google URL\n",
    "    Returns:\n",
    "        similar: cosine similarity value\n",
    "    \"\"\"\n",
    "    return (similarities\n",
    "            .filter(lambda record: (record[0] == googleURL and record[1] == amazonID))\n",
    "            .collect()[0][2])\n",
    "\n",
    "similarityAmazonGoogle = similar('b000o24l3q', 'http://www.google.com/base/feeds/snippets/17242822440574356561')\n",
    "print('Requested similarity is %s.' % similarityAmazonGoogle)"
   ]
  },
  {
   "cell_type": "code",
   "execution_count": 71,
   "metadata": {},
   "outputs": [],
   "source": [
    "# TEST Perform Entity Resolution (3c)\n",
    "assert abs(similarityAmazonGoogle - 0.000303171940451) < 0.0000001, 'incorrect similarityAmazonGoogle'"
   ]
  },
  {
   "cell_type": "markdown",
   "metadata": {},
   "source": [
    "### **(3d) Perform Entity Resolution with Broadcast Variables**\n",
    "#### The solution in (3c) works well for small datasets, but it requires Spark to (automatically) send the `idfsSmallWeights` variable to all the workers. If we didn't `cache()` similarities, then it might have to be recreated if we run `similar()` multiple times. This would cause Spark to send `idfsSmallWeights` every time.\n",
    "#### Instead, we can use a broadcast variable - we define the broadcast variable in the driver and then we can refer to it in each worker. Spark saves the broadcast variable at each worker, so it is only sent once.\n",
    "#### The steps you should perform are:\n",
    "* #### Define a `computeSimilarityBroadcast` function that given an element from the combination RDD computes the cosine simlarity for the two records in the element. This will be the same as the worker function `computeSimilarity` in (3c) except that it uses a broadcast variable.\n",
    "* #### Apply the worker function to every element in the RDD\n",
    "#### Again, compute the similarity between Amazon record `b000o24l3q` and Google record `http://www.google.com/base/feeds/snippets/17242822440574356561`."
   ]
  },
  {
   "cell_type": "code",
   "execution_count": 72,
   "metadata": {},
   "outputs": [
    {
     "name": "stdout",
     "output_type": "stream",
     "text": [
      "Requested similarity is 0.00030317194045132.\n"
     ]
    }
   ],
   "source": [
    "# TODO: Replace <FILL IN> with appropriate code\n",
    "def computeSimilarityBroadcast(record):\n",
    "    \"\"\" Compute similarity on a combination record, using Broadcast variable\n",
    "    Args:\n",
    "        record: a pair, (google record, amazon record)\n",
    "    Returns:\n",
    "        pair: a pair, (google URL, amazon ID, cosine similarity value)\n",
    "    \"\"\"\n",
    "    googleRec = record[0]\n",
    "    amazonRec = record[1]\n",
    "    googleURL = record[0][0]\n",
    "    amazonID =  record[1][0]\n",
    "    googleValue = record[0][1]\n",
    "    amazonValue = record[1][1]\n",
    "    cs = cosineSimilarity(googleValue,amazonValue, idfsSmallBroadcast.value)\n",
    "    return (googleURL, amazonID, cs)\n",
    "\n",
    "idfsSmallBroadcast = sc.broadcast(idfsSmallWeights)\n",
    "similaritiesBroadcast = (crossSmall\n",
    "                         .map(lambda x : computeSimilarityBroadcast(x))\n",
    "                         .cache())\n",
    "\n",
    "def similarBroadcast(amazonID, googleURL):\n",
    "    \"\"\" Return similarity value, computed using Broadcast variable\n",
    "    Args:\n",
    "        amazonID: amazon ID\n",
    "        googleURL: google URL\n",
    "    Returns:\n",
    "        similar: cosine similarity value\n",
    "    \"\"\"\n",
    "    return (similaritiesBroadcast\n",
    "            .filter(lambda record: (record[0] == googleURL and record[1] == amazonID))\n",
    "            .collect()[0][2])\n",
    "\n",
    "similarityAmazonGoogleBroadcast = similarBroadcast('b000o24l3q', 'http://www.google.com/base/feeds/snippets/17242822440574356561')\n",
    "print('Requested similarity is %s.' % similarityAmazonGoogleBroadcast)"
   ]
  },
  {
   "cell_type": "code",
   "execution_count": 73,
   "metadata": {},
   "outputs": [],
   "source": [
    "# TEST Perform Entity Resolution with Broadcast Variables (3d)\n",
    "from pyspark import Broadcast\n",
    "assert isinstance(idfsSmallBroadcast, Broadcast), 'incorrect idfsSmallBroadcast'\n",
    "assert len(idfsSmallBroadcast.value) == 4772, 'incorrect idfsSmallBroadcast value'\n",
    "assert abs(similarityAmazonGoogleBroadcast - 0.000303171940451) < 0.0000001, \\\n",
    "                'incorrect similarityAmazonGoogle'"
   ]
  },
  {
   "cell_type": "markdown",
   "metadata": {},
   "source": [
    "### **(3e) Perform a Gold Standard evaluation**\n",
    "#### First, we'll load the \"gold standard\" data and use it to answer several questions. We read and parse the Gold Standard data, where the format of each line is \"Amazon Product ID\",\"Google URL\". The resulting RDD has elements of the form (\"AmazonID GoogleURL\", 'gold')"
   ]
  },
  {
   "cell_type": "code",
   "execution_count": 74,
   "metadata": {},
   "outputs": [
    {
     "name": "stdout",
     "output_type": "stream",
     "text": [
      "Read 1301 lines, successfully parsed 1300 lines, failed to parse 0 lines\n"
     ]
    }
   ],
   "source": [
    "GOLDFILE_PATTERN = '^(.+),(.+)'\n",
    "\n",
    "# Parse each line of a data file useing the specified regular expression pattern\n",
    "def parse_goldfile_line(goldfile_line):\n",
    "    \"\"\" Parse a line from the 'golden standard' data file\n",
    "    Args:\n",
    "        goldfile_line: a line of data\n",
    "    Returns:\n",
    "        pair: ((key, 'gold', 1 if successful or else 0))\n",
    "    \"\"\"\n",
    "    match = re.search(GOLDFILE_PATTERN, goldfile_line)\n",
    "    if match is None:\n",
    "        print('Invalid goldfile line: %s' % goldfile_line)\n",
    "        return (goldfile_line, -1)\n",
    "    elif match.group(1) == '\"idAmazon\"':\n",
    "        print('Header datafile line: %s' % goldfile_line)\n",
    "        return (goldfile_line, 0)\n",
    "    else:\n",
    "        key = '%s %s' % (removeQuotes(match.group(1)), removeQuotes(match.group(2)))\n",
    "        return ((key, 'gold'), 1)\n",
    "\n",
    "\n",
    "gsRaw = (sc\n",
    "         .textFile(GOLD_STANDARD_PATH)\n",
    "         .map(parse_goldfile_line)\n",
    "         .cache())\n",
    "\n",
    "gsFailed = (gsRaw\n",
    "            .filter(lambda s: s[1] == -1)\n",
    "            .map(lambda s: s[0]))\n",
    "for line in gsFailed.take(10):\n",
    "    print('Invalid goldfile line: %s' % line)\n",
    "\n",
    "goldStandard = (gsRaw\n",
    "                .filter(lambda s: s[1] == 1)\n",
    "                .map(lambda s: s[0])\n",
    "                .cache())\n",
    "\n",
    "print('Read %d lines, successfully parsed %d lines, failed to parse %d lines' % (gsRaw.count(),\n",
    "                                                                                 goldStandard.count(),\n",
    "                                                                                 gsFailed.count()))\n",
    "assert gsFailed.count() == 0\n",
    "assert gsRaw.count() == (goldStandard.count() + 1)"
   ]
  },
  {
   "cell_type": "markdown",
   "metadata": {},
   "source": [
    "### Using the \"gold standard\" data we can answer the following questions:\n",
    "* #### How many true duplicate pairs are there in the small datasets?\n",
    "* #### What is the average similarity score for true duplicates?\n",
    "* #### What about for non-duplicates?\n",
    "#### The steps you should perform are:\n",
    "* #### Create a new `sims` RDD from the `similaritiesBroadcast` RDD, where each element consists of a pair of the form (\"AmazonID GoogleURL\", cosineSimilarityScore). An example entry from `sims` is: ('b000bi7uqs http://www.google.com/base/feeds/snippets/18403148885652932189', 0.40202896125621296)\n",
    "* #### Combine the `sims` RDD with the `goldStandard` RDD by creating a new `trueDupsRDD` RDD that has the just the cosine similarity scores for those \"AmazonID GoogleURL\" pairs that appear in both the `sims` RDD and `goldStandard` RDD. Hint: you can do this using the join() transformation.\n",
    "* #### Count the number of true duplicate pairs in the `trueDupsRDD` dataset\n",
    "* #### Compute the average similarity score for true duplicates in the `trueDupsRDD` datasets. Remember to use `float` for calculation\n",
    "* #### Create a new `nonDupsRDD` RDD that has the just the cosine similarity scores for those \"AmazonID GoogleURL\" pairs from the `similaritiesBroadcast` RDD that **do not** appear in both the *sims* RDD and gold standard RDD.\n",
    "* #### Compute the average similarity score for non-duplicates in the last datasets. Remember to use `float` for calculation"
   ]
  },
  {
   "cell_type": "code",
   "execution_count": 75,
   "metadata": {},
   "outputs": [
    {
     "name": "stdout",
     "output_type": "stream",
     "text": [
      "('http://www.google.com/base/feeds/snippets/11448761432933644608', 'b000jz4hqo', 0.0)\n",
      "('b000jz4hqo http://www.google.com/base/feeds/snippets/18441480711193821750', 'gold')\n"
     ]
    }
   ],
   "source": [
    "print(similaritiesBroadcast.first())\n",
    "print(goldStandard.first())"
   ]
  },
  {
   "cell_type": "code",
   "execution_count": 76,
   "metadata": {},
   "outputs": [
    {
     "name": "stdout",
     "output_type": "stream",
     "text": [
      "There are 146 true duplicates.\n",
      "The average similarity of true duplicates is 0.26433257343519145.\n",
      "And for non duplicates, it is 0.0012347630465555236.\n"
     ]
    }
   ],
   "source": [
    "# TODO: Replace <FILL IN> with appropriate code\n",
    "sims = similaritiesBroadcast.map(lambda x: (x[1] + ' ' + x[0],x[2]))\n",
    "\n",
    "trueDupsRDD = (sims\n",
    "               .join(goldStandard))\n",
    "trueDupsCount = trueDupsRDD.count()\n",
    "avgSimDups = trueDupsRDD.map( lambda x : x[1][0]).reduce(lambda a,b : a + b)/float(trueDupsCount)\n",
    "\n",
    "nonDupsRDD = (sims\n",
    "              .subtractByKey(trueDupsRDD))\n",
    "avgSimNon = nonDupsRDD.map( lambda x : x[1]).reduce(lambda a,b : a + b)/float(nonDupsRDD.count())\n",
    "\n",
    "print('There are %s true duplicates.' % trueDupsCount)\n",
    "print('The average similarity of true duplicates is %s.' % avgSimDups)\n",
    "print('And for non duplicates, it is %s.' % avgSimNon)"
   ]
  },
  {
   "cell_type": "code",
   "execution_count": 77,
   "metadata": {},
   "outputs": [],
   "source": [
    "# TEST Perform a Gold Standard evaluation (3e)\n",
    "assert trueDupsCount == 146, 'incorrect trueDupsCount'\n",
    "assert abs(avgSimDups - 0.264332573435) < 0.0000001, 'incorrect avgSimDups'\n",
    "assert abs(avgSimNon - 0.00123476304656) < 0.0000001, 'incorrect avgSimNon'"
   ]
  },
  {
   "cell_type": "markdown",
   "metadata": {},
   "source": [
    "### **Part 4: Scalable ER**\n",
    "#### In the previous parts, we built a text similarity function and used it for small scale entity resolution.  Our implementation is limited by its quadratic run time complexity, and is not practical for even modestly sized datasets.  In this part, we will implement a more scalable algorithm and use it to do entity resolution on the full dataset.\n",
    "### Inverted Indices\n",
    "#### To improve our ER algorithm from the earlier parts, we should begin by analyzing its running time. In particular, the algorithm above is quadratic in two ways. First, we did a lot of redundant computation of tokens and weights, since each record was reprocessed every time it was compared. Second, we made quadratically many token comparisons between records.\n",
    "#### The first source of quadratic overhead can be eliminated with precomputation and look-up tables, but the second source is a little more tricky. In the worst case, every token in every record in one dataset exists in every record in the other dataset, and therefore every token makes a non-zero contribution to the cosine similarity. In this case, token comparison is unavoidably quadratic.\n",
    "#### But in reality most records have nothing (or very little) in common. Moreover, it is typical for a record in one dataset to have at most one duplicate record in the other dataset (this is the case assuming each dataset has been de-duplicated against itself). In this case, the output is linear in the size of the input and we can hope to achieve linear running time.\n",
    "#### An [**inverted index**](https://en.wikipedia.org/wiki/Inverted_index) is a data structure that will allow us to avoid making quadratically many token comparisons.  It maps each token in the dataset to the list of documents that contain the token.  So, instead of comparing, record by record, each token to every other token to see if they match, we will use inverted indices to *look up* records that match on a particular token.\n",
    "> #### **Note on terminology**: In text search, a *forward* index maps documents in a dataset to the tokens they contain.  An *inverted* index supports the inverse mapping.\n",
    "> #### **Note**: For this section, use the complete Google and Amazon datasets, not the samples"
   ]
  },
  {
   "cell_type": "markdown",
   "metadata": {},
   "source": [
    "### **(4a) Tokenize the full dataset**\n",
    "#### Tokenize each of the two full datasets for Google and Amazon."
   ]
  },
  {
   "cell_type": "code",
   "execution_count": 78,
   "metadata": {},
   "outputs": [
    {
     "name": "stdout",
     "output_type": "stream",
     "text": [
      "Amazon full dataset is 1363 products, Google full dataset is 3226 products\n"
     ]
    }
   ],
   "source": [
    "# TODO: Replace <FILL IN> with appropriate code\n",
    "amazonFullRecToToken = amazon.map(lambda x: (x[0],tokenize(x[1])))\n",
    "googleFullRecToToken = google.map(lambda x: (x[0],tokenize(x[1])))\n",
    "print('Amazon full dataset is %s products, Google full dataset is %s products' % (amazonFullRecToToken.count(),\n",
    "                                                                                 googleFullRecToToken.count()))"
   ]
  },
  {
   "cell_type": "code",
   "execution_count": 79,
   "metadata": {},
   "outputs": [],
   "source": [
    "# TEST Tokenize the full dataset (4a)\n",
    "assert amazonFullRecToToken.count() == 1363, 'incorrect amazonFullRecToToken.count()'\n",
    "assert googleFullRecToToken.count() == 3226, 'incorrect googleFullRecToToken.count()'"
   ]
  },
  {
   "cell_type": "markdown",
   "metadata": {},
   "source": [
    "### **(4b) Compute IDFs and TF-IDFs for the full datasets**\n",
    "#### We will reuse your code from above to compute IDF weights for the complete combined datasets.\n",
    "#### The steps you should perform are:\n",
    "* #### Create a new `fullCorpusRDD` that contains the tokens from the full Amazon and Google datasets.\n",
    "* #### Apply your `idfs` function to the `fullCorpusRDD`\n",
    "* #### Create a broadcast variable containing a dictionary of the IDF weights for the full dataset.\n",
    "* #### For each of the Amazon and Google full datasets, create weight RDDs that map IDs/URLs to TF-IDF weighted token vectors."
   ]
  },
  {
   "cell_type": "code",
   "execution_count": 80,
   "metadata": {},
   "outputs": [
    {
     "name": "stdout",
     "output_type": "stream",
     "text": [
      "There are 17078 unique tokens in the full datasets.\n",
      "There are 1363 Amazon weights and 3226 Google weights.\n"
     ]
    }
   ],
   "source": [
    "# TODO: Replace <FILL IN> with appropriate code\n",
    "fullCorpusRDD = amazonFullRecToToken.union(googleFullRecToToken)\n",
    "idfsFull = idfs(fullCorpusRDD)\n",
    "idfsFullCount = idfsFull.count()\n",
    "print('There are %s unique tokens in the full datasets.' % idfsFullCount)\n",
    "\n",
    "# Recompute IDFs for full dataset\n",
    "idfsFullWeights = idfsFull.collectAsMap()\n",
    "idfsFullBroadcast = sc.broadcast(idfsFullWeights)\n",
    "\n",
    "# # Pre-compute TF-IDF weights.  Build mappings from record ID weight vector.\n",
    "amazonWeightsRDD =  amazon.map( lambda x : (x[0], tfidf(tokenize(x[1]),idfsFullWeights)))\n",
    "googleWeightsRDD = google.map( lambda x : (x[0], tfidf(tokenize(x[1]),idfsFullWeights)))\n",
    "googleWeightsRDD.count()\n",
    "print('There are %s Amazon weights and %s Google weights.' % (amazonWeightsRDD.count(),\n",
    "                                                              googleWeightsRDD.count()))"
   ]
  },
  {
   "cell_type": "code",
   "execution_count": 81,
   "metadata": {},
   "outputs": [
    {
     "data": {
      "text/plain": [
       "('b000jz4hqo',\n",
       " {'clickart': 56.65432098765432,\n",
       "  '950': 254.94444444444443,\n",
       "  '000': 6.218157181571815,\n",
       "  'premier': 9.27070707070707,\n",
       "  'image': 3.6948470209339774,\n",
       "  'pack': 2.98180636777128,\n",
       "  'dvd': 1.287598204264871,\n",
       "  'rom': 2.4051362683438153,\n",
       "  'broderbund': 22.169082125603865})"
      ]
     },
     "execution_count": 81,
     "metadata": {},
     "output_type": "execute_result"
    }
   ],
   "source": [
    "amazonWeightsRDD.first()"
   ]
  },
  {
   "cell_type": "code",
   "execution_count": 82,
   "metadata": {},
   "outputs": [],
   "source": [
    "# TEST Compute IDFs and TF-IDFs for the full datasets (4b)\n",
    "assert idfsFullCount == 17078, 'incorrect idfsFullCount'\n",
    "assert amazonWeightsRDD.count() == 1363, 'incorrect amazonWeightsRDD.count()'\n",
    "assert googleWeightsRDD.count() == 3226, 'incorrect googleWeightsRDD.count()'"
   ]
  },
  {
   "cell_type": "markdown",
   "metadata": {},
   "source": [
    "### **(4c) Compute Norms for the weights from the full datasets**\n",
    "#### We will reuse your code from above to compute norms of the IDF weights for the complete combined dataset.\n",
    "#### The steps you should perform are:\n",
    "* #### Create two collections, one for each of the full Amazon and Google datasets, where IDs/URLs map to the norm of the associated TF-IDF weighted token vectors.\n",
    "* #### Convert each collection into a broadcast variable, containing a dictionary of the norm of IDF weights for the full dataset"
   ]
  },
  {
   "cell_type": "code",
   "execution_count": 83,
   "metadata": {},
   "outputs": [],
   "source": [
    "# TODO: Replace <FILL IN> with appropriate code\n",
    "amazonNorms = dict(amazonWeightsRDD.map( lambda x : (x[0],norm(x[1]))).collect())\n",
    "amazonNormsBroadcast = sc.broadcast(amazonNorms)\n",
    "googleNorms = dict(googleWeightsRDD.map( lambda x : (x[0], norm(x[1]))).collect())\n",
    "googleNormsBroadcast = sc.broadcast(googleNorms)"
   ]
  },
  {
   "cell_type": "code",
   "execution_count": 84,
   "metadata": {},
   "outputs": [
    {
     "data": {
      "text/plain": [
       "[('b000jz4hqo', 262.3974984324429),\n",
       " ('b0006zf55o', 307.15035476158107),\n",
       " ('b00004tkvy', 297.61466829291277),\n",
       " ('b000g80lqo', 46.181789625033815),\n",
       " ('b0006se5bq', 138.37001973890696)]"
      ]
     },
     "execution_count": 84,
     "metadata": {},
     "output_type": "execute_result"
    }
   ],
   "source": [
    "len(amazonNorms)\n",
    "[list(amazonNorms.items())[x] for x in range(5)]"
   ]
  },
  {
   "cell_type": "code",
   "execution_count": 85,
   "metadata": {},
   "outputs": [],
   "source": [
    "# TEST Compute Norms for the weights from the full datasets (4c)\n",
    "assert isinstance(amazonNormsBroadcast, Broadcast), 'incorrect amazonNormsBroadcast'\n",
    "assert len(amazonNormsBroadcast.value) == 1363, 'incorrect amazonNormsBroadcast.value'\n",
    "assert isinstance(googleNormsBroadcast, Broadcast), 'incorrect googleNormsBroadcast'\n",
    "assert len(googleNormsBroadcast.value) == 3226, 'incorrect googleNormsBroadcast.value'"
   ]
  },
  {
   "cell_type": "markdown",
   "metadata": {},
   "source": [
    "### **(4d) Create inverted indicies from the full datasets**\n",
    "#### Build inverted indices of both data sources.\n",
    "#### The steps you should perform are:\n",
    "* #### Create an invert function that given a pair of (ID/URL, TF-IDF weighted token vector), returns a list of pairs of (token, ID/URL). Recall that the TF-IDF weighted token vector is a Python dictionary with keys that are tokens and values that are weights.\n",
    "* #### Use your invert function to convert the full Amazon and Google TF-IDF weighted token vector datasets into two RDDs where each element is a pair of a token and an ID/URL that contain that token. These are inverted indicies."
   ]
  },
  {
   "cell_type": "code",
   "execution_count": 91,
   "metadata": {},
   "outputs": [
    {
     "name": "stdout",
     "output_type": "stream",
     "text": [
      "There are 111387 Amazon inverted pairs and 77678 Google inverted pairs.\n"
     ]
    }
   ],
   "source": [
    "# TODO: Replace <FILL IN> with appropriate code\n",
    "def invert(record):\n",
    "    \"\"\" Invert (ID, tokens) to a list of (token, ID)\n",
    "    Args:\n",
    "        record: a pair, (ID, token vector)\n",
    "    Returns:\n",
    "        pairs: a list of pairs of token to ID\n",
    "    \"\"\"\n",
    "    pairs = [(z, record[0]) for z in record[1]]\n",
    "    return (pairs)\n",
    "   \n",
    "amazonInvPairsRDD = (amazonWeightsRDD\n",
    "                    .flatMap( lambda x : invert(x))\n",
    "                    .cache())\n",
    "\n",
    "googleInvPairsRDD = (googleWeightsRDD\n",
    "                    .flatMap( lambda x : invert(x) )\n",
    "                    .cache())\n",
    "\n",
    "print('There are %s Amazon inverted pairs and %s Google inverted pairs.' % (amazonInvPairsRDD.count(),\n",
    "                                                                            googleInvPairsRDD.count()))"
   ]
  },
  {
   "cell_type": "code",
   "execution_count": 92,
   "metadata": {},
   "outputs": [
    {
     "name": "stdout",
     "output_type": "stream",
     "text": [
      "('b000jz4hqo', {'clickart': 56.65432098765432, '950': 254.94444444444443, '000': 6.218157181571815, 'premier': 9.27070707070707, 'image': 3.6948470209339774, 'pack': 2.98180636777128, 'dvd': 1.287598204264871, 'rom': 2.4051362683438153, 'broderbund': 22.169082125603865})\n",
      "['clickart', '950', '000', 'premier', 'image', 'pack', 'dvd', 'rom', 'broderbund']\n",
      "[('clickart', 'b000jz4hqo'), ('950', 'b000jz4hqo'), ('000', 'b000jz4hqo'), ('premier', 'b000jz4hqo'), ('image', 'b000jz4hqo'), ('pack', 'b000jz4hqo'), ('dvd', 'b000jz4hqo'), ('rom', 'b000jz4hqo'), ('broderbund', 'b000jz4hqo')]\n",
      "['a', 'b']\n"
     ]
    }
   ],
   "source": [
    "print(amazonWeightsRDD.first())\n",
    "print([z for z in amazonWeightsRDD.first()[1]])\n",
    "print(invert(amazonWeightsRDD.first()))\n",
    "adict = {'a': 1, 'b' : 2}\n",
    "print([x for x in adict])"
   ]
  },
  {
   "cell_type": "code",
   "execution_count": 93,
   "metadata": {},
   "outputs": [
    {
     "data": {
      "text/plain": [
       "[('foo', 1)]"
      ]
     },
     "execution_count": 93,
     "metadata": {},
     "output_type": "execute_result"
    }
   ],
   "source": [
    "invert((1, {'foo': 2}))"
   ]
  },
  {
   "cell_type": "code",
   "execution_count": 94,
   "metadata": {},
   "outputs": [],
   "source": [
    "# TEST Create inverted indicies from the full datasets (4d)\n",
    "invertedPair = invert((1, {'foo': 2}))\n",
    "assert invertedPair[0][1] == 1, 'incorrect invert result'\n",
    "assert amazonInvPairsRDD.count() == 111387, 'incorrect amazonInvPairsRDD.count()'\n",
    "assert googleInvPairsRDD.count() == 77678, 'incorrect googleInvPairsRDD.count()'"
   ]
  },
  {
   "cell_type": "markdown",
   "metadata": {},
   "source": [
    "### **(4e) Identify common tokens from the full dataset**\n",
    "#### We are now in position to efficiently perform ER on the full datasets. Implement the following algorithm to build an RDD that maps a pair of (ID, URL) to a list of tokens they share in common:\n",
    "* #### Using the two inverted indicies (RDDs where each element is a pair of a token and an ID or URL that contains that token), create a new RDD that contains only tokens that appear in both datasets. This will yield an RDD of pairs of (token, iterable(ID, URL)).\n",
    "* #### We need a mapping from (ID, URL) to token, so create a function that will swap the elements of the RDD you just created to create this new RDD consisting of ((ID, URL), token) pairs.\n",
    "* #### Finally, create an RDD consisting of pairs mapping (ID, URL) to all the tokens the pair shares in common"
   ]
  },
  {
   "cell_type": "code",
   "execution_count": 95,
   "metadata": {},
   "outputs": [
    {
     "name": "stdout",
     "output_type": "stream",
     "text": [
      "[('clickart', 'b000jz4hqo'), ('950', 'b000jz4hqo'), ('000', 'b000jz4hqo')]\n",
      "[('learning', 'http://www.google.com/base/feeds/snippets/11125907881740407428'), ('quickbooks', 'http://www.google.com/base/feeds/snippets/11125907881740407428'), ('2007', 'http://www.google.com/base/feeds/snippets/11125907881740407428')]\n",
      "[(('b000jz4hqo', 'http://www.google.com/base/feeds/snippets/13255609368261584070'), '950'), (('b000jz4hqo', 'http://www.google.com/base/feeds/snippets/13783139861924882499'), 'premier'), (('b000jz4hqo', 'http://www.google.com/base/feeds/snippets/17956249157120493393'), 'premier')]\n"
     ]
    },
    {
     "data": {
      "text/plain": [
       "[('b', [1]), ('c', [1, 2, 3]), ('a', [1, 2])]"
      ]
     },
     "execution_count": 95,
     "metadata": {},
     "output_type": "execute_result"
    }
   ],
   "source": [
    "print(amazonInvPairsRDD.take(3))\n",
    "print(googleInvPairsRDD.take(3))\n",
    "print((amazonInvPairsRDD.join(googleInvPairsRDD)).map(lambda x:(x[1],x[0])).take(3))\n",
    "trdd = sc.parallelize( [('a',1),('a',2),('b',1),('c',1),('c',2),('c',3)])\n",
    "trdd.groupByKey().map(lambda x : (x[0],list(x[1]))).collect()"
   ]
  },
  {
   "cell_type": "code",
   "execution_count": 100,
   "metadata": {},
   "outputs": [
    {
     "name": "stdout",
     "output_type": "stream",
     "text": [
      "Found 2441100 common tokens\n"
     ]
    }
   ],
   "source": [
    "# TODO: Replace <FILL IN> with appropriate code\n",
    "def swap(record):\n",
    "    \"\"\" Swap (token, (ID, URL)) to ((ID, URL), token)\n",
    "    Args:\n",
    "        record: a pair, (token, (ID, URL))\n",
    "    Returns:\n",
    "        pair: ((ID, URL), token)\n",
    "    \"\"\"\n",
    "    token = record[0]\n",
    "    key =  record[1]\n",
    "    return (key, token)\n",
    "\n",
    "commonTokens = (amazonInvPairsRDD\n",
    "                .join(googleInvPairsRDD)\n",
    "                .map(lambda x: swap(x)).groupByKey()\n",
    "                .map(lambda x: (x[0],list(x[1])))\n",
    "                .cache())\n",
    "\n",
    "print('Found %d common tokens' % commonTokens.count())"
   ]
  },
  {
   "cell_type": "code",
   "execution_count": 104,
   "metadata": {},
   "outputs": [
    {
     "name": "stdout",
     "output_type": "stream",
     "text": [
      "('950', ('b000jz4hqo', 'http://www.google.com/base/feeds/snippets/13255609368261584070'))\n",
      "(('b000jz4hqo', 'http://www.google.com/base/feeds/snippets/13255609368261584070'), '950')\n"
     ]
    }
   ],
   "source": [
    "print(amazonInvPairsRDD.join(googleInvPairsRDD).first())\n",
    "print(amazonInvPairsRDD.join(googleInvPairsRDD).map(lambda x: swap(x)).first())"
   ]
  },
  {
   "cell_type": "code",
   "execution_count": 105,
   "metadata": {},
   "outputs": [
    {
     "data": {
      "text/plain": [
       "[('a', (1, 3)), ('a', (1, 17)), ('a', (2, 3)), ('a', (2, 17))]"
      ]
     },
     "execution_count": 105,
     "metadata": {},
     "output_type": "execute_result"
    }
   ],
   "source": [
    "sc.parallelize([('a', 1), ('a', 2)]).join(sc.parallelize([('a', 3), ('a', 17)])).collect()"
   ]
  },
  {
   "cell_type": "code",
   "execution_count": 106,
   "metadata": {},
   "outputs": [
    {
     "data": {
      "text/plain": [
       "[('950',\n",
       "  ('b000jz4hqo',\n",
       "   'http://www.google.com/base/feeds/snippets/13255609368261584070')),\n",
       " ('premier',\n",
       "  ('b000jz4hqo',\n",
       "   'http://www.google.com/base/feeds/snippets/13783139861924882499')),\n",
       " ('premier',\n",
       "  ('b000jz4hqo',\n",
       "   'http://www.google.com/base/feeds/snippets/17956249157120493393')),\n",
       " ('premier',\n",
       "  ('b000jz4hqo',\n",
       "   'http://www.google.com/base/feeds/snippets/7343246322110859505')),\n",
       " ('premier',\n",
       "  ('b000jz4hqo',\n",
       "   'http://www.google.com/base/feeds/snippets/6268911701133796181'))]"
      ]
     },
     "execution_count": 106,
     "metadata": {},
     "output_type": "execute_result"
    }
   ],
   "source": [
    "amazonInvPairsRDD.join(googleInvPairsRDD).take(5)"
   ]
  },
  {
   "cell_type": "code",
   "execution_count": 107,
   "metadata": {},
   "outputs": [
    {
     "data": {
      "text/plain": [
       "[(('b000jz4hqo',\n",
       "   'http://www.google.com/base/feeds/snippets/13255609368261584070'),\n",
       "  ['950']),\n",
       " (('b000jz4hqo',\n",
       "   'http://www.google.com/base/feeds/snippets/17956249157120493393'),\n",
       "  ['premier']),\n",
       " (('b000jz4hqo',\n",
       "   'http://www.google.com/base/feeds/snippets/17457299885150031119'),\n",
       "  ['premier', 'dvd']),\n",
       " (('b000jz4hqo',\n",
       "   'http://www.google.com/base/feeds/snippets/17471276055285923188'),\n",
       "  ['premier']),\n",
       " (('b000jz4hqo',\n",
       "   'http://www.google.com/base/feeds/snippets/15645075770736292688'),\n",
       "  ['premier']),\n",
       " (('b000jz4hqo',\n",
       "   'http://www.google.com/base/feeds/snippets/3077454195131808819'),\n",
       "  ['premier']),\n",
       " (('b000jz4hqo',\n",
       "   'http://www.google.com/base/feeds/snippets/12917041997919407290'),\n",
       "  ['premier', 'dvd']),\n",
       " (('b000jz4hqo',\n",
       "   'http://www.google.com/base/feeds/snippets/5836713568200382986'),\n",
       "  ['premier']),\n",
       " (('b000jz4hqo',\n",
       "   'http://www.google.com/base/feeds/snippets/11321736152221350531'),\n",
       "  ['premier']),\n",
       " (('b000i2qubi',\n",
       "   'http://www.google.com/base/feeds/snippets/7343246322110859505'),\n",
       "  ['premier',\n",
       "   'cd',\n",
       "   'requirements',\n",
       "   'card',\n",
       "   '10',\n",
       "   'faster',\n",
       "   'based',\n",
       "   '2000',\n",
       "   'system'])]"
      ]
     },
     "execution_count": 107,
     "metadata": {},
     "output_type": "execute_result"
    }
   ],
   "source": [
    "commonTokens.take(10)"
   ]
  },
  {
   "cell_type": "code",
   "execution_count": 108,
   "metadata": {},
   "outputs": [],
   "source": [
    "# TEST Identify common tokens from the full dataset (4e)\n",
    "assert commonTokens.count() == 2441100, 'incorrect commonTokens.count()'"
   ]
  },
  {
   "cell_type": "markdown",
   "metadata": {},
   "source": [
    "### **(4f) Identify common tokens from the full dataset**\n",
    "#### Use the data structures from parts **(4a)** and **(4e)** to build a dictionary to map record pairs to cosine similarity scores.\n",
    "#### The steps you should perform are:\n",
    "* #### Create two broadcast dictionaries from the amazonWeights and googleWeights RDDs\n",
    "* #### Create a `fastCosinesSimilarity` function that takes in a record consisting of the pair ((Amazon ID, Google URL), tokens list) and computes the sum for each of the tokens in the token list of the products of the Amazon weight for the token times the Google weight for the token. The sum should then be divided by the norm for the Google URL and then divided by the norm for the Amazon ID. The function should return this value in a pair with the key being the (Amazon ID, Google URL). *Make sure you use broadcast variables you created for both the weights and norms*\n",
    "* #### Apply your `fastCosinesSimilarity` function to the common tokens from the full dataset"
   ]
  },
  {
   "cell_type": "code",
   "execution_count": 111,
   "metadata": {},
   "outputs": [
    {
     "name": "stdout",
     "output_type": "stream",
     "text": [
      "(('b000jz4hqo', 'http://www.google.com/base/feeds/snippets/13255609368261584070'), ['950'])\n",
      "5.75062656641604\n",
      "30.593333333333334\n",
      "351.66180348807745\n"
     ]
    }
   ],
   "source": [
    "# amazonWeightsBroadcast = sc.broadcast(dict(amazonWeightsRDD.collect()))\n",
    "# googleWeightsBroadcast = sc.broadcast(dict(googleWeightsRDD.collect()))\n",
    "for p in commonTokens.take(1):\n",
    "    print(p)\n",
    "# rec =commonTokens.take(1)\n",
    "# print rec[0][0], rec[0][1]\n",
    "# amazonRec = amazonWeightsBroadcast.value[rec[0][0]]\n",
    "# googleRec = googleWeightsBroadcast.value[rec[1][1]]\n",
    "# tokens = rec[1]\n",
    "# s = sum(amazonrec[t] * googleRec[t] for t in tokens)\n",
    "# print amazonWeightsRDD.first()\n",
    "# print amazonNormsBroadcast.value[1:5]\n",
    "# amazonWeightsBroadcast = sc.broadcast(dict(amazonWeightsRDD.collect()))\n",
    "# googleWeightsBroadcast = sc.broadcast(dict(googleWeightsRDD.collect()))\n",
    "amazonRec= amazonWeightsBroadcast.value['b00005lzly']\n",
    "googleRec = googleWeightsBroadcast.value['http://www.google.com/base/feeds/snippets/18376072611700638452']\n",
    "print(amazonRec['120'])\n",
    "print(googleRec['120'])\n",
    "print(googleNormsBroadcast.value['http://www.google.com/base/feeds/snippets/18376072611700638452'])"
   ]
  },
  {
   "cell_type": "code",
   "execution_count": 110,
   "metadata": {},
   "outputs": [
    {
     "name": "stdout",
     "output_type": "stream",
     "text": [
      "2441100\n"
     ]
    }
   ],
   "source": [
    "# TODO: Replace <FILL IN> with appropriate code\n",
    "amazonWeightsBroadcast = sc.broadcast(dict(amazonWeightsRDD.collect()))\n",
    "googleWeightsBroadcast = sc.broadcast(dict(googleWeightsRDD.collect()))\n",
    "\n",
    "def fastCosineSimilarity(record):\n",
    "    \"\"\" Compute Cosine Similarity using Broadcast variables\n",
    "    Args:\n",
    "        record: ((ID, URL), token)\n",
    "    Returns:\n",
    "        pair: ((ID, URL), cosine similarity value)\n",
    "    \"\"\"\n",
    "    amazonRec =  amazonWeightsBroadcast.value[record[0][0]]\n",
    "    googleRec =  googleWeightsBroadcast.value[record[0][1]]\n",
    "    tokens = record[1]\n",
    "    s = sum(amazonRec[t] * googleRec[t] for t in tokens)\n",
    "    value = s/(amazonNormsBroadcast.value[record[0][0]] * googleNormsBroadcast.value[record[0][1]])\n",
    "    key = (record[0])\n",
    "    return (key, value)\n",
    "\n",
    "similaritiesFullRDD = (commonTokens\n",
    "                       .map(lambda x: fastCosineSimilarity(x))\n",
    "                       .cache())\n",
    "\n",
    "print(similaritiesFullRDD.count())\n"
   ]
  },
  {
   "cell_type": "code",
   "execution_count": 116,
   "metadata": {},
   "outputs": [],
   "source": [
    "# TEST Identify common tokens from the full dataset (4f)\n",
    "similarityTest = similaritiesFullRDD.filter(lambda x: x[0][0] == 'b00005lzly' and x[0][1] == 'http://www.google.com/base/feeds/snippets/13823221823254120257').collect()\n",
    "assert len(similarityTest) == 1, 'incorrect len(similarityTest)'\n",
    "assert abs(similarityTest[0][1] - 4.286548414e-06) < 0.000000000001, 'incorrect similarityTest fastCosineSimilarity'\n",
    "assert similaritiesFullRDD.count() == 2441100, 'incorrect similaritiesFullRDD.count()'"
   ]
  },
  {
   "cell_type": "markdown",
   "metadata": {},
   "source": [
    "### **Part 5: Analysis**\n",
    "#### Now we have an authoritative list of record-pair similarities, but we need a way to use those similarities to decide if two records are duplicates or not. The simplest approach is to pick a **threshold**. Pairs whose similarity is above the threshold are declared duplicates, and pairs below the threshold are declared distinct.\n",
    "#### To decide where to set the threshold we need to understand what kind of errors result at different levels. If we set the threshold too low, we get more **false positives**, that is, record-pairs we say are duplicates that in reality are not. If we set the threshold too high, we get more **false negatives**, that is, record-pairs that really are duplicates but that we miss.\n",
    "#### ER algorithms are evaluated by the common metrics of information retrieval and search called **precision** and **recall**. Precision asks of all the record-pairs marked duplicates, what fraction are true duplicates? Recall asks of all the true duplicates in the data, what fraction did we successfully find? As with false positives and false negatives, there is a trade-off between precision and recall. A third metric, called **F-measure**, takes the harmonic mean of precision and recall to measure overall goodness in a single value:\n",
    "#### $$ Fmeasure = 2 \\frac{precision * recall}{precision + recall} $$\n",
    "> #### **Note**: In this part, we use the \"gold standard\" mapping from the included file to look up true duplicates, and the results of Part 4.\n",
    "> #### **Note**: In this part, you will not be writing any code. We've written all of the code for you. Run each cell and then answer the quiz questions on Studio."
   ]
  },
  {
   "cell_type": "markdown",
   "metadata": {},
   "source": [
    "### **(5a) Counting True Positives, False Positives, and False Negatives**\n",
    "#### We need functions that count True Positives (true duplicates above the threshold), and False Positives and False Negatives:\n",
    "* #### We start with creating the `simsFullRDD` from our `similaritiesFullRDD` that consists of a pair of ((Amazon ID, Google URL), simlarity score)\n",
    "* #### From this RDD, we create an RDD consisting of only the similarity scores\n",
    "* #### To look up the similarity scores for true duplicates, we perform a left outer join using the `goldStandard` RDD and `simsFullRDD` and extract the"
   ]
  },
  {
   "cell_type": "code",
   "execution_count": 115,
   "metadata": {},
   "outputs": [
    {
     "name": "stdout",
     "output_type": "stream",
     "text": [
      "There are 1300 true duplicates.\n"
     ]
    }
   ],
   "source": [
    "# Create an RDD of ((Amazon ID, Google URL), similarity score)\n",
    "simsFullRDD = similaritiesFullRDD.map(lambda x: (\"%s %s\" % (x[0][0], x[0][1]), x[1]))\n",
    "assert simsFullRDD.count() == 2441100\n",
    "\n",
    "# Create an RDD of just the similarity scores\n",
    "simsFullValuesRDD = (simsFullRDD\n",
    "                     .map(lambda x: x[1])\n",
    "                     .cache())\n",
    "assert simsFullValuesRDD.count() == 2441100\n",
    "\n",
    "# Look up all similarity scores for true duplicates\n",
    "\n",
    "# This helper function will return the similarity score for records that are in the gold standard and the simsFullRDD (True positives), and will return 0 for records that are in the gold standard but not in simsFullRDD (False Negatives).\n",
    "def gs_value(record):\n",
    "    if (record[1][1] is None):\n",
    "        return 0\n",
    "    else:\n",
    "        return record[1][1]\n",
    "\n",
    "# Join the gold standard and simsFullRDD, and then extract the similarities scores using the helper function\n",
    "trueDupSimsRDD = (goldStandard\n",
    "                  .leftOuterJoin(simsFullRDD)\n",
    "                  .map(gs_value)\n",
    "                  .cache())\n",
    "print('There are %s true duplicates.' % trueDupSimsRDD.count())\n",
    "assert trueDupSimsRDD.count() == 1300"
   ]
  },
  {
   "cell_type": "markdown",
   "metadata": {},
   "source": [
    "#### The next step is to pick a threshold between 0 and 1 for the count of True Positives (true duplicates above the threshold). However, we would like to explore many different thresholds. To do this, we divide the space of thresholds into 100 bins, and take the following actions:\n",
    "* #### We use Spark Accumulators to implement our counting function. We define a custom accumulator type, `VectorAccumulatorParam`, along with functions to initialize the accumulator's vector to zero, and to add two vectors. Note that we have to use the += operator because you can only add to an accumulator.\n",
    "* #### We create a helper function to create a list with one entry (bit) set to a value and all others set to 0.\n",
    "* #### We create 101 bins for the 100 threshold values between 0 and 1.\n",
    "* #### Now, for each similarity score, we can compute the false positives. We do this by adding each similarity score to the appropriate bin of the vector. Then we remove true positives from the vector by using the gold standard data.\n",
    "* #### We define functions for computing false positive and negative and true positives, for a given threshold."
   ]
  },
  {
   "cell_type": "code",
   "execution_count": 117,
   "metadata": {},
   "outputs": [
    {
     "name": "stdout",
     "output_type": "stream",
     "text": [
      "[0, 0, 0, 0, 0, 0, 0, 0, 0, 0, 0, 0, 0, 0, 0, 0, 0, 0, 0, 0, 0, 0, 0, 0, 0, 0, 0, 0, 0, 0, 0, 0, 0, 0, 0, 0, 0, 0, 0, 0, 0, 0, 0, 0, 0, 0, 0, 0, 0, 0, 0, 0, 0, 0, 0, 0, 0, 0, 0, 0, 0, 0, 0, 0, 0, 0, 0, 0, 0, 0, 0, 0, 0, 0, 0, 0, 0, 0, 0, 0, 0, 0, 0, 0, 0, 0, 0, 0, 0, 0, 0, 0, 0, 0, 0, 0, 0, 0, 0, 0, 0]\n",
      "[2413942, 12479, 4628, 2448, 1469, 1015, 746, 595, 501, 356, 281, 228, 212, 182, 172, 117, 102, 102, 83, 88, 102, 78, 73, 46, 40, 40, 35, 40, 40, 50, 39, 30, 35, 28, 23, 21, 17, 31, 22, 26, 22, 17, 19, 27, 14, 18, 28, 18, 20, 11, 14, 15, 13, 12, 12, 10, 7, 16, 6, 11, 9, 3, 4, 8, 10, 8, 7, 12, 9, 7, 7, 7, 8, 5, 5, 6, 4, 4, 3, 2, 5, 1, 3, 5, 3, 7, 4, 6, 3, 4, 2, 2, 4, 3, 7, 9, 6, 4, 6, 15, 1]\n",
      "[2413789, 12391, 4567, 2380, 1418, 971, 696, 555, 467, 332, 253, 205, 187, 163, 148, 98, 93, 82, 69, 75, 78, 63, 57, 30, 32, 29, 25, 26, 29, 33, 25, 16, 20, 22, 16, 15, 8, 17, 15, 19, 13, 14, 13, 15, 10, 10, 18, 12, 15, 2, 8, 9, 5, 5, 4, 2, 2, 12, 4, 7, 5, 2, 1, 2, 7, 3, 2, 6, 6, 4, 2, 4, 6, 3, 1, 4, 3, 2, 2, 0, 3, 0, 1, 3, 2, 4, 0, 3, 2, 1, 2, 1, 1, 1, 2, 2, 2, 2, 3, 6, 0]\n"
     ]
    }
   ],
   "source": [
    "from pyspark.accumulators import AccumulatorParam\n",
    "class VectorAccumulatorParam(AccumulatorParam):\n",
    "    # Initialize the VectorAccumulator to 0\n",
    "    def zero(self, value):\n",
    "        return [0] * len(value)\n",
    "\n",
    "    # Add two VectorAccumulator variables\n",
    "    def addInPlace(self, val1, val2):\n",
    "        for i in range(len(val1)):\n",
    "            val1[i] += val2[i]\n",
    "        return val1\n",
    "\n",
    "# Return a list with entry x set to value and all other entries set to 0\n",
    "def set_bit(x, value, length):\n",
    "    bits = []\n",
    "    for y in range(length):\n",
    "        if (x == y):\n",
    "          bits.append(value)\n",
    "        else:\n",
    "          bits.append(0)\n",
    "    return bits\n",
    "\n",
    "# Pre-bin counts of false positives for different threshold ranges\n",
    "BINS = 101\n",
    "nthresholds = 100\n",
    "def bin(similarity):\n",
    "    return int(similarity * nthresholds)\n",
    "\n",
    "# fpCounts[i] = number of entries (possible false positives) where bin(similarity) == i\n",
    "zeros = [0] * BINS\n",
    "fpCounts = sc.accumulator(zeros, VectorAccumulatorParam())\n",
    "print(fpCounts.value)\n",
    "\n",
    "def add_element(score):\n",
    "    global fpCounts\n",
    "    b = bin(score)\n",
    "    fpCounts += set_bit(b, 1, BINS)\n",
    "\n",
    "simsFullValuesRDD.foreach(add_element)\n",
    "print(fpCounts.value)\n",
    "# Remove true positives from FP counts\n",
    "def sub_element(score):\n",
    "    global fpCounts\n",
    "    b = bin(score)\n",
    "    fpCounts += set_bit(b, -1, BINS)\n",
    "\n",
    "trueDupSimsRDD.foreach(sub_element)\n",
    "print(fpCounts.value)\n",
    "def falsepos(threshold):\n",
    "    fpList = fpCounts.value\n",
    "    return sum([fpList[b] for b in range(0, BINS) if float(b) / nthresholds >= threshold])\n",
    "\n",
    "def falseneg(threshold):\n",
    "    return trueDupSimsRDD.filter(lambda x: x < threshold).count()\n",
    "\n",
    "def truepos(threshold):\n",
    "    return trueDupSimsRDD.count() - falsenegDict[threshold]"
   ]
  },
  {
   "cell_type": "markdown",
   "metadata": {},
   "source": [
    "### **(5b) Precision, Recall, and F-measures**\n",
    "#### We define functions so that we can compute the [Precision][precision-recall], [Recall][precision-recall], and [F-measure][f-measure] as a function of threshold value:\n",
    "* #### Precision = true-positives / (true-positives + false-positives)\n",
    "* #### Recall = true-positives / (true-positives + false-negatives)\n",
    "* #### F-measure = 2 x Recall x Precision / (Recall + Precision)\n",
    "[precision-recall]: https://en.wikipedia.org/wiki/Precision_and_recall\n",
    "[f-measure]: https://en.wikipedia.org/wiki/Precision_and_recall#F-measure"
   ]
  },
  {
   "cell_type": "code",
   "execution_count": 118,
   "metadata": {},
   "outputs": [],
   "source": [
    "# Precision = true-positives / (true-positives + false-positives)\n",
    "# Recall = true-positives / (true-positives + false-negatives)\n",
    "# F-measure = 2 x Recall x Precision / (Recall + Precision)\n",
    "\n",
    "def precision(threshold):\n",
    "    tp = trueposDict[threshold]\n",
    "    return float(tp) / (tp + falseposDict[threshold])\n",
    "\n",
    "def recall(threshold):\n",
    "    tp = trueposDict[threshold]\n",
    "    return float(tp) / (tp + falsenegDict[threshold])\n",
    "\n",
    "def fmeasure(threshold):\n",
    "    r = recall(threshold)\n",
    "    p = precision(threshold)\n",
    "    return 2 * r * p / (r + p)"
   ]
  },
  {
   "cell_type": "markdown",
   "metadata": {},
   "source": [
    "### **(5c) Line Plots**\n",
    "#### We can make line plots of precision, recall, and F-measure as a function of threshold value, for thresholds between 0.0 and 1.0.  You can change `nthresholds` (above in part **(5a)**) to change the threshold values to plot."
   ]
  },
  {
   "cell_type": "code",
   "execution_count": 119,
   "metadata": {},
   "outputs": [
    {
     "name": "stdout",
     "output_type": "stream",
     "text": [
      "0.0005325468026709271 0.0010645266950540452\n"
     ]
    },
    {
     "data": {
      "image/png": "[encoded data removed]",
      "text/plain": [
       "<Figure size 1152x720 with 1 Axes>"
      ]
     },
     "metadata": {
      "needs_background": "light"
     },
     "output_type": "display_data"
    }
   ],
   "source": [
    "thresholds = [float(n) / nthresholds for n in range(0, nthresholds)]\n",
    "falseposDict = dict([(t, falsepos(t)) for t in thresholds])\n",
    "falsenegDict = dict([(t, falseneg(t)) for t in thresholds])\n",
    "trueposDict = dict([(t, truepos(t)) for t in thresholds])\n",
    "\n",
    "precisions = [precision(t) for t in thresholds]\n",
    "recalls = [recall(t) for t in thresholds]\n",
    "fmeasures = [fmeasure(t) for t in thresholds]\n",
    "\n",
    "print(precisions[0], fmeasures[0])\n",
    "assert abs(precisions[0] - 0.000532546802671) < 0.0000001\n",
    "assert abs(fmeasures[0] - 0.00106452669505) < 0.0000001\n",
    "\n",
    "\n",
    "fig = plt.figure(figsize=(16, 10))\n",
    "plt.plot(thresholds, precisions)\n",
    "plt.plot(thresholds, recalls)\n",
    "plt.plot(thresholds, fmeasures)\n",
    "plt.legend(['Precision', 'Recall', 'F-measure'])\n",
    "plt.show()"
   ]
  },
  {
   "cell_type": "markdown",
   "metadata": {},
   "source": [
    "### Discussion\n",
    "#### State-of-the-art tools can get an F-measure of about 60% on this dataset. In this lab exercise, our best F-measure is closer to 40%. Look at some examples of errors (both False Positives and False Negatives) and think about what went wrong.\n",
    "### There are several ways we might improve our simple classifier, including:\n",
    "#### * Using additional attributes\n",
    "#### * Performing better featurization of our textual data (e.g., stemming, n-grams, etc.)\n",
    "#### * Using different similarity functions"
   ]
  }
 ],
 "metadata": {
  "kernelspec": {
   "display_name": "Python 3",
   "language": "python",
   "name": "python3"
  },
  "language_info": {
   "codemirror_mode": {
    "name": "ipython",
    "version": 3
   },
   "file_extension": ".py",
   "mimetype": "text/x-python",
   "name": "python",
   "nbconvert_exporter": "python",
   "pygments_lexer": "ipython3",
   "version": "3.7.3"
  }
 },
 "nbformat": 4,
 "nbformat_minor": 1
}
