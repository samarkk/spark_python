{
 "cells": [
  {
   "cell_type": "code",
   "execution_count": 3,
   "metadata": {},
   "outputs": [],
   "source": [
    "import os\n",
    "import sys\n",
    "os.environ['SPARK_HOME']='D:/spark330hdp3sc3'\n",
    "os.environ['PYLIB']=os.environ['SPARK_HOME']+'/python/lib'\n",
    "sys.path.insert(0,os.environ['PYLIB']+'/py4j-0.10.9.5-src.zip')\n",
    "sys.path.insert(1,os.environ['PYLIB']+'/pyspark.zip')"
   ]
  },
  {
   "cell_type": "code",
   "execution_count": 14,
   "metadata": {},
   "outputs": [],
   "source": [
    "from pyspark.sql import SparkSession\n",
    "from pyspark.sql.types import *\n",
    "from pyspark.sql.functions import *\n",
    "import pandas as pd\n",
    "import numpy as np"
   ]
  },
  {
   "cell_type": "code",
   "execution_count": 5,
   "metadata": {},
   "outputs": [],
   "source": [
    "spark = SparkSession.builder.appName('SparkTransformations') \\\n",
    ".config('spark.warehouse.dir','D:/tmp') \\\n",
    ".enableHiveSupport().getOrCreate()"
   ]
  },
  {
   "cell_type": "code",
   "execution_count": 6,
   "metadata": {},
   "outputs": [
    {
     "data": {
      "text/plain": [
       "'3.3.0'"
      ]
     },
     "execution_count": 6,
     "metadata": {},
     "output_type": "execute_result"
    }
   ],
   "source": [
    "# Having set the driver and driver options we should have spark representing spark session \n",
    "# available straight away\n",
    "spark.version"
   ]
  },
  {
   "cell_type": "code",
   "execution_count": 7,
   "metadata": {},
   "outputs": [],
   "source": [
    "sc = spark.sparkContext"
   ]
  },
  {
   "cell_type": "code",
   "execution_count": 8,
   "metadata": {},
   "outputs": [
    {
     "data": {
      "text/plain": [
       "'3.3.0'"
      ]
     },
     "execution_count": 8,
     "metadata": {},
     "output_type": "execute_result"
    }
   ],
   "source": [
    "sc.version"
   ]
  },
  {
   "cell_type": "code",
   "execution_count": 9,
   "metadata": {},
   "outputs": [],
   "source": [
    "mlist = [\n",
    "    \"\"\"{\"title\": \"Dangal\", \"country\": \"India\", \"year\": 2016,\n",
    "\"cast\": {\"Director\": \"Nitesh Tiwari\", \"LeadActor\": \"Aamir Khan\", \"BoxOfficeUSDMn\": 330},\n",
    "\"genres\": [\"Biograhpy\", \"Drama\"], \"ratings\": {\"imdb\": 8.4,\"tomatoes\": 4.55}}\"\"\", \n",
    "\"\"\"{\"title\": \"Fight Club\", \"country\": \"USA\", \"year\": 1999, \n",
    "\"cast\": {\"Director\": \"David Fincher\", \"LeadActor\": \"Brad Pitt\", \"BoxOfficeUSDMn\": 104}, \n",
    "\"genres\": [\"Action\", \"Drama\"], \"ratings\": {\"imdb\": 8.8,\"tomatoes\": 4.46}}\"\"\"\n",
    "]"
   ]
  },
  {
   "cell_type": "code",
   "execution_count": 10,
   "metadata": {},
   "outputs": [
    {
     "name": "stdout",
     "output_type": "stream",
     "text": [
      "+--------------------------------+-------+------------------+-----------+----------+----+\n",
      "|cast                            |country|genres            |ratings    |title     |year|\n",
      "+--------------------------------+-------+------------------+-----------+----------+----+\n",
      "|{330, Nitesh Tiwari, Aamir Khan}|India  |[Biograhpy, Drama]|{8.4, 4.55}|Dangal    |2016|\n",
      "|{104, David Fincher, Brad Pitt} |USA    |[Action, Drama]   |{8.8, 4.46}|Fight Club|1999|\n",
      "+--------------------------------+-------+------------------+-----------+----------+----+\n",
      "\n"
     ]
    }
   ],
   "source": [
    "mrdd = sc.parallelize(mlist)\n",
    "movieJSONDF = spark.read.json(mrdd)\n",
    "movieJSONDF.show(2, False)"
   ]
  },
  {
   "cell_type": "code",
   "execution_count": 12,
   "metadata": {},
   "outputs": [],
   "source": [
    "cmplxSchema = StructType([\n",
    "    StructField(\"title\", StringType(), True),\n",
    "    StructField(\"country\", StringType(), True),\n",
    "    StructField(\"year\", IntegerType(), True),\n",
    "    StructField(\"cast\",\n",
    "        StructType([\n",
    "            StructField(\"Director\", StringType(), True),\n",
    "            StructField(\"LeadActor\", StringType(), True),\n",
    "            StructField(\"BoxOfficeUSDMn\", DoubleType(), True)\n",
    "        ]), True),\n",
    "    StructField(\"genres\", ArrayType(StringType(), True), True),\n",
    "    StructField(\"ratings\", MapType(StringType(), DoubleType()))])\n"
   ]
  },
  {
   "cell_type": "code",
   "execution_count": 13,
   "metadata": {},
   "outputs": [
    {
     "name": "stdout",
     "output_type": "stream",
     "text": [
      "+----------+-------+----+----------------------------------+------------------+-------------------------------+\n",
      "|title     |country|year|cast                              |genres            |ratings                        |\n",
      "+----------+-------+----+----------------------------------+------------------+-------------------------------+\n",
      "|Dangal    |India  |2016|{Nitesh Tiwari, Aamir Khan, 330.0}|[Biograhpy, Drama]|{imdb -> 8.4, tomatoes -> 4.55}|\n",
      "|Fight Club|USA    |1999|{David Fincher, Brad Pitt, 104.0} |[Action, Drama]   |{imdb -> 8.8, tomatoes -> 4.46}|\n",
      "+----------+-------+----+----------------------------------+------------------+-------------------------------+\n",
      "\n",
      "root\n",
      " |-- title: string (nullable = true)\n",
      " |-- country: string (nullable = true)\n",
      " |-- year: integer (nullable = true)\n",
      " |-- cast: struct (nullable = true)\n",
      " |    |-- Director: string (nullable = true)\n",
      " |    |-- LeadActor: string (nullable = true)\n",
      " |    |-- BoxOfficeUSDMn: double (nullable = true)\n",
      " |-- genres: array (nullable = true)\n",
      " |    |-- element: string (containsNull = true)\n",
      " |-- ratings: map (nullable = true)\n",
      " |    |-- key: string\n",
      " |    |-- value: double (valueContainsNull = true)\n",
      "\n"
     ]
    }
   ],
   "source": [
    "movieJSONWithSchemaDF = spark.read.schema(cmplxSchema).json(mrdd)\n",
    "movieJSONWithSchemaDF.show(2, False)\n",
    "movieJSONWithSchemaDF.printSchema()"
   ]
  },
  {
   "cell_type": "code",
   "execution_count": 18,
   "metadata": {},
   "outputs": [
    {
     "name": "stdout",
     "output_type": "stream",
     "text": [
      "+---------+---------+\n",
      "|genres[0]|genres[1]|\n",
      "+---------+---------+\n",
      "|Biograhpy|    Drama|\n",
      "|   Action|    Drama|\n",
      "+---------+---------+\n",
      "\n"
     ]
    }
   ],
   "source": [
    "# querying complex types\n",
    "# arrays with indexing\n",
    "movieJSONWithSchemaDF.select(col(\"genres\")[0], col(\"genres\")[1]).show()"
   ]
  },
  {
   "cell_type": "code",
   "execution_count": 17,
   "metadata": {},
   "outputs": [
    {
     "name": "stdout",
     "output_type": "stream",
     "text": [
      "+-------------+----------+\n",
      "|     Director| LeadActor|\n",
      "+-------------+----------+\n",
      "|Nitesh Tiwari|Aamir Khan|\n",
      "|David Fincher| Brad Pitt|\n",
      "+-------------+----------+\n",
      "\n"
     ]
    }
   ],
   "source": [
    "# structs using dot notation\n",
    "movieJSONWithSchemaDF.select(\"cast.Director\", \"cast.LeadActor\").show()"
   ]
  },
  {
   "cell_type": "code",
   "execution_count": 19,
   "metadata": {},
   "outputs": [
    {
     "name": "stdout",
     "output_type": "stream",
     "text": [
      "+----+--------+\n",
      "|imdb|tomatoes|\n",
      "+----+--------+\n",
      "| 8.4|    4.55|\n",
      "| 8.8|    4.46|\n",
      "+----+--------+\n",
      "\n"
     ]
    }
   ],
   "source": [
    "# maps using dot notations\n",
    "movieJSONWithSchemaDF.select(\"ratings.imdb\", \"ratings.tomatoes\").show()"
   ]
  },
  {
   "cell_type": "code",
   "execution_count": 20,
   "metadata": {},
   "outputs": [
    {
     "name": "stdout",
     "output_type": "stream",
     "text": [
      "+-------------+-----------------+\n",
      "|ratings[imdb]|ratings[tomatoes]|\n",
      "+-------------+-----------------+\n",
      "|          8.4|             4.55|\n",
      "|          8.8|             4.46|\n",
      "+-------------+-----------------+\n",
      "\n"
     ]
    }
   ],
   "source": [
    "# maps using keys\n",
    "movieJSONWithSchemaDF.select(col(\"ratings\")[\"imdb\"], col(\"ratings\")[\"tomatoes\"]).show()"
   ]
  },
  {
   "cell_type": "code",
   "execution_count": 21,
   "metadata": {},
   "outputs": [
    {
     "name": "stdout",
     "output_type": "stream",
     "text": [
      "+------+-------+----+----------------------------------+------------------+-------------------------------+\n",
      "|title |country|year|cast                              |genres            |ratings                        |\n",
      "+------+-------+----+----------------------------------+------------------+-------------------------------+\n",
      "|Dangal|India  |2016|{Nitesh Tiwari, Aamir Khan, 330.0}|[Biograhpy, Drama]|{imdb -> 8.4, tomatoes -> 4.55}|\n",
      "+------+-------+----+----------------------------------+------------------+-------------------------------+\n",
      "\n"
     ]
    }
   ],
   "source": [
    "# filter using cmplex type part\n",
    "movieJSONWithSchemaDF.filter(\"cast.LeadActor = 'Aamir Khan'\").show(2, False)"
   ]
  },
  {
   "cell_type": "code",
   "execution_count": 22,
   "metadata": {},
   "outputs": [
    {
     "name": "stdout",
     "output_type": "stream",
     "text": [
      "+----------+---------+------+\n",
      "| LeadActor|imdbtotal|tomtot|\n",
      "+----------+---------+------+\n",
      "|Aamir Khan|      8.4|  4.55|\n",
      "| Brad Pitt|      8.8|  4.46|\n",
      "+----------+---------+------+\n",
      "\n"
     ]
    }
   ],
   "source": [
    "# we can use the nested complex fields for grouping and aggregations\n",
    "movieJSONWithSchemaDF.groupBy(col(\"cast.LeadActor\")).agg(\n",
    "    sum(col(\"ratings.imdb\")).alias(\"imdbtotal\"),\n",
    "    sum(col(\"ratings.tomatoes\")).alias(\"tomtot\")).show()"
   ]
  },
  {
   "cell_type": "code",
   "execution_count": 23,
   "metadata": {},
   "outputs": [
    {
     "name": "stdout",
     "output_type": "stream",
     "text": [
      "+---------+\n",
      "|      col|\n",
      "+---------+\n",
      "|Biograhpy|\n",
      "|    Drama|\n",
      "|   Action|\n",
      "|    Drama|\n",
      "+---------+\n",
      "\n"
     ]
    }
   ],
   "source": [
    "# we can flatten the complex types using the explode function on arrays and maps\n",
    "movieJSONWithSchemaDF.select(explode(col(\"genres\"))).show()"
   ]
  },
  {
   "cell_type": "code",
   "execution_count": 24,
   "metadata": {},
   "outputs": [],
   "source": [
    "# in one select clause we can have only one expansion. the line below will create an error\n",
    "# movieJSONWithSchemaDF.select(explode(col(\"genres\")), explode(col(\"ratings\"))).show()(2, False)"
   ]
  },
  {
   "cell_type": "code",
   "execution_count": 25,
   "metadata": {},
   "outputs": [
    {
     "name": "stdout",
     "output_type": "stream",
     "text": [
      "+--------+-----+---------+------+-------+----+----------------------------------+------------------+-------------------------------+\n",
      "|key     |value|col      |title |country|year|cast                              |genres            |ratings                        |\n",
      "+--------+-----+---------+------+-------+----+----------------------------------+------------------+-------------------------------+\n",
      "|imdb    |8.4  |Biograhpy|Dangal|India  |2016|{Nitesh Tiwari, Aamir Khan, 330.0}|[Biograhpy, Drama]|{imdb -> 8.4, tomatoes -> 4.55}|\n",
      "|tomatoes|4.55 |Biograhpy|Dangal|India  |2016|{Nitesh Tiwari, Aamir Khan, 330.0}|[Biograhpy, Drama]|{imdb -> 8.4, tomatoes -> 4.55}|\n",
      "+--------+-----+---------+------+-------+----+----------------------------------+------------------+-------------------------------+\n",
      "only showing top 2 rows\n",
      "\n"
     ]
    }
   ],
   "source": [
    "# for multiple expansions we will have to do them sequentially\n",
    "movieJSONWithSchemaDF.select(explode(col(\"genres\")), col(\"*\")).select(explode(col(\"ratings\")), col(\"*\")).show(2, False)"
   ]
  },
  {
   "cell_type": "code",
   "execution_count": 27,
   "metadata": {},
   "outputs": [
    {
     "name": "stdout",
     "output_type": "stream",
     "text": [
      "+-------------+----------+----+--------+---------+------+-------+----+----------------------------------+------------------+-------------------------------+\n",
      "|director     |leadactor |imdb|tomatoes|col      |title |country|year|cast                              |genres            |ratings                        |\n",
      "+-------------+----------+----+--------+---------+------+-------+----+----------------------------------+------------------+-------------------------------+\n",
      "|Nitesh Tiwari|Aamir Khan|8.4 |4.55    |Biograhpy|Dangal|India  |2016|{Nitesh Tiwari, Aamir Khan, 330.0}|[Biograhpy, Drama]|{imdb -> 8.4, tomatoes -> 4.55}|\n",
      "|Nitesh Tiwari|Aamir Khan|8.4 |4.55    |Drama    |Dangal|India  |2016|{Nitesh Tiwari, Aamir Khan, 330.0}|[Biograhpy, Drama]|{imdb -> 8.4, tomatoes -> 4.55}|\n",
      "+-------------+----------+----+--------+---------+------+-------+----+----------------------------------+------------------+-------------------------------+\n",
      "only showing top 2 rows\n",
      "\n"
     ]
    }
   ],
   "source": [
    "# sql api for querying complex types\n",
    "movieJSONWithSchemaDF.createOrReplaceTempView(\"mvcmplxtbl\")\n",
    "# struct parts using dot notation and genres exploded\n",
    "spark.sql('''\n",
    "select cast.director, cast.leadactor, ratings.imdb, ratings.tomatoes, explode(genres), *  \n",
    "from mvcmplxtbl''').show(2, False)"
   ]
  },
  {
   "cell_type": "code",
   "execution_count": 28,
   "metadata": {},
   "outputs": [
    {
     "name": "stdout",
     "output_type": "stream",
     "text": [
      "+----------+-------+------+\n",
      "|leadactor |imdbtot|tomtot|\n",
      "+----------+-------+------+\n",
      "|Aamir Khan|8.4    |4.55  |\n",
      "|Brad Pitt |8.8    |4.46  |\n",
      "+----------+-------+------+\n",
      "\n"
     ]
    }
   ],
   "source": [
    "spark.sql('''\n",
    "          select cast.leadactor, sum(ratings.imdb) as imdbtot,\n",
    "          sum(ratings.tomatoes) as tomtot \n",
    "          from mvcmplxtbl group by cast.leadactor\n",
    "          ''').show(2, False)"
   ]
  },
  {
   "cell_type": "code",
   "execution_count": 29,
   "metadata": {},
   "outputs": [],
   "source": [
    " # we will use the get_json_object, from_json and to_json functions here to work with rdds of json strings\n",
    "# we create mjsonDF as a dataframe of strings\n",
    "mjsonDF = sc.parallelize(mlist).map(lambda x: (x,)).toDF([\"mjson\"])"
   ]
  },
  {
   "cell_type": "code",
   "execution_count": 30,
   "metadata": {},
   "outputs": [
    {
     "name": "stdout",
     "output_type": "stream",
     "text": [
      "+--------------------------------------------------------------------------+\n",
      "|get_json_object(mjson, $.cast)                                            |\n",
      "+--------------------------------------------------------------------------+\n",
      "|{\"Director\":\"Nitesh Tiwari\",\"LeadActor\":\"Aamir Khan\",\"BoxOfficeUSDMn\":330}|\n",
      "|{\"Director\":\"David Fincher\",\"LeadActor\":\"Brad Pitt\",\"BoxOfficeUSDMn\":104} |\n",
      "+--------------------------------------------------------------------------+\n",
      "\n",
      "+---------------------------------------+\n",
      "|get_json_object(mjson, $.cast.Director)|\n",
      "+---------------------------------------+\n",
      "|Nitesh Tiwari                          |\n",
      "|David Fincher                          |\n",
      "+---------------------------------------+\n",
      "\n"
     ]
    }
   ],
   "source": [
    "# we can use get_json_object to navigate paths of a json string\n",
    "mjsonDF.select(get_json_object(col(\"mjson\"), \"$.cast\")).show(2, False)\n",
    "mjsonDF.select(get_json_object(col(\"mjson\"), \"$.cast.Director\")).show(2, False)"
   ]
  },
  {
   "cell_type": "code",
   "execution_count": 31,
   "metadata": {
    "scrolled": true
   },
   "outputs": [
    {
     "name": "stdout",
     "output_type": "stream",
     "text": [
      "+--------------------------------------------------------------------------------------------------------------+\n",
      "|from_json(mjson)                                                                                              |\n",
      "+--------------------------------------------------------------------------------------------------------------+\n",
      "|{Dangal, India, 2016, {Nitesh Tiwari, Aamir Khan, 330.0}, [Biograhpy, Drama], {imdb -> 8.4, tomatoes -> 4.55}}|\n",
      "|{Fight Club, USA, 1999, {David Fincher, Brad Pitt, 104.0}, [Action, Drama], {imdb -> 8.8, tomatoes -> 4.46}}  |\n",
      "+--------------------------------------------------------------------------------------------------------------+\n",
      "\n",
      "+--------------------------------------------------------------------------------------------------------------+\n",
      "|mdet                                                                                                          |\n",
      "+--------------------------------------------------------------------------------------------------------------+\n",
      "|{Dangal, India, 2016, {Nitesh Tiwari, Aamir Khan, 330.0}, [Biograhpy, Drama], {imdb -> 8.4, tomatoes -> 4.55}}|\n",
      "|{Fight Club, USA, 1999, {David Fincher, Brad Pitt, 104.0}, [Action, Drama], {imdb -> 8.8, tomatoes -> 4.46}}  |\n",
      "+--------------------------------------------------------------------------------------------------------------+\n",
      "\n",
      "+----------+-------+----+----------------------------------+------------------+-------------------------------+\n",
      "|title     |country|year|cast                              |genres            |ratings                        |\n",
      "+----------+-------+----+----------------------------------+------------------+-------------------------------+\n",
      "|Dangal    |India  |2016|{Nitesh Tiwari, Aamir Khan, 330.0}|[Biograhpy, Drama]|{imdb -> 8.4, tomatoes -> 4.55}|\n",
      "|Fight Club|USA    |1999|{David Fincher, Brad Pitt, 104.0} |[Action, Drama]   |{imdb -> 8.8, tomatoes -> 4.46}|\n",
      "+----------+-------+----+----------------------------------+------------------+-------------------------------+\n",
      "\n"
     ]
    }
   ],
   "source": [
    "# we can use from_json along with a schema to load json and then use dot notation to \n",
    "# access any path of the generated json\n",
    "mjsonDF.select(from_json(col(\"mjson\"), cmplxSchema)).show(2, False)\n",
    "mjsonDF.select(from_json(col(\"mjson\"), cmplxSchema).alias(\"mdet\")).show(2, False)\n",
    "mjsonDF.select(from_json(col(\"mjson\"), cmplxSchema).alias(\"mdet\")).select(\"mdet.*\").show(2, False)"
   ]
  },
  {
   "cell_type": "code",
   "execution_count": 32,
   "metadata": {},
   "outputs": [
    {
     "name": "stdout",
     "output_type": "stream",
     "text": [
      "+----------------------------------------------------------------------------------------------------------------------------------------------------------------------------------------------------------+\n",
      "|moviestring                                                                                                                                                                                               |\n",
      "+----------------------------------------------------------------------------------------------------------------------------------------------------------------------------------------------------------+\n",
      "|{\"title\":\"Dangal\",\"country\":\"India\",\"year\":2016,\"cast\":{\"Director\":\"Nitesh Tiwari\",\"LeadActor\":\"Aamir Khan\",\"BoxOfficeUSDMn\":330.0},\"genres\":[\"Biograhpy\",\"Drama\"],\"ratings\":{\"imdb\":8.4,\"tomatoes\":4.55}}|\n",
      "|{\"title\":\"Fight Club\",\"country\":\"USA\",\"year\":1999,\"cast\":{\"Director\":\"David Fincher\",\"LeadActor\":\"Brad Pitt\",\"BoxOfficeUSDMn\":104.0},\"genres\":[\"Action\",\"Drama\"],\"ratings\":{\"imdb\":8.8,\"tomatoes\":4.46}}  |\n",
      "+----------------------------------------------------------------------------------------------------------------------------------------------------------------------------------------------------------+\n",
      "\n"
     ]
    }
   ],
   "source": [
    "# finally we can call to_json to generate json data from the data frame\n",
    "# here we take the movieJSONWithSchemaDF we had created to get back the json strings\n",
    "# from which we had created the dataframe\n",
    "movieJSONWithSchemaDF.select(to_json(struct(col(\"*\"))).alias(\"moviestring\")).show(2, False)"
   ]
  }
 ],
 "metadata": {
  "kernelspec": {
   "display_name": "Python 3 (ipykernel)",
   "language": "python",
   "name": "python3"
  },
  "language_info": {
   "codemirror_mode": {
    "name": "ipython",
    "version": 3
   },
   "file_extension": ".py",
   "mimetype": "text/x-python",
   "name": "python",
   "nbconvert_exporter": "python",
   "pygments_lexer": "ipython3",
   "version": "3.10.9"
  }
 },
 "nbformat": 4,
 "nbformat_minor": 2
}
