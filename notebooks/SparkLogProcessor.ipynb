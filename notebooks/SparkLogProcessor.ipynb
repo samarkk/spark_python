{
 "cells": [
  {
   "cell_type": "code",
   "execution_count": 1,
   "metadata": {},
   "outputs": [],
   "source": [
    "import os\n",
    "import sys\n",
    "os.environ['SPARK_HOME']='D:/spark330hdp3sc3'\n",
    "os.environ['PYLIB']=os.environ['SPARK_HOME']+'/python/lib'\n",
    "sys.path.insert(0,os.environ['PYLIB']+'/py4j-0.10.9.5-src.zip')\n",
    "sys.path.insert(1,os.environ['PYLIB']+'/pyspark.zip')"
   ]
  },
  {
   "cell_type": "code",
   "execution_count": 2,
   "metadata": {},
   "outputs": [],
   "source": [
    "from pyspark.sql import SparkSession\n",
    "import pandas as pd\n",
    "import numpy as np"
   ]
  },
  {
   "cell_type": "code",
   "execution_count": 3,
   "metadata": {},
   "outputs": [],
   "source": [
    "spark = SparkSession.builder.appName('TestHive') \\\n",
    ".config('spark.warehouse.dir','/apps/hive/warehouse') \\\n",
    ".enableHiveSupport().getOrCreate()"
   ]
  },
  {
   "cell_type": "code",
   "execution_count": 4,
   "metadata": {},
   "outputs": [
    {
     "data": {
      "text/plain": [
       "'3.3.0'"
      ]
     },
     "execution_count": 4,
     "metadata": {},
     "output_type": "execute_result"
    }
   ],
   "source": [
    "# Having set the driver and driver options we should have spark representing spark session \n",
    "# available straight away\n",
    "spark.version"
   ]
  },
  {
   "cell_type": "code",
   "execution_count": 5,
   "metadata": {},
   "outputs": [],
   "source": [
    "sc = spark.sparkContext"
   ]
  },
  {
   "cell_type": "code",
   "execution_count": 7,
   "metadata": {},
   "outputs": [
    {
     "name": "stdout",
     "output_type": "stream",
     "text": [
      "No of logs  1043177\n"
     ]
    },
    {
     "data": {
      "text/plain": [
       "['in24.inetnebr.com - - [01/Aug/1995:00:00:01 -0400] \"GET /shuttle/missions/sts-68/news/sts-68-mcc-05.txt HTTP/1.0\" 200 1839',\n",
       " 'uplherc.upl.com - - [01/Aug/1995:00:00:07 -0400] \"GET / HTTP/1.0\" 304 0']"
      ]
     },
     "execution_count": 7,
     "metadata": {},
     "output_type": "execute_result"
    }
   ],
   "source": [
    "fileLoc = \"D:/ufdata/apachelogs.gz\"\n",
    "logFileRDD = sc.textFile(fileLoc)\n",
    "print(\"No of logs \" , logFileRDD.count())\n",
    "logFileRDD.take(2)"
   ]
  },
  {
   "cell_type": "code",
   "execution_count": 8,
   "metadata": {},
   "outputs": [],
   "source": [
    "# make provisions for processing the logs\n",
    "# use a regex to split the line into the nine groups and map it to a sql row of nine columns\n",
    "import re\n",
    "import datetime\n",
    "\n",
    "from pyspark.sql import Row\n",
    "\n",
    "month_map = {'Jan': 1, 'Feb': 2, 'Mar':3, 'Apr':4, 'May':5, 'Jun':6, 'Jul':7,\n",
    "    'Aug':8,  'Sep': 9, 'Oct':10, 'Nov': 11, 'Dec': 12}\n",
    "\n",
    "def parse_apache_time(s):\n",
    "    \"\"\" Convert Apache time format into a Python datetime object\n",
    "    Args:\n",
    "        s (str): date and time in Apache time format\n",
    "    Returns:\n",
    "        datetime: datetime object (ignore timezone for now)\n",
    "    \"\"\"\n",
    "    return datetime.datetime(int(s[7:11]),\n",
    "                             month_map[s[3:6]],\n",
    "                             int(s[0:2]),\n",
    "                             int(s[12:14]),\n",
    "                             int(s[15:17]),\n",
    "                             int(s[18:20]))\n",
    "\n",
    "\n",
    "def parseApacheLogLine(logline):\n",
    "    \"\"\" Parse a line in the Apache Common Log format\n",
    "    Args:\n",
    "        logline (str): a line of text in the Apache Common Log format\n",
    "    Returns:\n",
    "        tuple: either a dictionary containing the parts of the Apache Access Log and 1,\n",
    "               or the original invalid log line and 0\n",
    "    \"\"\"\n",
    "    match = re.search(APACHE_ACCESS_LOG_PATTERN, logline)\n",
    "    if match is None:\n",
    "        return (logline, 0)\n",
    "    size_field = match.group(9)\n",
    "    if size_field == '-':\n",
    "        size = int(0)\n",
    "    else:\n",
    "        size = int(match.group(9))\n",
    "    return (Row(\n",
    "        host          = match.group(1),\n",
    "        client_identd = match.group(2),\n",
    "        user_id       = match.group(3),\n",
    "        date_time     = parse_apache_time(match.group(4)),\n",
    "        method        = match.group(5),\n",
    "        endpoint      = match.group(6),\n",
    "        protocol      = match.group(7),\n",
    "        response_code = int(match.group(8)),\n",
    "        content_size  = size\n",
    "    ), 1)"
   ]
  },
  {
   "cell_type": "code",
   "execution_count": 9,
   "metadata": {},
   "outputs": [],
   "source": [
    "# set the log pattern to be used\n",
    "APACHE_ACCESS_LOG_PATTERN ='^(\\S+) (\\S+) (\\S+) \\[([\\w:/]+\\s[+\\-]\\d{4})\\] \"(\\S+) (\\S+)\\s*(\\S*)\\s*\" (\\d{3}) (\\S+)'"
   ]
  },
  {
   "cell_type": "code",
   "execution_count": 10,
   "metadata": {},
   "outputs": [
    {
     "name": "stdout",
     "output_type": "stream",
     "text": [
      "Read 1043177 lines, successfully parsed 1043177 lines, failed to parse 0 lines\n"
     ]
    }
   ],
   "source": [
    "# read the log file and use the mapped tuple second part to get a count of successfully parsed\n",
    "# and failed logs\n",
    "import sys\n",
    "import os\n",
    "\n",
    "\n",
    "def parseLogs():\n",
    "    \"\"\" Read and parse log file \"\"\"\n",
    "    parsed_logs = (sc\n",
    "                   .textFile(fileLoc)\n",
    "                   .map(parseApacheLogLine)\n",
    "                   .cache())\n",
    "\n",
    "    access_logs = (parsed_logs\n",
    "                   .filter(lambda s: s[1] == 1)\n",
    "                   .map(lambda s: s[0])\n",
    "                   .cache())\n",
    "\n",
    "    failed_logs = (parsed_logs\n",
    "                   .filter(lambda s: s[1] == 0)\n",
    "                   .map(lambda s: s[0]))\n",
    "    failed_logs_count = failed_logs.count()\n",
    "    if failed_logs_count > 0:\n",
    "        print('Number of invalid logline: %d' % failed_logs.count())\n",
    "        for line in failed_logs.take(20):\n",
    "            print('Invalid logline: %s' % line)\n",
    "\n",
    "    print('Read %d lines, successfully parsed %d lines, failed to parse %d lines' % \n",
    "          (parsed_logs.count(), access_logs.count(), failed_logs.count()))\n",
    "    return parsed_logs, access_logs, failed_logs\n",
    "\n",
    "\n",
    "parsed_logs, access_logs, failed_logs = parseLogs()"
   ]
  },
  {
   "cell_type": "code",
   "execution_count": 11,
   "metadata": {},
   "outputs": [],
   "source": [
    "# TEST Data cleaning\n",
    "assert(failed_logs.count() == 0)\n",
    "assert(parsed_logs.count() == 1043177)\n",
    "assert(access_logs.count() == parsed_logs.count())"
   ]
  },
  {
   "cell_type": "code",
   "execution_count": 12,
   "metadata": {},
   "outputs": [
    {
     "name": "stdout",
     "output_type": "stream",
     "text": [
      "Content Size Avg: 17531, Min: 0, Max: 3421948\n"
     ]
    }
   ],
   "source": [
    "# Calculate statistics based on the content size.\n",
    "content_sizes = access_logs.map(lambda log: log.content_size).cache()\n",
    "print('Content Size Avg: %i, Min: %i, Max: %s' % (\n",
    "    content_sizes.reduce(lambda a, b : a + b) / content_sizes.count(),\n",
    "    content_sizes.min(),\n",
    "    content_sizes.max()))"
   ]
  },
  {
   "cell_type": "code",
   "execution_count": 13,
   "metadata": {},
   "outputs": [
    {
     "name": "stdout",
     "output_type": "stream",
     "text": [
      "Found 7 response codes\n",
      "Response Code Counts: [(200, 940847), (304, 79824), (302, 16244), (404, 6185), (403, 58), (500, 2), (501, 17)]\n"
     ]
    }
   ],
   "source": [
    "# Response code analysis\n",
    "# Response Code to Count\n",
    "responseCodeToCount = (access_logs\n",
    "                       .map(lambda log: (log.response_code, 1))\n",
    "                       .reduceByKey(lambda a, b : a + b)\n",
    "                       .cache())\n",
    "responseCodeToCountList = responseCodeToCount.collect()\n",
    "print( 'Found %d response codes' % len(responseCodeToCountList))\n",
    "print( 'Response Code Counts: %s' % responseCodeToCountList)\n",
    "assert len(responseCodeToCountList) == 7\n",
    "assert sorted(responseCodeToCountList) == [(200, 940847), (302, 16244), (304, 79824), (403, 58), (404, 6185), (500, 2), (501, 17)]"
   ]
  },
  {
   "cell_type": "code",
   "execution_count": 14,
   "metadata": {},
   "outputs": [
    {
     "name": "stdout",
     "output_type": "stream",
     "text": [
      "[200, 304, 302, 404, 403, 500, 501]\n",
      "[0.9019054292799784, 0.07652009198822443, 0.015571662335346735, 0.005929003419362198, 5.5599385339208974e-05, 1.9172201841106543e-06, 1.629637156494056e-05]\n"
     ]
    }
   ],
   "source": [
    "# Response Code Graphing with matplotlib\n",
    "labels = responseCodeToCount.map(lambda x : x[0]).collect()\n",
    "print(labels)\n",
    "count = access_logs.count()\n",
    "fracs = responseCodeToCount.map(lambda x : (float(x[1]) / count)).collect()\n",
    "print(fracs)"
   ]
  },
  {
   "cell_type": "code",
   "execution_count": 15,
   "metadata": {},
   "outputs": [
    {
     "data": {
      "image/png": "[encoded data removed]",
      "text/plain": [
       "<Figure size 450x450 with 1 Axes>"
      ]
     },
     "metadata": {},
     "output_type": "display_data"
    }
   ],
   "source": [
    "import matplotlib.pyplot as plt\n",
    "\n",
    "\n",
    "def pie_pct_format(value):\n",
    "    \"\"\" Determine the appropriate format string for the pie chart percentage label\n",
    "    Args:\n",
    "        value: value of the pie slice\n",
    "    Returns:\n",
    "        str: formated string label; if the slice is too small to fit, returns an empty string for label\n",
    "    \"\"\"\n",
    "    return '' if value < 7 else '%.0f%%' % value\n",
    "\n",
    "fig = plt.figure(figsize=(4.5, 4.5), facecolor='white', edgecolor='white')\n",
    "colors = ['yellowgreen', 'lightskyblue', 'gold', 'purple', 'lightcoral', 'yellow', 'black']\n",
    "explode = (0.05, 0.05, 0.1, 0, 0, 0, 0)\n",
    "patches, texts, autotexts = plt.pie(fracs, labels=labels, colors=colors,\n",
    "                                    explode=explode, autopct=pie_pct_format,\n",
    "                                    shadow=False,  startangle=125)\n",
    "for text, autotext in zip(texts, autotexts):\n",
    "    if autotext.get_text() == '':\n",
    "        text.set_text('')  # If the slice is small to fit, don't show a text label\n",
    "plt.legend(labels, loc=(0.80, -0.1), shadow=True)\n",
    "plt.show()"
   ]
  },
  {
   "cell_type": "code",
   "execution_count": 16,
   "metadata": {},
   "outputs": [
    {
     "name": "stdout",
     "output_type": "stream",
     "text": [
      "Any 20 hosts that have accessed more then 10 times: ['in24.inetnebr.com', 'uplherc.upl.com', 'ix-esc-ca2-07.ix.netcom.com', 'piweba4y.prodigy.com', '133.43.96.45', 'www-c8.proxy.aol.com', 'www-c3.proxy.aol.com', '133.68.18.180', 'www-d3.proxy.aol.com', 'haraway.ucet.ufl.edu', 'www-d4.proxy.aol.com', 'endeavor.fujitsu.co.jp', 'rpgopher.aist.go.jp', '139.230.35.135', 'piweba1y.prodigy.com', '165.213.131.21', 'www-c6.proxy.aol.com', 'gw1.att.com', 'ai.asu.edu', 'pm9.j51.com']\n"
     ]
    }
   ],
   "source": [
    "# Any hosts that has accessed the server more than 10 times.\n",
    "hostCountPairTuple = access_logs.map(lambda log: (log.host, 1))\n",
    "\n",
    "hostSum = hostCountPairTuple.reduceByKey(lambda a, b : a + b)\n",
    "\n",
    "hostMoreThan10 = hostSum.filter(lambda s: s[1] > 10)\n",
    "\n",
    "hostsPick20 = (hostMoreThan10\n",
    "               .map(lambda s: s[0])\n",
    "               .take(20))\n",
    "\n",
    "print('Any 20 hosts that have accessed more then 10 times: %s' % hostsPick20)"
   ]
  },
  {
   "cell_type": "code",
   "execution_count": 21,
   "metadata": {},
   "outputs": [
    {
     "name": "stdout",
     "output_type": "stream",
     "text": [
      "Top Ten Endpoints: [('/images/NASA-logosmall.gif', 59737), ('/images/KSC-logosmall.gif', 50452), ('/images/MOSAIC-logosmall.gif', 43890), ('/images/USA-logosmall.gif', 43664), ('/images/WORLD-logosmall.gif', 43277), ('/images/ksclogo-medium.gif', 41336), ('/ksc.html', 28582), ('/history/apollo/images/apollo-logo1.gif', 26778), ('/images/launch-logo.gif', 24755), ('/', 20292)]\n"
     ]
    }
   ],
   "source": [
    "# Top Endpoints\n",
    "endpointCounts = (access_logs\n",
    "                  .map(lambda log: (log.endpoint, 1))\n",
    "                  .reduceByKey(lambda a, b : a + b))\n",
    "\n",
    "topEndpoints = endpointCounts.takeOrdered(10, lambda s: -1 * s[1])\n",
    "\n",
    "print('Top Ten Endpoints: %s' % topEndpoints)\n",
    "assert topEndpoints == [(u'/images/NASA-logosmall.gif', 59737), \n",
    "                        (u'/images/KSC-logosmall.gif', 50452), \n",
    "                        (u'/images/MOSAIC-logosmall.gif', 43890), \n",
    "                        (u'/images/USA-logosmall.gif', 43664),\n",
    "                        (u'/images/WORLD-logosmall.gif', 43277), \n",
    "                        (u'/images/ksclogo-medium.gif', 41336), \n",
    "                        (u'/ksc.html', 28582),\n",
    "                        (u'/history/apollo/images/apollo-logo1.gif', 26778),\n",
    "                        (u'/images/launch-logo.gif', 24755), \n",
    "                        (u'/', 20292)], 'incorrect Top Ten Endpoints'"
   ]
  },
  {
   "cell_type": "code",
   "execution_count": 22,
   "metadata": {},
   "outputs": [
    {
     "name": "stdout",
     "output_type": "stream",
     "text": [
      "Top Ten failed URLs: [(datetime.datetime(1995, 8, 15, 14, 56, 55), 13), (datetime.datetime(1995, 8, 9, 8, 48, 30), 12), (datetime.datetime(1995, 8, 15, 9, 11, 44), 12), (datetime.datetime(1995, 8, 15, 15, 0, 36), 12), (datetime.datetime(1995, 8, 22, 10, 5, 17), 12), (datetime.datetime(1995, 8, 7, 11, 25, 29), 11), (datetime.datetime(1995, 8, 1, 8, 59, 30), 10), (datetime.datetime(1995, 8, 3, 14, 56, 43), 10), (datetime.datetime(1995, 8, 4, 10, 29, 20), 10), (datetime.datetime(1995, 8, 21, 7, 0, 6), 10)]\n"
     ]
    }
   ],
   "source": [
    "not200_or_304 = access_logs.filter(lambda x: x.response_code != (200 or 304))\n",
    "\n",
    "endpointCountPairTuple = not200_or_304.map(lambda x:(x[3],1))\n",
    "\n",
    "endpointSum = endpointCountPairTuple.reduceByKey(lambda a, b: a+ b)\n",
    "\n",
    "topTenErrURLs = endpointSum.takeOrdered(10, lambda x: -1 * x[1])\n",
    "print('Top Ten failed URLs: %s' % topTenErrURLs)"
   ]
  },
  {
   "cell_type": "code",
   "execution_count": 26,
   "metadata": {},
   "outputs": [
    {
     "name": "stdout",
     "output_type": "stream",
     "text": [
      "Unique hosts: 54507\n"
     ]
    }
   ],
   "source": [
    "# unique hosts\n",
    "hosts = access_logs.map(lambda log: (log.host))\n",
    "\n",
    "uniqueHosts = hosts.distinct()\n",
    "\n",
    "uniqueHostCount = uniqueHosts.count()\n",
    "print('Unique hosts: %d' % uniqueHostCount)"
   ]
  },
  {
   "cell_type": "code",
   "execution_count": 27,
   "metadata": {},
   "outputs": [],
   "source": [
    "assert uniqueHostCount == 54507, 'incorrect uniqueHostCount'"
   ]
  },
  {
   "cell_type": "code",
   "execution_count": 28,
   "metadata": {},
   "outputs": [
    {
     "name": "stdout",
     "output_type": "stream",
     "text": [
      "Unique hosts per day: [(1, 2582), (3, 3222), (4, 4190), (5, 2502), (6, 2537), (7, 4106), (8, 4406), (9, 4317), (10, 4523), (11, 4346), (12, 2864), (13, 2650), (14, 4454), (15, 4214), (16, 4340), (17, 4385), (18, 4168), (19, 2550), (20, 2560), (21, 4134), (22, 4456)]\n"
     ]
    }
   ],
   "source": [
    "dayHostCount = access_logs.map(lambda x: (x.date_time.day, x.host))\n",
    "# dailyHosts = dayHostCount.groupByKey().sortByKey().map(lambda x: (x[0], set(x[1]))).map(lambda x: (x[0], len(x[1]))).cache()\n",
    "dailyHosts = dayHostCount.groupByKey().sortByKey().map(lambda x: (x[0], len(set(x[1])))).cache()\n",
    "dailyHostsList = dailyHosts.take(30)\n",
    "print('Unique hosts per day: %s' % dailyHostsList)"
   ]
  },
  {
   "cell_type": "code",
   "execution_count": 29,
   "metadata": {},
   "outputs": [],
   "source": [
    "assert dailyHosts.count() == 21, 'incorrect dailyHosts.count()'\n",
    "assert dailyHostsList == [(1, 2582), (3, 3222), (4, 4190), (5, 2502), (6, 2537), (7, 4106), (8, 4406), (9, 4317), (10, 4523), (11, 4346), (12, 2864), (13, 2650), (14, 4454), (15, 4214), (16, 4340), (17, 4385), (18, 4168), (19, 2550), (20, 2560), (21, 4134), (22, 4456)], 'incorrect dailyHostsList'\n",
    "assert dailyHosts.is_cached, 'incorrect dailyHosts.is_cached'"
   ]
  },
  {
   "cell_type": "code",
   "execution_count": 30,
   "metadata": {},
   "outputs": [],
   "source": [
    "# Visualizing unique daily hosts \n",
    "daysWithHosts = dailyHosts.map( lambda x : x[0]).collect()\n",
    "hosts = dailyHosts.map( lambda x : x[1]).collect()\n",
    "test_days =[x for x in  range(1, 23) if x != 2]\n",
    "assert daysWithHosts == test_days, 'incorrect days'\n",
    "assert hosts == [2582, 3222, 4190, 2502, 2537, 4106, 4406, 4317, 4523, 4346, 2864, 2650, 4454, 4214, 4340, 4385, 4168, 2550, 2560, 4134, 4456], 'incorrect hosts'"
   ]
  },
  {
   "cell_type": "code",
   "execution_count": 33,
   "metadata": {},
   "outputs": [
    {
     "data": {
      "image/png": "[encoded data removed]",
      "text/plain": [
       "<Figure size 1200x600 with 1 Axes>"
      ]
     },
     "metadata": {},
     "output_type": "display_data"
    }
   ],
   "source": [
    "fig = plt.figure(figsize=(12, 6), facecolor='white', edgecolor='white')\n",
    "plt.axis([min(daysWithHosts), max(daysWithHosts), 0, max(hosts)+500])\n",
    "# plt.grid(b=True, which='major', axis='y')\n",
    "plt.xlabel('Day')\n",
    "plt.ylabel('Hosts')\n",
    "plt.plot(daysWithHosts, hosts)\n",
    "plt.show()"
   ]
  },
  {
   "cell_type": "code",
   "execution_count": 34,
   "metadata": {},
   "outputs": [
    {
     "name": "stdout",
     "output_type": "stream",
     "text": [
      "Average number of daily requests per Hosts is [(1, 13), (3, 12), (4, 14), (5, 12), (6, 12), (7, 13), (8, 13), (9, 14), (10, 13), (11, 14), (12, 13), (13, 13), (14, 13), (15, 13), (16, 13), (17, 13), (18, 13), (19, 12), (20, 12), (21, 13), (22, 12)]\n"
     ]
    }
   ],
   "source": [
    "# Average number of daily requests per hosts\n",
    "dayAndHostTuple =  access_logs.map(lambda s : (s.date_time.day,s.host))\n",
    "\n",
    "groupedByDay = dayAndHostTuple.groupByKey()\n",
    "\n",
    "sortedByDay = groupedByDay.sortByKey().map(lambda x:(x[0], int(len(x[1])/len(set(x[1])))))\n",
    "\n",
    "avgDailyReqPerHost = (sortedByDay\n",
    "                      .cache())\n",
    "avgDailyReqPerHostList = avgDailyReqPerHost.take(30)\n",
    "print('Average number of daily requests per Hosts is %s' % avgDailyReqPerHostList)"
   ]
  },
  {
   "cell_type": "code",
   "execution_count": 35,
   "metadata": {},
   "outputs": [],
   "source": [
    "assert avgDailyReqPerHostList == [(1, 13), (3, 12), (4, 14), (5, 12), (6, 12),\n",
    "                                  (7, 13), (8, 13), (9, 14), (10, 13), (11, 14), (12, 13),\n",
    "                                  (13, 13), (14, 13), (15, 13), (16, 13), (17, 13), \n",
    "                                  (18, 13), (19, 12), (20, 12), (21, 13), (22, 12)], 'incorrect avgDailyReqPerHostList'\n",
    "assert avgDailyReqPerHost.is_cached, 'incorrect avgDailyReqPerHost.is_cache'"
   ]
  },
  {
   "cell_type": "code",
   "execution_count": 36,
   "metadata": {},
   "outputs": [
    {
     "name": "stdout",
     "output_type": "stream",
     "text": [
      "Found 6185 404 URLs\n"
     ]
    }
   ],
   "source": [
    "# find bad records\n",
    "badRecords = (access_logs\n",
    "              .filter(lambda s: s.response_code == 404).cache())\n",
    "print('Found %d 404 URLs' % badRecords.count())"
   ]
  },
  {
   "cell_type": "code",
   "execution_count": 37,
   "metadata": {},
   "outputs": [],
   "source": [
    "assert badRecords.count() == 6185, 'incorrect badRecords.count()'\n",
    "assert badRecords.is_cached, 'incorrect badRecords.is_cached'"
   ]
  },
  {
   "cell_type": "code",
   "execution_count": 38,
   "metadata": {},
   "outputs": [
    {
     "name": "stdout",
     "output_type": "stream",
     "text": [
      "404 URLS: ['/shuttle/resources/orbiters/discovery.gif', '/pub/winvn/release.txt', '/www/software/winvn/winvn.html', '/history/history.htm', '/elv/DELTA/uncons.htm', '/sts-71/launch/', '/history/apollo/apollo-13.html', '/history/apollo/a-001/a-001-patch-small.gif', '/history/apollo/a-001/movies/', '/history/apollo/a-001/images/', '/history/apollo/a-004/a-004-patch-small.gif', '/history/apollo/a-004/movies/', '/pub/winvn/readme.txt', '/shuttle/resources/orbiters/atlantis.gif', '/ksc.htm1', '/history/apollo/html', '/images/Nasa-logo.gif', '/history/apollo/images/little-joe.jpg', '/nasa/nasa_hottopics.html', '/people/nasa-cm/jmd.html', '/persons/astronauts/thagar.html', '/IUMA/lib/IUMA-title.gif', '/IUMA/lib/htu_button.gif', '/shuttle/missions/sts-63/sts-63-press-kit.tx', '/shuttle/technology/sts_newsreflsts_ovcomm.html', '/l', '/ksc/html', '/\\\\\\\\yahoo.com', '/MDSS/', '/M/on-this-day', '/history/apollo/sa-1/sa-1-patch-small.gif', '/history/apollo/sa-1/images/', '/history/apollo/sa-1/movies/', '/history/apollo/sa-1/docs/', '/history/apollo/sa-9/sa-9-patch-small.gif', '/history/apollo/sa-9/images/', '/history/apollo/sa-9/news/', '/shuttle/missions/technology/sts-newsref/stsref-toc.html', '/nws/public', '/missions/missions.html']\n"
     ]
    }
   ],
   "source": [
    "# the end points throwing errors\n",
    "\n",
    "badEndpoints = badRecords.map(lambda s:s.endpoint)\n",
    "\n",
    "badUniqueEndpoints = badEndpoints.distinct()\n",
    "\n",
    "badUniqueEndpointsPick40 = badUniqueEndpoints.take(40)\n",
    "print('404 URLS: %s' % badUniqueEndpointsPick40)"
   ]
  },
  {
   "cell_type": "code",
   "execution_count": 39,
   "metadata": {},
   "outputs": [
    {
     "name": "stdout",
     "output_type": "stream",
     "text": [
      "Top Twenty 404 URLs: [('/pub/winvn/readme.txt', 633), ('/pub/winvn/release.txt', 494), ('/shuttle/missions/STS-69/mission-STS-69.html', 431), ('/images/nasa-logo.gif', 319), ('/elv/DELTA/uncons.htm', 178), ('/shuttle/missions/sts-68/ksc-upclose.gif', 156), ('/history/apollo/sa-1/sa-1-patch-small.gif', 146), ('/images/crawlerway-logo.gif', 120), ('/://spacelink.msfc.nasa.gov', 117), ('/history/apollo/pad-abort-test-1/pad-abort-test-1-patch-small.gif', 100), ('/history/apollo/a-001/a-001-patch-small.gif', 97), ('/images/Nasa-logo.gif', 85), ('/shuttle/resources/orbiters/atlantis.gif', 64), ('/history/apollo/images/little-joe.jpg', 62), ('/images/lf-logo.gif', 59), ('/shuttle/resources/orbiters/discovery.gif', 56), ('/shuttle/resources/orbiters/challenger.gif', 54), ('/robots.txt', 53), ('/elv/new01.gif>', 43), ('/history/apollo/pad-abort-test-2/pad-abort-test-2-patch-small.gif', 38)]\n"
     ]
    }
   ],
   "source": [
    "# the top 20 404 urls\n",
    "badEndpointsCountPairTuple = badRecords.map(lambda s:(s.endpoint,1))\n",
    "\n",
    "badEndpointsSum = badEndpointsCountPairTuple.reduceByKey(lambda a,b: a + b)\n",
    "\n",
    "badEndpointsTop20 = badEndpointsSum.takeOrdered(20,lambda s: -1 * s[1])\n",
    "print('Top Twenty 404 URLs: %s' % badEndpointsTop20)"
   ]
  },
  {
   "cell_type": "code",
   "execution_count": 40,
   "metadata": {},
   "outputs": [],
   "source": [
    "assert badEndpointsTop20 == [(u'/pub/winvn/readme.txt', 633), \n",
    "                             (u'/pub/winvn/release.txt', 494), \n",
    "                             (u'/shuttle/missions/STS-69/mission-STS-69.html', 431), \n",
    "                             (u'/images/nasa-logo.gif', 319), \n",
    "                             (u'/elv/DELTA/uncons.htm', 178), \n",
    "                             (u'/shuttle/missions/sts-68/ksc-upclose.gif', 156), \n",
    "                             (u'/history/apollo/sa-1/sa-1-patch-small.gif', 146), \n",
    "                             (u'/images/crawlerway-logo.gif', 120), (u'/://spacelink.msfc.nasa.gov', 117), \n",
    "                             (u'/history/apollo/pad-abort-test-1/pad-abort-test-1-patch-small.gif', 100),\n",
    "                             (u'/history/apollo/a-001/a-001-patch-small.gif', 97), \n",
    "                             (u'/images/Nasa-logo.gif', 85), (u'/shuttle/resources/orbiters/atlantis.gif', 64),\n",
    "                             (u'/history/apollo/images/little-joe.jpg', 62), (u'/images/lf-logo.gif', 59), \n",
    "                             (u'/shuttle/resources/orbiters/discovery.gif', 56), \n",
    "                             (u'/shuttle/resources/orbiters/challenger.gif', 54), \n",
    "                             (u'/robots.txt', 53), (u'/elv/new01.gif>', 43), \n",
    "                             (u'/history/apollo/pad-abort-test-2/pad-abort-test-2-patch-small.gif', 38)], 'incorrect badEndpointsTop20'"
   ]
  },
  {
   "cell_type": "code",
   "execution_count": 41,
   "metadata": {},
   "outputs": [
    {
     "name": "stdout",
     "output_type": "stream",
     "text": [
      "Top 25 hosts that generated errors: [('piweba3y.prodigy.com', 39), ('maz3.maz.net', 39), ('gate.barr.com', 38), ('ts8-1.westwood.ts.ucla.edu', 37), ('nexus.mlckew.edu.au', 37), ('m38-370-9.mit.edu', 37), ('204.62.245.32', 33), ('spica.sci.isas.ac.jp', 27), ('163.206.104.34', 27), ('www-d4.proxy.aol.com', 26), ('www-c4.proxy.aol.com', 25), ('203.13.168.17', 25), ('203.13.168.24', 25), ('internet-gw.watson.ibm.com', 24), ('piweba5y.prodigy.com', 23), ('scooter.pa-x.dec.com', 23), ('crl5.crl.com', 23), ('onramp2-9.onr.com', 22), ('slip145-189.ut.nl.ibm.net', 22), ('198.40.25.102.sap2.artic.edu', 21), ('gn2.getnet.com', 20), ('msp1-16.nas.mr.net', 20), ('dial055.mbnet.mb.ca', 19), ('isou24.vilspa.esa.es', 19), ('tigger.nashscene.com', 19)]\n"
     ]
    }
   ],
   "source": [
    "#  Listing the Top Twenty-five 404 Response Code Hosts\n",
    "\n",
    "errHostsCountPairTuple = badRecords.map(lambda s: (s.host,1))\n",
    "\n",
    "errHostsSum = errHostsCountPairTuple.reduceByKey(lambda a,b : a + b)\n",
    "\n",
    "errHostsTop25 = errHostsSum.takeOrdered(25, lambda x: -1 * x[1])\n",
    "print('Top 25 hosts that generated errors: %s' % errHostsTop25)"
   ]
  },
  {
   "cell_type": "code",
   "execution_count": 42,
   "metadata": {},
   "outputs": [],
   "source": [
    "assert len(errHostsTop25) == 25, 'length of errHostsTop25 is not 25'\n",
    "assert len(set(errHostsTop25) - set([(u'maz3.maz.net', 39),\n",
    "                                     (u'piweba3y.prodigy.com', 39),\n",
    "                                     (u'gate.barr.com', 38), \n",
    "                                     (u'm38-370-9.mit.edu', 37), \n",
    "                                     (u'ts8-1.westwood.ts.ucla.edu', 37),\n",
    "                                     (u'nexus.mlckew.edu.au', 37),\n",
    "                                     (u'204.62.245.32', 33), \n",
    "                                     (u'163.206.104.34', 27), \n",
    "                                     (u'spica.sci.isas.ac.jp', 27),\n",
    "                                     (u'www-d4.proxy.aol.com', 26),\n",
    "                                     (u'www-c4.proxy.aol.com', 25), \n",
    "                                     (u'203.13.168.24', 25),\n",
    "                                     (u'203.13.168.17', 25),\n",
    "                                     (u'internet-gw.watson.ibm.com', 24),\n",
    "                                     (u'scooter.pa-x.dec.com', 23), \n",
    "                                     (u'crl5.crl.com', 23), \n",
    "                                     (u'piweba5y.prodigy.com', 23),\n",
    "                                     (u'onramp2-9.onr.com', 22), (u'slip145-189.ut.nl.ibm.net', 22), \n",
    "                                     (u'198.40.25.102.sap2.artic.edu', 21), \n",
    "                                     (u'gn2.getnet.com', 20), \n",
    "                                     (u'msp1-16.nas.mr.net', 20),\n",
    "                                     (u'isou24.vilspa.esa.es', 19), \n",
    "                                     (u'dial055.mbnet.mb.ca', 19), \n",
    "                                     (u'tigger.nashscene.com', 19)])) == 0, 'incorrect errHostsTop25'\n"
   ]
  },
  {
   "cell_type": "code",
   "execution_count": 43,
   "metadata": {},
   "outputs": [
    {
     "name": "stdout",
     "output_type": "stream",
     "text": [
      "404 Errors by day: [(1, 243), (3, 303), (4, 346), (5, 234), (6, 372), (7, 532), (8, 381), (9, 279), (10, 314), (11, 263), (12, 195), (13, 216), (14, 287), (15, 326), (16, 258), (17, 269), (18, 255), (19, 207), (20, 312), (21, 305), (22, 288)]\n"
     ]
    }
   ],
   "source": [
    "# Listing 404 Response Codes per Day\n",
    "\n",
    "errDateCountPairTuple = badRecords.map(lambda x:(x.date_time.day,1))\n",
    "\n",
    "errDateSum = errDateCountPairTuple.reduceByKey( lambda a,b: a + b)\n",
    "\n",
    "errDateSorted = (errDateSum.sortByKey()\n",
    "                 .cache())\n",
    "\n",
    "errByDate = errDateSorted.collect()\n",
    "print('404 Errors by day: %s' % errByDate)"
   ]
  },
  {
   "cell_type": "code",
   "execution_count": 44,
   "metadata": {},
   "outputs": [],
   "source": [
    "assert errByDate == [(1, 243), (3, 303), (4, 346), (5, 234), (6, 372), (7, 532), \n",
    "                     (8, 381), (9, 279), (10, 314), (11, 263), (12, 195), (13, 216), \n",
    "                     (14, 287), (15, 326), (16, 258), (17, 269), (18, 255), (19, 207), \n",
    "                     (20, 312), (21, 305), (22, 288)], 'incorrect errByDate'\n",
    "assert errDateSorted.is_cached, 'incorrect errDateSorted.is_cached'"
   ]
  },
  {
   "cell_type": "markdown",
   "metadata": {},
   "source": [
    "#### Visualizing the 404 Response Codes by Day"
   ]
  },
  {
   "cell_type": "code",
   "execution_count": 45,
   "metadata": {},
   "outputs": [],
   "source": [
    "daysWithErrors404 = errDateSorted.map(lambda x: x[0]).collect()\n",
    "errors404ByDay = errDateSorted.map(lambda x: x[1]).collect()"
   ]
  },
  {
   "cell_type": "code",
   "execution_count": 46,
   "metadata": {},
   "outputs": [],
   "source": [
    "assert daysWithErrors404 == [1, 3, 4, 5, 6, 7, 8, 9, 10, 11, 12, 13, 14, 15, 16, 17, 18, 19, 20, 21, 22], 'incorrect daysWithErrors404'\n",
    "assert errors404ByDay == [243, 303, 346, 234, 372, 532, 381, 279, 314, 263, 195, 216, 287, 326, 258, 269, 255, 207, 312, 305, 288], 'incorrect errors404ByDay'"
   ]
  },
  {
   "cell_type": "code",
   "execution_count": 48,
   "metadata": {},
   "outputs": [
    {
     "data": {
      "image/png": "[encoded data removed]",
      "text/plain": [
       "<Figure size 800x420 with 1 Axes>"
      ]
     },
     "metadata": {},
     "output_type": "display_data"
    }
   ],
   "source": [
    "fig = plt.figure(figsize=(8,4.2), facecolor='white', edgecolor='white')\n",
    "plt.axis([0, max(daysWithErrors404), 0, max(errors404ByDay)])\n",
    "# plt.grid(b=True, which='major', axis='y')plt.xlabel('Day')\n",
    "plt.ylabel('404 Errors')\n",
    "plt.plot(daysWithErrors404, errors404ByDay)\n",
    "plt.show()"
   ]
  },
  {
   "cell_type": "markdown",
   "metadata": {},
   "source": [
    "#### **Hourly 404 Response Codes**\n",
    "#### Using the RDD `badRecords` you cached in the part (4a) and by hour of the day and in increasing order, create an RDD containing how many requests had a 404 return code for each hour of the day (midnight starts at 0). Cache the resulting RDD hourRecordsSorted and print that as a list."
   ]
  },
  {
   "cell_type": "code",
   "execution_count": 49,
   "metadata": {},
   "outputs": [
    {
     "name": "stdout",
     "output_type": "stream",
     "text": [
      "Top hours for 404 requests: [(0, 175), (1, 171), (2, 422), (3, 272), (4, 102), (5, 95), (6, 93), (7, 122), (8, 199), (9, 185), (10, 329), (11, 263), (12, 438), (13, 397), (14, 318), (15, 347), (16, 373), (17, 330), (18, 268), (19, 269), (20, 270), (21, 241), (22, 234), (23, 272)]\n"
     ]
    }
   ],
   "source": [
    "hourCountPairTuple = badRecords.map(lambda x:(x.date_time.hour,1))\n",
    "\n",
    "hourRecordsSum = hourCountPairTuple.reduceByKey(lambda a,b : a + b)\n",
    "\n",
    "hourRecordsSorted = (hourRecordsSum\n",
    "                     .sortByKey().cache())\n",
    "\n",
    "errHourList = hourRecordsSorted.collect()\n",
    "print('Top hours for 404 requests: %s' % errHourList)"
   ]
  },
  {
   "cell_type": "code",
   "execution_count": 50,
   "metadata": {},
   "outputs": [],
   "source": [
    "# TEST Hourly 404 response codes (4h)\n",
    "assert errHourList == [(0, 175), (1, 171), (2, 422), (3, 272), (4, 102), (5, 95), (6, 93),\n",
    "                       (7, 122), (8, 199), (9, 185), (10, 329), (11, 263), (12, 438), (13, 397), \n",
    "                       (14, 318), (15, 347), (16, 373), (17, 330), (18, 268), (19, 269), (20, 270), \n",
    "                       (21, 241), (22, 234), (23, 272)], 'incorrect errHourList'\n",
    "assert hourRecordsSorted.is_cached, 'incorrect hourRecordsSorted.is_cached'"
   ]
  },
  {
   "cell_type": "markdown",
   "metadata": {},
   "source": [
    "#### **(4i) Visualizing the 404 Response Codes by Hour**"
   ]
  },
  {
   "cell_type": "code",
   "execution_count": 51,
   "metadata": {},
   "outputs": [],
   "source": [
    "hoursWithErrors404 = hourRecordsSorted.map(lambda x: x[0]).collect()\n",
    "errors404ByHours = hourRecordsSorted.map(lambda x:x[1]).collect()"
   ]
  },
  {
   "cell_type": "code",
   "execution_count": 52,
   "metadata": {},
   "outputs": [],
   "source": [
    "assert hoursWithErrors404 == [0, 1, 2, 3, 4, 5, 6, 7, 8, 9, 10, 11, 12, 13, 14,\n",
    "                              15, 16, 17, 18, 19, 20, 21, 22, 23], 'incorrect hoursWithErrors404'\n",
    "assert errors404ByHours == [175, 171, 422, 272, 102, 95, 93, 122, 199, 185, 329, 263, 438, 397, 318, 347, \n",
    "                            373, 330, 268, 269, 270, 241, 234, 272], 'incorrect errors404ByHours'"
   ]
  },
  {
   "cell_type": "code",
   "execution_count": 55,
   "metadata": {},
   "outputs": [
    {
     "data": {
      "image/png": "[encoded data removed]",
      "text/plain": [
       "<Figure size 800x420 with 1 Axes>"
      ]
     },
     "metadata": {},
     "output_type": "display_data"
    }
   ],
   "source": [
    "fig = plt.figure(figsize=(8,4.2), facecolor='white', edgecolor='white')\n",
    "plt.axis([0, max(hoursWithErrors404), 0, max(errors404ByHours)])\n",
    "plt.ylabel('404 Errors')\n",
    "plt.plot(hoursWithErrors404, errors404ByHours)\n",
    "plt.show()"
   ]
  }
 ],
 "metadata": {
  "kernelspec": {
   "display_name": "Python 3 (ipykernel)",
   "language": "python",
   "name": "python3"
  },
  "language_info": {
   "codemirror_mode": {
    "name": "ipython",
    "version": 3
   },
   "file_extension": ".py",
   "mimetype": "text/x-python",
   "name": "python",
   "nbconvert_exporter": "python",
   "pygments_lexer": "ipython3",
   "version": "3.10.9"
  }
 },
 "nbformat": 4,
 "nbformat_minor": 2
}
