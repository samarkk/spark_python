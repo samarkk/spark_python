{
 "cells": [
  {
   "cell_type": "code",
   "execution_count": 1,
   "metadata": {},
   "outputs": [],
   "source": [
    "import os\n",
    "import sys\n",
    "os.environ['SPARK_HOME']='/home/cloudera/spark230hadoop26'\n",
    "os.environ['PYLIB']=os.environ['SPARK_HOME']+'/python/lib'\n",
    "sys.path.insert(0,os.environ['PYLIB']+'/py4j-0.10.6-src.zip')\n",
    "sys.path.insert(1,os.environ['PYLIB']+'/pyspark.zip')"
   ]
  },
  {
   "cell_type": "code",
   "execution_count": 2,
   "metadata": {},
   "outputs": [],
   "source": [
    "from pyspark.sql import SparkSession\n",
    "import pandas as pd\n",
    "import numpy as np"
   ]
  },
  {
   "cell_type": "code",
   "execution_count": 3,
   "metadata": {},
   "outputs": [],
   "source": [
    "spark = SparkSession.builder.appName('TestHive') \\\n",
    ".config('spark.warehouse.dir','/apps/hive/warehouse') \\\n",
    ".enableHiveSupport().getOrCreate()"
   ]
  },
  {
   "cell_type": "code",
   "execution_count": 4,
   "metadata": {},
   "outputs": [
    {
     "data": {
      "text/plain": [
       "'2.3.0'"
      ]
     },
     "execution_count": 4,
     "metadata": {},
     "output_type": "execute_result"
    }
   ],
   "source": [
    "# Having set the driver and driver options we should have spark representing spark session \n",
    "# available straight away\n",
    "spark.version"
   ]
  },
  {
   "cell_type": "code",
   "execution_count": 50,
   "metadata": {},
   "outputs": [],
   "source": [
    "from pyspark.sql.functions import *"
   ]
  },
  {
   "cell_type": "code",
   "execution_count": 51,
   "metadata": {},
   "outputs": [],
   "source": [
    "cm_df = spark.read.option(\n",
    "    \"inferSchema\", True).option(\n",
    "    \"header\", True).csv(\n",
    "    \"hdfs://localhost:8020/user/cloudera/findata/cm\")"
   ]
  },
  {
   "cell_type": "code",
   "execution_count": 31,
   "metadata": {},
   "outputs": [
    {
     "name": "stdout",
     "output_type": "stream",
     "text": [
      "+----------+------+----+----+-----+-----+----+---------+---------+-------------+-----------+-----------+------------+----+\n",
      "|    SYMBOL|SERIES|OPEN|HIGH|  LOW|CLOSE|LAST|PREVCLOSE|TOTTRDQTY|    TOTTRDVAL|  TIMESTAMP|TOTALTRADES|        ISIN|_c13|\n",
      "+----------+------+----+----+-----+-----+----+---------+---------+-------------+-----------+-----------+------------+----+\n",
      "| 20MICRONS|    EQ|37.8|38.9|36.55|38.05|38.2|     37.8|   182096|    6917530.0|17-OCT-2016|        877|INE144J01027|null|\n",
      "|3IINFOTECH|    EQ| 5.8| 6.1|  5.8|  6.0| 6.1|      5.8|  2345944|1.395231735E7|17-OCT-2016|        993|INE748C01020|null|\n",
      "+----------+------+----+----+-----+-----+----+---------+---------+-------------+-----------+-----------+------------+----+\n",
      "only showing top 2 rows\n",
      "\n"
     ]
    }
   ],
   "source": [
    "cm_df.show(2)"
   ]
  },
  {
   "cell_type": "code",
   "execution_count": 32,
   "metadata": {},
   "outputs": [
    {
     "name": "stdout",
     "output_type": "stream",
     "text": [
      "The cash market data frame schema\n",
      "root\n",
      " |-- SYMBOL: string (nullable = true)\n",
      " |-- SERIES: string (nullable = true)\n",
      " |-- OPEN: double (nullable = true)\n",
      " |-- HIGH: double (nullable = true)\n",
      " |-- LOW: double (nullable = true)\n",
      " |-- CLOSE: double (nullable = true)\n",
      " |-- LAST: double (nullable = true)\n",
      " |-- PREVCLOSE: double (nullable = true)\n",
      " |-- TOTTRDQTY: integer (nullable = true)\n",
      " |-- TOTTRDVAL: double (nullable = true)\n",
      " |-- TIMESTAMP: string (nullable = true)\n",
      " |-- TOTALTRADES: integer (nullable = true)\n",
      " |-- ISIN: string (nullable = true)\n",
      "\n"
     ]
    }
   ],
   "source": [
    "cmdf = cm_df.drop(\"_c13\")\n",
    "print(\"The cash market data frame schema\")\n",
    "cmdf.printSchema()"
   ]
  },
  {
   "cell_type": "code",
   "execution_count": 33,
   "metadata": {},
   "outputs": [],
   "source": [
    "fo_df = spark.read.option(\n",
    "    \"inferSchema\", True).option(\n",
    "    \"header\", True).csv(\n",
    "    \"hdfs://localhost:8020/user/cloudera/findata/fo\")"
   ]
  },
  {
   "cell_type": "code",
   "execution_count": 34,
   "metadata": {},
   "outputs": [],
   "source": [
    "fodf = fo_df.drop(\"_c15\")"
   ]
  },
  {
   "cell_type": "code",
   "execution_count": 55,
   "metadata": {},
   "outputs": [],
   "source": [
    "def mnameToNo(dt):\n",
    "    mname = dt[3:6]\n",
    "    calendar = {\"JAN\": \"01\", \"FEB\": \"02\", \"MAR\": \"03\", \"APR\": \"04\",\n",
    "      \"MAY\": \"05\", \"JUN\": \"06\", \"JUL\": \"07\", \"AUG\": \"08\", \"SEP\": \"09\", \"OCT\": \"10\",\n",
    "      \"NOV\": \"11\", \"DEC\": \"12\"}\n",
    "    return dt.replace(mname, calendar[mname])"
   ]
  },
  {
   "cell_type": "code",
   "execution_count": 56,
   "metadata": {},
   "outputs": [
    {
     "data": {
      "text/plain": [
       "'12-01-2016'"
      ]
     },
     "execution_count": 56,
     "metadata": {},
     "output_type": "execute_result"
    }
   ],
   "source": [
    "mnameToNo('12-JAN-2016')"
   ]
  },
  {
   "cell_type": "code",
   "execution_count": 57,
   "metadata": {},
   "outputs": [],
   "source": [
    "udf_mname_to_no = udf(mnameToNo)"
   ]
  },
  {
   "cell_type": "code",
   "execution_count": 58,
   "metadata": {},
   "outputs": [
    {
     "name": "stdout",
     "output_type": "stream",
     "text": [
      "+----------+---------+-----------+---------+----------+-------+-------+-------+--------+---------+---------+----------+--------+---------+-----------+\n",
      "|INSTRUMENT|   SYMBOL|  EXPIRY_DT|STRIKE_PR|OPTION_TYP|   OPEN|   HIGH|    LOW|   CLOSE|SETTLE_PR|CONTRACTS|VAL_INLAKH|OPEN_INT|CHG_IN_OI|  TIMESTAMP|\n",
      "+----------+---------+-----------+---------+----------+-------+-------+-------+--------+---------+---------+----------+--------+---------+-----------+\n",
      "|    FUTIDX|BANKNIFTY|24-Nov-2016|      0.0|        XX|18460.0|18466.8|18229.6|18263.95|  18256.1|   109639| 804002.68| 1330360|  -713040|24-NOV-2016|\n",
      "|    FUTIDX|BANKNIFTY|29-Dec-2016|      0.0|        XX|18541.0|18563.5|18352.0|18392.25| 18392.25|    68132| 502565.82| 2088480|  1132560|24-NOV-2016|\n",
      "+----------+---------+-----------+---------+----------+-------+-------+-------+--------+---------+---------+----------+--------+---------+-----------+\n",
      "only showing top 2 rows\n",
      "\n"
     ]
    }
   ],
   "source": [
    "fodf.show(2)"
   ]
  },
  {
   "cell_type": "code",
   "execution_count": 61,
   "metadata": {},
   "outputs": [
    {
     "name": "stdout",
     "output_type": "stream",
     "text": [
      "verifying that we our udf works and we can plug in to_timestamp\n",
      "+-------------------+\n",
      "|                rts|\n",
      "+-------------------+\n",
      "|2016-11-24 00:00:00|\n",
      "|2016-11-24 00:00:00|\n",
      "+-------------------+\n",
      "only showing top 2 rows\n",
      "\n"
     ]
    }
   ],
   "source": [
    "print(\"verifying that we our udf works and we can plug in to_timestamp\")\n",
    "fodf.select(to_timestamp(udf_mname_to_no(\"TIMESTAMP\"), \"dd-MM-yyyy\").alias('rts')).show(2)"
   ]
  },
  {
   "cell_type": "code",
   "execution_count": 62,
   "metadata": {},
   "outputs": [],
   "source": [
    "# register a table against it\n",
    "fodf.createOrReplaceTempView('fut_data')"
   ]
  },
  {
   "cell_type": "code",
   "execution_count": 63,
   "metadata": {},
   "outputs": [
    {
     "name": "stdout",
     "output_type": "stream",
     "text": [
      "taking a look at settlement date data\n",
      "+----------+----------+-----------+---------+----------+-------+-------+-------+--------+---------+---------+----------+--------+---------+-----------+\n",
      "|INSTRUMENT|    SYMBOL|  EXPIRY_DT|STRIKE_PR|OPTION_TYP|   OPEN|   HIGH|    LOW|   CLOSE|SETTLE_PR|CONTRACTS|VAL_INLAKH|OPEN_INT|CHG_IN_OI|  TIMESTAMP|\n",
      "+----------+----------+-----------+---------+----------+-------+-------+-------+--------+---------+---------+----------+--------+---------+-----------+\n",
      "|    FUTIDX| BANKNIFTY|24-Nov-2016|      0.0|        XX|18460.0|18466.8|18229.6|18263.95|  18256.1|   109639| 804002.68| 1330360|  -713040|24-NOV-2016|\n",
      "|    FUTIDX|     NIFTY|24-Nov-2016|      0.0|        XX| 7987.0|8018.65|7947.25|  7968.2|   7965.5|   218779|1309794.07| 9314925| -3437550|24-NOV-2016|\n",
      "|    FUTIDX|NIFTYINFRA|24-Nov-2016|      0.0|        XX|    0.0|    0.0|    0.0| 2947.85|   2671.3|        0|       0.0|       0|        0|24-NOV-2016|\n",
      "+----------+----------+-----------+---------+----------+-------+-------+-------+--------+---------+---------+----------+--------+---------+-----------+\n",
      "only showing top 3 rows\n",
      "\n"
     ]
    }
   ],
   "source": [
    "print(\"taking a look at settlement date data\")\n",
    "spark.sql(\"select * from fut_data where lower(expiry_dt) = lower(timestamp)limit 5\").show(3)"
   ]
  },
  {
   "cell_type": "code",
   "execution_count": 65,
   "metadata": {},
   "outputs": [
    {
     "name": "stdout",
     "output_type": "stream",
     "text": [
      "settlement data look using df api\n",
      "+----------+----------+-----------+---------+----------+-------+-------+-------+--------+---------+---------+----------+--------+---------+-----------+\n",
      "|INSTRUMENT|    SYMBOL|  EXPIRY_DT|STRIKE_PR|OPTION_TYP|   OPEN|   HIGH|    LOW|   CLOSE|SETTLE_PR|CONTRACTS|VAL_INLAKH|OPEN_INT|CHG_IN_OI|  TIMESTAMP|\n",
      "+----------+----------+-----------+---------+----------+-------+-------+-------+--------+---------+---------+----------+--------+---------+-----------+\n",
      "|    FUTIDX| BANKNIFTY|24-Nov-2016|      0.0|        XX|18460.0|18466.8|18229.6|18263.95|  18256.1|   109639| 804002.68| 1330360|  -713040|24-NOV-2016|\n",
      "|    FUTIDX|     NIFTY|24-Nov-2016|      0.0|        XX| 7987.0|8018.65|7947.25|  7968.2|   7965.5|   218779|1309794.07| 9314925| -3437550|24-NOV-2016|\n",
      "|    FUTIDX|NIFTYINFRA|24-Nov-2016|      0.0|        XX|    0.0|    0.0|    0.0| 2947.85|   2671.3|        0|       0.0|       0|        0|24-NOV-2016|\n",
      "|    FUTIDX|   NIFTYIT|24-Nov-2016|      0.0|        XX| 9551.0| 9716.0| 9520.0|  9647.0|  9656.25|      513|   2473.77|    8750|    -9200|24-NOV-2016|\n",
      "|    FUTIDX|NIFTYMID50|24-Nov-2016|      0.0|        XX|    0.0|    0.0|    0.0| 3848.25|   3565.6|        0|       0.0|       0|        0|24-NOV-2016|\n",
      "+----------+----------+-----------+---------+----------+-------+-------+-------+--------+---------+---------+----------+--------+---------+-----------+\n",
      "\n"
     ]
    }
   ],
   "source": [
    "print(\"settlement data look using df api\")\n",
    "fodf.where(\"lower(expiry_dt) = lower(timestamp)\").limit(5).show()"
   ]
  },
  {
   "cell_type": "markdown",
   "metadata": {},
   "source": [
    "## F&O Futures Net PL estimation\n",
    "## Lets say we have the following trades for 3/4 days\n",
    "### Day  Symbol Long/Short Qty Price  TotalOutlay  OI    CHG_OI\n",
    "###  1         X                Buy         100   20      2000           100   100\n",
    "###  2          X               Buy            50   30     3500            150     50\n",
    "###  3          X                Sell         100    10     2500            50      -100\n",
    "### Lets say close price on the third day was 12. Then further 12 x 50 needs to be deducted to find out the net settlement amount. \n",
    "### So we would have 2500 - 600 - a profit of 1900 made by the sellers\n",
    "\n",
    "## Lets check a profitable scenario for the buyers\n",
    "### Day  Symbol Long/Short Qty Price  TotalOutlay  OI    CHG_OI\n",
    "###  1         X                Buy         100   20      2000           100   100\n",
    "###  2          X               Buy            50   30     3500            150     50\n",
    "###  3          X                Sell         100    40     -500            50      -100\n",
    "### Lets say close price on the third day was 42. Then further 42 x 50 needs to be deducted to find out the net settlement amount. \n",
    "### So we would have -500-2100 - a profit of 2600 made by the buyers\n",
    "\n"
   ]
  },
  {
   "cell_type": "code",
   "execution_count": 67,
   "metadata": {},
   "outputs": [
    {
     "name": "stdout",
     "output_type": "stream",
     "text": [
      "Using sql to show overall profit loss status for f&o market\n",
      "+-----------+------+-----------+---------+-------+--------+----------+---------------+\n",
      "|timestamp  |symbol|expiry_dt  |chg_in_oi|close  |open_int|cum_chg_oi|b_s_pl_status  |\n",
      "+-----------+------+-----------+---------+-------+--------+----------+---------------+\n",
      "|01-OCT-2013|INFY  |26-Dec-2013|500      |3073.8 |875     |500       |1536900.0      |\n",
      "|01-OCT-2013|INFY  |31-Oct-2013|52125    |3035.25|2332625 |52125     |1.5821240625E8 |\n",
      "|01-OCT-2013|INFY  |28-Nov-2013|1750     |3055.75|24250   |1750      |5347562.5      |\n",
      "|03-OCT-2013|INFY  |28-Nov-2013|2500     |3074.45|26750   |4250      |1.30336875E7   |\n",
      "|03-OCT-2013|INFY  |31-Oct-2013|314875   |3057.1 |2647500 |367000    |1.12081676875E9|\n",
      "|03-OCT-2013|INFY  |26-Dec-2013|4750     |3096.35|5625    |5250      |1.62445625E7   |\n",
      "|04-OCT-2013|INFY  |28-Nov-2013|10250    |3048.2 |37000   |14500     |4.42777375E7   |\n",
      "|04-OCT-2013|INFY  |26-Dec-2013|125      |3069.5 |5750    |5375      |1.662825E7     |\n",
      "|04-OCT-2013|INFY  |31-Oct-2013|-4125    |3028.5 |2643375 |362875    |1.10832420625E9|\n",
      "|07-OCT-2013|INFY  |31-Oct-2013|201250   |3036.75|2844625 |564125    |1.71947014375E9|\n",
      "|07-OCT-2013|INFY  |26-Dec-2013|250      |3072.45|6000    |5625      |1.73963625E7   |\n",
      "|07-OCT-2013|INFY  |28-Nov-2013|8125     |3057.3 |45125   |22625     |6.91183E7      |\n",
      "|08-OCT-2013|INFY  |28-Nov-2013|2250     |3069.95|47375   |24875     |7.60256875E7   |\n",
      "|08-OCT-2013|INFY  |26-Dec-2013|125      |3085.55|6125    |5750      |1.778205625E7  |\n",
      "|08-OCT-2013|INFY  |31-Oct-2013|93625    |3048.0 |2938250 |657750    |2.00483914375E9|\n",
      "|10-OCT-2013|INFY  |26-Dec-2013|1000     |3165.4 |7500    |6750      |2.094745625E7  |\n",
      "|10-OCT-2013|INFY  |28-Nov-2013|15125    |3134.35|73250   |40000     |1.2343273125E8 |\n",
      "|10-OCT-2013|INFY  |31-Oct-2013|-185875  |3120.9 |2940625 |471875    |1.42474185625E9|\n",
      "|11-OCT-2013|INFY  |26-Dec-2013|2875     |3315.95|10375   |9625      |3.04808125E7   |\n",
      "|11-OCT-2013|INFY  |31-Oct-2013|-126875  |3273.1 |2813750 |345000    |1.00946729375E9|\n",
      "|11-OCT-2013|INFY  |28-Nov-2013|34375    |3298.35|107625  |74375     |2.368135125E8  |\n",
      "|14-OCT-2013|INFY  |31-Oct-2013|136250   |3314.3 |2950000 |481250    |1.46104066875E9|\n",
      "|14-OCT-2013|INFY  |26-Dec-2013|1875     |3363.55|12250   |11500     |3.678746875E7  |\n",
      "|14-OCT-2013|INFY  |28-Nov-2013|4875     |3339.4 |112500  |79250     |2.530930875E8  |\n",
      "|15-OCT-2013|INFY  |26-Dec-2013|1625     |3386.9 |13875   |13125     |4.229118125E7  |\n",
      "|15-OCT-2013|INFY  |31-Oct-2013|4000     |3346.05|2954000 |485250    |1.47442486875E9|\n",
      "|15-OCT-2013|INFY  |28-Nov-2013|12125    |3369.95|124625  |91375     |2.9395373125E8 |\n",
      "|17-OCT-2013|INFY  |26-Dec-2013|-250     |3335.8 |13625   |12875     |4.145723125E7  |\n",
      "|17-OCT-2013|INFY  |31-Oct-2013|-132875  |3286.55|2821125 |352375    |1.0377245375E9 |\n",
      "|17-OCT-2013|INFY  |28-Nov-2013|21125    |3310.8 |145750  |112500    |3.6389438125E8 |\n",
      "|18-OCT-2013|INFY  |31-Oct-2013|-82625   |3333.2 |2738500 |269750    |7.623188875E8  |\n",
      "|18-OCT-2013|INFY  |28-Nov-2013|9000     |3357.85|154750  |121500    |3.9411503125E8 |\n",
      "|18-OCT-2013|INFY  |26-Dec-2013|1875     |3375.45|15500   |14750     |4.77862E7      |\n",
      "|21-OCT-2013|INFY  |31-Oct-2013|-61000   |3352.4 |2677500 |208750    |5.578224875E8  |\n",
      "|21-OCT-2013|INFY  |28-Nov-2013|2375     |3373.1 |157125  |123875    |4.0212614375E8 |\n",
      "|21-OCT-2013|INFY  |26-Dec-2013|500      |3399.65|16000   |15250     |4.9486025E7    |\n",
      "|22-OCT-2013|INFY  |26-Dec-2013|2125     |3399.2 |18125   |17375     |5.6709325E7    |\n",
      "|22-OCT-2013|INFY  |31-Oct-2013|27500    |3350.9 |2705000 |236250    |6.499722375E8  |\n",
      "|22-OCT-2013|INFY  |28-Nov-2013|18250    |3377.1 |175375  |142125    |4.6375821875E8 |\n",
      "|23-OCT-2013|INFY  |31-Oct-2013|-208125  |3329.05|2496875 |28125     |-4.288629375E7 |\n",
      "|23-OCT-2013|INFY  |26-Dec-2013|3250     |3379.95|21375   |20625     |6.76941625E7   |\n",
      "|23-OCT-2013|INFY  |28-Nov-2013|42875    |3355.6 |218250  |185000    |6.0762956875E8 |\n",
      "|24-OCT-2013|INFY  |28-Nov-2013|75250    |3345.15|293500  |260250    |8.5935210625E8 |\n",
      "|24-OCT-2013|INFY  |31-Oct-2013|22125    |3318.65|2519000 |50250     |3.05388375E7   |\n",
      "|24-OCT-2013|INFY  |26-Dec-2013|1125     |3371.15|22500   |21750     |7.148670625E7  |\n",
      "|25-OCT-2013|INFY  |31-Oct-2013|-235000  |3334.8 |2284000 |-184750   |-7.531391625E8 |\n",
      "|25-OCT-2013|INFY  |28-Nov-2013|176750   |3363.6 |470250  |437000    |1.45386840625E9|\n",
      "|25-OCT-2013|INFY  |26-Dec-2013|875      |3384.05|23375   |22625     |7.444775E7     |\n",
      "|28-OCT-2013|INFY  |26-Dec-2013|1375     |3379.0 |24750   |24000     |7.9093875E7    |\n",
      "|28-OCT-2013|INFY  |31-Oct-2013|-191125  |3322.5 |2092875 |-375875   |-1.388151975E9 |\n",
      "+-----------+------+-----------+---------+-------+--------+----------+---------------+\n",
      "only showing top 50 rows\n",
      "\n"
     ]
    }
   ],
   "source": [
    "spark.udf.register(\"udf_mname_to_no\", mnameToNo)\n",
    "\n",
    "print(\"Using sql to show overall profit loss status for f&o market\")\n",
    "spark.sql(\"\"\"\n",
    "select timestamp, symbol,expiry_dt,chg_in_oi,close,open_int,\n",
    "sum(chg_in_oi)\n",
    "over (partition by symbol,expiry_dt order by to_timestamp(udf_mname_to_no(timestamp), \"dd-MM-yyyy\")) as cum_chg_oi,\n",
    "sum(chg_in_oi*close)\n",
    "over ( partition by symbol,expiry_dt order by to_timestamp(udf_mname_to_no(timestamp), \"dd-MM-yyyy\"))\n",
    "as b_s_pl_status\n",
    "from fut_data\n",
    "where instrument like 'FUT%' and symbol = 'INFY'\n",
    "order by to_timestamp(udf_mname_to_no(timestamp), \"dd-MM-yyyy\")\n",
    "\"\"\").show(50, False)"
   ]
  },
  {
   "cell_type": "code",
   "execution_count": 70,
   "metadata": {},
   "outputs": [],
   "source": [
    "# create a view with the proper timestamp column - tsp -timestamp proper\n",
    "fodfvw = fodf.withColumn(\"tsp\", to_timestamp(udf_mname_to_no(\"TIMESTAMP\"), \"dd-MM-yyyy\"))"
   ]
  },
  {
   "cell_type": "code",
   "execution_count": 84,
   "metadata": {},
   "outputs": [],
   "source": [
    "from pyspark.sql import Window\n",
    "partitionWindow = Window.partitionBy(\"symbol\", \"expiry_dt\").orderBy(\"tsp\")\n",
    "#then define the aggregation functions we are interested in over it\n",
    "sumChgoi = sum(\"CHG_IN_OI\").over(partitionWindow)\n",
    "plStatus = sum(col('CHG_IN_OI') * col('close')).over(partitionWindow)"
   ]
  },
  {
   "cell_type": "code",
   "execution_count": 88,
   "metadata": {},
   "outputs": [
    {
     "name": "stdout",
     "output_type": "stream",
     "text": [
      "window functions executed using df api\n",
      "+------+-------------------+-----------+-----------+---------+--------+-------+--------+---------------+\n",
      "|symbol|tsp                |timestamp  |expiry_dt  |chg_in_oi|open_int|close  |oitrack |plstatus       |\n",
      "+------+-------------------+-----------+-----------+---------+--------+-------+--------+---------------+\n",
      "|INFY  |2013-10-01 00:00:00|01-OCT-2013|28-Nov-2013|1750     |24250   |3055.75|7625    |6548075.0      |\n",
      "|INFY  |2013-10-01 00:00:00|01-OCT-2013|31-Oct-2013|52125    |2332625 |3035.25|372750  |1.917483375E8  |\n",
      "|INFY  |2013-10-01 00:00:00|01-OCT-2013|26-Dec-2013|500      |875     |3073.8 |500     |1536900.0      |\n",
      "|INFY  |2013-10-03 00:00:00|03-OCT-2013|28-Nov-2013|2500     |26750   |3074.45|18125   |1.587411875E7  |\n",
      "|INFY  |2013-10-03 00:00:00|03-OCT-2013|31-Oct-2013|314875   |2647500 |3057.1 |1167000 |1.19958955625E9|\n",
      "|INFY  |2013-10-03 00:00:00|03-OCT-2013|26-Dec-2013|4750     |5625    |3096.35|5250    |1.62445625E7   |\n",
      "|INFY  |2013-10-04 00:00:00|04-OCT-2013|26-Dec-2013|125      |5750    |3069.5 |5375    |1.662825E7     |\n",
      "|INFY  |2013-10-04 00:00:00|04-OCT-2013|28-Nov-2013|10250    |37000   |3048.2 |48375   |5.159578125E7  |\n",
      "|INFY  |2013-10-04 00:00:00|04-OCT-2013|31-Oct-2013|-4125    |2643375 |3028.5 |1669625 |1.22625594375E9|\n",
      "|INFY  |2013-10-07 00:00:00|07-OCT-2013|28-Nov-2013|8125     |45125   |3057.3 |70750   |7.971935625E7  |\n",
      "|INFY  |2013-10-07 00:00:00|07-OCT-2013|31-Oct-2013|201250   |2844625 |3036.75|3046625 |1.94923845E9   |\n",
      "|INFY  |2013-10-07 00:00:00|07-OCT-2013|26-Dec-2013|250      |6000    |3072.45|5625    |1.73963625E7   |\n",
      "|INFY  |2013-10-08 00:00:00|08-OCT-2013|31-Oct-2013|93625    |2938250 |3048.0 |4268750 |2.32612598125E9|\n",
      "|INFY  |2013-10-08 00:00:00|08-OCT-2013|28-Nov-2013|2250     |47375   |3069.95|90625   |9.0494775E7    |\n",
      "|INFY  |2013-10-08 00:00:00|08-OCT-2013|26-Dec-2013|125      |6125    |3085.55|5750    |1.778205625E7  |\n",
      "|INFY  |2013-10-10 00:00:00|10-OCT-2013|26-Dec-2013|1000     |7500    |3165.4 |6750    |2.094745625E7  |\n",
      "|INFY  |2013-10-10 00:00:00|10-OCT-2013|31-Oct-2013|-185875  |2940625 |3120.9 |10971875|2.2408757625E9 |\n",
      "|INFY  |2013-10-10 00:00:00|10-OCT-2013|28-Nov-2013|15125    |73250   |3134.35|174250  |1.46320125E8   |\n",
      "|INFY  |2013-10-11 00:00:00|11-OCT-2013|26-Dec-2013|2875     |10375   |3315.95|10000   |3.0496975E7    |\n",
      "|INFY  |2013-10-11 00:00:00|11-OCT-2013|31-Oct-2013|-126875  |2813750 |3273.1 |7493875 |1.67195025625E9|\n",
      "+------+-------------------+-----------+-----------+---------+--------+-------+--------+---------------+\n",
      "only showing top 20 rows\n",
      "\n"
     ]
    }
   ],
   "source": [
    "# and plug in the regular dataframe api\n",
    "print(\"window functions executed using df api\")\n",
    "fodfvw.select(\"symbol\", \"tsp\", \"timestamp\",\n",
    "    \"expiry_dt\", \"chg_in_oi\", \"open_int\", \"close\",\n",
    "    sumChgoi.alias(\"oitrack\"), plStatus.alias(\"plstatus\")).filter(\n",
    "    \"symbol = 'INFY' and instrument like 'FUT%'\").orderBy(\n",
    "    to_timestamp(udf_mname_to_no('timestamp'), \"dd-MM-yyyy\")).show(20, False)"
   ]
  },
  {
   "cell_type": "code",
   "execution_count": 89,
   "metadata": {},
   "outputs": [
    {
     "name": "stdout",
     "output_type": "stream",
     "text": [
      "status on the expiry dates for the pl situation\n",
      "+-----------+------+-----------+---------+-------+--------+----------+--------------------+\n",
      "|timestamp  |symbol|expiry_dt  |chg_in_oi|close  |open_int|cum_chg_oi|b_s_pl_status       |\n",
      "+-----------+------+-----------+---------+-------+--------+----------+--------------------+\n",
      "|31-OCT-2013|INFY  |31-Oct-2013|-405250  |3309.05|1157125 |-1311625  |-4.49664064375E9    |\n",
      "|28-NOV-2013|INFY  |28-Nov-2013|-433375  |3323.5 |560000  |526750    |1.79817521875E9     |\n",
      "|26-DEC-2013|INFY  |26-Dec-2013|-478875  |3517.05|1063000 |1062250   |3.2057007125E9      |\n",
      "|30-OCT-2014|INFY  |30-Oct-2014|-454500  |3946.4 |1602500 |-1780375  |-7.0114377125E9     |\n",
      "|27-NOV-2014|INFY  |27-Nov-2014|-349250  |4362.3 |1134125 |1113500   |3.4529359375E9      |\n",
      "|24-DEC-2014|INFY  |24-Dec-2014|-1330000 |1933.05|4312250 |-615375   |1.00962228875E10    |\n",
      "|29-OCT-2015|INFY  |29-Oct-2015|-1551750 |1144.85|2279000 |-10539250 |-1.20626163125E10   |\n",
      "|26-NOV-2015|INFY  |26-Nov-2015|-3364000 |1052.9 |2391500 |2039000   |3.2039004499999995E9|\n",
      "|31-DEC-2015|INFY  |31-Dec-2015|-1039000 |1105.4 |3311000 |3303000   |3.18483525E9        |\n",
      "|27-OCT-2016|INFY  |27-Oct-2016|-3281500 |1004.75|4325500 |-8917000  |-9.062937525E9      |\n",
      "|24-NOV-2016|INFY  |24-Nov-2016|-3383000 |930.55 |3379500 |3319000   |4.25208995E9        |\n",
      "|29-DEC-2016|INFY  |29-Dec-2016|-1712000 |993.9  |3312500 |3121500   |2.228068875E9       |\n",
      "+-----------+------+-----------+---------+-------+--------+----------+--------------------+\n",
      "\n"
     ]
    }
   ],
   "source": [
    "# here we check the status on the expiry dates for the pl situation\n",
    "print(\"status on the expiry dates for the pl situation\")\n",
    "spark.sql(\"\"\"\n",
    "select f.* from\n",
    "(\n",
    "select timestamp, symbol,expiry_dt,chg_in_oi,close,open_int,\n",
    "sum(chg_in_oi) over (partition by symbol,expiry_dt order by to_timestamp(udf_mname_to_no(timestamp), \"dd-MM-yyyy\")) as cum_chg_oi,\n",
    "sum(chg_in_oi*close) over ( partition by symbol,expiry_dt order by to_timestamp(udf_mname_to_no(timestamp), \"dd-MM-yyyy\"))\n",
    "as b_s_pl_status\n",
    "from fut_data\n",
    "where instrument like 'FUT%'\n",
    ") f\n",
    "where lower(f.expiry_dt) = lower(f.timestamp) and symbol = 'INFY'\n",
    "order by to_timestamp(udf_mname_to_no(f.timestamp), \"dd-MM-yyyy\")\n",
    "\"\"\").show(50, False)"
   ]
  },
  {
   "cell_type": "code",
   "execution_count": 91,
   "metadata": {},
   "outputs": [
    {
     "name": "stdout",
     "output_type": "stream",
     "text": [
      "verifying the extra column we added as a proper timestamp\n",
      "+----------+------+-------+-------+--------+-------+-------+---------+---------+-------------+-----------+-----------+------------+-------------------+\n",
      "|    SYMBOL|SERIES|   OPEN|   HIGH|     LOW|  CLOSE|   LAST|PREVCLOSE|TOTTRDQTY|    TOTTRDVAL|  TIMESTAMP|TOTALTRADES|        ISIN|                tsp|\n",
      "+----------+------+-------+-------+--------+-------+-------+---------+---------+-------------+-----------+-----------+------------+-------------------+\n",
      "| 20MICRONS|    EQ|   37.8|   38.9|   36.55|  38.05|   38.2|     37.8|   182096|    6917530.0|17-OCT-2016|        877|INE144J01027|2016-10-17 00:00:00|\n",
      "|3IINFOTECH|    EQ|    5.8|    6.1|     5.8|    6.0|    6.1|      5.8|  2345944|1.395231735E7|17-OCT-2016|        993|INE748C01020|2016-10-17 00:00:00|\n",
      "|   3MINDIA|    EQ|13095.0|13099.0|12964.05|12976.5|12980.0|  12992.9|      613|    7976511.3|17-OCT-2016|        130|INE470A01017|2016-10-17 00:00:00|\n",
      "|   8KMILES|    EQ|  790.0|  798.9|   766.0| 768.95|  768.0|   792.15|    40014|3.119962135E7|17-OCT-2016|       2566|INE650K01021|2016-10-17 00:00:00|\n",
      "|  A2ZINFRA|    EQ|   37.9|   37.9|    36.4|  36.75|  36.65|    37.55|   285837| 1.05952045E7|17-OCT-2016|       1989|INE619I01012|2016-10-17 00:00:00|\n",
      "+----------+------+-------+-------+--------+-------+-------+---------+---------+-------------+-----------+-----------+------------+-------------------+\n",
      "\n"
     ]
    }
   ],
   "source": [
    "# create a proper timestamp column for the cash market data\n",
    "cmdfvw = cmdf.withColumn(\n",
    "    \"tsp\",\n",
    "    to_timestamp(udf_mname_to_no(\"TIMESTAMP\"), \"dd-MM-yyyy\"))\n",
    "\n",
    "cmdfvw.createOrReplaceTempView(\"cmdata\")\n",
    "\n",
    "print(\"verifying the extra column we added as a proper timestamp\")\n",
    "cmdfvw.limit(5).show()"
   ]
  },
  {
   "cell_type": "code",
   "execution_count": 92,
   "metadata": {},
   "outputs": [
    {
     "name": "stdout",
     "output_type": "stream",
     "text": [
      "using sql to carry out window functions moving average using rows preceding\n",
      "+------+-----------+-------+------------------+------------------+\n",
      "|symbol|  timestamp|  close|            mv5avg|           mv20avg|\n",
      "+------+-----------+-------+------------------+------------------+\n",
      "|  INFY|01-JAN-2016|1105.25|           1105.25|           1105.25|\n",
      "|  INFY|04-JAN-2016| 1078.9|          1092.075|          1092.075|\n",
      "|  INFY|05-JAN-2016|1074.05|1086.0666666666666|1086.0666666666666|\n",
      "|  INFY|06-JAN-2016|1069.35|1081.8874999999998|1081.8874999999998|\n",
      "|  INFY|07-JAN-2016| 1050.8|1075.6699999999998|1075.6699999999998|\n",
      "|  INFY|08-JAN-2016| 1063.3|1073.6083333333333|1073.6083333333333|\n",
      "|  INFY|11-JAN-2016| 1055.7|           1065.35|           1071.05|\n",
      "|  INFY|12-JAN-2016|1049.95|1060.5249999999999|         1068.4125|\n",
      "|  INFY|13-JAN-2016| 1083.4|1062.0833333333333|1070.0777777777776|\n",
      "|  INFY|14-JAN-2016| 1133.0|1072.6916666666666|           1076.37|\n",
      "|  INFY|15-JAN-2016| 1139.9|1087.5416666666667|1082.1454545454544|\n",
      "|  INFY|18-JAN-2016| 1131.9|1098.9750000000001|1086.2916666666665|\n",
      "|  INFY|19-JAN-2016|1139.65|1112.9666666666665|1090.3961538461538|\n",
      "|  INFY|20-JAN-2016|1121.25|1124.8500000000001|            1092.6|\n",
      "|  INFY|21-JAN-2016|1137.05|1133.7916666666667| 1095.563333333333|\n",
      "|  INFY|22-JAN-2016|1136.25|1134.3333333333335|1098.1062499999998|\n",
      "|  INFY|25-JAN-2016|1137.65|1133.9583333333333|1100.4323529411763|\n",
      "|  INFY|27-JAN-2016| 1138.5|1135.0583333333334|1102.5472222222222|\n",
      "|  INFY|28-JAN-2016| 1129.6|1133.3833333333334|1103.9710526315787|\n",
      "|  INFY|29-JAN-2016| 1164.9|1140.6583333333335|         1107.0175|\n",
      "+------+-----------+-------+------------------+------------------+\n",
      "only showing top 20 rows\n",
      "\n"
     ]
    }
   ],
   "source": [
    "# use sql to carry out window functions moving average using rows preceding\n",
    "print(\"using sql to carry out window functions moving average using rows preceding\")\n",
    "spark.sql(\"\"\"\n",
    "select symbol, timestamp,close,\n",
    "avg(close) over(partition by symbol order by tsp rows 5 preceding )as mv5avg,\n",
    "avg(close) over(partition by symbol order by tsp rows 20 preceding )as mv20avg\n",
    "from cmdata\n",
    "where symbol = 'INFY'\n",
    "order by tsp\n",
    "\"\"\").show()"
   ]
  },
  {
   "cell_type": "code",
   "execution_count": 95,
   "metadata": {},
   "outputs": [
    {
     "name": "stdout",
     "output_type": "stream",
     "text": [
      "using dataframe api to calculate moving average\n",
      "+------+-----------+-------------------+-------+------------------+\n",
      "|symbol|  timestamp|                tsp|  close|        mvng_avg_5|\n",
      "+------+-----------+-------------------+-------+------------------+\n",
      "|  INFY|01-JAN-2016|2016-01-01 00:00:00|1105.25|           1105.25|\n",
      "|  INFY|04-JAN-2016|2016-01-04 00:00:00| 1078.9|          1092.075|\n",
      "|  INFY|05-JAN-2016|2016-01-05 00:00:00|1074.05|1086.0666666666666|\n",
      "|  INFY|06-JAN-2016|2016-01-06 00:00:00|1069.35|1081.8874999999998|\n",
      "|  INFY|07-JAN-2016|2016-01-07 00:00:00| 1050.8|1068.2749999999999|\n",
      "|  INFY|08-JAN-2016|2016-01-08 00:00:00| 1063.3|          1064.375|\n",
      "|  INFY|11-JAN-2016|2016-01-11 00:00:00| 1055.7|         1059.7875|\n",
      "|  INFY|12-JAN-2016|2016-01-12 00:00:00|1049.95|         1054.9375|\n",
      "|  INFY|13-JAN-2016|2016-01-13 00:00:00| 1083.4|         1063.0875|\n",
      "|  INFY|14-JAN-2016|2016-01-14 00:00:00| 1133.0|         1080.5125|\n",
      "|  INFY|15-JAN-2016|2016-01-15 00:00:00| 1139.9|         1101.5625|\n",
      "|  INFY|18-JAN-2016|2016-01-18 00:00:00| 1131.9|1122.0500000000002|\n",
      "|  INFY|19-JAN-2016|2016-01-19 00:00:00|1139.65|1136.1125000000002|\n",
      "|  INFY|20-JAN-2016|2016-01-20 00:00:00|1121.25|1133.1750000000002|\n",
      "|  INFY|21-JAN-2016|2016-01-21 00:00:00|1137.05|         1132.4625|\n",
      "|  INFY|22-JAN-2016|2016-01-22 00:00:00|1136.25|           1133.55|\n",
      "|  INFY|25-JAN-2016|2016-01-25 00:00:00|1137.65|1133.0500000000002|\n",
      "|  INFY|27-JAN-2016|2016-01-27 00:00:00| 1138.5|1137.3625000000002|\n",
      "|  INFY|28-JAN-2016|2016-01-28 00:00:00| 1129.6|            1135.5|\n",
      "|  INFY|29-JAN-2016|2016-01-29 00:00:00| 1164.9|         1142.6625|\n",
      "+------+-----------+-------------------+-------+------------------+\n",
      "only showing top 20 rows\n",
      "\n"
     ]
    }
   ],
   "source": [
    "# using dataframe api to calculate moving average\n",
    "print(\"using dataframe api to calculate moving average\")\n",
    "mvngAvgSpec = avg(\"close\").over(\n",
    "    Window.partitionBy(\"symbol\").orderBy(\"tsp\").rowsBetween(-3, 0))\n",
    " \n",
    "cmdfvw.select(\"symbol\", \"timestamp\", \"tsp\", \"close\",\n",
    "    mvngAvgSpec.alias(\"mvng_avg_5\")).filter(\n",
    "    \"symbol = 'INFY'\").orderBy(\n",
    "    \"tsp\").show()\n"
   ]
  },
  {
   "cell_type": "code",
   "execution_count": 96,
   "metadata": {},
   "outputs": [
    {
     "name": "stdout",
     "output_type": "stream",
     "text": [
      "using row number with sql\n",
      "+------+-----------+-------+---+\n",
      "|symbol|  timestamp|  close|rno|\n",
      "+------+-----------+-------+---+\n",
      "|  INFY|01-JAN-2016|1105.25|  1|\n",
      "|  INFY|04-JAN-2016| 1078.9|  2|\n",
      "|  INFY|05-JAN-2016|1074.05|  3|\n",
      "|  INFY|06-JAN-2016|1069.35|  4|\n",
      "|  INFY|07-JAN-2016| 1050.8|  5|\n",
      "|  INFY|08-JAN-2016| 1063.3|  6|\n",
      "|  INFY|11-JAN-2016| 1055.7|  7|\n",
      "|  INFY|12-JAN-2016|1049.95|  8|\n",
      "|  INFY|13-JAN-2016| 1083.4|  9|\n",
      "|  INFY|14-JAN-2016| 1133.0| 10|\n",
      "|  INFY|15-JAN-2016| 1139.9| 11|\n",
      "|  INFY|18-JAN-2016| 1131.9| 12|\n",
      "|  INFY|19-JAN-2016|1139.65| 13|\n",
      "|  INFY|20-JAN-2016|1121.25| 14|\n",
      "|  INFY|21-JAN-2016|1137.05| 15|\n",
      "|  INFY|22-JAN-2016|1136.25| 16|\n",
      "|  INFY|25-JAN-2016|1137.65| 17|\n",
      "|  INFY|27-JAN-2016| 1138.5| 18|\n",
      "|  INFY|28-JAN-2016| 1129.6| 19|\n",
      "|  INFY|29-JAN-2016| 1164.9| 20|\n",
      "+------+-----------+-------+---+\n",
      "only showing top 20 rows\n",
      "\n"
     ]
    }
   ],
   "source": [
    "# exercise - add on 20 days moving average\n",
    "\n",
    "# using row number\n",
    "\n",
    "print(\"using row number with sql\")\n",
    "\n",
    "spark.sql(\"\"\"\n",
    "select symbol, timestamp, close,\n",
    "row_number() over(partition by symbol order by tsp) as rno\n",
    "from cmdata\n",
    "where symbol in ('INFY', 'TCS')\"\"\").show()\n"
   ]
  },
  {
   "cell_type": "code",
   "execution_count": 97,
   "metadata": {},
   "outputs": [
    {
     "name": "stdout",
     "output_type": "stream",
     "text": [
      "dafaframe api showing row number\n",
      "+------+-----------+-------+---+\n",
      "|symbol|  timestamp|  close|rno|\n",
      "+------+-----------+-------+---+\n",
      "|  INFY|01-JAN-2016|1105.25|  1|\n",
      "|  INFY|04-JAN-2016| 1078.9|  2|\n",
      "|  INFY|05-JAN-2016|1074.05|  3|\n",
      "|  INFY|06-JAN-2016|1069.35|  4|\n",
      "|  INFY|07-JAN-2016| 1050.8|  5|\n",
      "|  INFY|08-JAN-2016| 1063.3|  6|\n",
      "|  INFY|11-JAN-2016| 1055.7|  7|\n",
      "|  INFY|12-JAN-2016|1049.95|  8|\n",
      "|  INFY|13-JAN-2016| 1083.4|  9|\n",
      "|  INFY|14-JAN-2016| 1133.0| 10|\n",
      "|  INFY|15-JAN-2016| 1139.9| 11|\n",
      "|  INFY|18-JAN-2016| 1131.9| 12|\n",
      "|  INFY|19-JAN-2016|1139.65| 13|\n",
      "|  INFY|20-JAN-2016|1121.25| 14|\n",
      "|  INFY|21-JAN-2016|1137.05| 15|\n",
      "|  INFY|22-JAN-2016|1136.25| 16|\n",
      "|  INFY|25-JAN-2016|1137.65| 17|\n",
      "|  INFY|27-JAN-2016| 1138.5| 18|\n",
      "|  INFY|28-JAN-2016| 1129.6| 19|\n",
      "|  INFY|29-JAN-2016| 1164.9| 20|\n",
      "+------+-----------+-------+---+\n",
      "only showing top 20 rows\n",
      "\n"
     ]
    }
   ],
   "source": [
    "# dafaframe api using row number\n",
    "print(\"dafaframe api showing row number\")\n",
    "rnospec = row_number().over(\n",
    "    Window.partitionBy(\"symbol\").orderBy(\n",
    "    \"tsp\"))\n",
    "\n",
    "cmdfvw.select(\"symbol\", \"timestamp\", \"close\",\n",
    "    rnospec.alias(\"rno\")).filter(\n",
    "    \"symbol in ('INFY','TCS')\").show()"
   ]
  },
  {
   "cell_type": "code",
   "execution_count": 98,
   "metadata": {},
   "outputs": [],
   "source": [
    "# creating a view that we will use to cube by year, month, day\n",
    "cmdfymdvw = cmdfvw.withColumn(\n",
    "    \"yr\", year(\"tsp\")).withColumn(\n",
    "    \"mnth\", month(\"tsp\")).withColumn(\n",
    "    \"dy\", dayofmonth(\"tsp\"))"
   ]
  },
  {
   "cell_type": "code",
   "execution_count": 99,
   "metadata": {},
   "outputs": [],
   "source": [
    "cmdfymdvw.createOrReplaceTempView(\"cb_tbl\")"
   ]
  },
  {
   "cell_type": "code",
   "execution_count": 100,
   "metadata": {},
   "outputs": [
    {
     "name": "stdout",
     "output_type": "stream",
     "text": [
      "grouping sets using sql\n",
      "+------+----+----+----+------------------+------------------+--------------------+\n",
      "|symbol|  yr|mnth|  dy|            avgcls|            avgqty|              avgval|\n",
      "+------+----+----+----+------------------+------------------+--------------------+\n",
      "|  null|2016|   4|null|1828.4243243243243|2447373.4594594594| 3.814428185441892E9|\n",
      "|  null|2016|null|null| 1759.183367556468|2264549.0985626285| 3.210636273691889E9|\n",
      "|  null|2016|   1|null|1716.7112499999998|       2548902.675|  3.56202842181875E9|\n",
      "|  null|2016|  12|null|1620.5099999999998|         1904487.8|2.5012165174449997E9|\n",
      "|  null|2016|  11|null| 1585.217857142857| 2626080.738095238|3.3161159360845237E9|\n",
      "|  null|2016|   9|null|1725.6512500000001|       2133414.525|  3.10294392830375E9|\n",
      "|  null|2016|   6|null|1894.8690476190477|2003678.5238095238| 3.098018789891667E9|\n",
      "|  null|2016|   5|null|1869.1511363636362|1635787.9318181819|2.4878617885590906E9|\n",
      "|  null|2016|   3|null|           1783.45|       2507484.225|  3.60112303849625E9|\n",
      "|  null|2016|   2|null|1710.3738095238098|1691895.6666666667| 2.380105375577381E9|\n",
      "|  null|2016|   7|null|1813.0412499999998|       3236126.975| 4.483583755581249E9|\n",
      "|  null|2016|   8|null| 1838.096590909091|2298566.1818181816| 3.244811830378409E9|\n",
      "|  null|2016|  10|null|1710.4944444444445| 2234579.361111111| 3.078179790619444E9|\n",
      "+------+----+----+----+------------------+------------------+--------------------+\n",
      "\n"
     ]
    }
   ],
   "source": [
    "# grouping sets using sql\n",
    "print(\"grouping sets using sql\")\n",
    "spark.sql(\"\"\"\n",
    "select symbol, yr, mnth, dy , avg(close) as avgcls, avg(tottrdqty) as avgqty, avg(tottrdval) as avgval from cb_tbl\n",
    "where symbol in ('INFY', 'TCS')\n",
    "group by symbol, yr, mnth, dy\n",
    "grouping sets((yr), (yr, mnth))\n",
    "\"\"\").show()"
   ]
  },
  {
   "cell_type": "code",
   "execution_count": 101,
   "metadata": {},
   "outputs": [
    {
     "name": "stdout",
     "output_type": "stream",
     "text": [
      "cube using sql\n",
      "+----------+----+----+----+------------------+------------------+--------------------+\n",
      "|    symbol|  yr|mnth|  dy|            avgcls|            avgqty|              avgval|\n",
      "+----------+----+----+----+------------------+------------------+--------------------+\n",
      "|      STAR|null|null|null|1070.5236625514403|414849.65432098764| 4.361414973613168E8|\n",
      "|HEXATRADEX|null|null|  20|            16.125|          8343.125|        139597.83125|\n",
      "|  SUNDARAM|null|null|null|3.5483539094650203| 809838.7530864198|  3392860.3639917686|\n",
      "|    RPOWER|null|null|  17|47.128571428571426|2986257.8571428573| 1.404933790357143E8|\n",
      "|TIPSINDLTD|null|null|null| 63.72325102880659|13911.024691358025|    944007.320164609|\n",
      "|     ABFRL|null|null|null|146.75089285714287| 833555.6607142857|1.2638451688214283E8|\n",
      "|    VIPIND|null|null|null|116.42489711934154|433437.25514403294|  5.23858155409465E7|\n",
      "|      CAPF|null|null|  17| 549.3428571428572| 161714.2857142857| 9.588909385714285E7|\n",
      "|VIVIMEDLAB|null|null|  17|            178.45|133133.85714285713|1.3455004785714285E7|\n",
      "|    FORTIS|null|null|  17| 169.9928571428571|1527716.2857142857| 2.754012233285714E8|\n",
      "|     ARIES|null|null|  19|106.01428571428572|50867.857142857145|   6469422.842857143|\n",
      "| ASPINWALL|null|null|  17|201.71249999999998|           1289.75|         260437.4875|\n",
      "| CELESTIAL|null|null|  19|              25.2|60691.142857142855|  1665358.2285714285|\n",
      "|NAGREEKEXP|null|null|  17|29.807142857142857| 2769.285714285714|   82305.24285714285|\n",
      "|CHEMFALKAL|null|null|  19|174.87857142857143|105451.85714285714| 1.897309212142857E7|\n",
      "|PARACABLES|null|null|null|  3.19344262295082| 42021.57786885246|   145195.1459016393|\n",
      "|GENUSPOWER|null|null|  19|48.778571428571425|365459.28571428574|1.8676444264285717E7|\n",
      "| POWERGRID|null|null|null| 160.7880658436214| 4535672.065843621| 7.308436803288065E8|\n",
      "|KALPATPOWR|null|null|  19|232.44285714285715| 75331.28571428571|1.7092955192857143E7|\n",
      "|      RIIL|null|null|  19|             413.4|362663.85714285716|1.4802039022857144E8|\n",
      "+----------+----+----+----+------------------+------------------+--------------------+\n",
      "only showing top 20 rows\n",
      "\n"
     ]
    }
   ],
   "source": [
    "#cube using sql\n",
    "print(\"cube using sql\")\n",
    "spark.sql(\"\"\"\n",
    "select symbol,yr,mnth,dy,\n",
    "avg(close) as avgcls,\n",
    "avg(tottrdqty) as avgqty,\n",
    "avg(tottrdval) as avgval\n",
    "from cb_tbl\n",
    "group by symbol,yr,mnth,dy with cube\n",
    "order by yr ,mnth\"\"\").show()"
   ]
  },
  {
   "cell_type": "code",
   "execution_count": 103,
   "metadata": {},
   "outputs": [
    {
     "name": "stdout",
     "output_type": "stream",
     "text": [
      "cube using dafaframe api\n",
      "+----------+----+----+---+--------+-----------+--------------+\n",
      "|    symbol|  yr|mnth| dy|  avgcls|     avgqty|     tottrdval|\n",
      "+----------+----+----+---+--------+-----------+--------------+\n",
      "|       ADI|2016|  10| 17|   493.3|     9548.0|    4673864.75|\n",
      "|BLUESTARCO|2016|  10| 17|  574.15|    66800.0| 3.860295415E7|\n",
      "|    CONCOR|2016|  10| 17|  1321.4|    91679.0| 1.227066093E8|\n",
      "|     CREST|2016|  10| 17|    63.5|     4286.0|     272480.45|\n",
      "| MUKANDLTD|2016|  10| 17|  33.725|    18937.0|   1208659.925|\n",
      "|SHRIRAMCIT|2016|  10| 17|1431.446|     3188.2|   7252266.686|\n",
      "|   SPENTEX|2016|  10| 17|    7.25|    34466.0|     244910.75|\n",
      "|THANGAMAYL|2016|  10| 17|  238.75|    15200.0|    3610708.15|\n",
      "|   VOLTAMP|2016|  10| 17|   798.4|    13919.0|   1.1186215E7|\n",
      "|  DECCANCE|2016|  10| 19| 1156.55|     8495.0|     9951963.6|\n",
      "|    ECLERX|2016|  10| 19| 1632.35|    57633.0|  9.42413545E7|\n",
      "|INDIAGLYCO|2016|  10| 19|   135.5|   195117.0|  2.66427313E7|\n",
      "|      VEDL|2016|  10| 19|   198.5|1.0003851E7|1.9879997534E9|\n",
      "|AJANTPHARM|2016|  10| 20| 1971.65|   195640.0|3.8470883635E8|\n",
      "|ANDHRSUGAR|2016|  10| 20|   222.0|    72043.0| 1.620016025E7|\n",
      "|     GEPIL|2016|  10| 20|  505.95|    26184.0| 1.329046315E7|\n",
      "|       HCG|2016|  10| 20|   231.5|    60026.0| 1.391293245E7|\n",
      "|KAJARIACER|2016|  10| 20|   659.7|  1399812.0|9.5689044295E8|\n",
      "|KIRLOSBROS|2016|  10| 20|   176.5|    29244.0|     5186180.2|\n",
      "|   MANINDS|2016|  10| 20|   57.15|   685099.0| 3.910919425E7|\n",
      "+----------+----+----+---+--------+-----------+--------------+\n",
      "only showing top 20 rows\n",
      "\n"
     ]
    }
   ],
   "source": [
    "# cube using dafaframe api\n",
    "print(\"cube using dafaframe api\")\n",
    "cmdfymdvw.cube(\"symbol\", \"yr\", \"mnth\", \"dy\").agg(\n",
    "      avg(\"close\").alias(\"avgcls\"),\n",
    "      avg(\"tottrdqty\").alias(\"avgqty\"),\n",
    "      avg(\"tottrdval\").alias(\"tottrdval\")).show()"
   ]
  },
  {
   "cell_type": "code",
   "execution_count": 107,
   "metadata": {},
   "outputs": [
    {
     "name": "stdout",
     "output_type": "stream",
     "text": [
      "cube - see the overall aggregates\n",
      "+------+----+----+---+------------------+------------------+--------------------+\n",
      "|symbol|  yr|mnth| dy|            avgcls|            avgqty|           tottrdval|\n",
      "+------+----+----+---+------------------+------------------+--------------------+\n",
      "|  null|null|null| 15| 498.0799863945573| 634404.2633408919|1.2038941464620414E8|\n",
      "|  null|2016|   7| 26| 512.8960454002394| 811648.6666666666| 1.404206025329032E8|\n",
      "|  null|null|  11| 23| 512.5913321385904|514992.37096774194|1.1107890112371586E8|\n",
      "|  null|null|   3|  8|473.69639902676397| 659031.6198296837|1.0881725103006685E8|\n",
      "|  null|2016|   4| 26| 498.2777498467199| 533269.0331085224| 1.120971077546228E8|\n",
      "|  null|null|  12| 23| 501.8199111374399| 432640.1623222749| 9.043732604127386E7|\n",
      "|  null|2016|  12|  5|  510.057899408284| 401353.9514792899| 8.532174424066271E7|\n",
      "|  null|2016|null| 28|502.73386404652086| 632680.0222578704|1.2539030228138427E8|\n",
      "|  null|2016|   7| 28| 513.5367046135411| 920008.1449970042|1.7927346669360116E8|\n",
      "|  null|null|   6| 15|494.11086450030666| 690459.3923973023|1.0173871321584895E8|\n",
      "|  null|null|   8| 24|          513.2388| 531720.8185074627| 1.097693484646207E8|\n",
      "|  null|2016|   3| 28| 466.9635968617981| 509486.1822570911|1.0507038249861807E8|\n",
      "|  null|2016|   3|  8|473.69639902676397| 659031.6198296837|1.0881725103006685E8|\n",
      "|  null|null|   5|  3| 492.0667973055717| 566734.4696876913|1.1273504166981024E8|\n",
      "|  null|2016|   9| 16| 529.9435764705889| 835389.9088235294|1.8637719668535307E8|\n",
      "|  null|2016|   8|  3| 529.6607164179106|  597811.063880597|1.2669011115618515E8|\n",
      "|  null|null|   1| 21|  476.298455836937| 634792.2804200123| 1.116873788601174E8|\n",
      "|  null|null|   1| 20| 467.2466832298144| 636821.7881987578|1.1219934865258399E8|\n",
      "|  null|2016|   7| 25| 517.0919214753122| 690936.9143367043|1.2738758448825732E8|\n",
      "|  null|null|   1| 18| 475.6981741233369| 662658.4347037484|1.1113575365475194E8|\n",
      "+------+----+----+---+------------------+------------------+--------------------+\n",
      "only showing top 20 rows\n",
      "\n"
     ]
    }
   ],
   "source": [
    "# cube - see the overall aggregates\n",
    "print(\"cube - see the overall aggregates\")\n",
    "cmdfymdvw.cube(\"symbol\", \"yr\", \"mnth\", \"dy\"). agg(\n",
    "      avg(\"close\").alias(\"avgcls\"),\n",
    "      avg(\"tottrdqty\").alias(\"avgqty\"),\n",
    "      avg(\"tottrdval\").alias(\"tottrdval\")).filter(\n",
    "    isnull(\"symbol\")).show()"
   ]
  },
  {
   "cell_type": "code",
   "execution_count": 108,
   "metadata": {},
   "outputs": [
    {
     "name": "stdout",
     "output_type": "stream",
     "text": [
      "rolling using sql\n",
      "+------+----+----+----+---------+-----------+-----------------+\n",
      "|symbol|  yr|mnth|  dy|   avgcls|     avgqty|           avgval|\n",
      "+------+----+----+----+---------+-----------+-----------------+\n",
      "|  INFY|null|null|null|1107.0175|  3913439.3|4.3725684664475E9|\n",
      "|  null|null|null|null|1107.0175|  3913439.3|4.3725684664475E9|\n",
      "|  INFY|2016|null|null|1107.0175|  3913439.3|4.3725684664475E9|\n",
      "|  INFY|2016|   1|null|1107.0175|  3913439.3|4.3725684664475E9|\n",
      "|  INFY|2016|   1|   1|  1105.25|   903275.0|   9.9643325865E8|\n",
      "|  INFY|2016|   1|   4|   1078.9|  1987681.0|  2.16223078375E9|\n",
      "|  INFY|2016|   1|   5|  1074.05|  2474893.0|  2.65597546075E9|\n",
      "|  INFY|2016|   1|   6|  1069.35|  2794164.0|   2.9829102378E9|\n",
      "|  INFY|2016|   1|   7|   1050.8|  2647044.0|   2.7992557204E9|\n",
      "|  INFY|2016|   1|   8|   1063.3|  1578358.0|  1.67552198635E9|\n",
      "|  INFY|2016|   1|  11|   1055.7|  2680311.0|   2.8350194513E9|\n",
      "|  INFY|2016|   1|  12|  1049.95|  3282606.0|  3.43550012205E9|\n",
      "|  INFY|2016|   1|  13|   1083.4|  4375647.0|   4.6976260382E9|\n",
      "|  INFY|2016|   1|  14|   1133.0|1.5113503E7| 1.70598274366E10|\n",
      "|  INFY|2016|   1|  15|   1139.9|  6518307.0|  7.48193716295E9|\n",
      "|  INFY|2016|   1|  18|   1131.9|  5033306.0|  5.76083330525E9|\n",
      "|  INFY|2016|   1|  19|  1139.65|  3750218.0|  4.28722545985E9|\n",
      "|  INFY|2016|   1|  20|  1121.25|  3753999.0|  4.23399610255E9|\n",
      "|  INFY|2016|   1|  21|  1137.05|  3371500.0|   3.8207746237E9|\n",
      "|  INFY|2016|   1|  22|  1136.25|  3218009.0|  3.66687962835E9|\n",
      "+------+----+----+----+---------+-----------+-----------------+\n",
      "only showing top 20 rows\n",
      "\n"
     ]
    }
   ],
   "source": [
    "# rolling using sql\n",
    "print(\"rolling using sql\")\n",
    "spark.sql(\"\"\"\n",
    "select symbol,yr,mnth,dy,\n",
    "avg(close) as avgcls, avg(tottrdqty) as avgqty,\n",
    "avg(tottrdval) as avgval from cb_tbl\n",
    "where symbol = 'INFY' and mnth = 1\n",
    "group by symbol,yr,mnth,dy with rollup\n",
    "order by yr ,mnth, dy\"\"\").show()"
   ]
  },
  {
   "cell_type": "code",
   "execution_count": 130,
   "metadata": {},
   "outputs": [
    {
     "name": "stdout",
     "output_type": "stream",
     "text": [
      "+------+----------+-----------+-----------+---------+----------+--------------+\n",
      "|symbol|instrument|expiry_dt  |timestamp  |chg_in_oi|cum_chg_oi|b_s_pl_status |\n",
      "+------+----------+-----------+-----------+---------+----------+--------------+\n",
      "|INFY  |FUTSTK    |26-Feb-2015|01-DEC-2014|9000     |9000      |3.93615E7     |\n",
      "|INFY  |FUTSTK    |26-Feb-2015|02-DEC-2014|250      |9250      |3.99044875E7  |\n",
      "|INFY  |FUTSTK    |26-Feb-2015|03-DEC-2014|1250     |10500     |4.25919875E7  |\n",
      "|INFY  |FUTSTK    |26-Feb-2015|08-DEC-2014|1750     |19000     |4.4271175E7   |\n",
      "|INFY  |FUTSTK    |26-Feb-2015|09-DEC-2014|1000     |20500     |4.62811375E7  |\n",
      "|INFY  |FUTSTK    |26-Feb-2015|10-DEC-2014|10250    |32750     |6.69580375E7  |\n",
      "|INFY  |FUTSTK    |26-Feb-2015|11-DEC-2014|250      |34500     |6.74921625E7  |\n",
      "|INFY  |FUTSTK    |26-Feb-2015|12-DEC-2014|500      |35250     |6.84884625E7  |\n",
      "|INFY  |FUTSTK    |26-Feb-2015|15-DEC-2014|500      |36000     |6.9472975E7   |\n",
      "|INFY  |FUTSTK    |26-Feb-2015|17-DEC-2014|3250     |38000     |7.351735E7    |\n",
      "|INFY  |FUTSTK    |26-Feb-2015|23-DEC-2014|4500     |39250     |7.60007375E7  |\n",
      "|INFY  |FUTSTK    |26-Feb-2015|24-DEC-2014|7250     |49500     |9.05536875E7  |\n",
      "|INFY  |FUTSTK    |26-Feb-2015|28-NOV-2014|7625     |74875     |1.1881218125E8|\n",
      "|INFY  |FUTSTK    |26-Feb-2015|29-DEC-2014|1250     |79375     |1.2141130625E8|\n",
      "|INFY  |FUTSTK    |26-Feb-2015|31-DEC-2014|6250     |87125     |1.3115253125E8|\n",
      "+------+----------+-----------+-----------+---------+----------+--------------+\n",
      "\n"
     ]
    }
   ],
   "source": [
    "# Here we take a look at cumulative, rolling profit\n",
    "# status for buyers and sellers\n",
    "# We can consider a positive value to indicate that buyers made a profit\n",
    "# as the sale price was more than the buy one\n",
    "# and vice versa that the short side was in profit if we have a negative figure\n",
    "spark.sql('select symbol, instrument, expiry_dt, timestamp, chg_in_oi, \\\n",
    "        sum(chg_in_oi) over ( \\\n",
    "        partition by symbol,expiry_dt \\\n",
    "        order by udf_mname_to_no(timestamp) \\\n",
    "        ) as cum_chg_oi,\\\n",
    "        sum(chg_in_oi * close) over ( \\\n",
    "        partition by symbol,expiry_dt \\\n",
    "        order by udf_mname_to_no(timestamp) \\\n",
    "        ) as b_s_pl_status \\\n",
    "          from fut_data ').filter(\n",
    "    \"symbol = 'INFY' and expiry_dt = '26-Feb-2015' \\\n",
    "    and chg_in_oi > 0 and instrument='FUTSTK'\").orderBy('timestamp').show(300, False)"
   ]
  },
  {
   "cell_type": "code",
   "execution_count": 133,
   "metadata": {},
   "outputs": [
    {
     "name": "stdout",
     "output_type": "stream",
     "text": [
      "+----------------------------+\n",
      "|substring(10-jan-2014, 4, 3)|\n",
      "+----------------------------+\n",
      "|                         jan|\n",
      "+----------------------------+\n",
      "\n"
     ]
    }
   ],
   "source": [
    "spark.sql(\"select substring('10-jan-2014',4, 3)\").show()"
   ]
  },
  {
   "cell_type": "code",
   "execution_count": 140,
   "metadata": {},
   "outputs": [
    {
     "name": "stdout",
     "output_type": "stream",
     "text": [
      "+------+-----------+-----------+---------+----------+--------+-------------+\n",
      "|symbol|  expiry_dt|  timestamp|chg_in_oi|cum_chg_oi|open_int|b_s_pl_status|\n",
      "+------+-----------+-----------+---------+----------+--------+-------------+\n",
      "|  ALBK|24-Dec-2014|24-DEC-2014| -3018000|  -2972000| 1372000|  -9.485959E8|\n",
      "|  ALBK|24-Dec-2014|24-DEC-2014|        0|  -2972000|       0|  -7.772331E8|\n",
      "|  ALBK|24-Dec-2014|24-DEC-2014|        0|  -2972000|       0|  -7.772331E8|\n",
      "|  ALBK|24-Dec-2014|24-DEC-2014|        0|  -2972000|       0|  -7.772331E8|\n",
      "|  ALBK|24-Dec-2014|24-DEC-2014|        0|  -2972000|       0|  -7.772331E8|\n",
      "|  ALBK|24-Dec-2014|24-DEC-2014|    -2000|  -2972000|    2000|  -7.773014E8|\n",
      "|  ALBK|24-Dec-2014|24-DEC-2014|        0|  -2972000|    4000|  -7.773457E8|\n",
      "|  ALBK|24-Dec-2014|24-DEC-2014|        0|  -2972000|    2000|  -7.772931E8|\n",
      "|  ALBK|24-Dec-2014|24-DEC-2014|        0|  -2972000|    4000|  -7.773095E8|\n",
      "|  ALBK|24-Dec-2014|24-DEC-2014|   -10000|  -2972000|   24000|  -7.775811E8|\n",
      "|  ALBK|24-Dec-2014|24-DEC-2014|    12000|  -2972000|  166000|  -7.787769E8|\n",
      "|  ALBK|24-Dec-2014|24-DEC-2014|   -72000|  -2972000|  256000|  -7.784619E8|\n",
      "|  ALBK|24-Dec-2014|24-DEC-2014|   -12000|  -2972000|  604000|  -7.772935E8|\n",
      "|  ALBK|24-Dec-2014|24-DEC-2014|    30000|  -2972000|  874000|  -7.772768E8|\n",
      "|  ALBK|24-Dec-2014|24-DEC-2014|        0|  -2972000|  552000|  -7.772607E8|\n",
      "|  ALBK|24-Dec-2014|24-DEC-2014|    -2000|  -2972000|  420000|  -7.772541E8|\n",
      "|  ALBK|24-Dec-2014|24-DEC-2014|    -4000|  -2972000|  132000|  -7.772397E8|\n",
      "|  ALBK|24-Dec-2014|24-DEC-2014|        0|  -2972000|  152000|  -7.772407E8|\n",
      "|  ALBK|24-Dec-2014|24-DEC-2014|        0|  -2972000|   30000|  -7.772346E8|\n",
      "|  ALBK|24-Dec-2014|24-DEC-2014|        0|  -2972000|    2000|  -7.772332E8|\n",
      "+------+-----------+-----------+---------+----------+--------+-------------+\n",
      "only showing top 20 rows\n",
      "\n"
     ]
    }
   ],
   "source": [
    "spark.sql('select f.* from \\\n",
    "( \\\n",
    "        select symbol,expiry_dt,timestamp,chg_in_oi, \\\n",
    "        sum(chg_in_oi) over ( \\\n",
    "        partition by symbol,expiry_dt \\\n",
    "        order by udf_mname_to_no(timestamp) \\\n",
    "        ) as cum_chg_oi,\\\n",
    "        open_int, \\\n",
    "        sum(chg_in_oi*close) over ( \\\n",
    "        partition by symbol,expiry_dt \\\n",
    "        order by udf_mname_to_no(timestamp) \\\n",
    "        ) - open_int * close  as b_s_pl_status \\\n",
    "          from fut_data \\\n",
    " ) f where lower(f.timestamp) = lower(f.expiry_dt) ').show()"
   ]
  }
 ],
 "metadata": {
  "kernelspec": {
   "display_name": "Python 3",
   "language": "python",
   "name": "python3"
  },
  "language_info": {
   "codemirror_mode": {
    "name": "ipython",
    "version": 3
   },
   "file_extension": ".py",
   "mimetype": "text/x-python",
   "name": "python",
   "nbconvert_exporter": "python",
   "pygments_lexer": "ipython3",
   "version": "3.6.5"
  }
 },
 "nbformat": 4,
 "nbformat_minor": 2
}
