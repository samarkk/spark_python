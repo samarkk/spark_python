{
 "cells": [
  {
   "cell_type": "code",
   "execution_count": 1,
   "metadata": {},
   "outputs": [],
   "source": [
    "import os\n",
    "import sys\n",
    "os.environ['SPARK_HOME']='D:/spark330hdp3sc3'\n",
    "os.environ['PYLIB']=os.environ['SPARK_HOME']+'/python/lib'\n",
    "sys.path.insert(0,os.environ['PYLIB']+'/py4j-0.10.9.5-src.zip')\n",
    "sys.path.insert(1,os.environ['PYLIB']+'/pyspark.zip')"
   ]
  },
  {
   "cell_type": "code",
   "execution_count": 2,
   "metadata": {},
   "outputs": [],
   "source": [
    "from pyspark.sql import SparkSession\n",
    "import pandas as pd\n",
    "import numpy as np"
   ]
  },
  {
   "cell_type": "code",
   "execution_count": 3,
   "metadata": {},
   "outputs": [],
   "source": [
    "spark = SparkSession.builder.appName('FOCMAnalysis') \\\n",
    ".config('spark.warehouse.dir','/apps/hive/warehouse') \\\n",
    ".config('hive.metastore.uris', 'thrift://localhost:9083') \\\n",
    ".enableHiveSupport().getOrCreate()"
   ]
  },
  {
   "cell_type": "code",
   "execution_count": 4,
   "metadata": {},
   "outputs": [
    {
     "data": {
      "text/plain": [
       "'3.3.0'"
      ]
     },
     "execution_count": 4,
     "metadata": {},
     "output_type": "execute_result"
    }
   ],
   "source": [
    "# Having set the driver and driver options we should have spark representing spark session \n",
    "# available straight away\n",
    "spark.version"
   ]
  },
  {
   "cell_type": "code",
   "execution_count": 5,
   "metadata": {},
   "outputs": [],
   "source": [
    "from pyspark.sql.functions import *\n",
    "cm_data_location = 'D:/findataf/cm_sample_data'\n",
    "fo_data_location = 'D:/findataf/fo_sample_data'"
   ]
  },
  {
   "cell_type": "code",
   "execution_count": 40,
   "metadata": {},
   "outputs": [],
   "source": [
    "cm_df = spark.read.option(\n",
    "    \"inferSchema\", True).option(\n",
    "    \"header\", True).csv(cm_data_location)"
   ]
  },
  {
   "cell_type": "code",
   "execution_count": 41,
   "metadata": {},
   "outputs": [
    {
     "name": "stdout",
     "output_type": "stream",
     "text": [
      "+----------+------+-----+-----+-----+-----+-----+---------+---------+---------+-----------+-----------+------------+----+\n",
      "|    SYMBOL|SERIES| OPEN| HIGH|  LOW|CLOSE| LAST|PREVCLOSE|TOTTRDQTY|TOTTRDVAL|  TIMESTAMP|TOTALTRADES|        ISIN|_c13|\n",
      "+----------+------+-----+-----+-----+-----+-----+---------+---------+---------+-----------+-----------+------------+----+\n",
      "|182D070324|    TB| 96.0| 96.0| 96.0| 96.0| 96.0|    96.62|      100|   9600.0|11-SEP-2023|          1|IN002023Y243|null|\n",
      "|182D071223|    TB|97.87|97.87|97.87|97.87|97.87|    97.87|      100|   9787.0|11-SEP-2023|          1|IN002023Y102|null|\n",
      "+----------+------+-----+-----+-----+-----+-----+---------+---------+---------+-----------+-----------+------------+----+\n",
      "only showing top 2 rows\n",
      "\n"
     ]
    }
   ],
   "source": [
    "cm_df.show(2)"
   ]
  },
  {
   "cell_type": "code",
   "execution_count": 42,
   "metadata": {},
   "outputs": [
    {
     "name": "stdout",
     "output_type": "stream",
     "text": [
      "The cash market data frame schema\n",
      "root\n",
      " |-- SYMBOL: string (nullable = true)\n",
      " |-- SERIES: string (nullable = true)\n",
      " |-- OPEN: double (nullable = true)\n",
      " |-- HIGH: double (nullable = true)\n",
      " |-- LOW: double (nullable = true)\n",
      " |-- CLOSE: double (nullable = true)\n",
      " |-- LAST: double (nullable = true)\n",
      " |-- PREVCLOSE: double (nullable = true)\n",
      " |-- TOTTRDQTY: integer (nullable = true)\n",
      " |-- TOTTRDVAL: double (nullable = true)\n",
      " |-- TIMESTAMP: string (nullable = true)\n",
      " |-- TOTALTRADES: integer (nullable = true)\n",
      " |-- ISIN: string (nullable = true)\n",
      "\n"
     ]
    }
   ],
   "source": [
    "cmdf = cm_df.drop(\"_c13\")\n",
    "print(\"The cash market data frame schema\")\n",
    "cmdf.printSchema()"
   ]
  },
  {
   "cell_type": "code",
   "execution_count": 9,
   "metadata": {},
   "outputs": [],
   "source": [
    "fo_df = spark.read.option(\n",
    "    \"inferSchema\", True).option(\n",
    "    \"header\", True).csv(fo_data_location)"
   ]
  },
  {
   "cell_type": "code",
   "execution_count": 14,
   "metadata": {},
   "outputs": [
    {
     "name": "stdout",
     "output_type": "stream",
     "text": [
      "+----------+---------+-----------+---------+----------+--------+-------+--------+--------+---------+---------+----------+--------+---------+-----------+----+\n",
      "|INSTRUMENT|   SYMBOL|  EXPIRY_DT|STRIKE_PR|OPTION_TYP|    OPEN|   HIGH|     LOW|   CLOSE|SETTLE_PR|CONTRACTS|VAL_INLAKH|OPEN_INT|CHG_IN_OI|  TIMESTAMP|_c15|\n",
      "+----------+---------+-----------+---------+----------+--------+-------+--------+--------+---------+---------+----------+--------+---------+-----------+----+\n",
      "|    FUTIDX|BANKNIFTY|27-Jul-2023|      0.0|        XX|46201.05|46500.0|45541.65|45654.75|  45679.3|   203561|1400924.45|  604725|  -543540|27-JUL-2023|null|\n",
      "|    FUTIDX|BANKNIFTY|31-Aug-2023|      0.0|        XX| 46419.9|46486.1| 45829.7|45986.45| 45986.45|   181369|1254975.82| 1884000|   344535|27-JUL-2023|null|\n",
      "+----------+---------+-----------+---------+----------+--------+-------+--------+--------+---------+---------+----------+--------+---------+-----------+----+\n",
      "only showing top 2 rows\n",
      "\n"
     ]
    }
   ],
   "source": [
    "fo_df.show(2)"
   ]
  },
  {
   "cell_type": "code",
   "execution_count": 15,
   "metadata": {},
   "outputs": [],
   "source": [
    "fodf = fo_df.drop(\"_c15\")"
   ]
  },
  {
   "cell_type": "code",
   "execution_count": 16,
   "metadata": {},
   "outputs": [],
   "source": [
    "def mnameToNo(dt):\n",
    "    mname = dt[3:6].upper()\n",
    "    calendar = {\"JAN\": \"01\", \"FEB\": \"02\", \"MAR\": \"03\", \"APR\": \"04\",\n",
    "      \"MAY\": \"05\", \"JUN\": \"06\", \"JUL\": \"07\", \"AUG\": \"08\", \"SEP\": \"09\", \"OCT\": \"10\",\n",
    "      \"NOV\": \"11\", \"DEC\": \"12\"}\n",
    "    return dt.replace(mname, calendar[mname])"
   ]
  },
  {
   "cell_type": "code",
   "execution_count": 17,
   "metadata": {},
   "outputs": [
    {
     "data": {
      "text/plain": [
       "'12-06-2023'"
      ]
     },
     "execution_count": 17,
     "metadata": {},
     "output_type": "execute_result"
    }
   ],
   "source": [
    "mnameToNo('12-JUN-2023')"
   ]
  },
  {
   "cell_type": "code",
   "execution_count": 18,
   "metadata": {},
   "outputs": [],
   "source": [
    "udf_mname_to_no = udf(mnameToNo)"
   ]
  },
  {
   "cell_type": "code",
   "execution_count": 19,
   "metadata": {},
   "outputs": [
    {
     "name": "stdout",
     "output_type": "stream",
     "text": [
      "+----------+---------+-----------+---------+----------+--------+-------+--------+--------+---------+---------+----------+--------+---------+-----------+\n",
      "|INSTRUMENT|   SYMBOL|  EXPIRY_DT|STRIKE_PR|OPTION_TYP|    OPEN|   HIGH|     LOW|   CLOSE|SETTLE_PR|CONTRACTS|VAL_INLAKH|OPEN_INT|CHG_IN_OI|  TIMESTAMP|\n",
      "+----------+---------+-----------+---------+----------+--------+-------+--------+--------+---------+---------+----------+--------+---------+-----------+\n",
      "|    FUTIDX|BANKNIFTY|27-Jul-2023|      0.0|        XX|46201.05|46500.0|45541.65|45654.75|  45679.3|   203561|1400924.45|  604725|  -543540|27-JUL-2023|\n",
      "|    FUTIDX|BANKNIFTY|31-Aug-2023|      0.0|        XX| 46419.9|46486.1| 45829.7|45986.45| 45986.45|   181369|1254975.82| 1884000|   344535|27-JUL-2023|\n",
      "+----------+---------+-----------+---------+----------+--------+-------+--------+--------+---------+---------+----------+--------+---------+-----------+\n",
      "only showing top 2 rows\n",
      "\n"
     ]
    }
   ],
   "source": [
    "fodf.show(2)"
   ]
  },
  {
   "cell_type": "code",
   "execution_count": 20,
   "metadata": {},
   "outputs": [
    {
     "name": "stdout",
     "output_type": "stream",
     "text": [
      "verifying that we our udf works and we can plug in to_timestamp\n",
      "+-------------------+\n",
      "|                rts|\n",
      "+-------------------+\n",
      "|2023-07-27 00:00:00|\n",
      "|2023-07-27 00:00:00|\n",
      "+-------------------+\n",
      "only showing top 2 rows\n",
      "\n"
     ]
    }
   ],
   "source": [
    "print(\"verifying that we our udf works and we can plug in to_timestamp\")\n",
    "fodf.select(to_timestamp(udf_mname_to_no(\"TIMESTAMP\"), \"dd-MM-yyyy\").alias('rts')).show(2)"
   ]
  },
  {
   "cell_type": "code",
   "execution_count": 21,
   "metadata": {},
   "outputs": [],
   "source": [
    "# register a table against it\n",
    "fodf.createOrReplaceTempView('fut_data')"
   ]
  },
  {
   "cell_type": "code",
   "execution_count": 22,
   "metadata": {},
   "outputs": [
    {
     "name": "stdout",
     "output_type": "stream",
     "text": [
      "taking a look at settlement date data\n",
      "+----------+---------+-----------+---------+----------+--------+--------+--------+--------+---------+---------+----------+--------+---------+-----------+\n",
      "|INSTRUMENT|   SYMBOL|  EXPIRY_DT|STRIKE_PR|OPTION_TYP|    OPEN|    HIGH|     LOW|   CLOSE|SETTLE_PR|CONTRACTS|VAL_INLAKH|OPEN_INT|CHG_IN_OI|  TIMESTAMP|\n",
      "+----------+---------+-----------+---------+----------+--------+--------+--------+--------+---------+---------+----------+--------+---------+-----------+\n",
      "|    FUTIDX|BANKNIFTY|27-Jul-2023|      0.0|        XX|46201.05| 46500.0|45541.65|45654.75|  45679.3|   203561|1400924.45|  604725|  -543540|27-JUL-2023|\n",
      "|    FUTIDX|    NIFTY|27-Jul-2023|      0.0|        XX| 19840.2|19872.35| 19600.0| 19646.9|  19659.9|   137340|1354819.67| 2547150| -2361800|27-JUL-2023|\n",
      "|    FUTSTK| AARTIIND|27-Jul-2023|      0.0|        XX|   466.0|   468.5|   456.7|  459.55|   460.25|     5201|  24113.93|  499000| -2971000|27-JUL-2023|\n",
      "+----------+---------+-----------+---------+----------+--------+--------+--------+--------+---------+---------+----------+--------+---------+-----------+\n",
      "only showing top 3 rows\n",
      "\n"
     ]
    }
   ],
   "source": [
    "print(\"taking a look at settlement date data\")\n",
    "spark.sql(\"select * from fut_data where lower(expiry_dt) = lower(timestamp)limit 5\").show(3)"
   ]
  },
  {
   "cell_type": "code",
   "execution_count": 23,
   "metadata": {},
   "outputs": [
    {
     "name": "stdout",
     "output_type": "stream",
     "text": [
      "settlement data look using df api\n",
      "+----------+----------+-----------+---------+----------+--------+--------+--------+--------+---------+---------+----------+--------+---------+-----------+\n",
      "|INSTRUMENT|    SYMBOL|  EXPIRY_DT|STRIKE_PR|OPTION_TYP|    OPEN|    HIGH|     LOW|   CLOSE|SETTLE_PR|CONTRACTS|VAL_INLAKH|OPEN_INT|CHG_IN_OI|  TIMESTAMP|\n",
      "+----------+----------+-----------+---------+----------+--------+--------+--------+--------+---------+---------+----------+--------+---------+-----------+\n",
      "|    FUTIDX| BANKNIFTY|27-Jul-2023|      0.0|        XX|46201.05| 46500.0|45541.65|45654.75|  45679.3|   203561|1400924.45|  604725|  -543540|27-JUL-2023|\n",
      "|    FUTIDX|     NIFTY|27-Jul-2023|      0.0|        XX| 19840.2|19872.35| 19600.0| 19646.9|  19659.9|   137340|1354819.67| 2547150| -2361800|27-JUL-2023|\n",
      "|    FUTSTK|  AARTIIND|27-Jul-2023|      0.0|        XX|   466.0|   468.5|   456.7|  459.55|   460.25|     5201|  24113.93|  499000| -2971000|27-JUL-2023|\n",
      "|    FUTSTK|       ABB|27-Jul-2023|      0.0|        XX|  4428.8|  4485.7|  4377.0| 4410.25|   4400.1|     1789|  19795.82|   69000|  -149500|27-JUL-2023|\n",
      "|    FUTSTK|ABBOTINDIA|27-Jul-2023|      0.0|        XX|22984.85| 23838.3| 22882.7|23586.75|  23704.0|      642|   6006.08|    2920|    -8680|27-JUL-2023|\n",
      "+----------+----------+-----------+---------+----------+--------+--------+--------+--------+---------+---------+----------+--------+---------+-----------+\n",
      "\n"
     ]
    }
   ],
   "source": [
    "print(\"settlement data look using df api\")\n",
    "fodf.where(\"lower(expiry_dt) = lower(timestamp)\").limit(5).show()"
   ]
  },
  {
   "cell_type": "markdown",
   "metadata": {},
   "source": [
    "## F&O Futures Net PL estimation\n",
    "## Lets say we have the following trades for 3/4 days\n",
    "### Day  Symbol Long/Short Qty Price  TotalOutlay  OI    CHG_OI\n",
    "###  1         X                Buy         100   20      2000           100   100\n",
    "###  2          X               Buy            50   30     3500            150     50\n",
    "###  3          X                Sell         100    10     2500            50      -100\n",
    "### Lets say close price on the third day was 12. Then further 12 x 50 needs to be deducted to find out the net settlement amount. \n",
    "### So we would have 2500 - 600 - a profit of 1900 made by the sellers\n",
    "\n",
    "## Lets check a profitable scenario for the buyers\n",
    "### Day  Symbol Long/Short Qty Price  TotalOutlay  OI    CHG_OI\n",
    "###  1         X                Buy         100   20      2000           100   100\n",
    "###  2          X               Buy            50   30     3500            150     50\n",
    "###  3          X                Sell         100    40     -500            50      -100\n",
    "### Lets say close price on the third day was 42. Then further 42 x 50 needs to be deducted to find out the net settlement amount. \n",
    "### So we would have -500-2100 - a profit of 2600 made by the buyers\n",
    "\n"
   ]
  },
  {
   "cell_type": "code",
   "execution_count": 26,
   "metadata": {},
   "outputs": [
    {
     "name": "stdout",
     "output_type": "stream",
     "text": [
      "Using sql to show overall profit loss status for f&o market\n",
      "+-----------+------+-----------+---------+-------+--------+----------+--------------+\n",
      "|timestamp  |symbol|expiry_dt  |chg_in_oi|close  |open_int|cum_chg_oi|b_s_pl_status |\n",
      "+-----------+------+-----------+---------+-------+--------+----------+--------------+\n",
      "|30-JUN-2023|INFY  |28-Sep-2023|44000    |1364.55|44000   |44000     |6.00402E7     |\n",
      "|03-JUL-2023|INFY  |28-Sep-2023|57200    |1359.65|101200  |101200    |1.3781218E8   |\n",
      "|04-JUL-2023|INFY  |28-Sep-2023|23200    |1369.85|124400  |124400    |1.695927E8    |\n",
      "|05-JUL-2023|INFY  |28-Sep-2023|13600    |1370.75|138000  |138000    |1.882349E8    |\n",
      "|06-JUL-2023|INFY  |28-Sep-2023|21600    |1371.05|159600  |159600    |2.1784958E8   |\n",
      "|07-JUL-2023|INFY  |28-Sep-2023|50800    |1352.5 |210400  |210400    |2.8655658E8   |\n",
      "|10-JUL-2023|INFY  |28-Sep-2023|6000     |1353.35|216400  |216400    |2.9467668E8   |\n",
      "|11-JUL-2023|INFY  |28-Sep-2023|-4400    |1370.3 |212000  |212000    |2.8864736E8   |\n",
      "|12-JUL-2023|INFY  |28-Sep-2023|27600    |1358.05|239600  |239600    |3.2612954E8   |\n",
      "|13-JUL-2023|INFY  |28-Sep-2023|-36000   |1385.65|203600  |203600    |2.7624614E8   |\n",
      "|14-JUL-2023|INFY  |28-Sep-2023|-39200   |1444.5 |164400  |164400    |2.1962174E8   |\n",
      "|17-JUL-2023|INFY  |28-Sep-2023|74800    |1443.9 |239200  |239200    |3.2762546E8   |\n",
      "|18-JUL-2023|INFY  |28-Sep-2023|-6400    |1493.7 |232800  |232800    |3.1806578E8   |\n",
      "|19-JUL-2023|INFY  |28-Sep-2023|3600     |1493.5 |236400  |236400    |3.2344238E8   |\n",
      "|20-JUL-2023|INFY  |28-Sep-2023|82400    |1465.45|318800  |318800    |4.4419546E8   |\n",
      "|21-JUL-2023|INFY  |28-Sep-2023|462000   |1352.95|780800  |780800    |1.06925836E9  |\n",
      "|24-JUL-2023|INFY  |28-Sep-2023|24400    |1358.1 |805200  |805200    |1.102396E9    |\n",
      "|25-JUL-2023|INFY  |28-Sep-2023|98800    |1357.35|904000  |904000    |1.23650218E9  |\n",
      "|26-JUL-2023|INFY  |28-Sep-2023|28800    |1368.9 |932800  |932800    |1.2759265E9   |\n",
      "|27-JUL-2023|INFY  |28-Sep-2023|74800    |1377.05|1007600 |1007600   |1.37892984E9  |\n",
      "|28-JUL-2023|INFY  |28-Sep-2023|160800   |1359.45|1168400 |1168400   |1.5975294E9   |\n",
      "|31-JUL-2023|INFY  |28-Sep-2023|49200    |1376.2 |1217600 |1217600   |1.66523844E9  |\n",
      "|01-AUG-2023|INFY  |28-Sep-2023|46400    |1385.75|1264000 |1264000   |1.72953724E9  |\n",
      "|02-AUG-2023|INFY  |28-Sep-2023|78400    |1375.85|1342400 |1342400   |1.83740388E9  |\n",
      "|03-AUG-2023|INFY  |28-Sep-2023|-2800    |1381.55|1339600 |1339600   |1.83353554E9  |\n",
      "|04-AUG-2023|INFY  |28-Sep-2023|11200    |1393.8 |1350800 |1350800   |1.8491461E9   |\n",
      "|07-AUG-2023|INFY  |28-Sep-2023|92400    |1407.8 |1443200 |1443200   |1.97922682E9  |\n",
      "|08-AUG-2023|INFY  |28-Sep-2023|17200    |1404.0 |1460400 |1460400   |2.00337562E9  |\n",
      "|09-AUG-2023|INFY  |28-Sep-2023|15600    |1408.1 |1476000 |1476000   |2.02534198E9  |\n",
      "|10-AUG-2023|INFY  |28-Sep-2023|33600    |1403.15|1509600 |1509600   |2.07248782E9  |\n",
      "|11-AUG-2023|INFY  |28-Sep-2023|176400   |1387.95|1686000 |1686000   |2.3173222E9   |\n",
      "|14-AUG-2023|INFY  |28-Sep-2023|87600    |1404.95|1773600 |1773600   |2.44039582E9  |\n",
      "|16-AUG-2023|INFY  |28-Sep-2023|117600   |1428.9 |1891200 |1891200   |2.60843446E9  |\n",
      "|17-AUG-2023|INFY  |28-Sep-2023|126000   |1423.9 |2017200 |2017200   |2.78784586E9  |\n",
      "|18-AUG-2023|INFY  |28-Sep-2023|108000   |1401.3 |2125200 |2125200   |2.93918626E9  |\n",
      "|21-AUG-2023|INFY  |28-Sep-2023|76800    |1416.1 |2202000 |2202000   |3.04794274E9  |\n",
      "|22-AUG-2023|INFY  |28-Sep-2023|-4400    |1413.95|2197600 |2197600   |3.04172136E9  |\n",
      "|23-AUG-2023|INFY  |28-Sep-2023|185200   |1420.45|2382800 |2382800   |3.3047887E9   |\n",
      "|24-AUG-2023|INFY  |28-Sep-2023|405200   |1433.0 |2788000 |2788000   |3.8854403E9   |\n",
      "|25-AUG-2023|INFY  |28-Sep-2023|650000   |1428.15|3438000 |3438000   |4.8137378E9   |\n",
      "|28-AUG-2023|INFY  |28-Sep-2023|3925200  |1424.7 |7363200 |7363200   |1.040597024E10|\n",
      "|29-AUG-2023|INFY  |28-Sep-2023|5637600  |1427.45|13000800|13000800  |1.845336236E10|\n",
      "|30-AUG-2023|INFY  |28-Sep-2023|5247600  |1442.55|18248400|18248400  |2.602328774E10|\n",
      "|31-AUG-2023|INFY  |28-Sep-2023|6147200  |1445.2 |24395600|24395600  |3.490722118E10|\n",
      "|01-SEP-2023|INFY  |28-Sep-2023|-690800  |1448.9 |23704800|23704800  |3.390632106E10|\n",
      "|04-SEP-2023|INFY  |28-Sep-2023|-214400  |1472.7 |23490400|23490400  |3.359057418E10|\n",
      "|05-SEP-2023|INFY  |28-Sep-2023|-332800  |1483.05|23157600|23157600  |3.309701514E10|\n",
      "|06-SEP-2023|INFY  |28-Sep-2023|-769200  |1481.25|22388400|22388400  |3.195763764E10|\n",
      "|07-SEP-2023|INFY  |28-Sep-2023|-654800  |1473.85|21733600|21733600  |3.099256066E10|\n",
      "|08-SEP-2023|INFY  |28-Sep-2023|-223200  |1474.2 |21510400|21510400  |3.066351922E10|\n",
      "|11-SEP-2023|INFY  |28-Sep-2023|-332000  |1480.25|21178400|21178400  |3.017207622E10|\n",
      "|12-SEP-2023|INFY  |28-Sep-2023|443600   |1504.7 |21622000|21622000  |3.083956114E10|\n",
      "|13-SEP-2023|INFY  |28-Sep-2023|82400    |1499.85|21704400|21704400  |3.096314878E10|\n",
      "|14-SEP-2023|INFY  |28-Sep-2023|637200   |1508.3 |22341600|22341600  |3.192423754E10|\n",
      "|15-SEP-2023|INFY  |28-Sep-2023|36800    |1515.15|22378400|22378400  |3.197999506E10|\n",
      "|18-SEP-2023|INFY  |28-Sep-2023|-1378400 |1492.05|21000000|21000000  |2.992335334E10|\n",
      "|20-SEP-2023|INFY  |28-Sep-2023|-1045200 |1492.1 |19954800|19954800  |2.836381042E10|\n",
      "|21-SEP-2023|INFY  |28-Sep-2023|188000   |1497.85|20142800|20142800  |2.864540622E10|\n",
      "|22-SEP-2023|INFY  |28-Sep-2023|-493200  |1495.0 |19649600|19649600  |2.790807222E10|\n",
      "|25-SEP-2023|INFY  |28-Sep-2023|-2316000 |1475.0 |17333600|17333600  |2.449197222E10|\n",
      "|26-SEP-2023|INFY  |28-Sep-2023|-5924800 |1462.75|11408800|11408800  |1.582547102E10|\n",
      "|27-SEP-2023|INFY  |28-Sep-2023|-4448000 |1465.5 |6960800 |6960800   |9.30692702E9  |\n",
      "|28-SEP-2023|INFY  |28-Sep-2023|-4058000 |1442.95|2902800 |2902800   |3.45143592E9  |\n",
      "+-----------+------+-----------+---------+-------+--------+----------+--------------+\n",
      "\n"
     ]
    }
   ],
   "source": [
    "spark.udf.register(\"udf_mname_to_no\", mnameToNo)\n",
    "\n",
    "print(\"Using sql to show overall profit loss status for f&o market\")\n",
    "spark.sql(\"\"\"\n",
    "select timestamp, symbol,expiry_dt,chg_in_oi,close,open_int,\n",
    "sum(chg_in_oi)\n",
    "over (partition by symbol,expiry_dt, option_typ order by to_timestamp(udf_mname_to_no(timestamp), \"dd-MM-yyyy\")) as cum_chg_oi,\n",
    "sum(chg_in_oi*close)\n",
    "over ( partition by symbol,expiry_dt, option_typ order by to_timestamp(udf_mname_to_no(timestamp), \"dd-MM-yyyy\"))\n",
    "as b_s_pl_status\n",
    "from fut_data\n",
    "where instrument like 'FUT%' and symbol = 'INFY' and expiry_dt = '28-Sep-2023'\n",
    "order by to_timestamp(udf_mname_to_no(timestamp), \"dd-MM-yyyy\")\n",
    "\"\"\").show(100, False)"
   ]
  },
  {
   "cell_type": "code",
   "execution_count": 27,
   "metadata": {},
   "outputs": [],
   "source": [
    "# create a view with the proper timestamp column - tsp -timestamp proper\n",
    "fodfvw = fodf.withColumn(\"tsp\", to_timestamp(udf_mname_to_no(\"TIMESTAMP\"), \"dd-MM-yyyy\"))"
   ]
  },
  {
   "cell_type": "code",
   "execution_count": 28,
   "metadata": {},
   "outputs": [],
   "source": [
    "from pyspark.sql import Window\n",
    "window_spec = Window.partitionBy(\"symbol\", \"expiry_dt\", \"instrument\").orderBy(\"tsp\")\n",
    "#then define the aggregation functions we are interested in over it\n",
    "sumChgoi = sum(col(\"chg_in_oi\")).over(window_spec)\n",
    "plStatus = sum(col('chg_in_oi') * col('close')).over(window_spec)"
   ]
  },
  {
   "cell_type": "code",
   "execution_count": 29,
   "metadata": {},
   "outputs": [
    {
     "name": "stdout",
     "output_type": "stream",
     "text": [
      "window functions executed using df api\n",
      "+-------------------+------+-----------+---------+-------+--------+----------+--------------+\n",
      "|tsp                |symbol|expiry_dt  |chg_in_oi|close  |open_int|cum_chg_oi|b_s_pl_status |\n",
      "+-------------------+------+-----------+---------+-------+--------+----------+--------------+\n",
      "|2023-06-30 00:00:00|INFY  |28-Sep-2023|44000    |1364.55|44000   |44000     |6.00402E7     |\n",
      "|2023-07-03 00:00:00|INFY  |28-Sep-2023|57200    |1359.65|101200  |101200    |1.3781218E8   |\n",
      "|2023-07-04 00:00:00|INFY  |28-Sep-2023|23200    |1369.85|124400  |124400    |1.695927E8    |\n",
      "|2023-07-05 00:00:00|INFY  |28-Sep-2023|13600    |1370.75|138000  |138000    |1.882349E8    |\n",
      "|2023-07-06 00:00:00|INFY  |28-Sep-2023|21600    |1371.05|159600  |159600    |2.1784958E8   |\n",
      "|2023-07-07 00:00:00|INFY  |28-Sep-2023|50800    |1352.5 |210400  |210400    |2.8655658E8   |\n",
      "|2023-07-10 00:00:00|INFY  |28-Sep-2023|6000     |1353.35|216400  |216400    |2.9467668E8   |\n",
      "|2023-07-11 00:00:00|INFY  |28-Sep-2023|-4400    |1370.3 |212000  |212000    |2.8864736E8   |\n",
      "|2023-07-12 00:00:00|INFY  |28-Sep-2023|27600    |1358.05|239600  |239600    |3.2612954E8   |\n",
      "|2023-07-13 00:00:00|INFY  |28-Sep-2023|-36000   |1385.65|203600  |203600    |2.7624614E8   |\n",
      "|2023-07-14 00:00:00|INFY  |28-Sep-2023|-39200   |1444.5 |164400  |164400    |2.1962174E8   |\n",
      "|2023-07-17 00:00:00|INFY  |28-Sep-2023|74800    |1443.9 |239200  |239200    |3.2762546E8   |\n",
      "|2023-07-18 00:00:00|INFY  |28-Sep-2023|-6400    |1493.7 |232800  |232800    |3.1806578E8   |\n",
      "|2023-07-19 00:00:00|INFY  |28-Sep-2023|3600     |1493.5 |236400  |236400    |3.2344238E8   |\n",
      "|2023-07-20 00:00:00|INFY  |28-Sep-2023|82400    |1465.45|318800  |318800    |4.4419546E8   |\n",
      "|2023-07-21 00:00:00|INFY  |28-Sep-2023|462000   |1352.95|780800  |780800    |1.06925836E9  |\n",
      "|2023-07-24 00:00:00|INFY  |28-Sep-2023|24400    |1358.1 |805200  |805200    |1.102396E9    |\n",
      "|2023-07-25 00:00:00|INFY  |28-Sep-2023|98800    |1357.35|904000  |904000    |1.23650218E9  |\n",
      "|2023-07-26 00:00:00|INFY  |28-Sep-2023|28800    |1368.9 |932800  |932800    |1.2759265E9   |\n",
      "|2023-07-27 00:00:00|INFY  |28-Sep-2023|74800    |1377.05|1007600 |1007600   |1.37892984E9  |\n",
      "|2023-07-28 00:00:00|INFY  |28-Sep-2023|160800   |1359.45|1168400 |1168400   |1.5975294E9   |\n",
      "|2023-07-31 00:00:00|INFY  |28-Sep-2023|49200    |1376.2 |1217600 |1217600   |1.66523844E9  |\n",
      "|2023-08-01 00:00:00|INFY  |28-Sep-2023|46400    |1385.75|1264000 |1264000   |1.72953724E9  |\n",
      "|2023-08-02 00:00:00|INFY  |28-Sep-2023|78400    |1375.85|1342400 |1342400   |1.83740388E9  |\n",
      "|2023-08-03 00:00:00|INFY  |28-Sep-2023|-2800    |1381.55|1339600 |1339600   |1.83353554E9  |\n",
      "|2023-08-04 00:00:00|INFY  |28-Sep-2023|11200    |1393.8 |1350800 |1350800   |1.8491461E9   |\n",
      "|2023-08-07 00:00:00|INFY  |28-Sep-2023|92400    |1407.8 |1443200 |1443200   |1.97922682E9  |\n",
      "|2023-08-08 00:00:00|INFY  |28-Sep-2023|17200    |1404.0 |1460400 |1460400   |2.00337562E9  |\n",
      "|2023-08-09 00:00:00|INFY  |28-Sep-2023|15600    |1408.1 |1476000 |1476000   |2.02534198E9  |\n",
      "|2023-08-10 00:00:00|INFY  |28-Sep-2023|33600    |1403.15|1509600 |1509600   |2.07248782E9  |\n",
      "|2023-08-11 00:00:00|INFY  |28-Sep-2023|176400   |1387.95|1686000 |1686000   |2.3173222E9   |\n",
      "|2023-08-14 00:00:00|INFY  |28-Sep-2023|87600    |1404.95|1773600 |1773600   |2.44039582E9  |\n",
      "|2023-08-16 00:00:00|INFY  |28-Sep-2023|117600   |1428.9 |1891200 |1891200   |2.60843446E9  |\n",
      "|2023-08-17 00:00:00|INFY  |28-Sep-2023|126000   |1423.9 |2017200 |2017200   |2.78784586E9  |\n",
      "|2023-08-18 00:00:00|INFY  |28-Sep-2023|108000   |1401.3 |2125200 |2125200   |2.93918626E9  |\n",
      "|2023-08-21 00:00:00|INFY  |28-Sep-2023|76800    |1416.1 |2202000 |2202000   |3.04794274E9  |\n",
      "|2023-08-22 00:00:00|INFY  |28-Sep-2023|-4400    |1413.95|2197600 |2197600   |3.04172136E9  |\n",
      "|2023-08-23 00:00:00|INFY  |28-Sep-2023|185200   |1420.45|2382800 |2382800   |3.3047887E9   |\n",
      "|2023-08-24 00:00:00|INFY  |28-Sep-2023|405200   |1433.0 |2788000 |2788000   |3.8854403E9   |\n",
      "|2023-08-25 00:00:00|INFY  |28-Sep-2023|650000   |1428.15|3438000 |3438000   |4.8137378E9   |\n",
      "|2023-08-28 00:00:00|INFY  |28-Sep-2023|3925200  |1424.7 |7363200 |7363200   |1.040597024E10|\n",
      "|2023-08-29 00:00:00|INFY  |28-Sep-2023|5637600  |1427.45|13000800|13000800  |1.845336236E10|\n",
      "|2023-08-30 00:00:00|INFY  |28-Sep-2023|5247600  |1442.55|18248400|18248400  |2.602328774E10|\n",
      "|2023-08-31 00:00:00|INFY  |28-Sep-2023|6147200  |1445.2 |24395600|24395600  |3.490722118E10|\n",
      "|2023-09-01 00:00:00|INFY  |28-Sep-2023|-690800  |1448.9 |23704800|23704800  |3.390632106E10|\n",
      "|2023-09-04 00:00:00|INFY  |28-Sep-2023|-214400  |1472.7 |23490400|23490400  |3.359057418E10|\n",
      "|2023-09-05 00:00:00|INFY  |28-Sep-2023|-332800  |1483.05|23157600|23157600  |3.309701514E10|\n",
      "|2023-09-06 00:00:00|INFY  |28-Sep-2023|-769200  |1481.25|22388400|22388400  |3.195763764E10|\n",
      "|2023-09-07 00:00:00|INFY  |28-Sep-2023|-654800  |1473.85|21733600|21733600  |3.099256066E10|\n",
      "|2023-09-08 00:00:00|INFY  |28-Sep-2023|-223200  |1474.2 |21510400|21510400  |3.066351922E10|\n",
      "|2023-09-11 00:00:00|INFY  |28-Sep-2023|-332000  |1480.25|21178400|21178400  |3.017207622E10|\n",
      "|2023-09-12 00:00:00|INFY  |28-Sep-2023|443600   |1504.7 |21622000|21622000  |3.083956114E10|\n",
      "|2023-09-13 00:00:00|INFY  |28-Sep-2023|82400    |1499.85|21704400|21704400  |3.096314878E10|\n",
      "|2023-09-14 00:00:00|INFY  |28-Sep-2023|637200   |1508.3 |22341600|22341600  |3.192423754E10|\n",
      "|2023-09-15 00:00:00|INFY  |28-Sep-2023|36800    |1515.15|22378400|22378400  |3.197999506E10|\n",
      "|2023-09-18 00:00:00|INFY  |28-Sep-2023|-1378400 |1492.05|21000000|21000000  |2.992335334E10|\n",
      "|2023-09-20 00:00:00|INFY  |28-Sep-2023|-1045200 |1492.1 |19954800|19954800  |2.836381042E10|\n",
      "|2023-09-21 00:00:00|INFY  |28-Sep-2023|188000   |1497.85|20142800|20142800  |2.864540622E10|\n",
      "|2023-09-22 00:00:00|INFY  |28-Sep-2023|-493200  |1495.0 |19649600|19649600  |2.790807222E10|\n",
      "|2023-09-25 00:00:00|INFY  |28-Sep-2023|-2316000 |1475.0 |17333600|17333600  |2.449197222E10|\n",
      "|2023-09-26 00:00:00|INFY  |28-Sep-2023|-5924800 |1462.75|11408800|11408800  |1.582547102E10|\n",
      "|2023-09-27 00:00:00|INFY  |28-Sep-2023|-4448000 |1465.5 |6960800 |6960800   |9.30692702E9  |\n",
      "|2023-09-28 00:00:00|INFY  |28-Sep-2023|-4058000 |1442.95|2902800 |2902800   |3.45143592E9  |\n",
      "+-------------------+------+-----------+---------+-------+--------+----------+--------------+\n",
      "\n"
     ]
    }
   ],
   "source": [
    "# and plug in the regular dataframe api\n",
    "print(\"window functions executed using df api\")\n",
    "fodfvw.select( \"tsp\",\"symbol\", \n",
    "    \"expiry_dt\", \"chg_in_oi\", \"close\", \"open_int\",\n",
    "    sumChgoi.alias(\"cum_chg_oi\"), plStatus.alias(\"b_s_pl_status\")).filter(\n",
    "    \"symbol = 'INFY' and instrument like 'FUT%' and expiry_dt = '28-Sep-2023'\").orderBy(\"tsp\").show(100, False)"
   ]
  },
  {
   "cell_type": "code",
   "execution_count": 30,
   "metadata": {},
   "outputs": [
    {
     "name": "stdout",
     "output_type": "stream",
     "text": [
      "status on the expiry dates for the pl situation\n",
      "+-----------+------+-----------+---------+-------+--------+----------+--------------+\n",
      "|timestamp  |symbol|expiry_dt  |chg_in_oi|close  |open_int|cum_chg_oi|b_s_pl_status |\n",
      "+-----------+------+-----------+---------+-------+--------+----------+--------------+\n",
      "|28-JUN-2023|INFY  |28-Jun-2023|-10016000|1289.9 |1361600 |-10016000 |-1.29196384E10|\n",
      "|27-JUL-2023|INFY  |27-Jul-2023|-4154800 |1353.8 |1466800 |149600    |-2.25148718E9 |\n",
      "|31-AUG-2023|INFY  |31-Aug-2023|-5136400 |1436.05|6224000 |6010400   |7.00869112E9  |\n",
      "|28-SEP-2023|INFY  |28-Sep-2023|-4058000 |1442.95|2902800 |2902800   |3.45143592E9  |\n",
      "+-----------+------+-----------+---------+-------+--------+----------+--------------+\n",
      "\n"
     ]
    }
   ],
   "source": [
    "# here we check the status on the expiry dates for the pl situation\n",
    "print(\"status on the expiry dates for the pl situation\")\n",
    "spark.sql(\"\"\"\n",
    "select f.* from\n",
    "(\n",
    "select timestamp, symbol,expiry_dt,chg_in_oi,close,open_int,\n",
    "sum(chg_in_oi) over (partition by symbol,expiry_dt, option_typ \n",
    "order by to_timestamp(udf_mname_to_no(timestamp), \"dd-MM-yyyy\")) as cum_chg_oi,\n",
    "sum(chg_in_oi*close) over ( partition by symbol,expiry_dt, option_typ \n",
    "order by to_timestamp(udf_mname_to_no(timestamp), \"dd-MM-yyyy\"))\n",
    "as b_s_pl_status\n",
    "from fut_data\n",
    "where instrument like 'FUT%'\n",
    ") f\n",
    "where lower(f.expiry_dt) = lower(f.timestamp) and symbol = 'INFY'\n",
    "order by to_timestamp(udf_mname_to_no(f.timestamp), \"dd-MM-yyyy\")\n",
    "\"\"\").show(50, False)"
   ]
  },
  {
   "cell_type": "code",
   "execution_count": 43,
   "metadata": {},
   "outputs": [
    {
     "name": "stdout",
     "output_type": "stream",
     "text": [
      "verifying the extra column we added as a proper timestamp\n",
      "+----------+------+-----+-----+-----+-----+-----+---------+---------+---------+-----------+-----------+------------+-------------------+\n",
      "|SYMBOL    |SERIES|OPEN |HIGH |LOW  |CLOSE|LAST |PREVCLOSE|TOTTRDQTY|TOTTRDVAL|TIMESTAMP  |TOTALTRADES|ISIN        |tsp                |\n",
      "+----------+------+-----+-----+-----+-----+-----+---------+---------+---------+-----------+-----------+------------+-------------------+\n",
      "|182D070324|TB    |96.0 |96.0 |96.0 |96.0 |96.0 |96.62    |100      |9600.0   |11-SEP-2023|1          |IN002023Y243|2023-09-11 00:00:00|\n",
      "|182D071223|TB    |97.87|97.87|97.87|97.87|97.87|97.87    |100      |9787.0   |11-SEP-2023|1          |IN002023Y102|2023-09-11 00:00:00|\n",
      "|182D121023|TB    |99.23|99.25|99.23|99.25|99.25|99.23    |1700     |168721.0 |11-SEP-2023|2          |IN002023Y029|2023-09-11 00:00:00|\n",
      "|182D161123|TB    |98.55|98.55|98.55|98.55|98.55|98.45    |300      |29565.0  |11-SEP-2023|1          |IN002023Y078|2023-09-11 00:00:00|\n",
      "|182D220923|TB    |99.63|99.9 |99.55|99.64|99.6 |99.63    |5700     |567526.0 |11-SEP-2023|5          |IN002022Y526|2023-09-11 00:00:00|\n",
      "+----------+------+-----+-----+-----+-----+-----+---------+---------+---------+-----------+-----------+------------+-------------------+\n",
      "only showing top 5 rows\n",
      "\n"
     ]
    }
   ],
   "source": [
    "# create a proper timestamp column for the cash market data\n",
    "cmdfvw = cmdf.withColumn(\n",
    "    \"tsp\",\n",
    "    to_timestamp(udf_mname_to_no(\"TIMESTAMP\"), \"dd-MM-yyyy\"))\n",
    "\n",
    "cmdfvw.createOrReplaceTempView(\"cmdata\")\n",
    "\n",
    "print(\"verifying the extra column we added as a proper timestamp\")\n",
    "cmdfvw.show(5, False)"
   ]
  },
  {
   "cell_type": "code",
   "execution_count": 45,
   "metadata": {},
   "outputs": [
    {
     "name": "stdout",
     "output_type": "stream",
     "text": [
      "using sql to carry out window functions moving average using rows preceding\n",
      "+------+-----------+-------+------+-------+\n",
      "|symbol|  timestamp|  close|mv5avg|mv20avg|\n",
      "+------+-----------+-------+------+-------+\n",
      "|  INFY|01-JUN-2023| 1319.5|1320.0| 1320.0|\n",
      "|  INFY|02-JUN-2023| 1299.0|1309.0| 1309.0|\n",
      "|  INFY|05-JUN-2023| 1304.5|1308.0| 1308.0|\n",
      "|  INFY|06-JUN-2023| 1279.0|1301.0| 1301.0|\n",
      "|  INFY|07-JUN-2023|1288.95|1298.0| 1298.0|\n",
      "|  INFY|08-JUN-2023| 1282.8|1296.0| 1296.0|\n",
      "|  INFY|09-JUN-2023|1265.95|1287.0| 1291.0|\n",
      "|  INFY|12-JUN-2023|1291.95|1286.0| 1291.0|\n",
      "|  INFY|13-JUN-2023|1304.85|1286.0| 1293.0|\n",
      "|  INFY|14-JUN-2023| 1300.4|1289.0| 1294.0|\n",
      "|  INFY|15-JUN-2023| 1286.8|1289.0| 1293.0|\n",
      "|  INFY|16-JUN-2023|1291.65|1290.0| 1293.0|\n",
      "|  INFY|19-JUN-2023| 1294.0|1295.0| 1293.0|\n",
      "|  INFY|20-JUN-2023| 1303.4|1297.0| 1294.0|\n",
      "|  INFY|21-JUN-2023|1299.35|1296.0| 1294.0|\n",
      "|  INFY|22-JUN-2023|1281.55|1293.0| 1293.0|\n",
      "|  INFY|23-JUN-2023| 1265.0|1289.0| 1292.0|\n",
      "|  INFY|26-JUN-2023|1270.35|1286.0| 1290.0|\n",
      "|  INFY|27-JUN-2023|1279.15|1283.0| 1290.0|\n",
      "|  INFY|28-JUN-2023|1293.35|1281.0| 1290.0|\n",
      "+------+-----------+-------+------+-------+\n",
      "only showing top 20 rows\n",
      "\n"
     ]
    }
   ],
   "source": [
    "# use sql to carry out window functions moving average using rows preceding\n",
    "print(\"using sql to carry out window functions moving average using rows preceding\")\n",
    "spark.sql(\"\"\"\n",
    "select symbol, timestamp,close,\n",
    "round(avg(close) over(partition by symbol order by tsp rows 5 preceding )) as mv5avg,\n",
    "round(avg(close) over(partition by symbol order by tsp rows 20 preceding )) as mv20avg\n",
    "from cmdata\n",
    "where symbol = 'INFY'\n",
    "order by tsp\n",
    "\"\"\").show()"
   ]
  },
  {
   "cell_type": "code",
   "execution_count": 50,
   "metadata": {},
   "outputs": [
    {
     "name": "stdout",
     "output_type": "stream",
     "text": [
      "using dataframe api to calculate moving average\n",
      "+------+-----------+-------------------+-------+----------+\n",
      "|symbol|  timestamp|                tsp|  close|mvng_avg_5|\n",
      "+------+-----------+-------------------+-------+----------+\n",
      "|  INFY|01-JUN-2023|2023-06-01 00:00:00| 1319.5|    1320.0|\n",
      "|  INFY|02-JUN-2023|2023-06-02 00:00:00| 1299.0|    1309.0|\n",
      "|  INFY|05-JUN-2023|2023-06-05 00:00:00| 1304.5|    1308.0|\n",
      "|  INFY|06-JUN-2023|2023-06-06 00:00:00| 1279.0|    1301.0|\n",
      "|  INFY|07-JUN-2023|2023-06-07 00:00:00|1288.95|    1293.0|\n",
      "|  INFY|08-JUN-2023|2023-06-08 00:00:00| 1282.8|    1289.0|\n",
      "|  INFY|09-JUN-2023|2023-06-09 00:00:00|1265.95|    1279.0|\n",
      "|  INFY|12-JUN-2023|2023-06-12 00:00:00|1291.95|    1282.0|\n",
      "|  INFY|13-JUN-2023|2023-06-13 00:00:00|1304.85|    1286.0|\n",
      "|  INFY|14-JUN-2023|2023-06-14 00:00:00| 1300.4|    1291.0|\n",
      "|  INFY|15-JUN-2023|2023-06-15 00:00:00| 1286.8|    1296.0|\n",
      "|  INFY|16-JUN-2023|2023-06-16 00:00:00|1291.65|    1296.0|\n",
      "|  INFY|19-JUN-2023|2023-06-19 00:00:00| 1294.0|    1293.0|\n",
      "|  INFY|20-JUN-2023|2023-06-20 00:00:00| 1303.4|    1294.0|\n",
      "|  INFY|21-JUN-2023|2023-06-21 00:00:00|1299.35|    1297.0|\n",
      "|  INFY|22-JUN-2023|2023-06-22 00:00:00|1281.55|    1295.0|\n",
      "|  INFY|23-JUN-2023|2023-06-23 00:00:00| 1265.0|    1287.0|\n",
      "|  INFY|26-JUN-2023|2023-06-26 00:00:00|1270.35|    1279.0|\n",
      "|  INFY|27-JUN-2023|2023-06-27 00:00:00|1279.15|    1274.0|\n",
      "|  INFY|28-JUN-2023|2023-06-28 00:00:00|1293.35|    1277.0|\n",
      "+------+-----------+-------------------+-------+----------+\n",
      "only showing top 20 rows\n",
      "\n"
     ]
    }
   ],
   "source": [
    "# using dataframe api to calculate moving average\n",
    "print(\"using dataframe api to calculate moving average\")\n",
    "mvngAvgSpec = avg(\"close\").over(\n",
    "    Window.partitionBy(\"symbol\").orderBy(\"tsp\").rowsBetween(-3, 0))\n",
    " \n",
    "cmdfvw.select(\"symbol\", \"timestamp\", \"tsp\", \"close\",\n",
    "    round(mvngAvgSpec).alias(\"mvng_avg_5\")).filter(\n",
    "    \"symbol = 'INFY'\").orderBy(\n",
    "    \"tsp\").show()"
   ]
  },
  {
   "cell_type": "code",
   "execution_count": 51,
   "metadata": {},
   "outputs": [
    {
     "name": "stdout",
     "output_type": "stream",
     "text": [
      "using row number with sql\n",
      "+------+-----------+-------+---+\n",
      "|symbol|  timestamp|  close|rno|\n",
      "+------+-----------+-------+---+\n",
      "|  INFY|01-JUN-2023| 1319.5|  1|\n",
      "|  INFY|02-JUN-2023| 1299.0|  2|\n",
      "|  INFY|05-JUN-2023| 1304.5|  3|\n",
      "|  INFY|06-JUN-2023| 1279.0|  4|\n",
      "|  INFY|07-JUN-2023|1288.95|  5|\n",
      "|  INFY|08-JUN-2023| 1282.8|  6|\n",
      "|  INFY|09-JUN-2023|1265.95|  7|\n",
      "|  INFY|12-JUN-2023|1291.95|  8|\n",
      "|  INFY|13-JUN-2023|1304.85|  9|\n",
      "|  INFY|14-JUN-2023| 1300.4| 10|\n",
      "|  INFY|15-JUN-2023| 1286.8| 11|\n",
      "|  INFY|16-JUN-2023|1291.65| 12|\n",
      "|  INFY|19-JUN-2023| 1294.0| 13|\n",
      "|  INFY|20-JUN-2023| 1303.4| 14|\n",
      "|  INFY|21-JUN-2023|1299.35| 15|\n",
      "|  INFY|22-JUN-2023|1281.55| 16|\n",
      "|  INFY|23-JUN-2023| 1265.0| 17|\n",
      "|  INFY|26-JUN-2023|1270.35| 18|\n",
      "|  INFY|27-JUN-2023|1279.15| 19|\n",
      "|  INFY|28-JUN-2023|1293.35| 20|\n",
      "+------+-----------+-------+---+\n",
      "only showing top 20 rows\n",
      "\n"
     ]
    }
   ],
   "source": [
    "# exercise - add on 20 days moving average\n",
    "\n",
    "# using row number\n",
    "\n",
    "print(\"using row number with sql\")\n",
    "\n",
    "spark.sql(\"\"\"\n",
    "select symbol, timestamp, close,\n",
    "row_number() over(partition by symbol order by tsp) as rno\n",
    "from cmdata\n",
    "where symbol in ('INFY', 'TCS')\"\"\").show()"
   ]
  },
  {
   "cell_type": "code",
   "execution_count": 52,
   "metadata": {},
   "outputs": [
    {
     "name": "stdout",
     "output_type": "stream",
     "text": [
      "dafaframe api showing row number\n",
      "+------+-----------+-------+---+\n",
      "|symbol|  timestamp|  close|rno|\n",
      "+------+-----------+-------+---+\n",
      "|  INFY|01-JUN-2023| 1319.5|  1|\n",
      "|  INFY|02-JUN-2023| 1299.0|  2|\n",
      "|  INFY|05-JUN-2023| 1304.5|  3|\n",
      "|  INFY|06-JUN-2023| 1279.0|  4|\n",
      "|  INFY|07-JUN-2023|1288.95|  5|\n",
      "|  INFY|08-JUN-2023| 1282.8|  6|\n",
      "|  INFY|09-JUN-2023|1265.95|  7|\n",
      "|  INFY|12-JUN-2023|1291.95|  8|\n",
      "|  INFY|13-JUN-2023|1304.85|  9|\n",
      "|  INFY|14-JUN-2023| 1300.4| 10|\n",
      "|  INFY|15-JUN-2023| 1286.8| 11|\n",
      "|  INFY|16-JUN-2023|1291.65| 12|\n",
      "|  INFY|19-JUN-2023| 1294.0| 13|\n",
      "|  INFY|20-JUN-2023| 1303.4| 14|\n",
      "|  INFY|21-JUN-2023|1299.35| 15|\n",
      "|  INFY|22-JUN-2023|1281.55| 16|\n",
      "|  INFY|23-JUN-2023| 1265.0| 17|\n",
      "|  INFY|26-JUN-2023|1270.35| 18|\n",
      "|  INFY|27-JUN-2023|1279.15| 19|\n",
      "|  INFY|28-JUN-2023|1293.35| 20|\n",
      "+------+-----------+-------+---+\n",
      "only showing top 20 rows\n",
      "\n"
     ]
    }
   ],
   "source": [
    "# dafaframe api using row number\n",
    "print(\"dafaframe api showing row number\")\n",
    "rnospec = row_number().over(\n",
    "    Window.partitionBy(\"symbol\").orderBy(\n",
    "    \"tsp\"))\n",
    "\n",
    "cmdfvw.select(\"symbol\", \"timestamp\", \"close\",\n",
    "    rnospec.alias(\"rno\")).filter(\n",
    "    \"symbol in ('INFY','TCS')\").show()"
   ]
  },
  {
   "cell_type": "code",
   "execution_count": 53,
   "metadata": {},
   "outputs": [],
   "source": [
    "# creating a view that we will use to cube by year, month, day\n",
    "cmdfymdvw = cmdfvw.withColumn(\n",
    "    \"yr\", year(\"tsp\")).withColumn(\n",
    "    \"mnth\", month(\"tsp\")).withColumn(\n",
    "    \"dy\", dayofmonth(\"tsp\"))"
   ]
  },
  {
   "cell_type": "code",
   "execution_count": 54,
   "metadata": {},
   "outputs": [],
   "source": [
    "cmdfymdvw.createOrReplaceTempView(\"cb_tbl\")"
   ]
  },
  {
   "cell_type": "code",
   "execution_count": 55,
   "metadata": {},
   "outputs": [
    {
     "name": "stdout",
     "output_type": "stream",
     "text": [
      "grouping sets using sql\n",
      "+------+----+----+----+------------------+------------------+--------------------+\n",
      "|symbol|  yr|mnth|  dy|            avgcls|            avgqty|              avgval|\n",
      "+------+----+----+----+------------------+------------------+--------------------+\n",
      "|  null|2023|   8|null| 2386.785555555555|3204309.1555555556| 6.087381503196668E9|\n",
      "|  null|2023|null|null|2381.5233918128656|4141724.0994152045| 7.600556120269882E9|\n",
      "|  null|2023|   9|null|2502.8149999999996|       3499600.125| 7.146561955257498E9|\n",
      "|  null|2023|   7|null|2375.5772727272724|5918001.0227272725|1.030950020456363...|\n",
      "|  null|2023|   6|null|2266.5988095238095|3896782.3571428573| 6.816248612171429E9|\n",
      "+------+----+----+----+------------------+------------------+--------------------+\n",
      "\n"
     ]
    }
   ],
   "source": [
    "# grouping sets using sql\n",
    "print(\"grouping sets using sql\")\n",
    "spark.sql(\"\"\"\n",
    "select symbol, yr, mnth, dy , avg(close) as avgcls, avg(tottrdqty) as avgqty, avg(tottrdval) as avgval from cb_tbl\n",
    "where symbol in ('INFY', 'TCS')\n",
    "group by symbol, yr, mnth, dy\n",
    "grouping sets((yr), (yr, mnth))\n",
    "\"\"\").show()"
   ]
  },
  {
   "cell_type": "code",
   "execution_count": 56,
   "metadata": {},
   "outputs": [
    {
     "name": "stdout",
     "output_type": "stream",
     "text": [
      "cube using sql\n",
      "+----------+----+----+----+------------------+--------------------+--------------------+\n",
      "|    symbol|  yr|mnth|  dy|            avgcls|              avgqty|              avgval|\n",
      "+----------+----+----+----+------------------+--------------------+--------------------+\n",
      "|     MOXSH|null|null|  11|            138.45|              4800.0|            651320.0|\n",
      "|LTGILTBEES|null|null|   4|             24.22|   392429.3333333333|          9505568.12|\n",
      "| NILAINFRA|null|null|  11|              6.45|   4320781.666666667|3.4301667833333336E7|\n",
      "| AXISILVER|null|null|  11|             72.27|  17334.333333333332|  1251319.7833333334|\n",
      "|  PROZONER|null|null|null| 29.20384615384615|  1234307.8205128205| 3.744807216282052E7|\n",
      "|     CLSEL|null|null|  11|187.66666666666666|  183064.33333333334|        3.40481601E7|\n",
      "|    RECLTD|null|null|null|1045.1475206611572|  3490264.7066115704| 7.615634056035123E8|\n",
      "|     GLOBE|null|null|null|3.2212121212121216|   1081196.803030303|  4639345.1462121215|\n",
      "|    SAFARI|null|null|  11| 3411.633333333333|  60722.333333333336|2.0686843438333333E8|\n",
      "|   HINDCON|null|null|null|111.63928571428572|   50509.46428571428|   5867504.910714285|\n",
      "|   SWSOLAR|null|null|null|343.01882352941175|   1115205.105882353|3.7621534208588237E8|\n",
      "|IL&FSTRANS|null|null|null|3.0452380952380955|   74329.82142857143|   221959.4255952381|\n",
      "|TATAMOTORS|null|null|  11| 625.0500000000001|1.0059796666666666E7| 6.290715386416667E9|\n",
      "|       JSL|null|null|null|394.19940476190476|   736036.0833333334|  3.03742229922619E8|\n",
      "| THEMISMED|null|null|null|1546.5916666666667|              6571.0|1.0397421402976193E7|\n",
      "|       WEL|null|null|null|247.10059523809525|   8216.690476190477|   2332845.622619047|\n",
      "|      IGPL|null|null|   4|            490.25|             38168.0|1.8881234933333334E7|\n",
      "|WILLAMAGOR|null|null|null| 21.86547619047619|  40938.333333333336|  1113411.2910714287|\n",
      "|  CAPACITE|null|null|null| 211.1047619047619|  1343396.0833333333|2.8165500794404763E8|\n",
      "|       ADL|null|null|   4| 77.28333333333333|  2833.3333333333335|   215797.7666666667|\n",
      "+----------+----+----+----+------------------+--------------------+--------------------+\n",
      "only showing top 20 rows\n",
      "\n"
     ]
    }
   ],
   "source": [
    "#cube using sql\n",
    "print(\"cube using sql\")\n",
    "spark.sql(\"\"\"\n",
    "select symbol,yr,mnth,dy,\n",
    "avg(close) as avgcls,\n",
    "avg(tottrdqty) as avgqty,\n",
    "avg(tottrdval) as avgval\n",
    "from cb_tbl\n",
    "group by symbol,yr,mnth,dy with cube\n",
    "order by yr ,mnth\"\"\").show()"
   ]
  },
  {
   "cell_type": "code",
   "execution_count": 57,
   "metadata": {},
   "outputs": [
    {
     "name": "stdout",
     "output_type": "stream",
     "text": [
      "cube using dafaframe api\n",
      "+----------+----+----+---+-------+--------+-------------+\n",
      "|    symbol|  yr|mnth| dy| avgcls|  avgqty|    tottrdval|\n",
      "+----------+----+----+---+-------+--------+-------------+\n",
      "|   ABSLAMC|2023|   9| 11|  425.7|172048.0| 7.32939608E7|\n",
      "|       ACI|2023|   9| 11| 641.35|381754.0|2.463451069E8|\n",
      "|  AVONMORE|2023|   9| 11|  76.35| 16633.0|    1277943.6|\n",
      "|DLINKINDIA|2023|   9| 11| 343.85|191756.0| 6.64023869E7|\n",
      "|      EMIL|2023|   9| 11|  139.6|378676.0| 5.28313908E7|\n",
      "|JAYSREETEA|2023|   9| 11|   99.6| 71763.0|   7183523.95|\n",
      "|      NETF|2023|   9| 11| 210.16|  2468.0|    517999.34|\n",
      "|   REVATHI|2023|   9| 11|1805.05|  8787.0| 1.57519437E7|\n",
      "|SHARIABEES|2023|   9| 11| 445.17|  3914.0|   1737284.98|\n",
      "|       SHK|2023|   9| 11|  163.8|360439.0|5.953054385E7|\n",
      "|     SPARC|2023|   9| 11| 253.45|478242.0|1.219817051E8|\n",
      "|SUPREMEINF|2023|   9| 11|   27.8| 35033.0|     973917.4|\n",
      "| AXISNIFTY|2023|   9|  4| 209.13|  3081.0|    642823.27|\n",
      "|   KSOLVES|2023|   9|  4| 1100.6| 53228.0| 5.88409227E7|\n",
      "|    LAGNAM|2023|   9|  4|   68.9| 23735.0|    1652893.6|\n",
      "|   LATTEYS|2023|   9|  4|   41.8| 12296.0|     509994.4|\n",
      "|MOTOGENFIN|2023|   9|  4|  38.65|  7296.0|     278364.8|\n",
      "|   NDRAUTO|2023|   9|  4| 542.85|  2473.0|    1352069.2|\n",
      "| ORIENTLTD|2023|   9|  4|  92.25| 34505.0|    3227132.5|\n",
      "|PANACEABIO|2023|   9|  4|  134.8|195757.0| 2.65095999E7|\n",
      "+----------+----+----+---+-------+--------+-------------+\n",
      "only showing top 20 rows\n",
      "\n"
     ]
    }
   ],
   "source": [
    "# cube using dafaframe api\n",
    "print(\"cube using dafaframe api\")\n",
    "cmdfymdvw.cube(\"symbol\", \"yr\", \"mnth\", \"dy\").agg(\n",
    "      avg(\"close\").alias(\"avgcls\"),\n",
    "      avg(\"tottrdqty\").alias(\"avgqty\"),\n",
    "      avg(\"tottrdval\").alias(\"tottrdval\")).show()"
   ]
  },
  {
   "cell_type": "code",
   "execution_count": 58,
   "metadata": {},
   "outputs": [
    {
     "name": "stdout",
     "output_type": "stream",
     "text": [
      "cube - see the overall aggregates\n",
      "+------+----+----+----+-----------------+------------------+--------------------+\n",
      "|symbol|  yr|mnth|  dy|           avgcls|            avgqty|           tottrdval|\n",
      "+------+----+----+----+-----------------+------------------+--------------------+\n",
      "|  null|2023|null|   4| 836.448175982883|2003058.8411339931| 3.159584898047006E8|\n",
      "|  null|2023|   9|   4|845.9586381475672| 2618987.836342229|3.5694157723716694E8|\n",
      "|  null|2023|null|  28|831.9763298139766|1465931.7235796882| 3.054817723830453E8|\n",
      "|  null|null|   9|  26|850.4475326215882|1446213.9023329378| 2.461903171638947E8|\n",
      "|  null|2023|   9|  12|847.2899011857703| 2885374.771146245|4.2797661508579046E8|\n",
      "|  null|null|   9|   5|857.8224733727817|2257206.8915187377| 3.500626328693299E8|\n",
      "|  null|2023|   9|null|848.3942434992844|2039790.4679720944| 3.311413305395452E8|\n",
      "|  null|null|   9|  18|834.6526037588089| 2554883.552466719| 3.080921622156301E8|\n",
      "|  null|2023|   9|   7|856.9022402854874|1996773.2549563837| 3.211370772791708E8|\n",
      "|  null|null|   9|   4|845.9586381475672| 2618987.836342229|3.5694157723716694E8|\n",
      "|  null|null|   9|   6|847.5303127474265|2066800.7252573238|3.5579593240363824E8|\n",
      "|  null|null|   8|  21|826.7392534381148|  1118271.69194499|2.4592151617669955E8|\n",
      "|  null|null|   9|null|848.3942434992844|2039790.4679720944| 3.311413305395452E8|\n",
      "|  null|2023|   8|null|831.1243863495195|1605074.0599218092|3.0773737346967125E8|\n",
      "|  null|null|null|  18|832.0526640771496| 1745906.548218591| 3.061325217690956E8|\n",
      "|  null|null|   9|  12|847.2899011857703| 2885374.771146245|4.2797661508579046E8|\n",
      "|  null|2023|   9|  11|861.0472183372175| 2327688.578865579| 3.588359608550547E8|\n",
      "|  null|2023|   8|  21|826.7392534381148|  1118271.69194499|2.4592151617669955E8|\n",
      "|  null|2023|null|  18|832.0526640771496| 1745906.548218591| 3.061325217690956E8|\n",
      "|  null|2023|null|  25|829.3418875715993|1501191.1325429599|  2.88256261104545E8|\n",
      "+------+----+----+----+-----------------+------------------+--------------------+\n",
      "only showing top 20 rows\n",
      "\n"
     ]
    }
   ],
   "source": [
    "# cube - see the overall aggregates\n",
    "print(\"cube - see the overall aggregates\")\n",
    "cmdfymdvw.cube(\"symbol\", \"yr\", \"mnth\", \"dy\"). agg(\n",
    "      avg(\"close\").alias(\"avgcls\"),\n",
    "      avg(\"tottrdqty\").alias(\"avgqty\"),\n",
    "      avg(\"tottrdval\").alias(\"tottrdval\")).filter(\n",
    "    isnull(\"symbol\")).show()"
   ]
  },
  {
   "cell_type": "code",
   "execution_count": 60,
   "metadata": {},
   "outputs": [
    {
     "name": "stdout",
     "output_type": "stream",
     "text": [
      "rolling using sql\n",
      "+------+----+----+----+-----------------+-----------+-------------------+\n",
      "|symbol|  yr|mnth|  dy|           avgcls|     avgqty|             avgval|\n",
      "+------+----+----+----+-----------------+-----------+-------------------+\n",
      "|  INFY|null|null|null|1292.238095238095|  5966804.0|7.718180427314284E9|\n",
      "|  null|null|null|null|1292.238095238095|  5966804.0|7.718180427314284E9|\n",
      "|  INFY|2023|null|null|1292.238095238095|  5966804.0|7.718180427314284E9|\n",
      "|  INFY|2023|   6|null|1292.238095238095|  5966804.0|7.718180427314284E9|\n",
      "|  INFY|2023|   6|   1|           1319.5|  4277841.0|    5.65917688955E9|\n",
      "|  INFY|2023|   6|   2|           1299.0|1.0909311E7|  1.421040134745E10|\n",
      "|  INFY|2023|   6|   5|           1304.5|  5002553.0|    6.53094046645E9|\n",
      "|  INFY|2023|   6|   6|           1279.0|  1.00081E7|   1.27997830858E10|\n",
      "|  INFY|2023|   6|   7|          1288.95|  5397578.0|     6.9537037304E9|\n",
      "|  INFY|2023|   6|   8|           1282.8|  5034942.0|     6.4769757639E9|\n",
      "|  INFY|2023|   6|   9|          1265.95|  5339073.0|     6.7727914774E9|\n",
      "|  INFY|2023|   6|  12|          1291.95|  4785588.0|     6.1672637798E9|\n",
      "|  INFY|2023|   6|  13|          1304.85|  4846587.0|     6.3153613067E9|\n",
      "|  INFY|2023|   6|  14|           1300.4|  3457981.0|    4.48936874725E9|\n",
      "|  INFY|2023|   6|  15|           1286.8|  6161155.0|     7.9324476267E9|\n",
      "|  INFY|2023|   6|  16|          1291.65|  8536287.0|  1.101378116255E10|\n",
      "|  INFY|2023|   6|  19|           1294.0|  4451787.0|     5.7542815639E9|\n",
      "|  INFY|2023|   6|  20|           1303.4|  4009180.0|    5.21115058255E9|\n",
      "|  INFY|2023|   6|  21|          1299.35|  4041529.0|    5.25504267285E9|\n",
      "|  INFY|2023|   6|  22|          1281.55|  6676607.0|     8.5628294059E9|\n",
      "+------+----+----+----+-----------------+-----------+-------------------+\n",
      "only showing top 20 rows\n",
      "\n"
     ]
    }
   ],
   "source": [
    "# rolling using sql\n",
    "print(\"rolling using sql\")\n",
    "spark.sql(\"\"\"\n",
    "select symbol,yr,mnth,dy,\n",
    "avg(close) as avgcls, avg(tottrdqty) as avgqty,\n",
    "avg(tottrdval) as avgval from cb_tbl\n",
    "where symbol = 'INFY' and mnth = 6\n",
    "group by symbol,yr,mnth,dy with rollup\n",
    "order by yr ,mnth, dy\"\"\").show()"
   ]
  }
 ],
 "metadata": {
  "kernelspec": {
   "display_name": "Python 3 (ipykernel)",
   "language": "python",
   "name": "python3"
  },
  "language_info": {
   "codemirror_mode": {
    "name": "ipython",
    "version": 3
   },
   "file_extension": ".py",
   "mimetype": "text/x-python",
   "name": "python",
   "nbconvert_exporter": "python",
   "pygments_lexer": "ipython3",
   "version": "3.10.9"
  }
 },
 "nbformat": 4,
 "nbformat_minor": 2
}
