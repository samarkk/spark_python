{
  "nbformat": 4,
  "nbformat_minor": 0,
  "metadata": {
    "colab": {
      "provenance": [],
      "mount_file_id": "17Rh_mwonkqqneGMfwRygNb8JWiJ2_pP4",
      "authorship_tag": "ABX9TyOpj5uFEF/gja9OI70/U/Nf",
      "include_colab_link": true
    },
    "kernelspec": {
      "name": "python3",
      "display_name": "Python 3"
    },
    "language_info": {
      "name": "python"
    }
  },
  "cells": [
    {
      "cell_type": "markdown",
      "metadata": {
        "id": "view-in-github",
        "colab_type": "text"
      },
      "source": [
        "<a href=\"https://colab.research.google.com/github/samarkk/spark_python/blob/master/pyspark_project_sunlife_oct_2023.ipynb\" target=\"_parent\"><img src=\"https://colab.research.google.com/assets/colab-badge.svg\" alt=\"Open In Colab\"/></a>"
      ]
    },
    {
      "cell_type": "code",
      "execution_count": 1,
      "metadata": {
        "colab": {
          "base_uri": "https://localhost:8080/"
        },
        "id": "APuc48niFJG5",
        "outputId": "82a9f51c-c6ab-4151-ca7b-63c39faf776c"
      },
      "outputs": [
        {
          "output_type": "stream",
          "name": "stdout",
          "text": [
            "Collecting pyspark\n",
            "  Downloading pyspark-3.5.0.tar.gz (316.9 MB)\n",
            "\u001b[2K     \u001b[90m━━━━━━━━━━━━━━━━━━━━━━━━━━━━━━━━━━━━━━━━\u001b[0m \u001b[32m316.9/316.9 MB\u001b[0m \u001b[31m2.4 MB/s\u001b[0m eta \u001b[36m0:00:00\u001b[0m\n",
            "\u001b[?25h  Preparing metadata (setup.py) ... \u001b[?25l\u001b[?25hdone\n",
            "Requirement already satisfied: py4j==0.10.9.7 in /usr/local/lib/python3.10/dist-packages (from pyspark) (0.10.9.7)\n",
            "Building wheels for collected packages: pyspark\n",
            "  Building wheel for pyspark (setup.py) ... \u001b[?25l\u001b[?25hdone\n",
            "  Created wheel for pyspark: filename=pyspark-3.5.0-py2.py3-none-any.whl size=317425344 sha256=964d6440097f2f6c775a92bd61091d6dd3a079b4945b82c0590b3470c4098042\n",
            "  Stored in directory: /root/.cache/pip/wheels/41/4e/10/c2cf2467f71c678cfc8a6b9ac9241e5e44a01940da8fbb17fc\n",
            "Successfully built pyspark\n",
            "Installing collected packages: pyspark\n",
            "Successfully installed pyspark-3.5.0\n"
          ]
        }
      ],
      "source": [
        "pip install pyspark"
      ]
    },
    {
      "cell_type": "code",
      "source": [
        "from pyspark import SparkContext, SparkConf\n",
        "from pyspark.sql import SparkSession\n",
        "from pyspark.sql.functions import *\n",
        "spark = SparkSession.builder.appName(\"ColabApp\").getOrCreate()\n",
        "spark.version"
      ],
      "metadata": {
        "colab": {
          "base_uri": "https://localhost:8080/",
          "height": 38
        },
        "id": "-7BzOPgIHF1w",
        "outputId": "3933fe31-120f-4ad3-ff52-c3fe95a09822"
      },
      "execution_count": 2,
      "outputs": [
        {
          "output_type": "execute_result",
          "data": {
            "text/plain": [
              "'3.5.0'"
            ],
            "application/vnd.google.colaboratory.intrinsic+json": {
              "type": "string"
            }
          },
          "metadata": {},
          "execution_count": 2
        }
      ]
    },
    {
      "cell_type": "code",
      "source": [
        "cm_data_loc = '/content/drive/MyDrive/sunlife/cm_sample_data'\n",
        "cm_df = spark.read.option('inferSchema', True) \\\n",
        ".option('header', True) \\\n",
        ".csv(cm_data_loc)"
      ],
      "metadata": {
        "id": "hy3BRZSrFOgL"
      },
      "execution_count": 3,
      "outputs": []
    },
    {
      "cell_type": "code",
      "source": [
        "cm_df.show(2, False)"
      ],
      "metadata": {
        "id": "NxQ-oP7rIIb2",
        "colab": {
          "base_uri": "https://localhost:8080/"
        },
        "outputId": "174fbe0e-ed75-4b69-d276-990c444788e3"
      },
      "execution_count": 4,
      "outputs": [
        {
          "output_type": "stream",
          "name": "stdout",
          "text": [
            "+----------+------+-----+-----+-----+-----+-----+---------+---------+---------+-----------+-----------+------------+----+\n",
            "|SYMBOL    |SERIES|OPEN |HIGH |LOW  |CLOSE|LAST |PREVCLOSE|TOTTRDQTY|TOTTRDVAL|TIMESTAMP  |TOTALTRADES|ISIN        |_c13|\n",
            "+----------+------+-----+-----+-----+-----+-----+---------+---------+---------+-----------+-----------+------------+----+\n",
            "|182D070324|TB    |96.0 |96.0 |96.0 |96.0 |96.0 |96.62    |100      |9600.0   |11-SEP-2023|1          |IN002023Y243|NULL|\n",
            "|182D071223|TB    |97.87|97.87|97.87|97.87|97.87|97.87    |100      |9787.0   |11-SEP-2023|1          |IN002023Y102|NULL|\n",
            "+----------+------+-----+-----+-----+-----+-----+---------+---------+---------+-----------+-----------+------------+----+\n",
            "only showing top 2 rows\n",
            "\n"
          ]
        }
      ]
    },
    {
      "cell_type": "code",
      "source": [
        "nifty_data_loc ='/content/drive/MyDrive/sunlife/nse2023.csv'\n",
        "nifty_df = spark.read.option('inferSchema', True) \\\n",
        ".option('header', True) \\\n",
        ".csv(nifty_data_loc)"
      ],
      "metadata": {
        "id": "4wrJcBr-NEfQ"
      },
      "execution_count": 5,
      "outputs": []
    },
    {
      "cell_type": "code",
      "source": [
        "nifty_df.show(2)"
      ],
      "metadata": {
        "id": "X_zRbcWoNYar",
        "colab": {
          "base_uri": "https://localhost:8080/"
        },
        "outputId": "5ee7cfa7-21e4-4f22-ef1e-574c4d859859"
      },
      "execution_count": 6,
      "outputs": [
        {
          "output_type": "stream",
          "name": "stdout",
          "text": [
            "+-----------+-------+--------+--------+--------+\n",
            "|       Date|   Open|    High|     Low|   Close|\n",
            "+-----------+-------+--------+--------+--------+\n",
            "|29-Sep-2023|19581.2|19726.25|19551.05| 19638.3|\n",
            "|28-Sep-2023|19761.8|19766.65| 19492.1|19523.55|\n",
            "+-----------+-------+--------+--------+--------+\n",
            "only showing top 2 rows\n",
            "\n"
          ]
        }
      ]
    },
    {
      "cell_type": "code",
      "source": [
        "fo_df_loc = '/content/drive/MyDrive/sunlife/fo_sample_data'\n",
        "fo_df = spark.read.option('inferSchema', True) \\\n",
        ".option('header', True) \\\n",
        ".csv(fo_df_loc)"
      ],
      "metadata": {
        "id": "BuNvpe_uPJvR"
      },
      "execution_count": 7,
      "outputs": []
    },
    {
      "cell_type": "code",
      "source": [
        "fo_df.show(2)"
      ],
      "metadata": {
        "id": "AXe-oFvLPTAP",
        "colab": {
          "base_uri": "https://localhost:8080/"
        },
        "outputId": "afb0e6a9-5370-482b-964b-13600b5a5ddb"
      },
      "execution_count": 8,
      "outputs": [
        {
          "output_type": "stream",
          "name": "stdout",
          "text": [
            "+----------+---------+-----------+---------+----------+--------+-------+--------+--------+---------+---------+----------+--------+---------+-----------+----+\n",
            "|INSTRUMENT|   SYMBOL|  EXPIRY_DT|STRIKE_PR|OPTION_TYP|    OPEN|   HIGH|     LOW|   CLOSE|SETTLE_PR|CONTRACTS|VAL_INLAKH|OPEN_INT|CHG_IN_OI|  TIMESTAMP|_c15|\n",
            "+----------+---------+-----------+---------+----------+--------+-------+--------+--------+---------+---------+----------+--------+---------+-----------+----+\n",
            "|    FUTIDX|BANKNIFTY|27-Jul-2023|      0.0|        XX|46201.05|46500.0|45541.65|45654.75|  45679.3|   203561|1400924.45|  604725|  -543540|27-JUL-2023|NULL|\n",
            "|    FUTIDX|BANKNIFTY|31-Aug-2023|      0.0|        XX| 46419.9|46486.1| 45829.7|45986.45| 45986.45|   181369|1254975.82| 1884000|   344535|27-JUL-2023|NULL|\n",
            "+----------+---------+-----------+---------+----------+--------+-------+--------+--------+---------+---------+----------+--------+---------+-----------+----+\n",
            "only showing top 2 rows\n",
            "\n"
          ]
        }
      ]
    },
    {
      "cell_type": "code",
      "source": [
        "fodf = fo_df.drop(\"_c15\")"
      ],
      "metadata": {
        "id": "EY70MMxjVKiI"
      },
      "execution_count": 9,
      "outputs": []
    },
    {
      "cell_type": "code",
      "source": [
        "fodf.createOrReplaceTempView('fotbl')"
      ],
      "metadata": {
        "id": "2Qd5EZuGW3_Q"
      },
      "execution_count": 10,
      "outputs": []
    },
    {
      "cell_type": "code",
      "source": [
        "spark.sql('select * from fotbl limit 2').show()"
      ],
      "metadata": {
        "id": "-VvSSbboW-Gc",
        "colab": {
          "base_uri": "https://localhost:8080/"
        },
        "outputId": "52245e4c-5af3-482f-d267-5c8e1460e795"
      },
      "execution_count": 11,
      "outputs": [
        {
          "output_type": "stream",
          "name": "stdout",
          "text": [
            "+----------+---------+-----------+---------+----------+--------+-------+--------+--------+---------+---------+----------+--------+---------+-----------+\n",
            "|INSTRUMENT|   SYMBOL|  EXPIRY_DT|STRIKE_PR|OPTION_TYP|    OPEN|   HIGH|     LOW|   CLOSE|SETTLE_PR|CONTRACTS|VAL_INLAKH|OPEN_INT|CHG_IN_OI|  TIMESTAMP|\n",
            "+----------+---------+-----------+---------+----------+--------+-------+--------+--------+---------+---------+----------+--------+---------+-----------+\n",
            "|    FUTIDX|BANKNIFTY|27-Jul-2023|      0.0|        XX|46201.05|46500.0|45541.65|45654.75|  45679.3|   203561|1400924.45|  604725|  -543540|27-JUL-2023|\n",
            "|    FUTIDX|BANKNIFTY|31-Aug-2023|      0.0|        XX| 46419.9|46486.1| 45829.7|45986.45| 45986.45|   181369|1254975.82| 1884000|   344535|27-JUL-2023|\n",
            "+----------+---------+-----------+---------+----------+--------+-------+--------+--------+---------+---------+----------+--------+---------+-----------+\n",
            "\n"
          ]
        }
      ]
    },
    {
      "cell_type": "code",
      "source": [
        "fodf_nifty = fodf.filter(fodf['SYMBOL'] == 'NIFTY')\n",
        "fodf_nifty.show(2)"
      ],
      "metadata": {
        "colab": {
          "base_uri": "https://localhost:8080/"
        },
        "id": "EiQ6txaif9d9",
        "outputId": "a0ac1a83-7be4-47ca-91d7-9d4742f76982"
      },
      "execution_count": 12,
      "outputs": [
        {
          "output_type": "stream",
          "name": "stdout",
          "text": [
            "+----------+------+-----------+---------+----------+-------+--------+--------+-------+---------+---------+----------+--------+---------+-----------+\n",
            "|INSTRUMENT|SYMBOL|  EXPIRY_DT|STRIKE_PR|OPTION_TYP|   OPEN|    HIGH|     LOW|  CLOSE|SETTLE_PR|CONTRACTS|VAL_INLAKH|OPEN_INT|CHG_IN_OI|  TIMESTAMP|\n",
            "+----------+------+-----------+---------+----------+-------+--------+--------+-------+---------+---------+----------+--------+---------+-----------+\n",
            "|    FUTIDX| NIFTY|27-Jul-2023|      0.0|        XX|19840.2|19872.35| 19600.0|19646.9|  19659.9|   137340|1354819.67| 2547150| -2361800|27-JUL-2023|\n",
            "|    FUTIDX| NIFTY|31-Aug-2023|      0.0|        XX|19951.1| 19988.4|19751.05|19811.4|  19811.4|   185376| 1840717.8|11728350|  3456250|27-JUL-2023|\n",
            "+----------+------+-----------+---------+----------+-------+--------+--------+-------+---------+---------+----------+--------+---------+-----------+\n",
            "only showing top 2 rows\n",
            "\n"
          ]
        }
      ]
    },
    {
      "cell_type": "code",
      "source": [
        "nifty_close_df = nifty_df.selectExpr('Date','Close as nclose')\n",
        "nifty_close_df.show(5)"
      ],
      "metadata": {
        "colab": {
          "base_uri": "https://localhost:8080/"
        },
        "id": "9jrPApq8f-Na",
        "outputId": "d0d05fb1-47dc-492c-bd0d-f6562ad798a6"
      },
      "execution_count": 13,
      "outputs": [
        {
          "output_type": "stream",
          "name": "stdout",
          "text": [
            "+-----------+--------+\n",
            "|       Date|  nclose|\n",
            "+-----------+--------+\n",
            "|29-Sep-2023| 19638.3|\n",
            "|28-Sep-2023|19523.55|\n",
            "|27-Sep-2023|19716.45|\n",
            "|26-Sep-2023| 19664.7|\n",
            "|25-Sep-2023|19674.55|\n",
            "+-----------+--------+\n",
            "only showing top 5 rows\n",
            "\n"
          ]
        }
      ]
    },
    {
      "cell_type": "code",
      "source": [
        "join_df = fodf_nifty.join(nifty_close_df, (upper(fodf_nifty['Timestamp']) == upper(nifty_close_df['Date'])), 'inner')\n",
        "join_df.show(5)"
      ],
      "metadata": {
        "colab": {
          "base_uri": "https://localhost:8080/"
        },
        "id": "P4jJQfN1gHyL",
        "outputId": "8d3a29df-35ff-49c8-8749-287edf7989e0"
      },
      "execution_count": 14,
      "outputs": [
        {
          "output_type": "stream",
          "name": "stdout",
          "text": [
            "+----------+------+-----------+---------+----------+--------+--------+--------+-------+---------+---------+----------+--------+---------+-----------+-----------+-------+\n",
            "|INSTRUMENT|SYMBOL|  EXPIRY_DT|STRIKE_PR|OPTION_TYP|    OPEN|    HIGH|     LOW|  CLOSE|SETTLE_PR|CONTRACTS|VAL_INLAKH|OPEN_INT|CHG_IN_OI|  TIMESTAMP|       Date| nclose|\n",
            "+----------+------+-----------+---------+----------+--------+--------+--------+-------+---------+---------+----------+--------+---------+-----------+-----------+-------+\n",
            "|    FUTIDX| NIFTY|27-Jul-2023|      0.0|        XX| 19840.2|19872.35| 19600.0|19646.9|  19659.9|   137340|1354819.67| 2547150| -2361800|27-JUL-2023|27-Jul-2023|19659.9|\n",
            "|    FUTIDX| NIFTY|31-Aug-2023|      0.0|        XX| 19951.1| 19988.4|19751.05|19811.4|  19811.4|   185376| 1840717.8|11728350|  3456250|27-JUL-2023|27-Jul-2023|19659.9|\n",
            "|    FUTIDX| NIFTY|28-Sep-2023|      0.0|        XX|20055.25|20092.85| 19876.9|19929.7|  19929.7|    18721| 186838.82| 1591800|   386150|27-JUL-2023|27-Jul-2023|19659.9|\n",
            "|    OPTIDX| NIFTY|27-Jul-2023|  16400.0|        CE|  3472.0|  3472.0|  3213.5| 3262.8|  19659.9|      516|   5095.05|   13950|   -12950|27-JUL-2023|27-Jul-2023|19659.9|\n",
            "|    OPTIDX| NIFTY|27-Jul-2023|  16450.0|        CE|     0.0|     0.0|     0.0| 2530.9|  19659.9|        0|       0.0|      50|        0|27-JUL-2023|27-Jul-2023|19659.9|\n",
            "+----------+------+-----------+---------+----------+--------+--------+--------+-------+---------+---------+----------+--------+---------+-----------+-----------+-------+\n",
            "only showing top 5 rows\n",
            "\n"
          ]
        }
      ]
    },
    {
      "cell_type": "code",
      "source": [
        "def mnameToNo(dt):\n",
        "    mname = dt[3:6].upper()\n",
        "    calendar = {\"JAN\": \"01\", \"FEB\": \"02\", \"MAR\": \"03\", \"APR\": \"04\",\n",
        "                \"MAY\": \"05\", \"JUN\": \"06\", \"JUL\": \"07\", \"AUG\": \"08\", \"SEP\": \"09\", \"OCT\": \"10\",\n",
        "                \"NOV\": \"11\", \"DEC\": \"12\"}\n",
        "    return dt.upper().replace(mname, calendar[mname])\n",
        "\n",
        "# create a udf from the month name to no function\n",
        "# to apply to timestamp, expiry date colukns\n",
        "udf_mname_to_no = udf(mnameToNo)\n",
        "\n",
        "spark.udf.register('udf_mname_to_no', mnameToNo)\n",
        "\n",
        "# put sale steps above\n",
        "ssa = 10\n",
        "# put buy steps below\n",
        "bsb = -5\n"
      ],
      "metadata": {
        "id": "vc0QfezMJyuK"
      },
      "execution_count": 15,
      "outputs": []
    },
    {
      "cell_type": "code",
      "source": [
        "join_df.selectExpr(\"*\",\n",
        "\"date(to_timestamp(udf_mname_to_no(timestamp), 'dd-MM-yyyy')) as tsdc\",\n",
        "\"date(to_timestamp(udf_mname_to_no(expiry_dt), 'dd-MM-yyyy')) as expdc\",\n",
        "\"date(to_timestamp(udf_mname_to_no(date), 'dd-MM-yyyy')) as date\",\n",
        "\"floor(nclose/50)*50 as sprnrcl\").\\\n",
        "selectExpr(\"*\", \"dayOfWeek(tsdc) as dow\").show(2)"
      ],
      "metadata": {
        "colab": {
          "base_uri": "https://localhost:8080/"
        },
        "id": "DcyRsF1uKIxb",
        "outputId": "3d254fef-88d2-4eef-ea20-7730e1398ccc"
      },
      "execution_count": 16,
      "outputs": [
        {
          "output_type": "stream",
          "name": "stdout",
          "text": [
            "+----------+------+-----------+---------+----------+-------+--------+--------+-------+---------+---------+----------+--------+---------+-----------+-----------+-------+----------+----------+----------+-------+---+\n",
            "|INSTRUMENT|SYMBOL|  EXPIRY_DT|STRIKE_PR|OPTION_TYP|   OPEN|    HIGH|     LOW|  CLOSE|SETTLE_PR|CONTRACTS|VAL_INLAKH|OPEN_INT|CHG_IN_OI|  TIMESTAMP|       Date| nclose|      tsdc|     expdc|      date|sprnrcl|dow|\n",
            "+----------+------+-----------+---------+----------+-------+--------+--------+-------+---------+---------+----------+--------+---------+-----------+-----------+-------+----------+----------+----------+-------+---+\n",
            "|    FUTIDX| NIFTY|27-Jul-2023|      0.0|        XX|19840.2|19872.35| 19600.0|19646.9|  19659.9|   137340|1354819.67| 2547150| -2361800|27-JUL-2023|27-Jul-2023|19659.9|2023-07-27|2023-07-27|2023-07-27|  19650|  5|\n",
            "|    FUTIDX| NIFTY|31-Aug-2023|      0.0|        XX|19951.1| 19988.4|19751.05|19811.4|  19811.4|   185376| 1840717.8|11728350|  3456250|27-JUL-2023|27-Jul-2023|19659.9|2023-07-27|2023-08-31|2023-07-27|  19650|  5|\n",
            "+----------+------+-----------+---------+----------+-------+--------+--------+-------+---------+---------+----------+--------+---------+-----------+-----------+-------+----------+----------+----------+-------+---+\n",
            "only showing top 2 rows\n",
            "\n"
          ]
        }
      ]
    },
    {
      "cell_type": "code",
      "source": [
        "join_df_ext = join_df.filter(\"option_typ = 'PE'\").selectExpr(\"*\",\n",
        "\"date(to_timestamp(udf_mname_to_no(timestamp), 'dd-MM-yyyy')) as tsdc\",\n",
        "\"date(to_timestamp(udf_mname_to_no(expiry_dt), 'dd-MM-yyyy')) as expdc\",\n",
        "\"date(to_timestamp(udf_mname_to_no(date), 'dd-MM-yyyy')) as ndate\",\n",
        "\"floor(nclose/50)*50 as sprnrcl\").drop(\"date\").withColumnRenamed(\"ndate\", \"date\").\\\n",
        "selectExpr(\"*\", \"sprnrcl + {} * 50 as psl\".format(ssa),\n",
        "           \"sprnrcl + {} * 50 as pbl\".format(bsb),\n",
        "           \"dayOfWeek(tsdc) as dow\").cache()"
      ],
      "metadata": {
        "id": "bdph3scKKhxP"
      },
      "execution_count": 17,
      "outputs": []
    },
    {
      "cell_type": "code",
      "source": [
        "join_df_ext.filter(\"tsdc = '2023-07-27'\").select(\"expdc\", \"psl\", \"pbl\").distinct().show()"
      ],
      "metadata": {
        "colab": {
          "base_uri": "https://localhost:8080/"
        },
        "id": "Z6exVuyQLl09",
        "outputId": "139fcd05-c128-4162-b43b-f61c038ebae2"
      },
      "execution_count": 18,
      "outputs": [
        {
          "output_type": "stream",
          "name": "stdout",
          "text": [
            "+----------+-----+-----+\n",
            "|     expdc|  psl|  pbl|\n",
            "+----------+-----+-----+\n",
            "|2023-12-28|20150|19400|\n",
            "|2023-08-10|20150|19400|\n",
            "|2023-08-03|20150|19400|\n",
            "|2024-03-28|20150|19400|\n",
            "|2023-07-27|20150|19400|\n",
            "|2023-08-31|20150|19400|\n",
            "|2027-06-24|20150|19400|\n",
            "|2024-12-26|20150|19400|\n",
            "|2025-12-24|20150|19400|\n",
            "|2024-06-27|20150|19400|\n",
            "|2025-06-26|20150|19400|\n",
            "|2023-08-17|20150|19400|\n",
            "|2026-12-31|20150|19400|\n",
            "|2023-09-28|20150|19400|\n",
            "|2026-06-25|20150|19400|\n",
            "|2023-08-24|20150|19400|\n",
            "|2028-06-29|20150|19400|\n",
            "|2027-12-30|20150|19400|\n",
            "+----------+-----+-----+\n",
            "\n"
          ]
        }
      ]
    },
    {
      "cell_type": "code",
      "source": [
        "join_df_ext.filter(\"\"\"\n",
        "option_typ = 'PE' and strike_pr = 20150 and tsdc = '2023-07-27' and expdc = '2023-08-10'\n",
        "\"\"\").show()"
      ],
      "metadata": {
        "colab": {
          "base_uri": "https://localhost:8080/"
        },
        "id": "zId6NMxfm5O7",
        "outputId": "2ef39df1-4056-454b-8ee8-af5ef202d348"
      },
      "execution_count": 19,
      "outputs": [
        {
          "output_type": "stream",
          "name": "stdout",
          "text": [
            "+----------+------+-----------+---------+----------+-----+-----+-----+-----+---------+---------+----------+--------+---------+-----------+-------+----------+----------+----------+-------+-----+-----+---+\n",
            "|INSTRUMENT|SYMBOL|  EXPIRY_DT|STRIKE_PR|OPTION_TYP| OPEN| HIGH|  LOW|CLOSE|SETTLE_PR|CONTRACTS|VAL_INLAKH|OPEN_INT|CHG_IN_OI|  TIMESTAMP| nclose|      tsdc|     expdc|      date|sprnrcl|  psl|  pbl|dow|\n",
            "+----------+------+-----------+---------+----------+-----+-----+-----+-----+---------+---------+----------+--------+---------+-----------+-------+----------+----------+----------+-------+-----+-----+---+\n",
            "|    OPTIDX| NIFTY|10-Aug-2023|  20150.0|        PE|309.6|383.9|309.6|383.9|    529.5|       10|    102.45|     200|      200|27-JUL-2023|19659.9|2023-07-27|2023-08-10|2023-07-27|  19650|20150|19400|  5|\n",
            "+----------+------+-----------+---------+----------+-----+-----+-----+-----+---------+---------+----------+--------+---------+-----------+-------+----------+----------+----------+-------+-----+-----+---+\n",
            "\n"
          ]
        }
      ]
    },
    {
      "cell_type": "code",
      "source": [
        "exp_df= join_df_ext.selectExpr('date', 'nclose').where(\"tsdc=expdc\").distinct()"
      ],
      "metadata": {
        "id": "A8f9LuZ0iDCD"
      },
      "execution_count": 20,
      "outputs": []
    },
    {
      "cell_type": "code",
      "source": [
        "exp_df.show(2)"
      ],
      "metadata": {
        "colab": {
          "base_uri": "https://localhost:8080/"
        },
        "id": "jAG9iAjc3aYx",
        "outputId": "a7fb1dce-fd39-46b2-c908-e38d192ef16e"
      },
      "execution_count": 21,
      "outputs": [
        {
          "output_type": "stream",
          "name": "stdout",
          "text": [
            "+----------+-------+\n",
            "|      date| nclose|\n",
            "+----------+-------+\n",
            "|2023-08-24|19386.7|\n",
            "|2023-07-27|19659.9|\n",
            "+----------+-------+\n",
            "only showing top 2 rows\n",
            "\n"
          ]
        }
      ]
    },
    {
      "cell_type": "code",
      "source": [
        "join_df_ext_pes =\\\n",
        "join_df_ext.filter(\"option_typ = 'PE' and (strike_pr = psl or strike_pr = pbl)\")\\\n",
        ".selectExpr('tsdc', 'expdc', 'option_typ', 'strike_pr','{} as ssa'.format(ssa),\n",
        "            'psl','{} as bsb'.format(bsb), 'pbl', 'close', 'nclose').cache()"
      ],
      "metadata": {
        "id": "_yMc2N_G5rHh"
      },
      "execution_count": 22,
      "outputs": []
    },
    {
      "cell_type": "code",
      "source": [
        "join_df_ext_pes.show(2)"
      ],
      "metadata": {
        "colab": {
          "base_uri": "https://localhost:8080/"
        },
        "id": "hYQtvezA744x",
        "outputId": "e558ccfd-4eb7-4e4f-f542-89af1f6db3fc"
      },
      "execution_count": 23,
      "outputs": [
        {
          "output_type": "stream",
          "name": "stdout",
          "text": [
            "+----------+----------+----------+---------+---+-----+---+-----+-----+-------+\n",
            "|      tsdc|     expdc|option_typ|strike_pr|ssa|  psl|bsb|  pbl|close| nclose|\n",
            "+----------+----------+----------+---------+---+-----+---+-----+-----+-------+\n",
            "|2023-07-27|2023-07-27|        PE|  19400.0| 10|20150| -5|19400| 0.15|19659.9|\n",
            "|2023-07-27|2023-07-27|        PE|  20150.0| 10|20150| -5|19400|512.4|19659.9|\n",
            "+----------+----------+----------+---------+---+-----+---+-----+-----+-------+\n",
            "only showing top 2 rows\n",
            "\n"
          ]
        }
      ]
    },
    {
      "cell_type": "code",
      "source": [
        "sdf = join_df_ext_pes.filter(\"strike_pr = psl\").selectExpr(\"*\", \"close as pspr\")\n",
        "bdf = join_df_ext_pes.filter(\"strike_pr = pbl\").selectExpr(\"tsdc as btsdc\", \"expdc as bexpdc\",\n",
        "                                                           \"close as pbpr\")"
      ],
      "metadata": {
        "id": "0fTpGLCW9Uul"
      },
      "execution_count": 24,
      "outputs": []
    },
    {
      "cell_type": "code",
      "source": [
        "# get the put sale price\n",
        "sdf.join(\n",
        "    bdf,\n",
        "    (sdf['tsdc'] == bdf['btsdc']) &\n",
        "    (sdf['expdc'] == bdf['bexpdc']) &\n",
        "    (sdf['pbl'] == sdf['pbl'])\n",
        ").filter(\"tsdc = '2023-07-07'\").show()"
      ],
      "metadata": {
        "colab": {
          "base_uri": "https://localhost:8080/"
        },
        "id": "QWeU7d1z78rm",
        "outputId": "938967a0-d47d-49d9-eb11-753159f07768"
      },
      "execution_count": 25,
      "outputs": [
        {
          "output_type": "stream",
          "name": "stdout",
          "text": [
            "+----------+----------+----------+---------+---+-----+---+-----+------+-------+------+----------+----------+------+\n",
            "|      tsdc|     expdc|option_typ|strike_pr|ssa|  psl|bsb|  pbl| close| nclose|  pspr|     btsdc|    bexpdc|  pbpr|\n",
            "+----------+----------+----------+---------+---+-----+---+-----+------+-------+------+----------+----------+------+\n",
            "|2023-07-07|2023-07-13|        PE|  19800.0| 10|19800| -5|19050| 456.7|19331.8| 456.7|2023-07-07|2023-07-13|  13.2|\n",
            "|2023-07-07|2023-07-20|        PE|  19800.0| 10|19800| -5|19050| 436.8|19331.8| 436.8|2023-07-07|2023-07-20| 44.45|\n",
            "|2023-07-07|2023-07-27|        PE|  19800.0| 10|19800| -5|19050|440.45|19331.8|440.45|2023-07-07|2023-07-27|  77.0|\n",
            "|2023-07-07|2023-08-03|        PE|  19800.0| 10|19800| -5|19050|1002.4|19331.8|1002.4|2023-07-07|2023-08-03|101.35|\n",
            "|2023-07-07|2023-08-10|        PE|  19800.0| 10|19800| -5|19050| 493.8|19331.8| 493.8|2023-07-07|2023-08-10| 173.3|\n",
            "|2023-07-07|2023-08-31|        PE|  19800.0| 10|19800| -5|19050| 490.0|19331.8| 490.0|2023-07-07|2023-08-31| 174.3|\n",
            "|2023-07-07|2023-09-28|        PE|  19800.0| 10|19800| -5|19050| 503.6|19331.8| 503.6|2023-07-07|2023-09-28| 209.8|\n",
            "+----------+----------+----------+---------+---+-----+---+-----+------+-------+------+----------+----------+------+\n",
            "\n"
          ]
        }
      ]
    },
    {
      "cell_type": "code",
      "source": [
        "joined_pe_df = sdf.join(\n",
        "    bdf,\n",
        "    (sdf['tsdc'] == bdf['btsdc']) &\n",
        "    (sdf['expdc'] == bdf['bexpdc']) &\n",
        "    (sdf['pbl'] == sdf['pbl'])\n",
        ").cache()"
      ],
      "metadata": {
        "id": "ple_6zCFVHT8"
      },
      "execution_count": 26,
      "outputs": []
    },
    {
      "cell_type": "code",
      "source": [
        "joined_pe_df.show(2)"
      ],
      "metadata": {
        "colab": {
          "base_uri": "https://localhost:8080/"
        },
        "id": "zsx-fKORKKnW",
        "outputId": "b8ec6827-9b08-4b76-d0ff-12117aefd1e5"
      },
      "execution_count": 27,
      "outputs": [
        {
          "output_type": "stream",
          "name": "stdout",
          "text": [
            "+----------+----------+----------+---------+---+-----+---+-----+------+-------+------+----------+----------+----+\n",
            "|      tsdc|     expdc|option_typ|strike_pr|ssa|  psl|bsb|  pbl| close| nclose|  pspr|     btsdc|    bexpdc|pbpr|\n",
            "+----------+----------+----------+---------+---+-----+---+-----+------+-------+------+----------+----------+----+\n",
            "|2023-07-27|2023-07-27|        PE|  20150.0| 10|20150| -5|19400| 512.4|19659.9| 512.4|2023-07-27|2023-07-27|0.15|\n",
            "|2023-07-27|2023-08-03|        PE|  20150.0| 10|20150| -5|19400|431.35|19659.9|431.35|2023-07-27|2023-08-03|22.5|\n",
            "+----------+----------+----------+---------+---+-----+---+-----+------+-------+------+----------+----------+----+\n",
            "only showing top 2 rows\n",
            "\n"
          ]
        }
      ]
    },
    {
      "cell_type": "code",
      "source": [
        "nifty_df.show(2)"
      ],
      "metadata": {
        "colab": {
          "base_uri": "https://localhost:8080/"
        },
        "id": "bN0zySjTbX2T",
        "outputId": "b61e6ef1-7712-4ded-9e15-fd9c6a1f08b8"
      },
      "execution_count": 28,
      "outputs": [
        {
          "output_type": "stream",
          "name": "stdout",
          "text": [
            "+-----------+-------+--------+--------+--------+\n",
            "|       Date|   Open|    High|     Low|   Close|\n",
            "+-----------+-------+--------+--------+--------+\n",
            "|29-Sep-2023|19581.2|19726.25|19551.05| 19638.3|\n",
            "|28-Sep-2023|19761.8|19766.65| 19492.1|19523.55|\n",
            "+-----------+-------+--------+--------+--------+\n",
            "only showing top 2 rows\n",
            "\n"
          ]
        }
      ]
    },
    {
      "cell_type": "code",
      "source": [
        "nifty_df.selectExpr(\"date(to_timestamp(udf_mname_to_no(date), 'dd-MM-yyyy')) as tsp\").show(2)"
      ],
      "metadata": {
        "colab": {
          "base_uri": "https://localhost:8080/"
        },
        "id": "lLBXmbJ-bb3m",
        "outputId": "73951d03-f71c-4521-acf8-653e4039f61f"
      },
      "execution_count": 29,
      "outputs": [
        {
          "output_type": "stream",
          "name": "stdout",
          "text": [
            "+----------+\n",
            "|       tsp|\n",
            "+----------+\n",
            "|2023-09-29|\n",
            "|2023-09-28|\n",
            "+----------+\n",
            "only showing top 2 rows\n",
            "\n"
          ]
        }
      ]
    },
    {
      "cell_type": "code",
      "source": [
        "nifty_df_wtsp = nifty_df.selectExpr(\"date(to_timestamp(udf_mname_to_no(date), 'dd-MM-yyyy')) as tsp\",\n",
        "                                    \"close as expclosingpr\")"
      ],
      "metadata": {
        "id": "RL3FaY0QbyU8"
      },
      "execution_count": 30,
      "outputs": []
    },
    {
      "cell_type": "code",
      "source": [
        "from pyspark.sql.functions import *\n",
        "joined_pe_df.alias('jdf').join(\n",
        "    nifty_df_wtsp.alias('ndf'),\n",
        "    col('jdf.expdc') == col('ndf.tsp')\n",
        ").show()"
      ],
      "metadata": {
        "colab": {
          "base_uri": "https://localhost:8080/"
        },
        "id": "FUDqUYr3a7Vw",
        "outputId": "6d2173a8-7aec-438e-976f-b25cc393e1f4"
      },
      "execution_count": 31,
      "outputs": [
        {
          "output_type": "stream",
          "name": "stdout",
          "text": [
            "+----------+----------+----------+---------+---+-----+---+-----+------+-------+------+----------+----------+------+----------+------------+\n",
            "|      tsdc|     expdc|option_typ|strike_pr|ssa|  psl|bsb|  pbl| close| nclose|  pspr|     btsdc|    bexpdc|  pbpr|       tsp|expclosingpr|\n",
            "+----------+----------+----------+---------+---+-----+---+-----+------+-------+------+----------+----------+------+----------+------------+\n",
            "|2023-07-27|2023-07-27|        PE|  20150.0| 10|20150| -5|19400| 512.4|19659.9| 512.4|2023-07-27|2023-07-27|  0.15|2023-07-27|     19659.9|\n",
            "|2023-07-27|2023-08-03|        PE|  20150.0| 10|20150| -5|19400|431.35|19659.9|431.35|2023-07-27|2023-08-03|  22.5|2023-08-03|    19381.65|\n",
            "|2023-07-27|2023-08-10|        PE|  20150.0| 10|20150| -5|19400| 383.9|19659.9| 383.9|2023-07-27|2023-08-10|  49.6|2023-08-10|     19543.1|\n",
            "|2023-07-27|2023-08-17|        PE|  20150.0| 10|20150| -5|19400|772.25|19659.9|772.25|2023-07-27|2023-08-17| 327.8|2023-08-17|    19365.25|\n",
            "|2023-07-27|2023-08-24|        PE|  20150.0| 10|20150| -5|19400|423.25|19659.9|423.25|2023-07-27|2023-08-24|  92.1|2023-08-24|     19386.7|\n",
            "|2023-07-27|2023-08-31|        PE|  20150.0| 10|20150| -5|19400|450.15|19659.9|450.15|2023-07-27|2023-08-31|108.85|2023-08-31|     19253.8|\n",
            "|2023-07-27|2023-09-28|        PE|  20150.0| 10|20150| -5|19400| 418.7|19659.9| 418.7|2023-07-27|2023-09-28| 178.4|2023-09-28|    19523.55|\n",
            "|2023-07-26|2023-07-27|        PE|  20250.0| 10|20250| -5|19500|477.05|19778.3|477.05|2023-07-26|2023-07-27|  2.85|2023-07-27|     19659.9|\n",
            "|2023-07-26|2023-08-03|        PE|  20250.0| 10|20250| -5|19500| 459.3|19778.3| 459.3|2023-07-26|2023-08-03| 31.85|2023-08-03|    19381.65|\n",
            "|2023-07-26|2023-08-10|        PE|  20250.0| 10|20250| -5|19500|787.65|19778.3|787.65|2023-07-26|2023-08-10|  60.0|2023-08-10|     19543.1|\n",
            "|2023-07-26|2023-08-17|        PE|  20250.0| 10|20250| -5|19500| 847.4|19778.3| 847.4|2023-07-26|2023-08-17| 82.65|2023-08-17|    19365.25|\n",
            "|2023-07-26|2023-08-24|        PE|  20250.0| 10|20250| -5|19500|477.15|19778.3|477.15|2023-07-26|2023-08-24| 102.9|2023-08-24|     19386.7|\n",
            "|2023-07-26|2023-08-31|        PE|  20250.0| 10|20250| -5|19500| 465.6|19778.3| 465.6|2023-07-26|2023-08-31|122.75|2023-08-31|     19253.8|\n",
            "|2023-07-26|2023-09-28|        PE|  20250.0| 10|20250| -5|19500|551.45|19778.3|551.45|2023-07-26|2023-09-28|192.95|2023-09-28|    19523.55|\n",
            "|2023-07-25|2023-07-27|        PE|  20150.0| 10|20150| -5|19400|458.55|19680.6|458.55|2023-07-25|2023-07-27|  4.35|2023-07-27|     19659.9|\n",
            "|2023-07-25|2023-08-03|        PE|  20150.0| 10|20150| -5|19400|427.05|19680.6|427.05|2023-07-25|2023-08-03|  31.7|2023-08-03|    19381.65|\n",
            "|2023-07-25|2023-08-10|        PE|  20150.0| 10|20150| -5|19400|716.35|19680.6|716.35|2023-07-25|2023-08-10| 59.45|2023-08-10|     19543.1|\n",
            "|2023-07-25|2023-08-17|        PE|  20150.0| 10|20150| -5|19400|772.25|19680.6|772.25|2023-07-25|2023-08-17| 327.8|2023-08-17|    19365.25|\n",
            "|2023-07-25|2023-08-24|        PE|  20150.0| 10|20150| -5|19400|423.25|19680.6|423.25|2023-07-25|2023-08-24| 100.0|2023-08-24|     19386.7|\n",
            "|2023-07-25|2023-08-31|        PE|  20150.0| 10|20150| -5|19400|447.55|19680.6|447.55|2023-07-25|2023-08-31| 117.8|2023-08-31|     19253.8|\n",
            "+----------+----------+----------+---------+---+-----+---+-----+------+-------+------+----------+----------+------+----------+------------+\n",
            "only showing top 20 rows\n",
            "\n"
          ]
        }
      ]
    },
    {
      "cell_type": "code",
      "source": [
        "fodf_nifty.show(2)"
      ],
      "metadata": {
        "colab": {
          "base_uri": "https://localhost:8080/"
        },
        "id": "dnzz5xwACcLb",
        "outputId": "5ca75a17-6a3d-4062-fdb9-92176523d426"
      },
      "execution_count": 44,
      "outputs": [
        {
          "output_type": "stream",
          "name": "stdout",
          "text": [
            "+----------+------+-----------+---------+----------+-------+--------+--------+-------+---------+---------+----------+--------+---------+-----------+\n",
            "|INSTRUMENT|SYMBOL|  EXPIRY_DT|STRIKE_PR|OPTION_TYP|   OPEN|    HIGH|     LOW|  CLOSE|SETTLE_PR|CONTRACTS|VAL_INLAKH|OPEN_INT|CHG_IN_OI|  TIMESTAMP|\n",
            "+----------+------+-----------+---------+----------+-------+--------+--------+-------+---------+---------+----------+--------+---------+-----------+\n",
            "|    FUTIDX| NIFTY|27-Jul-2023|      0.0|        XX|19840.2|19872.35| 19600.0|19646.9|  19659.9|   137340|1354819.67| 2547150| -2361800|27-JUL-2023|\n",
            "|    FUTIDX| NIFTY|31-Aug-2023|      0.0|        XX|19951.1| 19988.4|19751.05|19811.4|  19811.4|   185376| 1840717.8|11728350|  3456250|27-JUL-2023|\n",
            "+----------+------+-----------+---------+----------+-------+--------+--------+-------+---------+---------+----------+--------+---------+-----------+\n",
            "only showing top 2 rows\n",
            "\n"
          ]
        }
      ]
    },
    {
      "cell_type": "code",
      "source": [
        "def generate_df_for_bps(symbol, ssa, bsb, fodf, nifty_df):\n",
        "  fodf_nifty = fodf.filter(\"SYMBOL= '{}'\".format(symbol))\n",
        "  nifty_df_wtsp = nifty_df.selectExpr(\"date(to_timestamp(udf_mname_to_no(date), 'dd-MM-yyyy')) as tsp\",\n",
        "                                    \"close as expclosingpr\")\n",
        "  join_df_ext = join_df.filter(\"option_typ = 'PE'\").selectExpr(\"*\",\n",
        "\"date(to_timestamp(udf_mname_to_no(timestamp), 'dd-MM-yyyy')) as tsdc\",\n",
        "\"date(to_timestamp(udf_mname_to_no(expiry_dt), 'dd-MM-yyyy')) as expdc\",\n",
        "\"date(to_timestamp(udf_mname_to_no(date), 'dd-MM-yyyy')) as ndate\",\n",
        "\"floor(nclose/50)*50 as sprnrcl\").drop(\"date\").withColumnRenamed(\"ndate\", \"date\").\\\n",
        "selectExpr(\"*\", \"sprnrcl + {} * 50 as psl\".format(ssa),\n",
        "           \"sprnrcl + {} * 50 as pbl\".format(bsb),\n",
        "           \"dayOfWeek(tsdc) as dow\").cache()\n",
        "  join_df_ext_pes =\\\n",
        "join_df_ext.filter(\"option_typ = 'PE' and (strike_pr = psl or strike_pr = pbl)\")\\\n",
        ".selectExpr('tsdc', 'expdc', 'option_typ', 'strike_pr','{} as ssa'.format(ssa),\n",
        "            'psl','{} as bsb'.format(bsb), 'pbl', 'close', 'nclose').cache()\n",
        "  sdf = join_df_ext_pes.filter(\"strike_pr = psl\").selectExpr(\"*\", \"close as pspr\")\n",
        "  bdf = join_df_ext_pes.filter(\"strike_pr = pbl\").selectExpr(\"tsdc as btsdc\", \"expdc as bexpdc\",\n",
        "                                                           \"close as pbpr\")\n",
        "  joined_pe_df = sdf.join(\n",
        "    bdf,\n",
        "    (sdf['tsdc'] == bdf['btsdc']) &\n",
        "    (sdf['expdc'] == bdf['bexpdc']) &\n",
        "    (sdf['pbl'] == sdf['pbl'])\n",
        ").cache()\n",
        "  final_df_to_return = joined_pe_df.alias('jdf').join(\n",
        "    nifty_df_wtsp.alias('ndf'),\n",
        "    col('jdf.expdc') == col('ndf.tsp')\n",
        ")\n",
        "  return final_df_to_return"
      ],
      "metadata": {
        "id": "lsEyNsJgcQ6Z"
      },
      "execution_count": 72,
      "outputs": []
    },
    {
      "cell_type": "code",
      "source": [
        "generate_df_for_bps('NIFTY', 10, -5, fodf, nifty_df).show()"
      ],
      "metadata": {
        "colab": {
          "base_uri": "https://localhost:8080/"
        },
        "id": "L6hVOCibA_0Z",
        "outputId": "7c110557-234e-40b5-dd66-87a68735cf96"
      },
      "execution_count": 73,
      "outputs": [
        {
          "output_type": "stream",
          "name": "stdout",
          "text": [
            "+----------+----------+----------+---------+---+-----+---+-----+------+-------+------+----------+----------+------+----------+------------+\n",
            "|      tsdc|     expdc|option_typ|strike_pr|ssa|  psl|bsb|  pbl| close| nclose|  pspr|     btsdc|    bexpdc|  pbpr|       tsp|expclosingpr|\n",
            "+----------+----------+----------+---------+---+-----+---+-----+------+-------+------+----------+----------+------+----------+------------+\n",
            "|2023-07-27|2023-07-27|        PE|  20150.0| 10|20150| -5|19400| 512.4|19659.9| 512.4|2023-07-27|2023-07-27|  0.15|2023-07-27|     19659.9|\n",
            "|2023-07-27|2023-08-03|        PE|  20150.0| 10|20150| -5|19400|431.35|19659.9|431.35|2023-07-27|2023-08-03|  22.5|2023-08-03|    19381.65|\n",
            "|2023-07-27|2023-08-10|        PE|  20150.0| 10|20150| -5|19400| 383.9|19659.9| 383.9|2023-07-27|2023-08-10|  49.6|2023-08-10|     19543.1|\n",
            "|2023-07-27|2023-08-17|        PE|  20150.0| 10|20150| -5|19400|772.25|19659.9|772.25|2023-07-27|2023-08-17| 327.8|2023-08-17|    19365.25|\n",
            "|2023-07-27|2023-08-24|        PE|  20150.0| 10|20150| -5|19400|423.25|19659.9|423.25|2023-07-27|2023-08-24|  92.1|2023-08-24|     19386.7|\n",
            "|2023-07-27|2023-08-31|        PE|  20150.0| 10|20150| -5|19400|450.15|19659.9|450.15|2023-07-27|2023-08-31|108.85|2023-08-31|     19253.8|\n",
            "|2023-07-27|2023-09-28|        PE|  20150.0| 10|20150| -5|19400| 418.7|19659.9| 418.7|2023-07-27|2023-09-28| 178.4|2023-09-28|    19523.55|\n",
            "|2023-07-26|2023-07-27|        PE|  20250.0| 10|20250| -5|19500|477.05|19778.3|477.05|2023-07-26|2023-07-27|  2.85|2023-07-27|     19659.9|\n",
            "|2023-07-26|2023-08-03|        PE|  20250.0| 10|20250| -5|19500| 459.3|19778.3| 459.3|2023-07-26|2023-08-03| 31.85|2023-08-03|    19381.65|\n",
            "|2023-07-26|2023-08-10|        PE|  20250.0| 10|20250| -5|19500|787.65|19778.3|787.65|2023-07-26|2023-08-10|  60.0|2023-08-10|     19543.1|\n",
            "|2023-07-26|2023-08-17|        PE|  20250.0| 10|20250| -5|19500| 847.4|19778.3| 847.4|2023-07-26|2023-08-17| 82.65|2023-08-17|    19365.25|\n",
            "|2023-07-26|2023-08-24|        PE|  20250.0| 10|20250| -5|19500|477.15|19778.3|477.15|2023-07-26|2023-08-24| 102.9|2023-08-24|     19386.7|\n",
            "|2023-07-26|2023-08-31|        PE|  20250.0| 10|20250| -5|19500| 465.6|19778.3| 465.6|2023-07-26|2023-08-31|122.75|2023-08-31|     19253.8|\n",
            "|2023-07-26|2023-09-28|        PE|  20250.0| 10|20250| -5|19500|551.45|19778.3|551.45|2023-07-26|2023-09-28|192.95|2023-09-28|    19523.55|\n",
            "|2023-07-25|2023-07-27|        PE|  20150.0| 10|20150| -5|19400|458.55|19680.6|458.55|2023-07-25|2023-07-27|  4.35|2023-07-27|     19659.9|\n",
            "|2023-07-25|2023-08-03|        PE|  20150.0| 10|20150| -5|19400|427.05|19680.6|427.05|2023-07-25|2023-08-03|  31.7|2023-08-03|    19381.65|\n",
            "|2023-07-25|2023-08-10|        PE|  20150.0| 10|20150| -5|19400|716.35|19680.6|716.35|2023-07-25|2023-08-10| 59.45|2023-08-10|     19543.1|\n",
            "|2023-07-25|2023-08-17|        PE|  20150.0| 10|20150| -5|19400|772.25|19680.6|772.25|2023-07-25|2023-08-17| 327.8|2023-08-17|    19365.25|\n",
            "|2023-07-25|2023-08-24|        PE|  20150.0| 10|20150| -5|19400|423.25|19680.6|423.25|2023-07-25|2023-08-24| 100.0|2023-08-24|     19386.7|\n",
            "|2023-07-25|2023-08-31|        PE|  20150.0| 10|20150| -5|19400|447.55|19680.6|447.55|2023-07-25|2023-08-31| 117.8|2023-08-31|     19253.8|\n",
            "+----------+----------+----------+---------+---+-----+---+-----+------+-------+------+----------+----------+------+----------+------------+\n",
            "only showing top 20 rows\n",
            "\n"
          ]
        }
      ]
    },
    {
      "cell_type": "code",
      "source": [
        "write_location_for_ssa_bsb = '/content/drive/MyDrive/bps_output'"
      ],
      "metadata": {
        "id": "74vyrAkzEa1U"
      },
      "execution_count": 75,
      "outputs": []
    },
    {
      "cell_type": "code",
      "source": [
        "generate_df_for_bps('NIFTY', 10, -5, fodf, nifty_df).write\\\n",
        ".partitionBy('ssa', 'bsb').mode('overwrite').parquet(write_location_for_ssa_bsb)"
      ],
      "metadata": {
        "id": "JiGBGp3hEfnJ"
      },
      "execution_count": 76,
      "outputs": []
    },
    {
      "cell_type": "code",
      "source": [
        "spark.read.parquet(write_location_for_ssa_bsb).count()"
      ],
      "metadata": {
        "colab": {
          "base_uri": "https://localhost:8080/"
        },
        "id": "mSSRfsuyFAe2",
        "outputId": "d38bb0bc-898e-49a5-f1e4-3e56fdafa77c"
      },
      "execution_count": 77,
      "outputs": [
        {
          "output_type": "execute_result",
          "data": {
            "text/plain": [
              "448"
            ]
          },
          "metadata": {},
          "execution_count": 77
        }
      ]
    },
    {
      "cell_type": "code",
      "source": [
        "generate_df_for_bps('NIFTY', 10, -5, fodf, nifty_df).count()"
      ],
      "metadata": {
        "colab": {
          "base_uri": "https://localhost:8080/"
        },
        "id": "klXYR25YFVk5",
        "outputId": "1fb63881-6dc8-46d0-fe05-5f86527c38e0"
      },
      "execution_count": 78,
      "outputs": [
        {
          "output_type": "execute_result",
          "data": {
            "text/plain": [
              "448"
            ]
          },
          "metadata": {},
          "execution_count": 78
        }
      ]
    }
  ]
}